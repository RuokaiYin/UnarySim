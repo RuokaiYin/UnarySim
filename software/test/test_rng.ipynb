{
 "cells": [
  {
   "cell_type": "code",
   "execution_count": null,
   "metadata": {},
   "outputs": [],
   "source": [
    "%load_ext autoreload\n",
    "%autoreload 2"
   ]
  },
  {
   "cell_type": "code",
   "execution_count": 10,
   "metadata": {},
   "outputs": [
    {
     "name": "stderr",
     "output_type": "stream",
     "text": [
      "asdadasda\n"
     ]
    },
    {
     "name": "stdout",
     "output_type": "stream",
     "text": [
      "tensor([[0.5000, 0.5000],\n",
      "        [0.7500, 0.2500],\n",
      "        [0.2500, 0.7500],\n",
      "        [0.3750, 0.3750],\n",
      "        [0.8750, 0.8750],\n",
      "        [0.6250, 0.1250],\n",
      "        [0.1250, 0.6250],\n",
      "        [0.1875, 0.3125],\n",
      "        [0.6875, 0.8125],\n",
      "        [0.9375, 0.0625],\n",
      "        [0.4375, 0.5625],\n",
      "        [0.3125, 0.1875],\n",
      "        [0.8125, 0.6875],\n",
      "        [0.5625, 0.4375],\n",
      "        [0.0625, 0.9375],\n",
      "        [0.0938, 0.4688]])\n",
      "tensor([ 8,  4, 12,  6, 14,  2, 10,  5, 13,  1,  9,  3, 11,  7, 15,  7])\n",
      "tensor([ 0,  1,  2,  3,  4,  5,  6,  7,  8,  9, 10, 11, 12, 13, 14, 15])\n"
     ]
    }
   ],
   "source": [
    "import torch\n",
    "import UnaryComputingSim\n",
    "from UnaryComputingSim.software.rng.rng import RNG\n",
    "\n",
    "import logging\n",
    "log = logging.getLogger(__name__)\n",
    "# log.error(\"asdad{}\".format(\"asda\"))\n",
    "\n",
    "rng = RNG(4, 2, \"Sobol\")\n",
    "print(rng.Out())\n",
    "\n",
    "rng1 = RNG(4, 2, \"Race\")\n",
    "print(rng1.Out())"
   ]
  },
  {
   "cell_type": "code",
   "execution_count": null,
   "metadata": {},
   "outputs": [],
   "source": []
  },
  {
   "cell_type": "code",
   "execution_count": null,
   "metadata": {},
   "outputs": [],
   "source": []
  }
 ],
 "metadata": {
  "kernelspec": {
   "display_name": "Python 3",
   "language": "python",
   "name": "python3"
  },
  "language_info": {
   "codemirror_mode": {
    "name": "ipython",
    "version": 3
   },
   "file_extension": ".py",
   "mimetype": "text/x-python",
   "name": "python",
   "nbconvert_exporter": "python",
   "pygments_lexer": "ipython3",
   "version": "3.6.5"
  }
 },
 "nbformat": 4,
 "nbformat_minor": 2
}
