{
 "cells": [
  {
   "cell_type": "code",
   "execution_count": 1,
   "metadata": {},
   "outputs": [],
   "source": [
    "%load_ext autoreload\n",
    "%autoreload 2"
   ]
  },
  {
   "cell_type": "code",
   "execution_count": 2,
   "metadata": {},
   "outputs": [],
   "source": [
    "import torch\n",
    "from UnarySim.sw.kernel.add import GainesAdd\n",
    "from UnarySim.sw.stream.gen import RNG, SourceGen, BSGen\n",
    "from UnarySim.sw.metric.metric import ProgressiveError\n",
    "import matplotlib.pyplot as plt\n",
    "import time, math"
   ]
  },
  {
   "cell_type": "code",
   "execution_count": 3,
   "metadata": {},
   "outputs": [],
   "source": [
    "device = torch.device(\"cuda:0\" if torch.cuda.is_available() else \"cpu\")"
   ]
  },
  {
   "cell_type": "code",
   "execution_count": 4,
   "metadata": {},
   "outputs": [],
   "source": [
    "def add_test(rng=\"Sobol\", row=128, col=10000, bitwidth=8):\n",
    "    modes = [\"unipolar\", \"bipolar\"]\n",
    "\n",
    "    scaled = [True, False]\n",
    "    result_pe = []\n",
    "    stype = torch.float\n",
    "    buftype = torch.float\n",
    "    randtype = torch.float\n",
    "    \n",
    "    for mode in modes:\n",
    "        for scale in scaled:\n",
    "            acc_dim = 0\n",
    "            result_pe_cycle = []\n",
    "            uadd = GainesAdd(mode=mode, scaled=scale, acc_dim=acc_dim, \n",
    "                             rng=\"Sobol\", rng_dim=5, rng_width=int(math.log2(row)), \n",
    "                             stype=stype, randtype=randtype).to(device)\n",
    "\n",
    "            if mode is \"unipolar\":\n",
    "                iVec = torch.rand(row, col).mul(2**bitwidth).round().div(2**bitwidth).to(device)\n",
    "            elif mode is \"bipolar\":\n",
    "                iVec = torch.rand(row, col).mul(2).sub(1).mul(2**bitwidth).round().div(2**bitwidth).to(device)\n",
    "            \n",
    "            oVec = torch.sum(iVec, acc_dim).to(device)\n",
    "\n",
    "            iVecSource = SourceGen(iVec, bitwidth=bitwidth, mode=mode, randtype=randtype)().to(device)\n",
    "\n",
    "            iVecRNG = RNG(bitwidth, 1, rng, randtype=randtype)().to(device)\n",
    "            iVecBS = BSGen(iVecSource, iVecRNG, stype=stype).to(device)\n",
    "\n",
    "            iVecPE = ProgressiveError(iVec, scale=1, mode=mode).to(device)\n",
    "            \n",
    "            if scale is True:\n",
    "                if acc_dim == 0:\n",
    "                    oVecPE = ProgressiveError(oVec, scale=row, mode=mode).to(device)\n",
    "                elif acc_dim ==1:\n",
    "                    oVecPE = ProgressiveError(oVec, scale=col, mode=mode).to(device)\n",
    "            else:\n",
    "                oVecPE = ProgressiveError(oVec, scale=1, mode=mode).to(device)\n",
    "            \n",
    "            \n",
    "            with torch.no_grad():\n",
    "                idx = torch.zeros(iVecSource.size()).type(torch.long).to(device)\n",
    "                start_time = time.time()\n",
    "                for i in range(2**bitwidth):\n",
    "                    iBS = iVecBS(idx + i)\n",
    "                    iVecPE.Monitor(iBS)\n",
    "                    \n",
    "                    oVecU = uadd(iBS)\n",
    "                    oVecPE.Monitor(oVecU)\n",
    "                    result_pe_cycle.append(1-torch.sqrt(torch.sum(torch.mul(oVecPE()[1], oVecPE()[1]))/col).item())\n",
    "                print(\"--- %s seconds ---\" % (time.time() - start_time))\n",
    "                print(\"input error: \", \"min:\", torch.min(iVecPE()[1]).item(), \"max:\", torch.max(iVecPE()[1]).item())\n",
    "                print(\"output error: \", \"min:\", torch.min(oVecPE()[1]).item(), \"max:\", torch.max(oVecPE()[1]).item())\n",
    "                result_pe = oVecPE()[1].cpu().numpy()\n",
    "                print(\"error distribution=========>\")\n",
    "                plt.figure(figsize=(3,1.5))\n",
    "                fig = plt.hist(result_pe, bins='auto')  # arguments are passed to np.histogram\n",
    "                plt.title(\"data: \"+mode+\", scaled: \"+str(scale))\n",
    "                plt.show()\n",
    "                print(\"progressive accuracy=========>\")\n",
    "                plt.figure(figsize=(3,1.5))\n",
    "                fig = plt.plot(result_pe_cycle)  # arguments are passed to np.histogram\n",
    "                plt.title(\"data: \"+mode+\", scaled: \"+str(scale))\n",
    "                plt.show()"
   ]
  },
  {
   "cell_type": "code",
   "execution_count": 5,
   "metadata": {
    "scrolled": false
   },
   "outputs": [
    {
     "name": "stdout",
     "output_type": "stream",
     "text": [
      "--- 0.37900209426879883 seconds ---\n",
      "input error:  min: -0.00390625 max: 0.0\n",
      "output error:  min: -0.100555419921875 max: 0.09771728515625\n",
      "error distribution=========>\n"
     ]
    },
    {
     "data": {
      "image/png": "[encoded data removed]",
      "text/plain": [
       "<Figure size 216x108 with 1 Axes>"
      ]
     },
     "metadata": {
      "needs_background": "light"
     },
     "output_type": "display_data"
    },
    {
     "name": "stdout",
     "output_type": "stream",
     "text": [
      "progressive accuracy=========>\n"
     ]
    },
    {
     "data": {
      "image/png": "[encoded data removed]",
      "text/plain": [
       "<Figure size 216x108 with 1 Axes>"
      ]
     },
     "metadata": {
      "needs_background": "light"
     },
     "output_type": "display_data"
    },
    {
     "name": "stdout",
     "output_type": "stream",
     "text": [
      "--- 0.26400089263916016 seconds ---\n",
      "input error:  min: -0.00390625 max: 0.0\n",
      "output error:  min: -0.07421875 max: 0.0\n",
      "error distribution=========>\n"
     ]
    },
    {
     "data": {
      "image/png": "[encoded data removed]",
      "text/plain": [
       "<Figure size 216x108 with 1 Axes>"
      ]
     },
     "metadata": {
      "needs_background": "light"
     },
     "output_type": "display_data"
    },
    {
     "name": "stdout",
     "output_type": "stream",
     "text": [
      "progressive accuracy=========>\n"
     ]
    },
    {
     "data": {
      "image/png": "[encoded data removed]",
      "text/plain": [
       "<Figure size 216x108 with 1 Axes>"
      ]
     },
     "metadata": {
      "needs_background": "light"
     },
     "output_type": "display_data"
    },
    {
     "name": "stdout",
     "output_type": "stream",
     "text": [
      "--- 0.46500158309936523 seconds ---\n",
      "input error:  min: -0.0078125 max: 0.00390625\n",
      "output error:  min: -0.19696044921875 max: 0.20855712890625\n",
      "error distribution=========>\n"
     ]
    },
    {
     "data": {
      "image/png": "[encoded data removed]",
      "text/plain": [
       "<Figure size 216x108 with 1 Axes>"
      ]
     },
     "metadata": {
      "needs_background": "light"
     },
     "output_type": "display_data"
    },
    {
     "name": "stdout",
     "output_type": "stream",
     "text": [
      "progressive accuracy=========>\n"
     ]
    },
    {
     "data": {
      "image/png": "[encoded data removed]",
      "text/plain": [
       "<Figure size 216x108 with 1 Axes>"
      ]
     },
     "metadata": {
      "needs_background": "light"
     },
     "output_type": "display_data"
    },
    {
     "ename": "ValueError",
     "evalue": "Non-scaled addition for biploar data is not supported in Gaines approach.",
     "output_type": "error",
     "traceback": [
      "\u001b[1;31m---------------------------------------------------------------------------\u001b[0m",
      "\u001b[1;31mValueError\u001b[0m                                Traceback (most recent call last)",
      "\u001b[1;32m<ipython-input-5-2d7ba357567d>\u001b[0m in \u001b[0;36m<module>\u001b[1;34m\u001b[0m\n\u001b[0;32m      3\u001b[0m \u001b[0mcol\u001b[0m \u001b[1;33m=\u001b[0m \u001b[1;36m10000\u001b[0m\u001b[1;33m\u001b[0m\u001b[1;33m\u001b[0m\u001b[0m\n\u001b[0;32m      4\u001b[0m \u001b[0mbitwidth\u001b[0m \u001b[1;33m=\u001b[0m \u001b[1;36m8\u001b[0m\u001b[1;33m\u001b[0m\u001b[1;33m\u001b[0m\u001b[0m\n\u001b[1;32m----> 5\u001b[1;33m \u001b[0madd_test\u001b[0m\u001b[1;33m(\u001b[0m\u001b[0mrng\u001b[0m\u001b[1;33m,\u001b[0m \u001b[0mrow\u001b[0m\u001b[1;33m,\u001b[0m \u001b[0mcol\u001b[0m\u001b[1;33m,\u001b[0m \u001b[0mbitwidth\u001b[0m\u001b[1;33m)\u001b[0m\u001b[1;33m\u001b[0m\u001b[1;33m\u001b[0m\u001b[0m\n\u001b[0m",
      "\u001b[1;32m<ipython-input-4-f7d87198bb1e>\u001b[0m in \u001b[0;36madd_test\u001b[1;34m(rng, row, col, bitwidth)\u001b[0m\n\u001b[0;32m     14\u001b[0m             uadd = GainesAdd(mode=mode, scaled=scale, acc_dim=acc_dim, \n\u001b[0;32m     15\u001b[0m                              \u001b[0mrng\u001b[0m\u001b[1;33m=\u001b[0m\u001b[1;34m\"Sobol\"\u001b[0m\u001b[1;33m,\u001b[0m \u001b[0mrng_dim\u001b[0m\u001b[1;33m=\u001b[0m\u001b[1;36m5\u001b[0m\u001b[1;33m,\u001b[0m \u001b[0mrng_width\u001b[0m\u001b[1;33m=\u001b[0m\u001b[0mint\u001b[0m\u001b[1;33m(\u001b[0m\u001b[0mmath\u001b[0m\u001b[1;33m.\u001b[0m\u001b[0mlog2\u001b[0m\u001b[1;33m(\u001b[0m\u001b[0mrow\u001b[0m\u001b[1;33m)\u001b[0m\u001b[1;33m)\u001b[0m\u001b[1;33m,\u001b[0m\u001b[1;33m\u001b[0m\u001b[1;33m\u001b[0m\u001b[0m\n\u001b[1;32m---> 16\u001b[1;33m                              stype=stype, randtype=randtype).to(device)\n\u001b[0m\u001b[0;32m     17\u001b[0m \u001b[1;33m\u001b[0m\u001b[0m\n\u001b[0;32m     18\u001b[0m             \u001b[1;32mif\u001b[0m \u001b[0mmode\u001b[0m \u001b[1;32mis\u001b[0m \u001b[1;34m\"unipolar\"\u001b[0m\u001b[1;33m:\u001b[0m\u001b[1;33m\u001b[0m\u001b[1;33m\u001b[0m\u001b[0m\n",
      "\u001b[1;32mD:\\project\\Anaconda3\\lib\\site-packages\\UnarySim\\sw\\kernel\\add.py\u001b[0m in \u001b[0;36m__init__\u001b[1;34m(self, mode, scaled, acc_dim, rng, rng_dim, rng_width, stype, randtype)\u001b[0m\n\u001b[0;32m     71\u001b[0m         \u001b[0mself\u001b[0m\u001b[1;33m.\u001b[0m\u001b[0mscaled\u001b[0m \u001b[1;33m=\u001b[0m \u001b[0mscaled\u001b[0m\u001b[1;33m\u001b[0m\u001b[1;33m\u001b[0m\u001b[0m\n\u001b[0;32m     72\u001b[0m         \u001b[1;32mif\u001b[0m \u001b[0mself\u001b[0m\u001b[1;33m.\u001b[0m\u001b[0mmode\u001b[0m \u001b[1;32mis\u001b[0m \u001b[1;34m\"bipolar\"\u001b[0m \u001b[1;32mand\u001b[0m \u001b[0mself\u001b[0m\u001b[1;33m.\u001b[0m\u001b[0mscaled\u001b[0m \u001b[1;32mis\u001b[0m \u001b[1;32mFalse\u001b[0m\u001b[1;33m:\u001b[0m\u001b[1;33m\u001b[0m\u001b[1;33m\u001b[0m\u001b[0m\n\u001b[1;32m---> 73\u001b[1;33m             \u001b[1;32mraise\u001b[0m \u001b[0mValueError\u001b[0m\u001b[1;33m(\u001b[0m\u001b[1;34m\"Non-scaled addition for biploar data is not supported in Gaines approach.\"\u001b[0m\u001b[1;33m)\u001b[0m\u001b[1;33m\u001b[0m\u001b[1;33m\u001b[0m\u001b[0m\n\u001b[0m\u001b[0;32m     74\u001b[0m         \u001b[1;31m# dimension to do reduce sum\u001b[0m\u001b[1;33m\u001b[0m\u001b[1;33m\u001b[0m\u001b[1;33m\u001b[0m\u001b[0m\n\u001b[0;32m     75\u001b[0m         \u001b[0mself\u001b[0m\u001b[1;33m.\u001b[0m\u001b[0macc_dim\u001b[0m \u001b[1;33m=\u001b[0m \u001b[0mtorch\u001b[0m\u001b[1;33m.\u001b[0m\u001b[0mnn\u001b[0m\u001b[1;33m.\u001b[0m\u001b[0mParameter\u001b[0m\u001b[1;33m(\u001b[0m\u001b[0mtorch\u001b[0m\u001b[1;33m.\u001b[0m\u001b[0mzeros\u001b[0m\u001b[1;33m(\u001b[0m\u001b[1;36m1\u001b[0m\u001b[1;33m)\u001b[0m\u001b[1;33m.\u001b[0m\u001b[0mtype\u001b[0m\u001b[1;33m(\u001b[0m\u001b[0mtorch\u001b[0m\u001b[1;33m.\u001b[0m\u001b[0mint8\u001b[0m\u001b[1;33m)\u001b[0m\u001b[1;33m,\u001b[0m \u001b[0mrequires_grad\u001b[0m\u001b[1;33m=\u001b[0m\u001b[1;32mFalse\u001b[0m\u001b[1;33m)\u001b[0m\u001b[1;33m\u001b[0m\u001b[1;33m\u001b[0m\u001b[0m\n",
      "\u001b[1;31mValueError\u001b[0m: Non-scaled addition for biploar data is not supported in Gaines approach."
     ]
    }
   ],
   "source": [
    "rng = \"Sobol\"\n",
    "row = 128\n",
    "col = 10000\n",
    "bitwidth = 8\n",
    "add_test(rng, row, col, bitwidth)"
   ]
  },
  {
   "cell_type": "code",
   "execution_count": null,
   "metadata": {},
   "outputs": [],
   "source": []
  }
 ],
 "metadata": {
  "kernelspec": {
   "display_name": "Python 3",
   "language": "python",
   "name": "python3"
  },
  "language_info": {
   "codemirror_mode": {
    "name": "ipython",
    "version": 3
   },
   "file_extension": ".py",
   "mimetype": "text/x-python",
   "name": "python",
   "nbconvert_exporter": "python",
   "pygments_lexer": "ipython3",
   "version": "3.7.3"
  }
 },
 "nbformat": 4,
 "nbformat_minor": 2
}
