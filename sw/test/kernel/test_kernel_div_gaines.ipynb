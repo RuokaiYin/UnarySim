{
 "cells": [
  {
   "cell_type": "code",
   "execution_count": 1,
   "metadata": {},
   "outputs": [],
   "source": [
    "%load_ext autoreload\n",
    "%autoreload 2"
   ]
  },
  {
   "cell_type": "code",
   "execution_count": 2,
   "metadata": {},
   "outputs": [],
   "source": [
    "import torch\n",
    "from UnarySim.sw.kernel.div import GainesDiv\n",
    "from UnarySim.sw.stream.gen import RNG, SourceGen, BSGen\n",
    "from UnarySim.sw.metric.metric import ProgressiveError\n",
    "import matplotlib.pyplot as plt\n",
    "from mpl_toolkits.mplot3d import Axes3D\n",
    "from matplotlib import ticker, cm\n",
    "from matplotlib.ticker import LinearLocator, FormatStrFormatter\n",
    "import time\n",
    "import math\n",
    "import numpy as np\n",
    "import seaborn as sns"
   ]
  },
  {
   "cell_type": "code",
   "execution_count": 3,
   "metadata": {},
   "outputs": [],
   "source": [
    "device = torch.device(\"cuda:0\" if torch.cuda.is_available() else \"cpu\")"
   ]
  },
  {
   "cell_type": "code",
   "execution_count": 4,
   "metadata": {},
   "outputs": [
    {
     "name": "stdout",
     "output_type": "stream",
     "text": [
      "========================================================\n",
      "unipolar\n",
      "========================================================\n",
      "--- 0.6409997940063477 seconds ---\n",
      "dividend error:  min: -0.00390625 , max: 0.0\n",
      "divisor  error:  min: -0.00390625 , max: 0.0\n",
      "quotient error:  min: -0.5234375 , max: 0.94921875\n",
      "RMSE: 0.16099673218179975\n",
      "MAE:  0.120825134\n",
      "bias: -0.11345373\n"
     ]
    },
    {
     "data": {
      "image/png": "[encoded data removed]",
      "text/plain": [
       "<Figure size 432x288 with 1 Axes>"
      ]
     },
     "metadata": {
      "needs_background": "light"
     },
     "output_type": "display_data"
    },
    {
     "data": {
      "image/png": "[encoded data removed]",
      "text/plain": [
       "<Figure size 122.4x122.4 with 2 Axes>"
      ]
     },
     "metadata": {
      "needs_background": "light"
     },
     "output_type": "display_data"
    },
    {
     "name": "stdout",
     "output_type": "stream",
     "text": [
      "========================================================\n",
      "bipolar\n",
      "========================================================\n",
      "--- 0.6649990081787109 seconds ---\n",
      "dividend error:  min: -0.0078125 , max: 0.0\n",
      "divisor  error:  min: -0.0078125 , max: 0.0\n",
      "quotient error:  min: -1.828125 , max: 1.7421875\n",
      "RMSE: 0.38031493177553327\n",
      "MAE:  0.2370393\n",
      "bias: -0.044152405\n"
     ]
    },
    {
     "data": {
      "image/png": "[encoded data removed]",
      "text/plain": [
       "<Figure size 432x288 with 1 Axes>"
      ]
     },
     "metadata": {
      "needs_background": "light"
     },
     "output_type": "display_data"
    },
    {
     "data": {
      "image/png": "[encoded data removed]",
      "text/plain": [
       "<Figure size 122.4x122.4 with 2 Axes>"
      ]
     },
     "metadata": {
      "needs_background": "light"
     },
     "output_type": "display_data"
    }
   ],
   "source": [
    "modes = [\"unipolar\", \"bipolar\"]\n",
    "depth=5\n",
    "rng=\"Sobol\"\n",
    "rng_dim=2\n",
    "bitwidth = 8\n",
    "stype = torch.float\n",
    "btype = torch.float\n",
    "rtype = torch.float\n",
    "\n",
    "for mode in modes:\n",
    "    print(\"========================================================\")\n",
    "    print(mode)\n",
    "    print(\"========================================================\")\n",
    "    if mode is \"unipolar\":\n",
    "        # all values in unipolar are non-negative\n",
    "        # dividend is always non greater than divisor\n",
    "        # divisor is non-zero\n",
    "        low_bound = 0\n",
    "        up_bound = 2**bitwidth\n",
    "    elif mode is \"bipolar\":\n",
    "        # values in bipolar are arbitrarily positive or negative\n",
    "        # abs of dividend is always non greater than abs of divisor\n",
    "        # abs of divisor is non-zero\n",
    "        low_bound = -2**(bitwidth-1)\n",
    "        up_bound = 2**(bitwidth-1)\n",
    "\n",
    "    divisor_list = []\n",
    "    dividend_list = []\n",
    "    for divisor_val in range(up_bound, low_bound-1, -1):\n",
    "        divisor_list.append([])\n",
    "        dividend_list.append([])\n",
    "        for dividend_val in range(low_bound, up_bound+1, 1):\n",
    "            divisor_list[up_bound-divisor_val].append(divisor_val)\n",
    "            dividend_list[up_bound-divisor_val].append(dividend_val)\n",
    "    \n",
    "    dividend = torch.tensor(dividend_list).type(torch.float).div(up_bound).to(device)\n",
    "    divisor = torch.tensor(divisor_list).type(torch.float).div(up_bound).to(device)\n",
    "    quotient = dividend.div(divisor)\n",
    "    \n",
    "    # find the invalid postions in quotient\n",
    "    quotient_nan = torch.isnan(quotient)\n",
    "    quotient_inf = torch.isinf(quotient)\n",
    "    quotient_mask = quotient_nan + quotient_inf\n",
    "    quotient[quotient_mask] = 0\n",
    "    quotient = quotient.clamp(-1, 1)\n",
    "    \n",
    "    dut_div = GainesDiv(depth=depth, mode=mode, rng=rng, rng_dim=rng_dim, stype=stype).to(device)\n",
    "    \n",
    "    quotientPE = ProgressiveError(quotient, mode=mode).to(device)\n",
    "    \n",
    "    dividendPE = ProgressiveError(dividend, mode=mode).to(device)\n",
    "    dividendSRC = SourceGen(dividend, bitwidth, mode=mode, rtype=rtype)().to(device)\n",
    "    dividendRNG = RNG(bitwidth, 1, rng, rtype)().to(device)\n",
    "    dividendBS = BSGen(dividendSRC, dividendRNG, stype).to(device)\n",
    "    \n",
    "    divisorPE  = ProgressiveError(divisor,  mode=mode).to(device)\n",
    "    divisorSRC = SourceGen(divisor, bitwidth, mode=mode, rtype=rtype)().to(device)\n",
    "    divisorRNG = RNG(bitwidth, 2, rng, rtype)().to(device)\n",
    "    divisorBS = BSGen(divisorSRC, divisorRNG, stype).to(device)\n",
    "\n",
    "    with torch.no_grad():\n",
    "        start_time = time.time()\n",
    "        for i in range(2**bitwidth):\n",
    "            dividend_bs = dividendBS(torch.tensor([i]))\n",
    "            dividendPE.Monitor(dividend_bs)\n",
    "\n",
    "            divisor_bs = divisorBS(torch.tensor([i]))\n",
    "            divisorPE.Monitor(divisor_bs)\n",
    "            \n",
    "            quotient_bs = dut_div(dividend_bs, divisor_bs)   \n",
    "            quotientPE.Monitor(quotient_bs)\n",
    "        print(\"--- %s seconds ---\" % (time.time() - start_time))\n",
    "        print(\"dividend error: \", \"min:\", torch.min(dividendPE()[1]).item(), \", max:\", torch.max(dividendPE()[1]).item())\n",
    "        print(\"divisor  error: \", \"min:\", torch.min(divisorPE()[1]).item(),  \", max:\", torch.max(divisorPE()[1]).item())\n",
    "        # set invalid output statistics to special values\n",
    "        print(\"quotient error: \", \"min:\", torch.min(quotientPE()[1]).item(), \", max:\", torch.max(quotientPE()[1]).item())\n",
    "        \n",
    "        #######################################################################\n",
    "        # check the error distribution using histogram\n",
    "        #######################################################################\n",
    "        result_pe = quotientPE()[1].cpu().numpy()\n",
    "        result_pe[quotient_mask.cpu().numpy()] = np.nan\n",
    "        result_pe = result_pe.flatten()\n",
    "        result_pe = result_pe[~np.isnan(result_pe)]\n",
    "        print(\"RMSE:\", math.sqrt(np.mean(result_pe**2)))\n",
    "        print(\"MAE: \", np.mean(np.abs(result_pe)))\n",
    "        print(\"bias:\", np.mean(result_pe))\n",
    "        fig = plt.hist(result_pe, bins='auto', log=False)  # arguments are passed to np.histogram\n",
    "        plt.title(\"Histogram for final output error\")\n",
    "        plt.show()\n",
    "        \n",
    "        #######################################################################\n",
    "        # check the 3D plot contourf\n",
    "        #######################################################################\n",
    "        result_pe = quotientPE()[1].cpu().numpy()\n",
    "        result_pe[quotient_mask.cpu().numpy()] = 0\n",
    "        fig = plt.figure()\n",
    "        fig.set_size_inches(1.7, 1.7)\n",
    "        axis_len = quotientPE()[1].size()[0]\n",
    "        divisor_y_axis = []\n",
    "        dividend_x_axis = []\n",
    "        for axis_index in range(axis_len):\n",
    "            divisor_y_axis.append((up_bound-axis_index/(axis_len-1)*(up_bound-low_bound))/up_bound)\n",
    "            dividend_x_axis.append((axis_index/(axis_len-1)*(up_bound-low_bound)+low_bound)/up_bound)\n",
    "        X, Y = np.meshgrid(dividend_x_axis, divisor_y_axis)\n",
    "        Z = result_pe.clip(-0.1, 0.1)\n",
    "        cs = plt.contourf(X, Y, Z, cmap=cm.RdBu)\n",
    "        cbar = fig.colorbar(cs)\n",
    "        plt.show()"
   ]
  }
 ],
 "metadata": {
  "kernelspec": {
   "display_name": "Python 3",
   "language": "python",
   "name": "python3"
  },
  "language_info": {
   "codemirror_mode": {
    "name": "ipython",
    "version": 3
   },
   "file_extension": ".py",
   "mimetype": "text/x-python",
   "name": "python",
   "nbconvert_exporter": "python",
   "pygments_lexer": "ipython3",
   "version": "3.7.3"
  }
 },
 "nbformat": 4,
 "nbformat_minor": 2
}
