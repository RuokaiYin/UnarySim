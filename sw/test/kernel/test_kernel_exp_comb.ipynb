{
 "cells": [
  {
   "cell_type": "code",
   "execution_count": 205,
   "metadata": {},
   "outputs": [
    {
     "name": "stdout",
     "output_type": "stream",
     "text": [
      "The autoreload extension is already loaded. To reload it, use:\n",
      "  %reload_ext autoreload\n"
     ]
    }
   ],
   "source": [
    "%load_ext autoreload\n",
    "%autoreload 2"
   ]
  },
  {
   "cell_type": "code",
   "execution_count": 299,
   "metadata": {},
   "outputs": [],
   "source": [
    "import torch\n",
    "import math\n",
    "from UnarySim.sw.kernel.exp_comb import exp_combinational\n",
    "from UnarySim.sw.bitstream.gen import RNG, SourceGen, BSGen\n",
    "from UnarySim.sw.metric.metric import ProgressiveError\n",
    "import matplotlib.pyplot as plt\n",
    "import time\n",
    "import math\n",
    "import numpy as np"
   ]
  },
  {
   "cell_type": "code",
   "execution_count": 300,
   "metadata": {},
   "outputs": [],
   "source": [
    "def exp_comb_test(bw,mode=\"unipolar\", rand_mode=\"Sobol\"):\n",
    "    \n",
    "#     device = torch.device(\"cuda:0\" if torch.cuda.is_available() else \"cpu\")\n",
    "    device = \"cpu\"\n",
    "    rng = rand_mode\n",
    "    col = 10000\n",
    "    bitwidth = bw\n",
    "    bstype = torch.int8\n",
    "    rtype=torch.float\n",
    "    stype=torch.int8\n",
    "\n",
    "    if mode is \"unipolar\":\n",
    "        src = torch.ones(2**bitwidth)\n",
    "        for i in range(2**bitwidth):\n",
    "            src[i] = (i/2**bitwidth)\n",
    "        iVec = src.mul(2**bitwidth).round().div(2**bitwidth).to(device)\n",
    "#         iVec = torch.rand(col).mul(2**bitwidth).round().div(2**bitwidth).to(device)\n",
    "    elif mode is \"bipolar\":\n",
    "        src = torch.ones(2**bitwidth)\n",
    "        for i in range(2**bitwidth):\n",
    "            src[i] = (i/2**bitwidth)\n",
    "        iVec = src.mul(2).sub(1).mul(2**bitwidth).round().div(2**bitwidth).to(device)\n",
    "#         iVec = torch.rand(col).mul(2).sub(1).mul(2**bitwidth).round().div(2**bitwidth).to(device)\n",
    "\n",
    "    dut_exp_comb = exp_combinational(bitwidth,mode,rng,1,rtype,stype).to(device)\n",
    "    \n",
    "    oVec = torch.exp(iVec.mul(-1)).mul(2**bitwidth).round().div(2**bitwidth).to(device)\n",
    "\n",
    "    outPE = ProgressiveError(oVec, mode=mode).to(device)\n",
    "    \n",
    "    inputPE = ProgressiveError(iVec, mode=mode).to(device)\n",
    "    inputSRC = SourceGen(iVec, bitwidth, mode=mode, randtype=rtype)().to(device)\n",
    "    bs_list = []\n",
    "    for i in range(2**bitwidth):\n",
    "        inputRNG = RNG(bitwidth, i%100+1, rng, rtype)().to(device)\n",
    "        inputBS = BSGen(inputSRC, inputRNG, bstype).to(device)\n",
    "        bs_list.append(inputBS)\n",
    "    \n",
    "    pp_rmse = []\n",
    "    \n",
    "    with torch.no_grad():\n",
    "        start_time = time.time()\n",
    "        for i in range(2**bitwidth):\n",
    "            input_bs = bs_list[i](torch.tensor([i]))\n",
    "            inputPE.Monitor(input_bs)\n",
    "\n",
    "            out_bs = dut_exp_comb(input_bs)\n",
    "            outPE.Monitor(out_bs)\n",
    "            pp_rmse.append(1 - torch.sqrt(torch.mean(torch.mul(outPE()[1], outPE()[1]))).item())\n",
    "        print(\"--- %s seconds ---\" % (time.time() - start_time))\n",
    "        print(\"input error: \", torch.min(inputPE()[1]), torch.max(inputPE()[1]))\n",
    "        print(\"output error: \", torch.min(outPE()[1]), torch.max(outPE()[1]))\n",
    "        \n",
    "        \n",
    "        final_rmse = outPE()[1].view(-1).cpu().numpy()\n",
    "        print(\"RMSE\", math.sqrt(np.mean(final_rmse**2)))\n",
    "        print(\"MAE\", np.mean(np.abs(final_rmse)))\n",
    "        print(\"bias\", np.mean(final_rmse))\n",
    "        print(\"error distribution=========>\")\n",
    "        plt.figure(figsize=(3,1.5))\n",
    "        fig = plt.plot(iVec.cpu().numpy(), final_rmse)  # arguments are passed to np.histogram\n",
    "        plt.title(\"data: \"+mode)\n",
    "        plt.show()\n",
    "        \n",
    "        print(\"progressive accuracy=========>\")\n",
    "        plt.figure(figsize=(3,1.5))\n",
    "        fig = plt.plot(pp_rmse)  # arguments are passed to np.histogram\n",
    "        plt.title(\"data: \"+mode)\n",
    "        plt.show()"
   ]
  },
  {
   "cell_type": "code",
   "execution_count": 301,
   "metadata": {},
   "outputs": [
    {
     "name": "stdout",
     "output_type": "stream",
     "text": [
      "--- 0.3313014507293701 seconds ---\n",
      "input error:  tensor(-0.0254) tensor(0.0088)\n",
      "output error:  tensor(-0.0107) tensor(0.0117)\n",
      "RMSE 0.005063987272104582\n",
      "MAE 0.0041971207\n",
      "bias 0.002163887\n",
      "error distribution=========>\n"
     ]
    },
    {
     "data": {
      "image/png": "[encoded data removed]",
      "text/plain": [
       "<Figure size 216x108 with 1 Axes>"
      ]
     },
     "metadata": {
      "needs_background": "light"
     },
     "output_type": "display_data"
    },
    {
     "name": "stdout",
     "output_type": "stream",
     "text": [
      "progressive accuracy=========>\n"
     ]
    },
    {
     "data": {
      "image/png": "[encoded data removed]",
      "text/plain": [
       "<Figure size 216x108 with 1 Axes>"
      ]
     },
     "metadata": {
      "needs_background": "light"
     },
     "output_type": "display_data"
    }
   ],
   "source": [
    "exp_comb_test(10,\"unipolar\", \"Sobol\")"
   ]
  },
  {
   "cell_type": "code",
   "execution_count": null,
   "metadata": {},
   "outputs": [],
   "source": []
  }
 ],
 "metadata": {
  "kernelspec": {
   "display_name": "Python 3",
   "language": "python",
   "name": "python3"
  },
  "language_info": {
   "codemirror_mode": {
    "name": "ipython",
    "version": 3
   },
   "file_extension": ".py",
   "mimetype": "text/x-python",
   "name": "python",
   "nbconvert_exporter": "python",
   "pygments_lexer": "ipython3",
   "version": "3.7.6"
  }
 },
 "nbformat": 4,
 "nbformat_minor": 4
}
