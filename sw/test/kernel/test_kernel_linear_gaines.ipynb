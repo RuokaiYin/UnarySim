{
 "cells": [
  {
   "cell_type": "code",
   "execution_count": 1,
   "metadata": {},
   "outputs": [],
   "source": [
    "%load_ext autoreload\n",
    "%autoreload 2"
   ]
  },
  {
   "cell_type": "code",
   "execution_count": 2,
   "metadata": {},
   "outputs": [],
   "source": [
    "import torch\n",
    "from UnarySim.sw.kernel.linear import *\n",
    "from UnarySim.sw.stream.gen import RNG, SourceGen, BSGen\n",
    "from UnarySim.sw.metric.metric import ProgressiveError\n",
    "import matplotlib.pyplot as plt\n",
    "import time\n"
   ]
  },
  {
   "cell_type": "code",
   "execution_count": 3,
   "metadata": {},
   "outputs": [],
   "source": [
    "device = torch.device(\"cuda:0\" if torch.cuda.is_available() else \"cpu\")"
   ]
  },
  {
   "cell_type": "code",
   "execution_count": 4,
   "metadata": {},
   "outputs": [
    {
     "name": "stdout",
     "output_type": "stream",
     "text": [
      "torch.Size([10000, 512])\n",
      "--- 0.7309987545013428 seconds ---\n",
      "input error:  tensor(-0.0020, device='cuda:0') tensor(-1.5259e-05, device='cuda:0')\n",
      "output error: tensor(-0.4844, device='cuda:0') tensor(0.5078, device='cuda:0')\n",
      "output pp: tensor([[-0.2656, -0.5000, -0.3125,  ...,  0.3047,  0.1094,  0.5156]],\n",
      "       device='cuda:0')\n",
      "tensor(0.1822, device='cuda:0')\n",
      "[-0.02734375  0.3203125   0.01953125 ...  0.015625   -0.01171875\n",
      " -0.19921875]\n"
     ]
    }
   ],
   "source": [
    "rng = \"Sobol\"\n",
    "# rng = \"Race\"\n",
    "\n",
    "in_feature = 512\n",
    "out_feature = 10000\n",
    "\n",
    "mode = \"bipolar\"\n",
    "scaled = False\n",
    "bias =   True\n",
    "\n",
    "bitwidth = 8\n",
    "length = 2**bitwidth\n",
    "\n",
    "fc = torch.nn.Linear(in_feature, out_feature, bias=bias).to(device)\n",
    "print(fc.weight.data.shape)\n",
    "\n",
    "if mode is \"unipolar\":\n",
    "    fc.weight.data = torch.rand(out_feature, in_feature).mul(length).round().div(length).to(device)\n",
    "    if bias is True:\n",
    "        fc.bias.data = torch.rand(1, out_feature).mul(length).round().div(length).to(device)\n",
    "elif mode is \"bipolar\":\n",
    "    fc.weight.data = torch.rand(out_feature, in_feature).mul(2).sub(1).mul(length).round().div(length).to(device)\n",
    "    if bias is True:\n",
    "        fc.bias.data = torch.rand(1, out_feature).mul(2).sub(1).mul(length).round().div(length).to(device)\n",
    "\n",
    "ufc = UnaryLinear(in_feature, out_feature, fc.weight, fc.bias, \n",
    "                  bitwidth=bitwidth, mode=mode, scaled=scaled, bias=bias).to(device)\n",
    "# gMUL + gADD\n",
    "# ufc = GainesLinear1(in_feature, out_feature, fc.weight, fc.bias, \n",
    "#                     bitwidth=bitwidth, mode=mode, scaled=scaled, bias=bias, depth=bitwidth, rng_idx=2).to(device)\n",
    "# gMUL + uADD\n",
    "# ufc = GainesLinear2(in_feature, out_feature, fc.weight, fc.bias, \n",
    "#                     bitwidth=bitwidth, mode=mode, scaled=scaled, bias=bias, depth=bitwidth, rng_idx=2).to(device)\n",
    "# uMUL + gADD\n",
    "# ufc = GainesLinear3(in_feature, out_feature, fc.weight, fc.bias, \n",
    "#                     bitwidth=bitwidth, mode=mode, scaled=scaled, bias=bias, depth=bitwidth, rng_idx=2).to(device)\n",
    "\n",
    "iVec = (((torch.rand(1, in_feature)*length).round()/length)/in_feature).to(device)\n",
    "oVec = fc(iVec)\n",
    "\n",
    "if scaled is False:\n",
    "    oVec = oVec.clamp(-1.,1.).mul(length).floor()/length\n",
    "else:\n",
    "    if bias is True:\n",
    "        oVec = oVec.div(in_feature+1).mul(length).floor()/length\n",
    "    else:\n",
    "        oVec = oVec.div(in_feature).mul(length).floor()/length\n",
    "\n",
    "        \n",
    "iVecSource = SourceGen(iVec, bitwidth=bitwidth, mode=mode)().to(device)\n",
    "\n",
    "iVecRNG = RNG(bitwidth, 2, rng)().to(device)\n",
    "iVecBS = BSGen(iVecSource, iVecRNG).to(device)\n",
    "\n",
    "iVecPE = ProgressiveError(iVec, mode=mode).to(device)\n",
    "oVecPE = ProgressiveError(oVec, mode=mode).to(device)\n",
    "\n",
    "with torch.no_grad():\n",
    "    idx = torch.zeros(iVecSource.size()).type(torch.long).to(device)\n",
    "    start_time = time.time()\n",
    "    for i in range(256):\n",
    "#         print(i)\n",
    "        iBS = iVecBS(idx + i)\n",
    "        iVecPE.Monitor(iBS)\n",
    "        \n",
    "#         print(idx+i)\n",
    "#         print(iBS)\n",
    "        oVecU = ufc(iBS)\n",
    "        oVecPE.Monitor(oVecU)\n",
    "#         print(\"\\n\")\n",
    "    print(\"--- %s seconds ---\" % (time.time() - start_time))\n",
    "    print(\"input error: \", min(min(iVecPE()[1])), max(max(iVecPE()[1])))\n",
    "    print(\"output error:\", min(min(oVecPE()[1])), max(max(oVecPE()[1])))\n",
    "    print(\"output pp:\", oVecPE()[0].data)\n",
    "    result_pe = oVecPE()[1][0].cpu().numpy()\n",
    "    print(torch.sqrt(torch.sum(torch.mul(oVecPE()[1], oVecPE()[1]))/out_feature))\n",
    "    print(result_pe)"
   ]
  },
  {
   "cell_type": "code",
   "execution_count": 5,
   "metadata": {},
   "outputs": [
    {
     "data": {
      "image/png": "[encoded data removed]",
      "text/plain": [
       "<Figure size 432x288 with 1 Axes>"
      ]
     },
     "metadata": {
      "needs_background": "light"
     },
     "output_type": "display_data"
    }
   ],
   "source": [
    "fig = plt.hist(result_pe, bins='auto')  # arguments are passed to np.histogram\n",
    "plt.title(\"Histogram for final output error\")\n",
    "plt.show()"
   ]
  },
  {
   "cell_type": "code",
   "execution_count": 6,
   "metadata": {},
   "outputs": [],
   "source": [
    "# passed test\n",
    "# 1. unipolar,     scaled,     biased: passed\n",
    "# 2. unipolar,     scaled, non-biased: passed\n",
    "# 3. unipolar, non-scaled,     biased: passed\n",
    "# 4. unipolar, non-scaled, non-biased: passed\n",
    "# 5.  bipolar,     scaled,     biased: passed\n",
    "# 6.  bipolar,     scaled, non-biased: passed\n",
    "# 7.  bipolar, non-scaled,     biased: passed\n",
    "# 8.  bipolar, non-scaled, non-biased: passed"
   ]
  },
  {
   "cell_type": "code",
   "execution_count": null,
   "metadata": {},
   "outputs": [],
   "source": []
  }
 ],
 "metadata": {
  "kernelspec": {
   "display_name": "Python 3",
   "language": "python",
   "name": "python3"
  },
  "language_info": {
   "codemirror_mode": {
    "name": "ipython",
    "version": 3
   },
   "file_extension": ".py",
   "mimetype": "text/x-python",
   "name": "python",
   "nbconvert_exporter": "python",
   "pygments_lexer": "ipython3",
   "version": "3.7.3"
  }
 },
 "nbformat": 4,
 "nbformat_minor": 2
}
