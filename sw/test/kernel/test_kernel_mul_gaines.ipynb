{
 "cells": [
  {
   "cell_type": "code",
   "execution_count": 1,
   "metadata": {},
   "outputs": [],
   "source": [
    "%load_ext autoreload\n",
    "%autoreload 2"
   ]
  },
  {
   "cell_type": "code",
   "execution_count": 2,
   "metadata": {},
   "outputs": [],
   "source": [
    "import torch\n",
    "from UnarySim.sw.kernel.mul import GainesMul\n",
    "from UnarySim.sw.stream.gen import RNG, SourceGen, BSGen\n",
    "from UnarySim.sw.metric.metric import ProgressiveError\n",
    "import matplotlib.pyplot as plt\n",
    "import time\n",
    "import math"
   ]
  },
  {
   "cell_type": "code",
   "execution_count": 3,
   "metadata": {},
   "outputs": [],
   "source": [
    "device = torch.device(\"cuda:0\" if torch.cuda.is_available() else \"cpu\")\n",
    "# device = \"cpu\"\n",
    "rng = \"Sobol\""
   ]
  },
  {
   "cell_type": "code",
   "execution_count": 4,
   "metadata": {},
   "outputs": [
    {
     "name": "stdout",
     "output_type": "stream",
     "text": [
      "--- 0.22499966621398926 seconds ---\n",
      "input 0 error:  tensor(-0.0078, device='cuda:0') tensor(0.0039, device='cuda:0')\n",
      "input 1 error:  tensor(-0.0117, device='cuda:0') tensor(0.0039, device='cuda:0')\n",
      "output error:  tensor(-0.0781, device='cuda:0') tensor(0.0664, device='cuda:0')\n",
      "RMSE 0.02334316954599621\n",
      "bias -0.0055828125\n"
     ]
    },
    {
     "data": {
      "image/png": "[encoded data removed]",
      "text/plain": [
       "<Figure size 432x288 with 1 Axes>"
      ]
     },
     "metadata": {
      "needs_background": "light"
     },
     "output_type": "display_data"
    },
    {
     "name": "stdout",
     "output_type": "stream",
     "text": [
      "--- 0.3099994659423828 seconds ---\n",
      "input 0 error:  tensor(-0.0039, device='cuda:0') tensor(0., device='cuda:0')\n",
      "input 1 error:  tensor(-0.0039, device='cuda:0') tensor(0., device='cuda:0')\n",
      "output error:  tensor(-0.0195, device='cuda:0') tensor(0.0195, device='cuda:0')\n",
      "RMSE 0.0065766681136090865\n",
      "bias -0.00284921875\n"
     ]
    },
    {
     "data": {
      "image/png": "[encoded data removed]",
      "text/plain": [
       "<Figure size 432x288 with 1 Axes>"
      ]
     },
     "metadata": {
      "needs_background": "light"
     },
     "output_type": "display_data"
    }
   ],
   "source": [
    "col = 10000\n",
    "modes = [\"bipolar\", \"unipolar\"]\n",
    "bitwidth = 8\n",
    "\n",
    "for mode in modes:\n",
    "    if mode is \"unipolar\":\n",
    "        input_prob_0 = torch.rand(col).mul(2**bitwidth).round().div(2**bitwidth).to(device)\n",
    "        input_prob_1 = torch.rand(col).mul(2**bitwidth).round().div(2**bitwidth).to(device)\n",
    "    elif mode is \"bipolar\":\n",
    "        input_prob_0 = torch.rand(col).mul(2).sub(1).mul(2**bitwidth).round().div(2**bitwidth).to(device)\n",
    "        input_prob_1 = torch.rand(col).mul(2).sub(1).mul(2**bitwidth).round().div(2**bitwidth).to(device)\n",
    "\n",
    "    dut_mul = GainesMul(mode).to(device)\n",
    "\n",
    "    oVec = torch.mul(input_prob_0, input_prob_1).mul(2**bitwidth).round().div(2**bitwidth).to(device)\n",
    "\n",
    "    prob_0_PE = ProgressiveError(input_prob_0, mode=mode).to(device)\n",
    "    prob_1_PE = ProgressiveError(input_prob_1, mode=mode).to(device)\n",
    "\n",
    "    oVecPE = ProgressiveError(oVec, mode=mode).to(device)\n",
    "\n",
    "    prob_0_Source = SourceGen(input_prob_0, bitwidth, mode=mode)().to(device)\n",
    "    prob_1_Source = SourceGen(input_prob_1, bitwidth, mode=mode)().to(device)\n",
    "\n",
    "    iVecRNG0 = RNG(bitwidth, 1, rng)().to(device)\n",
    "    iVecRNG1 = RNG(bitwidth, 1111, rng)().to(device)\n",
    "    prob_0_BS = BSGen(prob_0_Source, iVecRNG0).to(device)\n",
    "    prob_1_BS = BSGen(prob_1_Source, iVecRNG1).to(device)\n",
    "\n",
    "    with torch.no_grad():\n",
    "        start_time = time.time()\n",
    "        idx = torch.zeros(input_prob_0.size()).type(torch.long).to(device)\n",
    "        for i in range(2**bitwidth):\n",
    "            #print(i)\n",
    "            iBS_0 = prob_0_BS(idx + i)\n",
    "            iBS_1 = prob_1_BS(idx + i)\n",
    "\n",
    "            prob_0_PE.Monitor(iBS_0)\n",
    "            prob_1_PE.Monitor(iBS_1)\n",
    "\n",
    "            oVecU = dut_mul(iBS_0, iBS_1)   \n",
    "            oVecPE.Monitor(oVecU)\n",
    "    #         print(iBS)\n",
    "    #         print(oVecU)\n",
    "        print(\"--- %s seconds ---\" % (time.time() - start_time))\n",
    "        print(\"input 0 error: \", torch.min(prob_0_PE()[1]), torch.max(prob_0_PE()[1]))\n",
    "        print(\"input 1 error: \", torch.min(prob_1_PE()[1]), torch.max(prob_1_PE()[1]))\n",
    "\n",
    "        print(\"output error: \", torch.min(oVecPE()[1]), torch.max(oVecPE()[1]))\n",
    "        result_pe = oVecPE()[1].cpu().numpy()\n",
    "        print(\"RMSE\", math.sqrt(sum(result_pe**2)/len(result_pe)))\n",
    "        print(\"bias\", sum(result_pe)/len(result_pe))\n",
    "        fig = plt.hist(result_pe, bins='auto')  # arguments are passed to np.histogram\n",
    "        plt.title(\"Histogram for final output error\")\n",
    "        plt.show()"
   ]
  },
  {
   "cell_type": "code",
   "execution_count": null,
   "metadata": {},
   "outputs": [],
   "source": []
  }
 ],
 "metadata": {
  "kernelspec": {
   "display_name": "Python 3",
   "language": "python",
   "name": "python3"
  },
  "language_info": {
   "codemirror_mode": {
    "name": "ipython",
    "version": 3
   },
   "file_extension": ".py",
   "mimetype": "text/x-python",
   "name": "python",
   "nbconvert_exporter": "python",
   "pygments_lexer": "ipython3",
   "version": "3.7.3"
  }
 },
 "nbformat": 4,
 "nbformat_minor": 2
}
