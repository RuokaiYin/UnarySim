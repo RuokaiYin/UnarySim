{
 "cells": [
  {
   "cell_type": "code",
   "execution_count": 1,
   "metadata": {},
   "outputs": [],
   "source": [
    "%load_ext autoreload\n",
    "%autoreload 2"
   ]
  },
  {
   "cell_type": "code",
   "execution_count": 2,
   "metadata": {},
   "outputs": [],
   "source": [
    "import torch\n",
    "from UnarySim.sw.kernel.sqrt import UnarySqrt\n",
    "from UnarySim.sw.stream.gen import RNG, SourceGen, BSGen\n",
    "from UnarySim.sw.metric.metric import ProgressiveError\n",
    "import matplotlib.pyplot as plt\n",
    "import time\n",
    "import math\n",
    "import numpy as np"
   ]
  },
  {
   "cell_type": "code",
   "execution_count": 3,
   "metadata": {},
   "outputs": [],
   "source": [
    "device = torch.device(\"cuda:0\" if torch.cuda.is_available() else \"cpu\")"
   ]
  },
  {
   "cell_type": "code",
   "execution_count": 4,
   "metadata": {
    "scrolled": false
   },
   "outputs": [],
   "source": [
    "def test(rng=\"Sobol\", \n",
    "         mode=\"unipolar\", \n",
    "         bitwidth=8, \n",
    "         jk_trace=False, \n",
    "         emit=True, \n",
    "         total_cnt=100, \n",
    "         depth_kernel=1, \n",
    "         depth_emit=3, \n",
    "         depth_sync=2, \n",
    "         savepdf=False):\n",
    "    stype = torch.float\n",
    "    rtype = torch.float\n",
    "    \n",
    "    print(\"========================================================\")\n",
    "    print(mode)\n",
    "    print(\"========================================================\")\n",
    "    # all input values are non-negative\n",
    "    low_bound = 0\n",
    "    if mode is \"unipolar\":\n",
    "        up_bound = 2**bitwidth\n",
    "    elif mode is \"bipolar\":\n",
    "        low_bound = 0\n",
    "        up_bound = 2**(bitwidth-1)\n",
    "\n",
    "    input_list = []\n",
    "    for input_val in range(low_bound, up_bound+1, 1):\n",
    "        input_list.append(input_val)\n",
    "    \n",
    "    input = torch.tensor(input_list).type(torch.float).div(up_bound).to(device)\n",
    "\n",
    "    output = torch.sqrt(input).to(device)\n",
    "    outputPE = ProgressiveError(output, mode=mode).to(device)\n",
    "    \n",
    "    inputPE  = ProgressiveError(input,  mode=mode).to(device)\n",
    "    inputSRC = SourceGen(input, bitwidth, mode=mode, rtype=rtype)().to(device)\n",
    "    \n",
    "    result_pe_total = []\n",
    "    for rand_idx in range(1, total_cnt+1):\n",
    "        dut_sqrt = UnarySqrt(mode=mode, \n",
    "                         jk_trace=jk_trace, \n",
    "                         depth_kernel=depth_kernel, \n",
    "                         rng=\"Sobol\", \n",
    "                         rng_dim=4, \n",
    "                         emit=emit, \n",
    "                         depth_emit=depth_emit, \n",
    "                         depth_sync=depth_sync, \n",
    "                         stype=torch.float).to(device)\n",
    "        \n",
    "        inputRNG = RNG(bitwidth, rand_idx, rng, rtype)().to(device)\n",
    "        inputBS = BSGen(inputSRC, inputRNG, stype).to(device)\n",
    "        with torch.no_grad():\n",
    "            start_time = time.time()\n",
    "            for i in range(2**bitwidth):\n",
    "                input_bs = inputBS(torch.tensor([i]))\n",
    "                inputPE.Monitor(input_bs)\n",
    "\n",
    "                ouyput_bs = dut_sqrt(input_bs)\n",
    "                outputPE.Monitor(ouyput_bs)\n",
    "        \n",
    "        # get the result for different rng\n",
    "        result_pe = outputPE()[1].cpu().numpy()\n",
    "        result_pe = result_pe.flatten()\n",
    "        result_pe_total.append(result_pe)\n",
    "    \n",
    "    # get the result for different rng\n",
    "    result_pe_total = np.array(result_pe_total)\n",
    "    \n",
    "    #######################################################################\n",
    "    # check the error of all simulation\n",
    "    #######################################################################\n",
    "    print(\"RMSE:{:1.4}\".format(math.sqrt(np.mean(result_pe_total**2))))\n",
    "    print(\"MAE: {:1.4}\".format(np.mean(np.abs(result_pe_total))))\n",
    "    print(\"bias:{:1.4}\".format(np.mean(result_pe_total)))\n",
    "    print(\"max: {:1.4}\".format(np.max(result_pe_total)))\n",
    "    print(\"min: {:1.4}\".format(np.min(result_pe_total)))\n",
    "\n",
    "    #######################################################################\n",
    "    # check the error according to input value\n",
    "    #######################################################################\n",
    "    max_total = np.max(result_pe_total, axis=0)\n",
    "    min_total = np.min(result_pe_total, axis=0)\n",
    "    avg_total = np.mean(result_pe_total, axis=0)\n",
    "    \n",
    "    axis_len = outputPE()[1].size()[0]\n",
    "    input_x_axis = []\n",
    "    for axis_index in range(axis_len):\n",
    "        input_x_axis.append((axis_index/(axis_len-1)*(up_bound-low_bound)+low_bound)/up_bound)\n",
    "    fig, ax = plt.subplots()\n",
    "    ax.fill_between(input_x_axis, max_total, avg_total, facecolor=\"red\", alpha=0.75)\n",
    "    ax.fill_between(input_x_axis, avg_total, min_total, facecolor=\"blue\", alpha=0.75)\n",
    "    ax.plot(input_x_axis, avg_total, label='Avg error', color=\"black\", linewidth=0.3)\n",
    "    plt.tight_layout()\n",
    "    # plt.xlabel('Input value')\n",
    "    # plt.ylabel('Output error')\n",
    "    plt.xticks(np.arange(0, 1.1, step=0.5))\n",
    "    ax.xaxis.set_ticklabels([])\n",
    "    plt.xlim(0, 1)\n",
    "    plt.yticks(np.arange(-0.2, 0.4, step=0.2))\n",
    "    ax.yaxis.set_ticklabels([])\n",
    "    plt.ylim(-0.3, 0.55)\n",
    "    plt.grid(b=True, which=\"both\", axis=\"y\", linestyle=\"--\", color=\"grey\", linewidth=0.3)\n",
    "    fig.set_size_inches(1.7, 1)\n",
    "    ax.spines['right'].set_visible(False)\n",
    "    ax.spines['top'].set_visible(False)\n",
    "    if savepdf is True:\n",
    "        if emit is True:\n",
    "            plt.savefig(mode+\"-bw\"+str(bitwidth)+\"-bit\"+\"-emitting\"+\"-s\"+str(depth_sync)+\"-k\"+str(depth_kernel)+\"-e\"+str(depth_emit)+\".pdf\", \n",
    "                        dpi=300, \n",
    "                        bbox_inches='tight')\n",
    "        else:\n",
    "            if jk_trace is True:\n",
    "                plt.savefig(mode+\"-bw\"+str(bitwidth)+\"-bit\"+\"-inserting-JK\"+\".pdf\", \n",
    "                            dpi=300, \n",
    "                            bbox_inches='tight')\n",
    "            else:\n",
    "                plt.savefig(mode+\"-bw\"+str(bitwidth)+\"-bit\"+\"-inserting-IS\"+\"-k\"+str(depth_kernel)+\".pdf\", \n",
    "                            dpi=300, \n",
    "                            bbox_inches='tight')\n",
    "    plt.show()\n",
    "    plt.close()"
   ]
  },
  {
   "cell_type": "markdown",
   "metadata": {},
   "source": [
    "# performance comparison\n",
    "## bit-inseting and bit-emitting"
   ]
  },
  {
   "cell_type": "code",
   "execution_count": 5,
   "metadata": {
    "scrolled": false
   },
   "outputs": [
    {
     "name": "stdout",
     "output_type": "stream",
     "text": [
      "unipolar, bit-emitting\n",
      "========================================================\n",
      "unipolar\n",
      "========================================================\n",
      "RMSE:0.04725\n",
      "MAE: 0.03622\n",
      "bias:0.0277\n",
      "max: 0.1178\n",
      "min: -0.1104\n"
     ]
    },
    {
     "data": {
      "image/png": "[encoded data removed]",
      "text/plain": [
       "<Figure size 122.4x72 with 1 Axes>"
      ]
     },
     "metadata": {
      "needs_background": "light"
     },
     "output_type": "display_data"
    },
    {
     "name": "stdout",
     "output_type": "stream",
     "text": [
      "unipolar, bit-inserting-JK\n",
      "========================================================\n",
      "unipolar\n",
      "========================================================\n",
      "RMSE:0.05732\n",
      "MAE: 0.03701\n",
      "bias:-0.02176\n",
      "max: 0.06943\n",
      "min: -0.25\n"
     ]
    },
    {
     "data": {
      "image/png": "[encoded data removed]",
      "text/plain": [
       "<Figure size 122.4x72 with 1 Axes>"
      ]
     },
     "metadata": {
      "needs_background": "light"
     },
     "output_type": "display_data"
    },
    {
     "name": "stdout",
     "output_type": "stream",
     "text": [
      "unipolar, bit-inserting-IS\n",
      "========================================================\n",
      "unipolar\n",
      "========================================================\n",
      "RMSE:0.1069\n",
      "MAE: 0.08487\n",
      "bias:-0.08475\n",
      "max: 0.01005\n",
      "min: -0.252\n"
     ]
    },
    {
     "data": {
      "image/png": "[encoded data removed]",
      "text/plain": [
       "<Figure size 122.4x72 with 1 Axes>"
      ]
     },
     "metadata": {
      "needs_background": "light"
     },
     "output_type": "display_data"
    },
    {
     "name": "stdout",
     "output_type": "stream",
     "text": [
      "========================================================\n",
      "unipolar\n",
      "========================================================\n",
      "RMSE:0.1049\n",
      "MAE: 0.0834\n",
      "bias:-0.08326\n",
      "max: 0.01005\n",
      "min: -0.248\n"
     ]
    },
    {
     "data": {
      "image/png": "[encoded data removed]",
      "text/plain": [
       "<Figure size 122.4x72 with 1 Axes>"
      ]
     },
     "metadata": {
      "needs_background": "light"
     },
     "output_type": "display_data"
    },
    {
     "name": "stdout",
     "output_type": "stream",
     "text": [
      "========================================================\n",
      "unipolar\n",
      "========================================================\n",
      "RMSE:0.08371\n",
      "MAE: 0.0639\n",
      "bias:-0.06362\n",
      "max: 0.04404\n",
      "min: -0.2018\n"
     ]
    },
    {
     "data": {
      "image/png": "[encoded data removed]",
      "text/plain": [
       "<Figure size 122.4x72 with 1 Axes>"
      ]
     },
     "metadata": {
      "needs_background": "light"
     },
     "output_type": "display_data"
    },
    {
     "name": "stdout",
     "output_type": "stream",
     "text": [
      "bipolar, bit-emitting\n",
      "========================================================\n",
      "bipolar\n",
      "========================================================\n",
      "RMSE:0.03768\n",
      "MAE: 0.02625\n",
      "bias:-0.0003659\n",
      "max: 0.04534\n",
      "min: -0.1484\n"
     ]
    },
    {
     "data": {
      "image/png": "[encoded data removed]",
      "text/plain": [
       "<Figure size 122.4x72 with 1 Axes>"
      ]
     },
     "metadata": {
      "needs_background": "light"
     },
     "output_type": "display_data"
    },
    {
     "name": "stdout",
     "output_type": "stream",
     "text": [
      "bipolar, bit-inserting-JK\n",
      "========================================================\n",
      "bipolar\n",
      "========================================================\n",
      "RMSE:0.05698\n",
      "MAE: 0.0364\n",
      "bias:-0.03373\n",
      "max: 0.04289\n",
      "min: -0.2012\n"
     ]
    },
    {
     "data": {
      "image/png": "[encoded data removed]",
      "text/plain": [
       "<Figure size 122.4x72 with 1 Axes>"
      ]
     },
     "metadata": {
      "needs_background": "light"
     },
     "output_type": "display_data"
    },
    {
     "name": "stdout",
     "output_type": "stream",
     "text": [
      "bipolar, bit-inserting-IS\n",
      "========================================================\n",
      "bipolar\n",
      "========================================================\n",
      "RMSE:0.05698\n",
      "MAE: 0.0364\n",
      "bias:-0.03373\n",
      "max: 0.04289\n",
      "min: -0.2012\n"
     ]
    },
    {
     "data": {
      "image/png": "[encoded data removed]",
      "text/plain": [
       "<Figure size 122.4x72 with 1 Axes>"
      ]
     },
     "metadata": {
      "needs_background": "light"
     },
     "output_type": "display_data"
    },
    {
     "name": "stdout",
     "output_type": "stream",
     "text": [
      "========================================================\n",
      "bipolar\n",
      "========================================================\n",
      "RMSE:0.05698\n",
      "MAE: 0.0364\n",
      "bias:-0.03369\n",
      "max: 0.04289\n",
      "min: -0.2012\n"
     ]
    },
    {
     "data": {
      "image/png": "[encoded data removed]",
      "text/plain": [
       "<Figure size 122.4x72 with 1 Axes>"
      ]
     },
     "metadata": {
      "needs_background": "light"
     },
     "output_type": "display_data"
    },
    {
     "name": "stdout",
     "output_type": "stream",
     "text": [
      "========================================================\n",
      "bipolar\n",
      "========================================================\n",
      "RMSE:0.0293\n",
      "MAE: 0.01558\n",
      "bias:-0.01084\n",
      "max: 0.4194\n",
      "min: -0.08727\n"
     ]
    },
    {
     "data": {
      "image/png": "[encoded data removed]",
      "text/plain": [
       "<Figure size 122.4x72 with 1 Axes>"
      ]
     },
     "metadata": {
      "needs_background": "light"
     },
     "output_type": "display_data"
    }
   ],
   "source": [
    "print(\"unipolar, bit-emitting\")\n",
    "test(mode = \"unipolar\", bitwidth = 8, emit = True, jk_trace = False, depth_kernel=1, depth_emit=3, depth_sync=2, savepdf=True)\n",
    "print(\"unipolar, bit-inserting-JK\")\n",
    "test(mode = \"unipolar\", bitwidth = 8, emit = False, jk_trace = True, depth_kernel=1, depth_emit=3, depth_sync=2, savepdf=True)\n",
    "print(\"unipolar, bit-inserting-IS\")\n",
    "test(mode = \"unipolar\", bitwidth = 8, emit = False, jk_trace = False, depth_kernel=1, depth_emit=3, depth_sync=2, savepdf=True)\n",
    "test(mode = \"unipolar\", bitwidth = 8, emit = False, jk_trace = False, depth_kernel=2, depth_emit=3, depth_sync=2, savepdf=True)\n",
    "test(mode = \"unipolar\", bitwidth = 8, emit = False, jk_trace = False, depth_kernel=4, depth_emit=3, depth_sync=2, savepdf=True)\n",
    "print(\"bipolar, bit-emitting\")\n",
    "test(mode = \"bipolar\", bitwidth = 8, emit = True, jk_trace = False, depth_kernel=1, depth_emit=3, depth_sync=2, savepdf=True)\n",
    "print(\"bipolar, bit-inserting-JK\")\n",
    "test(mode = \"bipolar\", bitwidth = 8, emit = False, jk_trace = True, depth_kernel=1, depth_emit=3, depth_sync=2, savepdf=True)\n",
    "print(\"bipolar, bit-inserting-IS\")\n",
    "test(mode = \"bipolar\", bitwidth = 8, emit = False, jk_trace = False, depth_kernel=1, depth_emit=3, depth_sync=2, savepdf=True)\n",
    "test(mode = \"bipolar\", bitwidth = 8, emit = False, jk_trace = False, depth_kernel=2, depth_emit=3, depth_sync=2, savepdf=True)\n",
    "test(mode = \"bipolar\", bitwidth = 8, emit = False, jk_trace = False, depth_kernel=4, depth_emit=3, depth_sync=2, savepdf=True)"
   ]
  },
  {
   "cell_type": "code",
   "execution_count": null,
   "metadata": {},
   "outputs": [],
   "source": []
  }
 ],
 "metadata": {
  "kernelspec": {
   "display_name": "Python 3",
   "language": "python",
   "name": "python3"
  },
  "language_info": {
   "codemirror_mode": {
    "name": "ipython",
    "version": 3
   },
   "file_extension": ".py",
   "mimetype": "text/x-python",
   "name": "python",
   "nbconvert_exporter": "python",
   "pygments_lexer": "ipython3",
   "version": "3.7.3"
  }
 },
 "nbformat": 4,
 "nbformat_minor": 2
}
