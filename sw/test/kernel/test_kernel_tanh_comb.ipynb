{
 "cells": [
  {
   "cell_type": "code",
   "execution_count": 30,
   "metadata": {},
   "outputs": [
    {
     "name": "stdout",
     "output_type": "stream",
     "text": [
      "The autoreload extension is already loaded. To reload it, use:\n",
      "  %reload_ext autoreload\n"
     ]
    }
   ],
   "source": [
    "%load_ext autoreload\n",
    "%autoreload 2"
   ]
  },
  {
   "cell_type": "code",
   "execution_count": 40,
   "metadata": {},
   "outputs": [],
   "source": [
    "import torch\n",
    "import math\n",
    "from UnarySim.sw.kernel.tanh_comb import tanh_combinational\n",
    "from UnarySim.sw.bitstream.gen import RNG, SourceGen, BSGen\n",
    "from UnarySim.sw.metric.metric import ProgressiveError\n",
    "import matplotlib.pyplot as plt\n",
    "import time\n",
    "import math\n",
    "import numpy as np"
   ]
  },
  {
   "cell_type": "code",
   "execution_count": 54,
   "metadata": {},
   "outputs": [],
   "source": [
    "def tanh_comb_test(bw,mode=\"unipolar\", rand_mode=\"Sobol\"):\n",
    "    \n",
    "#     device = torch.device(\"cuda:0\" if torch.cuda.is_available() else \"cpu\")\n",
    "    device = \"cpu\"\n",
    "    rng = rand_mode\n",
    "    col = 10000\n",
    "    total_cnt = 100\n",
    "    bitwidth = bw\n",
    "    bstype = torch.int8\n",
    "    rtype=torch.float\n",
    "    stype=torch.int8\n",
    "\n",
    "    print(\"========================================================\")\n",
    "    print(mode)\n",
    "    print(\"========================================================\")\n",
    "    # all input values are non-negative\n",
    "    low_bound = 0\n",
    "    if mode is \"unipolar\":\n",
    "        up_bound = 2**bitwidth\n",
    "    elif mode is \"bipolar\":\n",
    "        low_bound = 0\n",
    "        up_bound = 2**(bitwidth-1)\n",
    "\n",
    "    input_list = []\n",
    "    for input_val in range(low_bound, up_bound+1, 1):\n",
    "        input_list.append(input_val)\n",
    "    \n",
    "#     src = torch.ones(2**bitwidth)\n",
    "#     for i in range(2**bitwidth):\n",
    "#         src[i] = (i/2**bitwidth)\n",
    "#         input = src.mul(2**bitwidth).round().div(2**bitwidth).to(device)\n",
    "    input = torch.tensor(input_list).type(torch.float).div(up_bound).to(device)\n",
    "    output = torch.tanh(input)\n",
    "    \n",
    "#     output = torch.exp(input.mul(-1))\n",
    "#     outputPE = ProgressiveError(output, mode=mode).to(device)\n",
    "#     inputPE  = ProgressiveError(input,  mode=mode).to(device)\n",
    "#     inputSRC = SourceGen(input, bitwidth, mode=mode, randtype=rtype)().to(device)\n",
    "    \n",
    "    result_pe_total = []\n",
    "    for rand_idx in range(1, total_cnt+1):\n",
    "        \n",
    "        outputPE = ProgressiveError(output, mode=mode).to(device)\n",
    "        inputPE  = ProgressiveError(input,  mode=mode).to(device)\n",
    "        \n",
    "        dut_tanh_comb = tanh_combinational(bitwidth,mode,rng,1,rtype,stype).to(device)\n",
    "        inputSRC = SourceGen(input, bitwidth, mode=mode, randtype=rtype)().to(device)\n",
    "        inputRNG = RNG(bitwidth, rand_idx, rng, rtype)().to(device)\n",
    "        inputBS = BSGen(inputSRC, inputRNG, stype).to(device)\n",
    "        with torch.no_grad():\n",
    "            start_time = time.time()\n",
    "            for i in range(2**bitwidth):\n",
    "                input_bs = inputBS(torch.tensor([i]))\n",
    "                inputPE.Monitor(input_bs)\n",
    "\n",
    "                output_bs = dut_tanh_comb(input_bs)\n",
    "                outputPE.Monitor(output_bs)\n",
    "        \n",
    "        # get the result for different rng\n",
    "        result_pe = outputPE()[1].cpu().numpy()\n",
    "#         print(\"before append: \",result_pe)\n",
    "        result_pe_total.append(result_pe)\n",
    "#         print(\"after: \",result_pe_total)\n",
    "        \n",
    "    \n",
    "    # get the result for different rng\n",
    "    result_pe_total = np.array(result_pe_total)\n",
    "    #######################################################################\n",
    "    # check the error of all simulation\n",
    "    #######################################################################\n",
    "    print(\"RMSE:{:1.4}\".format(math.sqrt(np.mean(result_pe_total**2))))\n",
    "    print(\"MAE: {:1.4}\".format(np.mean(np.abs(result_pe_total))))\n",
    "    print(\"bias:{:1.4}\".format(np.mean(result_pe_total)))\n",
    "    print(\"max: {:1.4}\".format(np.max(result_pe_total)))\n",
    "    print(\"min: {:1.4}\".format(np.min(result_pe_total)))\n",
    "\n",
    "    #######################################################################\n",
    "    # check the error according to input value\n",
    "    #######################################################################\n",
    "    max_total = np.max(result_pe_total, axis=0)\n",
    "    min_total = np.min(result_pe_total, axis=0)\n",
    "    avg_total = np.mean(result_pe_total, axis=0)\n",
    "    \n",
    "    axis_len = outputPE()[1].size()[0]\n",
    "    input_x_axis = []\n",
    "    for axis_index in range(axis_len):\n",
    "        input_x_axis.append((axis_index/(axis_len-1)*(up_bound-low_bound)+low_bound)/up_bound)\n",
    "    fig, ax = plt.subplots()\n",
    "    ax.fill_between(input_x_axis, max_total, avg_total, facecolor=\"red\", alpha=0.75)\n",
    "    ax.fill_between(input_x_axis, avg_total, min_total, facecolor=\"blue\", alpha=0.75)\n",
    "    ax.plot(input_x_axis, avg_total, label='Avg error', color=\"black\", linewidth=0.3)\n",
    "    plt.tight_layout()\n",
    "    plt.xlabel('Input value')\n",
    "    plt.ylabel('Output error')\n",
    "    plt.xticks(np.arange(0, 1.1, step=0.5))\n",
    "    # ax.xaxis.set_ticklabels([])\n",
    "    plt.xlim(0, 1)\n",
    "    plt.yticks(np.arange(-0.2, 0.4, step=0.2))\n",
    "    # ax.yaxis.set_ticklabels([])\n",
    "    plt.ylim(-0.3, 0.55)\n",
    "    plt.grid(b=True, which=\"both\", axis=\"y\", linestyle=\"--\", color=\"grey\", linewidth=0.3)\n",
    "    fig.set_size_inches(4, 4)\n",
    "    ax.spines['right'].set_visible(False)\n",
    "    ax.spines['top'].set_visible(False)\n",
    "    plt.show()\n",
    "    plt.close()"
   ]
  },
  {
   "cell_type": "code",
   "execution_count": 38,
   "metadata": {},
   "outputs": [
    {
     "name": "stdout",
     "output_type": "stream",
     "text": [
      "========================================================\n",
      "unipolar\n",
      "========================================================\n",
      "RMSE:0.01126\n",
      "MAE: 0.00783\n",
      "bias:0.001648\n",
      "max: 0.03528\n",
      "min: -0.05125\n"
     ]
    },
    {
     "data": {
      "image/png": "[encoded data removed]",
      "text/plain": [
       "<Figure size 288x288 with 1 Axes>"
      ]
     },
     "metadata": {
      "needs_background": "light"
     },
     "output_type": "display_data"
    }
   ],
   "source": [
    "tanh_comb_test(10,\"unipolar\",\"Sobol\")"
   ]
  },
  {
   "cell_type": "code",
   "execution_count": 39,
   "metadata": {},
   "outputs": [
    {
     "name": "stdout",
     "output_type": "stream",
     "text": [
      "========================================================\n",
      "unipolar\n",
      "========================================================\n",
      "RMSE:0.01027\n",
      "MAE: 0.008192\n",
      "bias:-0.007489\n",
      "max: 0.03456\n",
      "min: -0.03966\n"
     ]
    },
    {
     "data": {
      "image/png": "[encoded data removed]",
      "text/plain": [
       "<Figure size 288x288 with 1 Axes>"
      ]
     },
     "metadata": {
      "needs_background": "light"
     },
     "output_type": "display_data"
    }
   ],
   "source": [
    "tanh_comb_test(10,\"unipolar\",\"LFSR\")"
   ]
  },
  {
   "cell_type": "code",
   "execution_count": 25,
   "metadata": {},
   "outputs": [
    {
     "name": "stdout",
     "output_type": "stream",
     "text": [
      "========================================================\n",
      "unipolar\n",
      "========================================================\n",
      "RMSE:0.01822\n",
      "MAE: 0.01347\n",
      "bias:-0.01054\n",
      "max: 0.04785\n",
      "min: -0.06849\n"
     ]
    },
    {
     "data": {
      "image/png": "[encoded data removed]",
      "text/plain": [
       "<Figure size 288x288 with 1 Axes>"
      ]
     },
     "metadata": {
      "needs_background": "light"
     },
     "output_type": "display_data"
    }
   ],
   "source": [
    "tanh_comb_test(8,\"unipolar\",\"Sobol\")"
   ]
  },
  {
   "cell_type": "code",
   "execution_count": 55,
   "metadata": {},
   "outputs": [
    {
     "name": "stdout",
     "output_type": "stream",
     "text": [
      "========================================================\n",
      "unipolar\n",
      "========================================================\n",
      "RMSE:0.04446\n",
      "MAE: 0.02156\n",
      "bias:-0.0146\n",
      "max: 0.7383\n",
      "min: -0.08971\n"
     ]
    },
    {
     "data": {
      "image/png": "[encoded data removed]",
      "text/plain": [
       "<Figure size 288x288 with 1 Axes>"
      ]
     },
     "metadata": {
      "needs_background": "light"
     },
     "output_type": "display_data"
    }
   ],
   "source": [
    "tanh_comb_test(8,\"unipolar\",\"LFSR\")"
   ]
  },
  {
   "cell_type": "code",
   "execution_count": null,
   "metadata": {},
   "outputs": [],
   "source": []
  }
 ],
 "metadata": {
  "kernelspec": {
   "display_name": "Python 3",
   "language": "python",
   "name": "python3"
  },
  "language_info": {
   "codemirror_mode": {
    "name": "ipython",
    "version": 3
   },
   "file_extension": ".py",
   "mimetype": "text/x-python",
   "name": "python",
   "nbconvert_exporter": "python",
   "pygments_lexer": "ipython3",
   "version": "3.7.6"
  }
 },
 "nbformat": 4,
 "nbformat_minor": 4
}
