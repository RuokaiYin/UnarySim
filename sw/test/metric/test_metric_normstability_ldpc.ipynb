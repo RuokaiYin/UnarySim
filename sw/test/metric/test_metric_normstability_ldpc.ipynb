{
 "cells": [
  {
   "cell_type": "code",
   "execution_count": 1,
   "metadata": {},
   "outputs": [],
   "source": [
    "%load_ext autoreload\n",
    "%autoreload 2\n",
    "%matplotlib inline"
   ]
  },
  {
   "cell_type": "code",
   "execution_count": 2,
   "metadata": {},
   "outputs": [],
   "source": [
    "import torch\n",
    "import math\n",
    "from UnarySim.sw.stream.gen import RNG, SourceGen, BSGen\n",
    "from UnarySim.sw.kernel.add import GainesAdd\n",
    "from UnarySim.sw.kernel.shiftreg import ShiftReg\n",
    "from UnarySim.sw.metric.metric import ProgressiveError, NormStability\n",
    "from PIL import Image\n",
    "import matplotlib.pyplot as plt\n",
    "from matplotlib.pyplot import imshow\n",
    "import time\n",
    "import math\n",
    "import numpy as np"
   ]
  },
  {
   "cell_type": "code",
   "execution_count": 3,
   "metadata": {},
   "outputs": [],
   "source": [
    "class CheckNode(torch.nn.Module):\n",
    "    def __init__(self,\n",
    "                 stype=torch.float):\n",
    "        super(CheckNode, self).__init__()\n",
    "        self.stype = stype\n",
    "        \n",
    "    def forward(self, input):\n",
    "        # assume check node input is stack along axis 0\n",
    "        output = torch.sum(input, 0).sub(input) % 2\n",
    "        return output.type(self.stype)\n",
    "\n",
    "    \n",
    "class ParityNode(torch.nn.Module):\n",
    "    def __init__(self,\n",
    "                 stype=torch.float):\n",
    "        super(ParityNode, self).__init__()\n",
    "        self.stype = stype\n",
    "        \n",
    "    def forward(self, input):\n",
    "        # assume check node input is stack along axis 0\n",
    "        output = torch.sum(input, 0) % 2\n",
    "        return output.type(self.stype)\n",
    "    \n",
    "    \n",
    "class VariableNodeCNT(torch.nn.Module):\n",
    "    def __init__(self,\n",
    "                 degree=1,\n",
    "                 depth=7,\n",
    "                 LLR=None,\n",
    "                 rtype=torch.float,\n",
    "                 btype=torch.float, \n",
    "                 stype=torch.float):\n",
    "        super(VariableNodeCNT, self).__init__()\n",
    "        \n",
    "        # this degree includes channel information\n",
    "        self.degree = degree\n",
    "        assert degree >= 1, \"Input degree can't be smaller than 2.\"\n",
    "        if degree == 1 or degree == 2:\n",
    "            # no shift register is required, as the channel information is directly sent to the check node\n",
    "            pass\n",
    "        elif degree == 3:\n",
    "            self.im_0 = ShiftReg(depth=2, stype=stype)\n",
    "            self.im_1 = ShiftReg(depth=2, stype=stype)\n",
    "            self.im_2 = ShiftReg(depth=2, stype=stype)\n",
    "        elif degree == 4:\n",
    "            self.im_0_0 = ShiftReg(depth=2, stype=stype)\n",
    "            self.im_0_1 = ShiftReg(depth=2, stype=stype)\n",
    "            self.im_1_0 = ShiftReg(depth=2, stype=stype)\n",
    "            self.im_1_1 = ShiftReg(depth=2, stype=stype)\n",
    "            self.im_2_0 = ShiftReg(depth=2, stype=stype)\n",
    "            self.im_2_1 = ShiftReg(depth=2, stype=stype)\n",
    "            self.im_3_0 = ShiftReg(depth=2, stype=stype)\n",
    "            self.im_3_1 = ShiftReg(depth=2, stype=stype)\n",
    "\n",
    "        self.acc = torch.nn.Parameter(torch.zeros(1).type(btype), requires_grad=False)\n",
    "        self.acc.data = LLR.type(btype)\n",
    "        self.acc_max = 2**depth - 1\n",
    "        self.acc_max_1 = 2**depth\n",
    "        \n",
    "        self.rtype = rtype\n",
    "        self.btype = btype\n",
    "        self.stype = stype\n",
    "    \n",
    "    def degree1_forward(self, c2v, chn):\n",
    "        # c2v/v2c is [0][...]\n",
    "        # chn/posterior is [...]\n",
    "        c2v_eq = torch.zeros_like(c2v)\n",
    "        c2v_eq[0] = chn.type(self.btype)\n",
    "        v2c = c2v_eq.type(self.stype)\n",
    "        posterior = torch.eq(v2c[0], c2v[0]).type(self.stype)\n",
    "        return v2c, posterior\n",
    "    \n",
    "    def degree2_forward(self, c2v, chn):\n",
    "        # c2v/v2c is [0, 1][...]\n",
    "        # chn/posterior is [...]\n",
    "        # index 0\n",
    "        c2v_eq_0 = (1 - (chn.type(torch.int8) ^ c2v[1].type(torch.int8))).type(self.btype)\n",
    "        # index 1\n",
    "        c2v_eq_1 = (1 - (chn.type(torch.int8) ^ c2v[0].type(torch.int8))).type(self.btype)\n",
    "        c2v_eq = torch.stack((c2v_eq_0, c2v_eq_1), 0)\n",
    "        v2c = c2v_eq.type(self.stype) \\\n",
    "            * chn \\\n",
    "            + (1 - c2v_eq).type(self.stype) \\\n",
    "            * (torch.gt(self.acc, torch.randint(0, self.acc_max_1, (self.degree, 1)).type(self.btype))).type(self.stype)\n",
    "        self.acc.data = (self.acc + c2v_eq * chn.mul(2).sub(1).type(self.btype)).clamp(0, self.acc_max)\n",
    "        posterior = torch.eq(v2c[0], c2v[0]).type(self.stype)\n",
    "        return v2c, posterior\n",
    "    \n",
    "    def degree3_forward(self, c2v, chn):\n",
    "        # c2v/v2c is [0, 1, 2][...]\n",
    "        # chn/posterior is [...]\n",
    "        # index 0\n",
    "        c2v_eq_0_0 = (1 - (chn.type(torch.int8) ^ c2v[1].type(torch.int8))).type(self.btype)\n",
    "        internal_0 = c2v_eq_0_0.type(self.stype) \\\n",
    "                   * chn \\\n",
    "                   + (1 - c2v_eq_0_0).type(self.stype) \\\n",
    "                   * self.im_0.sr.data[torch.randint(0, 2, (1, )).type(torch.long).item()]\n",
    "        dc0, dc1 = self.im_0(internal_0, mask = c2v_eq_0_0)\n",
    "        c2v_eq_0 = (1 - (internal_0.type(torch.int8) ^ c2v[2].type(torch.int8))).type(self.btype)\n",
    "        \n",
    "        # index 1\n",
    "        c2v_eq_1_0 = (1 - (chn.type(torch.int8) ^ c2v[0].type(torch.int8))).type(self.btype)\n",
    "        internal_1 = c2v_eq_1_0.type(self.stype) \\\n",
    "                   * chn \\\n",
    "                   + (1 - c2v_eq_1_0).type(self.stype) \\\n",
    "                   * self.im_1.sr.data[torch.randint(0, 2, (1, )).type(torch.long).item()]\n",
    "        dc0, dc1 = self.im_1(internal_1, mask = c2v_eq_1_0)\n",
    "        c2v_eq_1 = (1 - (internal_1.type(torch.int8) ^ c2v[2].type(torch.int8))).type(self.btype)\n",
    "        \n",
    "        # index 2\n",
    "        c2v_eq_2_0 = (1 - (chn.type(torch.int8) ^ c2v[0].type(torch.int8))).type(self.btype)\n",
    "        internal_2 = c2v_eq_2_0.type(self.stype) \\\n",
    "                   * chn \\\n",
    "                   + (1 - c2v_eq_2_0).type(self.stype) \\\n",
    "                   * self.im_2.sr.data[torch.randint(0, 2, (1, )).type(torch.long).item()]\n",
    "        dc0, dc1 = self.im_2(internal_0, mask = c2v_eq_2_0)\n",
    "        c2v_eq_2 = (1 - (internal_2.type(torch.int8) ^ c2v[1].type(torch.int8))).type(self.btype)\n",
    "        \n",
    "        c2v_eq = torch.stack((c2v_eq_0, c2v_eq_1, c2v_eq_2), 0)\n",
    "        input_1 =  torch.stack((internal_0, internal_1, internal_2), 0)\n",
    "        v2c = c2v_eq.type(self.stype) \\\n",
    "            * input_1 \\\n",
    "            + (1 - c2v_eq).type(self.stype) \\\n",
    "            * (torch.gt(self.acc, torch.randint(0, self.acc_max_1, (self.degree, 1)).type(self.btype))).type(self.stype)\n",
    "        self.acc.data = (self.acc + c2v_eq * input_1.mul(2).sub(1).type(self.btype)).clamp(0, self.acc_max)\n",
    "        posterior = torch.eq(v2c[0], c2v[0]).type(self.stype)\n",
    "        return v2c, posterior\n",
    "    \n",
    "    def degree4_forward(self, c2v, chn):\n",
    "        # c2v/v2c is [0, 1, 2, 3][...]\n",
    "        # chn/posterior is [...]\n",
    "        # # # # # # # # # # # # # # # # # # # # # # # # # # # #\n",
    "        # index 0\n",
    "        # # # # # # # # # # # # # # # # # # # # # # # # # # # #\n",
    "        # chn, c2v[1]\n",
    "        c2v_eq_0_0 = (1 - (chn.type(torch.int8) ^ c2v[1].type(torch.int8))).type(self.btype)\n",
    "        internal_0_0 = c2v_eq_0_0.type(self.stype) \\\n",
    "                     * chn \\\n",
    "                     + (1 - c2v_eq_0_0).type(self.stype) \\\n",
    "                     * self.im_0_0.sr.data[torch.randint(0, 2, (1, )).type(torch.long).item()]\n",
    "        dc0, dc1 = self.im_0_0(internal_0_0, mask = c2v_eq_0_0)\n",
    "        # c2v[2], c2v[3]\n",
    "        c2v_eq_0_1 = (1 - (c2v[2].type(torch.int8) ^ c2v[3].type(torch.int8))).type(self.btype)\n",
    "        internal_0_1 = c2v_eq_0_1.type(self.stype) \\\n",
    "                     * c2v[2] \\\n",
    "                     + (1 - c2v_eq_0_1).type(self.stype) \\\n",
    "                     * self.im_0_1.sr.data[torch.randint(0, 2, (1, )).type(torch.long).item()]\n",
    "        dc0, dc1 = self.im_0_1(internal_0_1, mask = c2v_eq_0_1)\n",
    "        \n",
    "        c2v_eq_0 = (1 - (internal_0_0.type(torch.int8) ^ internal_0_1.type(torch.int8))).type(self.btype)\n",
    "        \n",
    "        # # # # # # # # # # # # # # # # # # # # # # # # # # # #\n",
    "        # index 1\n",
    "        # # # # # # # # # # # # # # # # # # # # # # # # # # # #\n",
    "        # chn, c2v[0]\n",
    "        c2v_eq_1_0 = (1 - (chn.type(torch.int8) ^ c2v[0].type(torch.int8))).type(self.btype)\n",
    "        internal_1_0 = c2v_eq_1_0.type(self.stype) \\\n",
    "                     * chn \\\n",
    "                     + (1 - c2v_eq_1_0).type(self.stype) \\\n",
    "                     * self.im_1_0.sr.data[torch.randint(0, 2, (1, )).type(torch.long).item()]\n",
    "        dc0, dc1 = self.im_1_0(internal_1_0, mask = c2v_eq_1_0)\n",
    "        # c2v[2], c2v[3]\n",
    "        c2v_eq_1_1 = (1 - (c2v[2].type(torch.int8) ^ c2v[3].type(torch.int8))).type(self.btype)\n",
    "        internal_1_1 = c2v_eq_1_1.type(self.stype) \\\n",
    "                     * c2v[2] \\\n",
    "                     + (1 - c2v_eq_1_1).type(self.stype) \\\n",
    "                     * self.im_1_1.sr.data[torch.randint(0, 2, (1, )).type(torch.long).item()]\n",
    "        dc0, dc1 = self.im_1_1(internal_1_1, mask = c2v_eq_1_1)\n",
    "        \n",
    "        c2v_eq_1 = (1 - (internal_1_0.type(torch.int8) ^ internal_1_1.type(torch.int8))).type(self.btype)\n",
    "        \n",
    "        # # # # # # # # # # # # # # # # # # # # # # # # # # # #\n",
    "        # index 2\n",
    "        # # # # # # # # # # # # # # # # # # # # # # # # # # # #\n",
    "        # chn, c2v[0]\n",
    "        c2v_eq_2_0 = (1 - (chn.type(torch.int8) ^ c2v[0].type(torch.int8))).type(self.btype)\n",
    "        internal_2_0 = c2v_eq_2_0.type(self.stype) \\\n",
    "                     * chn \\\n",
    "                     + (1 - c2v_eq_2_0).type(self.stype) \\\n",
    "                     * self.im_2_0.sr.data[torch.randint(0, 2, (1, )).type(torch.long).item()]\n",
    "        dc0, dc1 = self.im_2_0(internal_2_0, mask = c2v_eq_2_0)\n",
    "        # c2v[1], c2v[3]\n",
    "        c2v_eq_2_1 = (1 - (c2v[1].type(torch.int8) ^ c2v[3].type(torch.int8))).type(self.btype)\n",
    "        internal_2_1 = c2v_eq_2_1.type(self.stype) \\\n",
    "                     * c2v[1] \\\n",
    "                     + (1 - c2v_eq_2_1).type(self.stype) \\\n",
    "                     * self.im_2_1.sr.data[torch.randint(0, 2, (1, )).type(torch.long).item()]\n",
    "        dc0, dc1 = self.im_2_1(internal_2_1, mask = c2v_eq_2_1)\n",
    "        \n",
    "        c2v_eq_2 = (1 - (internal_2_0.type(torch.int8) ^ internal_2_1.type(torch.int8))).type(self.btype)\n",
    "        \n",
    "        # # # # # # # # # # # # # # # # # # # # # # # # # # # #\n",
    "        # index 3\n",
    "        # # # # # # # # # # # # # # # # # # # # # # # # # # # #\n",
    "        # chn, c2v[0]\n",
    "        c2v_eq_3_0 = (1 - (chn.type(torch.int8) ^ c2v[0].type(torch.int8))).type(self.btype)\n",
    "        internal_3_0 = c2v_eq_3_0.type(self.stype) \\\n",
    "                     * chn \\\n",
    "                     + (1 - c2v_eq_3_0).type(self.stype) \\\n",
    "                     * self.im_3_0.sr.data[torch.randint(0, 2, (1, )).type(torch.long).item()]\n",
    "        dc0, dc1 = self.im_3_0(internal_3_0, mask = c2v_eq_3_0)\n",
    "        # c2v[1], c2v[2]\n",
    "        c2v_eq_3_1 = (1 - (c2v[1].type(torch.int8) ^ c2v[2].type(torch.int8))).type(self.btype)\n",
    "        internal_3_1 = c2v_eq_3_1.type(self.stype) \\\n",
    "                     * c2v[1] \\\n",
    "                     + (1 - c2v_eq_3_1).type(self.stype) \\\n",
    "                     * self.im_3_1.sr.data[torch.randint(0, 2, (1, )).type(torch.long).item()]\n",
    "        dc0, dc1 = self.im_3_1(internal_3_1, mask = c2v_eq_3_1)\n",
    "        \n",
    "        c2v_eq_3 = (1 - (internal_3_0.type(torch.int8) ^ internal_3_1.type(torch.int8))).type(self.btype)\n",
    "        \n",
    "        c2v_eq = torch.stack((c2v_eq_0, c2v_eq_1, c2v_eq_2, c2v_eq_3), 0)\n",
    "        input_1 =  torch.stack((internal_0_0, internal_1_0, internal_2_0, internal_3_0), 0)\n",
    "        v2c = c2v_eq.type(self.stype) \\\n",
    "            * input_1 \\\n",
    "            + (1 - c2v_eq).type(self.stype) \\\n",
    "            * (torch.gt(self.acc, torch.randint(0, self.acc_max_1, (self.degree, 1)).type(self.btype))).type(self.stype)\n",
    "        self.acc.data = (self.acc + c2v_eq * input_1.mul(2).sub(1).type(self.btype)).clamp(0, self.acc_max)\n",
    "        posterior = torch.eq(v2c[0], c2v[0]).type(self.stype)\n",
    "        return v2c, posterior\n",
    "    \n",
    "    def forward(self, c2v, chn):\n",
    "        if self.degree == 1:\n",
    "            v2c, posterior = self.degree1_forward(c2v, chn)\n",
    "        elif self.degree == 2:\n",
    "            v2c, posterior = self.degree2_forward(c2v, chn)\n",
    "        elif self.degree == 3:\n",
    "            v2c, posterior = self.degree3_forward(c2v, chn)\n",
    "        elif self.degree ==4:\n",
    "            v2c, posterior = self.degree4_forward(c2v, chn)\n",
    "        return v2c.type(self.stype), posterior.type(self.stype)\n"
   ]
  },
  {
   "cell_type": "code",
   "execution_count": 4,
   "metadata": {
    "scrolled": false
   },
   "outputs": [
    {
     "name": "stdout",
     "output_type": "stream",
     "text": [
      "tensor([[0., 0.],\n",
      "        [0., 1.],\n",
      "        [1., 0.],\n",
      "        [1., 1.]])\n"
     ]
    }
   ],
   "source": [
    "cn0 = CheckNode()\n",
    "cn0_out = cn0(torch.tensor([[0, 0], [0, 1], [1, 0], [1, 1]]))\n",
    "print(cn0_out)"
   ]
  },
  {
   "cell_type": "code",
   "execution_count": 5,
   "metadata": {},
   "outputs": [
    {
     "name": "stdout",
     "output_type": "stream",
     "text": [
      "tensor([0., 0.])\n"
     ]
    }
   ],
   "source": [
    "pn0 = ParityNode()\n",
    "pn0_out = pn0(torch.tensor([[0, 0], [0, 1], [1, 0], [1, 1]]))\n",
    "print(pn0_out)"
   ]
  },
  {
   "cell_type": "code",
   "execution_count": 6,
   "metadata": {},
   "outputs": [
    {
     "name": "stdout",
     "output_type": "stream",
     "text": [
      "tensor([1.]) tensor(1.)\n",
      "tensor([0.]) tensor(1.)\n"
     ]
    }
   ],
   "source": [
    "vn0 = VariableNodeCNT(degree=1, depth=7, LLR=torch.tensor([0.7*(2**7)]))\n",
    "vn0_out, posterior = vn0(torch.tensor([1.]), torch.tensor([1.]))\n",
    "print(vn0_out, posterior)\n",
    "vn0_out, posterior = vn0(torch.tensor([0.]), torch.tensor([0.]))\n",
    "print(vn0_out, posterior)"
   ]
  },
  {
   "cell_type": "code",
   "execution_count": 7,
   "metadata": {},
   "outputs": [
    {
     "name": "stdout",
     "output_type": "stream",
     "text": [
      "tensor([[1.],\n",
      "        [1.]]) tensor([1.])\n",
      "tensor([[0.],\n",
      "        [0.]]) tensor([1.])\n"
     ]
    }
   ],
   "source": [
    "vn0 = VariableNodeCNT(degree=2, depth=7, LLR=torch.tensor([0.7*(2**7)]))\n",
    "vn0_out, posterior = vn0(torch.tensor([[1.], [1.]]), torch.tensor([1.]))\n",
    "print(vn0_out, posterior)\n",
    "vn0_out, posterior = vn0(torch.tensor([[0.], [0.]]), torch.tensor([0.]))\n",
    "print(vn0_out, posterior)"
   ]
  },
  {
   "cell_type": "code",
   "execution_count": 8,
   "metadata": {},
   "outputs": [
    {
     "name": "stdout",
     "output_type": "stream",
     "text": [
      "tensor([[1.],\n",
      "        [1.],\n",
      "        [1.]]) tensor([1.])\n",
      "tensor([[0.],\n",
      "        [0.],\n",
      "        [0.]]) tensor([1.])\n"
     ]
    }
   ],
   "source": [
    "vn0 = VariableNodeCNT(degree=3, depth=7, LLR=torch.tensor([0.7*(2**7)]))\n",
    "vn0_out, posterior = vn0(torch.tensor([[1.], [1.], [1.]]), torch.tensor([1.]))\n",
    "print(vn0_out, posterior)\n",
    "vn0_out, posterior = vn0(torch.tensor([[0.], [0.], [0.]]), torch.tensor([0.]))\n",
    "print(vn0_out, posterior)"
   ]
  },
  {
   "cell_type": "code",
   "execution_count": 9,
   "metadata": {},
   "outputs": [
    {
     "name": "stdout",
     "output_type": "stream",
     "text": [
      "tensor([[1.],\n",
      "        [1.],\n",
      "        [1.],\n",
      "        [1.]]) tensor([1.])\n",
      "tensor([[0.],\n",
      "        [0.],\n",
      "        [0.],\n",
      "        [0.]]) tensor([1.])\n"
     ]
    }
   ],
   "source": [
    "vn0 = VariableNodeCNT(degree=4, depth=7, LLR=torch.tensor([0.7*(2**7)]))\n",
    "vn0_out, posterior = vn0(torch.tensor([[1.], [1.], [1.], [1.]]), torch.tensor([1.]))\n",
    "print(vn0_out, posterior)\n",
    "vn0_out, posterior = vn0(torch.tensor([[0.], [0.], [0.], [0.]]), torch.tensor([0.]))\n",
    "print(vn0_out, posterior)"
   ]
  },
  {
   "cell_type": "code",
   "execution_count": null,
   "metadata": {},
   "outputs": [],
   "source": [
    "def test():\n",
    "    "
   ]
  }
 ],
 "metadata": {
  "kernelspec": {
   "display_name": "Python 3",
   "language": "python",
   "name": "python3"
  },
  "language_info": {
   "codemirror_mode": {
    "name": "ipython",
    "version": 3
   },
   "file_extension": ".py",
   "mimetype": "text/x-python",
   "name": "python",
   "nbconvert_exporter": "python",
   "pygments_lexer": "ipython3",
   "version": "3.7.3"
  }
 },
 "nbformat": 4,
 "nbformat_minor": 4
}
