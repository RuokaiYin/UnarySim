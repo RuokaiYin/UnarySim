{
 "cells": [
  {
   "cell_type": "code",
   "execution_count": 1,
   "metadata": {},
   "outputs": [],
   "source": [
    "%load_ext autoreload\n",
    "%autoreload 2"
   ]
  },
  {
   "cell_type": "code",
   "execution_count": 2,
   "metadata": {},
   "outputs": [],
   "source": [
    "import torch\n",
    "from UnarySim.sw.metric.metric import NormStability, NSbuilder, Stability, ProgressiveError\n",
    "from UnarySim.sw.stream.gen import RNG, SourceGen, BSGen\n",
    "from UnarySim.sw.kernel.sqrt import UnarySqrt\n",
    "import random\n",
    "import matplotlib.pyplot as plt\n",
    "from mpl_toolkits.mplot3d import Axes3D\n",
    "from matplotlib import ticker, cm\n",
    "from matplotlib.ticker import LinearLocator, FormatStrFormatter\n",
    "import time\n",
    "import math\n",
    "import numpy as np\n",
    "import seaborn as sns\n",
    "from tqdm import tqdm"
   ]
  },
  {
   "cell_type": "code",
   "execution_count": 3,
   "metadata": {},
   "outputs": [],
   "source": [
    "device = torch.device(\"cuda:0\" if torch.cuda.is_available() else \"cpu\")\n",
    "device = torch.device(\"cpu\")"
   ]
  },
  {
   "cell_type": "code",
   "execution_count": 4,
   "metadata": {
    "scrolled": false
   },
   "outputs": [],
   "source": [
    "def test(\n",
    "    rng=\"Sobol\", \n",
    "    total_cnt=100, \n",
    "    mode=\"unipolar\", \n",
    "    bitwidth=8, \n",
    "    threshold=0.05\n",
    "):\n",
    "    ns_val=[0.25, 0.5, 1]\n",
    "    stype = torch.float\n",
    "    rtype = torch.float\n",
    "    \n",
    "    pbar = tqdm(total=3*total_cnt*(2**bitwidth))\n",
    "    if mode is \"unipolar\":\n",
    "        # all values in unipolar are non-negative\n",
    "        low_bound = 0\n",
    "        up_bound = 2**bitwidth\n",
    "    elif mode is \"bipolar\":\n",
    "        # values in bipolar are arbitrarily positive or negative\n",
    "        low_bound = -2**(bitwidth-1)\n",
    "        up_bound = 2**(bitwidth-1)\n",
    "\n",
    "    # input0 is dividend\n",
    "    input = []\n",
    "    for val in range(up_bound, low_bound-1, -1):\n",
    "        input.append(val)\n",
    "\n",
    "    input = torch.tensor(input, dtype=torch.float).div(up_bound).to(device)\n",
    "    output = torch.sqrt(input).to(device)\n",
    "    \n",
    "    for ns in ns_val:\n",
    "        print(\"# # # # # # # # # # # # # # # # # #\")\n",
    "        print(\"Target normstab:\", ns)\n",
    "        print(\"# # # # # # # # # # # # # # # # # #\")\n",
    "\n",
    "        result_ns_total = []\n",
    "        input_ns_total = []\n",
    "        output_ns_total = []\n",
    "\n",
    "        for rand_idx in range(1, total_cnt+1):\n",
    "            outputNS = NormStability(output, mode=mode, threshold=threshold).to(device)\n",
    "\n",
    "            inputNS = NormStability(input, mode=mode, threshold=threshold).to(device)\n",
    "\n",
    "            dut = UnarySqrt(mode=mode, \n",
    "                            jk_trace=False, \n",
    "                            depth_kernel=1, \n",
    "                            rng=\"Sobol\", \n",
    "                            rng_dim=4, \n",
    "                            emit=False, \n",
    "                            depth_sr=2, \n",
    "                            stype=torch.float).to(device)\n",
    "\n",
    "            inputBSGen = NSbuilder(bitwidth=bitwidth, \n",
    "                                    mode=mode, \n",
    "                                    normstability=ns, \n",
    "                                    threshold=threshold, \n",
    "                                    value=input, \n",
    "                                    rng_dim=rand_idx).to(device)\n",
    "\n",
    "            start_time = time.time()\n",
    "            with torch.no_grad():\n",
    "                for i in range(2**bitwidth):\n",
    "                    input_bs = inputBSGen()\n",
    "                    inputNS.Monitor(input_bs)\n",
    "\n",
    "                    output_bs = dut(input_bs)\n",
    "                    outputNS.Monitor(output_bs)\n",
    "                    pbar.update(1)\n",
    "\n",
    "            # get the result for different rng\n",
    "            input_ns = inputNS()\n",
    "            output_ns = outputNS()\n",
    "    \n",
    "            result_ns = (output_ns/input_ns).clamp(0, 1).cpu().numpy()\n",
    "            result_ns_total.append(result_ns)\n",
    "            input_ns = input_ns.cpu().numpy()\n",
    "            input_ns_total.append(input_ns)\n",
    "            output_ns = output_ns.cpu().numpy()\n",
    "            output_ns_total.append(output_ns)\n",
    "            # print(\"--- %s seconds ---\" % (time.time() - start_time))\n",
    "\n",
    "        # get the result for different rng\n",
    "        result_ns_total = np.array(result_ns_total)\n",
    "        input_ns_total = np.array(input_ns_total)\n",
    "        output_ns_total = np.array(output_ns_total)\n",
    "        #######################################################################\n",
    "        # check the error of all simulation\n",
    "        #######################################################################\n",
    "        print(\"avg I NS:{:1.4}\".format(np.mean(input_ns_total)))\n",
    "        print(\"max I NS:{:1.4}\".format(np.max(input_ns_total)))\n",
    "        print(\"min I NS:{:1.4}\".format(np.min(input_ns_total)))\n",
    "        print()\n",
    "        print(\"avg O NS:{:1.4}\".format(np.mean(output_ns_total)))\n",
    "        print(\"max O NS:{:1.4}\".format(np.max(output_ns_total)))\n",
    "        print(\"min O NS:{:1.4}\".format(np.min(output_ns_total)))\n",
    "        print()\n",
    "        print(\"avg O/I NS:{:1.4}\".format(np.mean(result_ns_total)))\n",
    "        print(\"max O/I NS:{:1.4}\".format(np.max(result_ns_total)))\n",
    "        print(\"min O/I NS:{:1.4}\".format(np.min(result_ns_total)))\n",
    "        print()\n",
    "\n",
    "        #######################################################################\n",
    "        # check the error according to input value\n",
    "        #######################################################################\n",
    "        max_total = np.max(result_ns_total, axis=0)\n",
    "        min_total = np.min(result_ns_total, axis=0)\n",
    "        avg_total = np.mean(result_ns_total, axis=0)\n",
    "\n",
    "        axis_len = outputNS().size()[0]\n",
    "        input_x_axis = []\n",
    "        for axis_index in range(axis_len):\n",
    "            input_x_axis.append((axis_index/(axis_len-1)*(up_bound-low_bound)+low_bound)/up_bound)\n",
    "        fig, ax = plt.subplots()\n",
    "        ax.fill_between(input_x_axis, max_total, avg_total, facecolor=\"red\", alpha=0.75)\n",
    "        ax.fill_between(input_x_axis, avg_total, min_total, facecolor=\"blue\", alpha=0.75)\n",
    "        ax.plot(input_x_axis, avg_total, label='Avg error', color=\"black\", linewidth=0.3)\n",
    "\n",
    "        plt.tight_layout()\n",
    "        plt.xlabel('Input value')\n",
    "        plt.ylabel('Output/Input NS')\n",
    "        plt.xticks(np.arange(0, 1.1, step=0.5))\n",
    "        # ax.xaxis.set_ticklabels([])\n",
    "        plt.xlim(0, 1)\n",
    "        plt.yticks(np.arange(0, 1.1, step=0.2))\n",
    "        # ax.yaxis.set_ticklabels([])\n",
    "        plt.ylim(0, 1.1)\n",
    "        plt.grid(b=True, which=\"both\", axis=\"y\", linestyle=\"--\", color=\"grey\", linewidth=0.3)\n",
    "        fig.set_size_inches(4, 4)\n",
    "        ax.spines['right'].set_visible(False)\n",
    "        ax.spines['top'].set_visible(False)\n",
    "        \n",
    "        plt.show()\n",
    "        plt.close()\n",
    "    pbar.close()"
   ]
  },
  {
   "cell_type": "code",
   "execution_count": 5,
   "metadata": {
    "scrolled": false
   },
   "outputs": [
    {
     "name": "stderr",
     "output_type": "stream",
     "text": [
      "\r",
      "  0%|          | 0/76800 [00:00<?, ?it/s]"
     ]
    },
    {
     "name": "stdout",
     "output_type": "stream",
     "text": [
      "# # # # # # # # # # # # # # # # # #\n",
      "Target normstab: 0.25\n",
      "# # # # # # # # # # # # # # # # # #\n"
     ]
    },
    {
     "name": "stderr",
     "output_type": "stream",
     "text": [
      " 33%|███▎      | 25533/76800 [00:26<00:52, 982.98it/s] "
     ]
    },
    {
     "name": "stdout",
     "output_type": "stream",
     "text": [
      "avg I NS:0.3041\n",
      "max I NS:1.0\n",
      "min I NS:0.1797\n",
      "\n",
      "avg O NS:0.3142\n",
      "max O NS:1.0\n",
      "min O NS:0.0\n",
      "\n",
      "avg O/I NS:0.3946\n",
      "max O/I NS:1.0\n",
      "min O/I NS:0.0\n",
      "\n"
     ]
    },
    {
     "data": {
      "image/png": "[encoded data removed]",
      "text/plain": [
       "<Figure size 288x288 with 1 Axes>"
      ]
     },
     "metadata": {
      "needs_background": "light"
     },
     "output_type": "display_data"
    },
    {
     "name": "stdout",
     "output_type": "stream",
     "text": [
      "# # # # # # # # # # # # # # # # # #\n",
      "Target normstab: 0.5\n",
      "# # # # # # # # # # # # # # # # # #\n"
     ]
    },
    {
     "name": "stderr",
     "output_type": "stream",
     "text": [
      " 67%|██████▋   | 51158/76800 [00:52<00:26, 983.12it/s] "
     ]
    },
    {
     "name": "stdout",
     "output_type": "stream",
     "text": [
      "avg I NS:0.5033\n",
      "max I NS:1.0\n",
      "min I NS:0.3516\n",
      "\n",
      "avg O NS:0.326\n",
      "max O NS:1.0\n",
      "min O NS:0.0\n",
      "\n",
      "avg O/I NS:0.3968\n",
      "max O/I NS:1.0\n",
      "min O/I NS:0.0\n",
      "\n"
     ]
    },
    {
     "data": {
      "image/png": "[encoded data removed]",
      "text/plain": [
       "<Figure size 288x288 with 1 Axes>"
      ]
     },
     "metadata": {
      "needs_background": "light"
     },
     "output_type": "display_data"
    },
    {
     "name": "stdout",
     "output_type": "stream",
     "text": [
      "# # # # # # # # # # # # # # # # # #\n",
      "Target normstab: 1\n",
      "# # # # # # # # # # # # # # # # # #\n"
     ]
    },
    {
     "name": "stderr",
     "output_type": "stream",
     "text": [
      "100%|█████████▉| 76695/76800 [01:16<00:00, 1238.19it/s]"
     ]
    },
    {
     "name": "stdout",
     "output_type": "stream",
     "text": [
      "avg I NS:0.9466\n",
      "max I NS:1.0\n",
      "min I NS:0.8203\n",
      "\n",
      "avg O NS:0.3473\n",
      "max O NS:1.0\n",
      "min O NS:0.0\n",
      "\n",
      "avg O/I NS:0.3611\n",
      "max O/I NS:1.0\n",
      "min O/I NS:0.0\n",
      "\n"
     ]
    },
    {
     "data": {
      "image/png": "[encoded data removed]",
      "text/plain": [
       "<Figure size 288x288 with 1 Axes>"
      ]
     },
     "metadata": {
      "needs_background": "light"
     },
     "output_type": "display_data"
    },
    {
     "name": "stderr",
     "output_type": "stream",
     "text": [
      "100%|██████████| 76800/76800 [01:16<00:00, 998.76it/s] \n"
     ]
    }
   ],
   "source": [
    "test(rng=\"Sobol\", total_cnt=100, mode=\"unipolar\", bitwidth=8, threshold=0.05)"
   ]
  },
  {
   "cell_type": "code",
   "execution_count": null,
   "metadata": {},
   "outputs": [],
   "source": []
  }
 ],
 "metadata": {
  "kernelspec": {
   "display_name": "Python 3",
   "language": "python",
   "name": "python3"
  },
  "language_info": {
   "codemirror_mode": {
    "name": "ipython",
    "version": 3
   },
   "file_extension": ".py",
   "mimetype": "text/x-python",
   "name": "python",
   "nbconvert_exporter": "python",
   "pygments_lexer": "ipython3",
   "version": "3.7.3"
  }
 },
 "nbformat": 4,
 "nbformat_minor": 2
}
