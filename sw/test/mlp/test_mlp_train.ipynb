{
 "cells": [
  {
   "cell_type": "code",
   "execution_count": 1,
   "metadata": {},
   "outputs": [],
   "source": [
    "%load_ext autoreload\n",
    "%autoreload 2"
   ]
  },
  {
   "cell_type": "code",
   "execution_count": 2,
   "metadata": {},
   "outputs": [],
   "source": [
    "import torch\n",
    "import torch.nn as nn\n",
    "import torch.nn.functional as F\n",
    "import torch.optim as optim\n",
    "import torchvision\n",
    "import torchvision.transforms as transforms\n",
    "from torchsummaryX import summary\n",
    "import matplotlib.pyplot as plt\n",
    "import time\n",
    "import os\n",
    "\n",
    "from UnarySim.sw.kernel.nn_utils import *"
   ]
  },
  {
   "cell_type": "code",
   "execution_count": 3,
   "metadata": {},
   "outputs": [
    {
     "name": "stdout",
     "output_type": "stream",
     "text": [
      "D:\\project\\Anaconda3\\Lib\\site-packages\\UnarySim\\sw\\test\n"
     ]
    }
   ],
   "source": [
    "cwd = os.getcwd()\n",
    "print(cwd)"
   ]
  },
  {
   "cell_type": "code",
   "execution_count": 4,
   "metadata": {},
   "outputs": [
    {
     "name": "stdout",
     "output_type": "stream",
     "text": [
      "cuda:0\n"
     ]
    }
   ],
   "source": [
    "device = torch.device(\"cuda:0\" if torch.cuda.is_available() else \"cpu\")\n",
    "print(device)"
   ]
  },
  {
   "cell_type": "code",
   "execution_count": 5,
   "metadata": {},
   "outputs": [],
   "source": [
    "# MNIST data loader\n",
    "transform=transforms.Compose([transforms.Resize((32, 32)), transforms.ToTensor()])\n",
    "\n",
    "trainset = torchvision.datasets.MNIST(root=cwd+'/data/mnist', train=True, download=True, transform=transform)\n",
    "trainloader = torch.utils.data.DataLoader(trainset, batch_size=128, shuffle=True, num_workers=4)\n",
    "\n",
    "testset = torchvision.datasets.MNIST(root=cwd+'/data/mnist', train=False, download=True, transform=transform)\n",
    "testloader = torch.utils.data.DataLoader(testset, batch_size=128, num_workers=4)"
   ]
  },
  {
   "cell_type": "code",
   "execution_count": 6,
   "metadata": {},
   "outputs": [
    {
     "name": "stdout",
     "output_type": "stream",
     "text": [
      "==================================================\n",
      "      Kernel Shape Output Shape  Params  Mult-Adds\n",
      "Layer                                             \n",
      "0_fc1  [1024, 512]     [1, 512]  524800     524288\n",
      "1_fc2   [512, 512]     [1, 512]  262656     262144\n",
      "2_fc3    [512, 10]      [1, 10]    5130       5120\n",
      "--------------------------------------------------\n",
      "                      Totals\n",
      "Total params          792586\n",
      "Trainable params      792586\n",
      "Non-trainable params       0\n",
      "Mult-Adds             791552\n",
      "==================================================\n"
     ]
    },
    {
     "data": {
      "text/html": [
       "<div>\n",
       "<style scoped>\n",
       "    .dataframe tbody tr th:only-of-type {\n",
       "        vertical-align: middle;\n",
       "    }\n",
       "\n",
       "    .dataframe tbody tr th {\n",
       "        vertical-align: top;\n",
       "    }\n",
       "\n",
       "    .dataframe thead th {\n",
       "        text-align: right;\n",
       "    }\n",
       "</style>\n",
       "<table border=\"1\" class=\"dataframe\">\n",
       "  <thead>\n",
       "    <tr style=\"text-align: right;\">\n",
       "      <th></th>\n",
       "      <th>Kernel Shape</th>\n",
       "      <th>Output Shape</th>\n",
       "      <th>Params</th>\n",
       "      <th>Mult-Adds</th>\n",
       "    </tr>\n",
       "    <tr>\n",
       "      <th>Layer</th>\n",
       "      <th></th>\n",
       "      <th></th>\n",
       "      <th></th>\n",
       "      <th></th>\n",
       "    </tr>\n",
       "  </thead>\n",
       "  <tbody>\n",
       "    <tr>\n",
       "      <th>0_fc1</th>\n",
       "      <td>[1024, 512]</td>\n",
       "      <td>[1, 512]</td>\n",
       "      <td>524800</td>\n",
       "      <td>524288</td>\n",
       "    </tr>\n",
       "    <tr>\n",
       "      <th>1_fc2</th>\n",
       "      <td>[512, 512]</td>\n",
       "      <td>[1, 512]</td>\n",
       "      <td>262656</td>\n",
       "      <td>262144</td>\n",
       "    </tr>\n",
       "    <tr>\n",
       "      <th>2_fc3</th>\n",
       "      <td>[512, 10]</td>\n",
       "      <td>[1, 10]</td>\n",
       "      <td>5130</td>\n",
       "      <td>5120</td>\n",
       "    </tr>\n",
       "  </tbody>\n",
       "</table>\n",
       "</div>"
      ],
      "text/plain": [
       "      Kernel Shape Output Shape  Params  Mult-Adds\n",
       "Layer                                             \n",
       "0_fc1  [1024, 512]     [1, 512]  524800     524288\n",
       "1_fc2   [512, 512]     [1, 512]  262656     262144\n",
       "2_fc3    [512, 10]      [1, 10]    5130       5120"
      ]
     },
     "execution_count": 6,
     "metadata": {},
     "output_type": "execute_result"
    }
   ],
   "source": [
    "# model = LeNet()\n",
    "# model = LeNet_clamp()\n",
    "# model = MLP3()\n",
    "# model = MLP3_clamp()\n",
    "model = MLP3_clamp_train()\n",
    "model.to(device)\n",
    "summary(model, torch.zeros((1, 1, 32, 32)).to(device))"
   ]
  },
  {
   "cell_type": "code",
   "execution_count": 7,
   "metadata": {},
   "outputs": [],
   "source": [
    "bitwidth = 8\n",
    "clipper = NN_SC_Weight_Clipper(bitwidth=bitwidth)"
   ]
  },
  {
   "cell_type": "code",
   "execution_count": 12,
   "metadata": {},
   "outputs": [],
   "source": [
    "criterion = nn.CrossEntropyLoss()\n",
    "optimizer = optim.Adam(model.parameters(), lr=0.00000001)"
   ]
  },
  {
   "cell_type": "code",
   "execution_count": 13,
   "metadata": {
    "scrolled": false
   },
   "outputs": [
    {
     "name": "stdout",
     "output_type": "stream",
     "text": [
      "Train - Epoch 0, Loss: 2.302593, Test Accuracy: 11.350000 %\n",
      "Train - Epoch 1, Loss: 2.302552, Test Accuracy: 11.350000 %\n",
      "Train - Epoch 2, Loss: 2.302569, Test Accuracy: 11.350000 %\n",
      "Train - Epoch 3, Loss: 2.302586, Test Accuracy: 11.350000 %\n",
      "Train - Epoch 4, Loss: 2.302588, Test Accuracy: 11.350000 %\n",
      "Train - Epoch 5, Loss: 2.302573, Test Accuracy: 11.350000 %\n",
      "Train - Epoch 6, Loss: 2.302582, Test Accuracy: 11.350000 %\n",
      "Train - Epoch 7, Loss: 2.302578, Test Accuracy: 11.350000 %\n",
      "Train - Epoch 8, Loss: 2.302577, Test Accuracy: 11.350000 %\n",
      "Train - Epoch 9, Loss: 2.302576, Test Accuracy: 11.350000 %\n",
      "Train - Epoch 10, Loss: 2.302583, Test Accuracy: 11.350000 %\n",
      "Train - Epoch 11, Loss: 2.302598, Test Accuracy: 11.350000 %\n",
      "Train - Epoch 12, Loss: 2.302569, Test Accuracy: 11.350000 %\n",
      "Train - Epoch 13, Loss: 2.302585, Test Accuracy: 11.350000 %\n",
      "Train - Epoch 14, Loss: 2.302580, Test Accuracy: 11.350000 %\n",
      "Train - Epoch 15, Loss: 2.302591, Test Accuracy: 11.350000 %\n",
      "Train - Epoch 16, Loss: 2.302575, Test Accuracy: 11.350000 %\n",
      "Train - Epoch 17, Loss: 2.302577, Test Accuracy: 11.350000 %\n",
      "Train - Epoch 18, Loss: 2.302588, Test Accuracy: 11.350000 %\n",
      "Train - Epoch 19, Loss: 2.302596, Test Accuracy: 11.350000 %\n",
      "Finished Training\n"
     ]
    }
   ],
   "source": [
    "for epoch in range(20):  # loop over the dataset multiple times\n",
    "\n",
    "    running_loss = 0.0\n",
    "    for i, data in enumerate(trainloader, 0):\n",
    "        # get the inputs; data is a list of [inputs, labels]\n",
    "        inputs, labels = data[0].to(device), data[1].to(device)\n",
    "        # zero the parameter gradients\n",
    "        optimizer.zero_grad()\n",
    "\n",
    "        # forward + backward + optimize\n",
    "        outputs = model(inputs)\n",
    "        loss = criterion(outputs, labels)\n",
    "\n",
    "        loss.backward()\n",
    "        optimizer.step()\n",
    "        \n",
    "    model.apply(clipper)\n",
    "    correct = 0\n",
    "    total = 0\n",
    "    with torch.no_grad():\n",
    "        for data in testloader:\n",
    "            images, labels = data[0].to(device), data[1].to(device)\n",
    "            outputs = model(images)\n",
    "            _, predicted = torch.max(outputs.data, 1)\n",
    "            total += labels.size(0)\n",
    "            correct += (predicted == labels).sum().item()\n",
    "\n",
    "    print('Train - Epoch %d, Loss: %f, Test Accuracy: %f %%' \\\n",
    "          % (epoch, loss.detach().cpu().item(), 100 * correct / total))\n",
    "\n",
    "print('Finished Training')"
   ]
  },
  {
   "cell_type": "code",
   "execution_count": 10,
   "metadata": {},
   "outputs": [],
   "source": [
    "model_path = cwd+\"\\saved_model_state_dict\"+\"_\"+str(bitwidth)+\"_no_clamp\"\n",
    "torch.save(model.state_dict(), model_path)"
   ]
  },
  {
   "cell_type": "markdown",
   "metadata": {},
   "source": [
    "# test load from state_dict"
   ]
  },
  {
   "cell_type": "code",
   "execution_count": 11,
   "metadata": {},
   "outputs": [
    {
     "name": "stdout",
     "output_type": "stream",
     "text": [
      "Accuracy of the network on the 10000 test images: 96.870000 %\n"
     ]
    }
   ],
   "source": [
    "model = MLP3()\n",
    "model.load_state_dict(torch.load(model_path))\n",
    "model.eval()\n",
    "model.to(device)\n",
    "model.apply(clipper)\n",
    "correct = 0\n",
    "total = 0\n",
    "with torch.no_grad():\n",
    "    for data in testloader:\n",
    "        images, labels = data[0].to(device), data[1].to(device)\n",
    "        outputs = model(images)\n",
    "        _, predicted = torch.max(outputs.data, 1)\n",
    "        total += labels.size(0)\n",
    "        correct += (predicted == labels).sum().item()\n",
    "\n",
    "print('Accuracy of the network on the 10000 test images: %f %%' % (\n",
    "    100 * correct / total))"
   ]
  },
  {
   "cell_type": "code",
   "execution_count": 12,
   "metadata": {},
   "outputs": [
    {
     "name": "stdout",
     "output_type": "stream",
     "text": [
      "tensor(1., device='cuda:0', grad_fn=<MaxBackward1>)\n",
      "tensor(-1., device='cuda:0', grad_fn=<MinBackward1>)\n"
     ]
    }
   ],
   "source": [
    "print(model.fc1.weight.max())\n",
    "print(model.fc1.weight.min())"
   ]
  },
  {
   "cell_type": "code",
   "execution_count": null,
   "metadata": {},
   "outputs": [],
   "source": []
  }
 ],
 "metadata": {
  "kernelspec": {
   "display_name": "Python 3",
   "language": "python",
   "name": "python3"
  },
  "language_info": {
   "codemirror_mode": {
    "name": "ipython",
    "version": 3
   },
   "file_extension": ".py",
   "mimetype": "text/x-python",
   "name": "python",
   "nbconvert_exporter": "python",
   "pygments_lexer": "ipython3",
   "version": "3.7.3"
  }
 },
 "nbformat": 4,
 "nbformat_minor": 2
}
