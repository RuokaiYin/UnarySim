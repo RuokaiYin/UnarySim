{
 "cells": [
  {
   "cell_type": "code",
   "execution_count": 1,
   "metadata": {},
   "outputs": [],
   "source": [
    "%load_ext autoreload\n",
    "%autoreload 2"
   ]
  },
  {
   "cell_type": "code",
   "execution_count": 2,
   "metadata": {},
   "outputs": [],
   "source": [
    "import torch\n",
    "from UnarySim.sw.stream.gen import RawScale"
   ]
  },
  {
   "cell_type": "code",
   "execution_count": 3,
   "metadata": {},
   "outputs": [
    {
     "name": "stdout",
     "output_type": "stream",
     "text": [
      "tensor([[-0.3384, -1.1155, -0.1413],\n",
      "        [ 1.6347,  0.5196,  0.6467]], device='cuda:0')\n",
      "RawScale()\n",
      "Parameter containing:\n",
      "tensor([[0.2800, 0.0000, 0.3528],\n",
      "        [1.0000, 0.5970, 0.6440]], device='cuda:0')\n"
     ]
    }
   ],
   "source": [
    "input = torch.randn([2, 3]).cuda()\n",
    "print(input)\n",
    "srcbin = RawScale(input, mode=\"unipolar\", percentile=99).cuda()\n",
    "print(srcbin)\n",
    "print(srcbin())\n"
   ]
  },
  {
   "cell_type": "code",
   "execution_count": 4,
   "metadata": {},
   "outputs": [
    {
     "name": "stdout",
     "output_type": "stream",
     "text": [
      "Parameter containing:\n",
      "tensor([[-0.4349, -1.0000, -0.2915],\n",
      "        [ 1.0000,  0.1891,  0.2815]], device='cuda:0')\n"
     ]
    }
   ],
   "source": [
    "srcbin2 = RawScale(input, mode=\"bipolar\")\n",
    "print(srcbin2())"
   ]
  },
  {
   "cell_type": "code",
   "execution_count": null,
   "metadata": {},
   "outputs": [],
   "source": []
  }
 ],
 "metadata": {
  "kernelspec": {
   "display_name": "Python 3",
   "language": "python",
   "name": "python3"
  },
  "language_info": {
   "codemirror_mode": {
    "name": "ipython",
    "version": 3
   },
   "file_extension": ".py",
   "mimetype": "text/x-python",
   "name": "python",
   "nbconvert_exporter": "python",
   "pygments_lexer": "ipython3",
   "version": "3.7.3"
  }
 },
 "nbformat": 4,
 "nbformat_minor": 2
}
