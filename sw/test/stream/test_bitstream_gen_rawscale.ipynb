{
 "cells": [
  {
   "cell_type": "code",
   "execution_count": 1,
   "metadata": {},
   "outputs": [],
   "source": [
    "%load_ext autoreload\n",
    "%autoreload 2"
   ]
  },
  {
   "cell_type": "code",
   "execution_count": 2,
   "metadata": {},
   "outputs": [],
   "source": [
    "import torch\n",
    "from UnarySim.sw.bitstream.gen import RawScale"
   ]
  },
  {
   "cell_type": "code",
   "execution_count": 3,
   "metadata": {},
   "outputs": [
    {
     "name": "stdout",
     "output_type": "stream",
     "text": [
      "tensor([[-1.5026, -0.4619, -1.2355],\n",
      "        [ 0.1482, -0.4002,  0.3773]], device='cuda:0')\n",
      "RawScale()\n",
      "Parameter containing:\n",
      "tensor([[0.0000, 0.5537, 0.1395],\n",
      "        [0.8804, 0.5868, 1.0000]], device='cuda:0')\n"
     ]
    }
   ],
   "source": [
    "input = torch.randn([2, 3]).cuda()\n",
    "print(input)\n",
    "srcbin = RawScale(input, mode=\"unipolar\", percentile=99).cuda()\n",
    "print(srcbin)\n",
    "print(srcbin())\n"
   ]
  },
  {
   "cell_type": "code",
   "execution_count": 4,
   "metadata": {},
   "outputs": [
    {
     "name": "stdout",
     "output_type": "stream",
     "text": [
      "Parameter containing:\n",
      "tensor([[-1.0000,  0.1072, -0.7158],\n",
      "        [ 0.7563,  0.1729,  1.0000]], device='cuda:0')\n"
     ]
    }
   ],
   "source": [
    "srcbin2 = RawScale(input, mode=\"bipolar\")\n",
    "print(srcbin2())"
   ]
  },
  {
   "cell_type": "code",
   "execution_count": null,
   "metadata": {},
   "outputs": [],
   "source": []
  }
 ],
 "metadata": {
  "kernelspec": {
   "display_name": "Python 3",
   "language": "python",
   "name": "python3"
  },
  "language_info": {
   "codemirror_mode": {
    "name": "ipython",
    "version": 3
   },
   "file_extension": ".py",
   "mimetype": "text/x-python",
   "name": "python",
   "nbconvert_exporter": "python",
   "pygments_lexer": "ipython3",
   "version": "3.7.3"
  }
 },
 "nbformat": 4,
 "nbformat_minor": 2
}
