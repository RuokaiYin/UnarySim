{
 "cells": [
  {
   "cell_type": "code",
   "execution_count": 1,
   "metadata": {},
   "outputs": [],
   "source": [
    "%load_ext autoreload\n",
    "%autoreload 2"
   ]
  },
  {
   "cell_type": "code",
   "execution_count": 2,
   "metadata": {},
   "outputs": [],
   "source": [
    "import torch\n",
    "from UnarySim.sw.stream.gen import RawScale"
   ]
  },
  {
   "cell_type": "code",
   "execution_count": 3,
   "metadata": {},
   "outputs": [
    {
     "name": "stdout",
     "output_type": "stream",
     "text": [
      "tensor([[ 0.8144,  0.8125, -0.2147],\n",
      "        [ 0.0104,  0.2086,  0.2939]], device='cuda:0')\n",
      "RawScale()\n",
      "Parameter containing:\n",
      "tensor([[1.0000, 0.9982, 0.0000],\n",
      "        [0.2144, 0.4081, 0.4915]], device='cuda:0')\n"
     ]
    }
   ],
   "source": [
    "input = torch.randn([2, 3]).cuda()\n",
    "print(input)\n",
    "srcbin = RawScale(input, mode=\"unipolar\", percentile=99).cuda()\n",
    "print(srcbin)\n",
    "print(srcbin())\n"
   ]
  },
  {
   "cell_type": "code",
   "execution_count": 4,
   "metadata": {},
   "outputs": [
    {
     "name": "stdout",
     "output_type": "stream",
     "text": [
      "Parameter containing:\n",
      "tensor([[ 1.0000,  0.9962, -1.0000],\n",
      "        [-0.5626, -0.1774, -0.0115]], device='cuda:0')\n"
     ]
    }
   ],
   "source": [
    "srcbin2 = RawScale(input, mode=\"bipolar\")\n",
    "print(srcbin2())"
   ]
  },
  {
   "cell_type": "code",
   "execution_count": null,
   "metadata": {},
   "outputs": [],
   "source": []
  }
 ],
 "metadata": {
  "kernelspec": {
   "display_name": "Python 3",
   "language": "python",
   "name": "python3"
  },
  "language_info": {
   "codemirror_mode": {
    "name": "ipython",
    "version": 3
   },
   "file_extension": ".py",
   "mimetype": "text/x-python",
   "name": "python",
   "nbconvert_exporter": "python",
   "pygments_lexer": "ipython3",
   "version": "3.7.3"
  }
 },
 "nbformat": 4,
 "nbformat_minor": 2
}
