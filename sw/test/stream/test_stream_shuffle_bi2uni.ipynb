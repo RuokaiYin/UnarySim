{
 "cells": [
  {
   "cell_type": "code",
   "execution_count": 1,
   "metadata": {},
   "outputs": [],
   "source": [
    "%load_ext autoreload\n",
    "%autoreload 2"
   ]
  },
  {
   "cell_type": "code",
   "execution_count": 2,
   "metadata": {},
   "outputs": [],
   "source": [
    "import torch\n",
    "from UnarySim.sw.stream.gen import RNG, SourceGen, BSGen\n",
    "from UnarySim.sw.stream.shuffle import Bi2Uni\n",
    "from UnarySim.sw.metric.metric import ProgressiveError\n",
    "import matplotlib.pyplot as plt\n",
    "import time\n"
   ]
  },
  {
   "cell_type": "code",
   "execution_count": 3,
   "metadata": {},
   "outputs": [],
   "source": [
    "device = torch.device(\"cuda:0\" if torch.cuda.is_available() else \"cpu\")"
   ]
  },
  {
   "cell_type": "code",
   "execution_count": 4,
   "metadata": {
    "scrolled": true
   },
   "outputs": [
    {
     "name": "stdout",
     "output_type": "stream",
     "text": [
      "--- 0.0 seconds ---\n",
      "input tensor([0.8828, 0.4648, 0.6367,  ..., 0.5234, 0.1719, 0.4883], device='cuda:0')\n",
      "real output tensor([0.8828, 0.4648, 0.6367,  ..., 0.5234, 0.1719, 0.4883], device='cuda:0')\n",
      "--- 0.14799785614013672 seconds ---\n",
      "final input error:  tensor(-0.0039, device='cuda:0') tensor(0.0039, device='cuda:0')\n",
      "final output error: tensor(-0.0039, device='cuda:0') tensor(0.0039, device='cuda:0')\n",
      "final output pp: tensor([0.8828, 0.4688, 0.6406,  ..., 0.5234, 0.1719, 0.4844], device='cuda:0')\n",
      "final output pe: tensor([ 0.0000,  0.0039,  0.0039,  ...,  0.0000,  0.0000, -0.0039],\n",
      "       device='cuda:0')\n",
      "final output mean error: tensor(-4.9591e-05, device='cuda:0')\n"
     ]
    }
   ],
   "source": [
    "rng = \"Sobol\"\n",
    "\n",
    "in_dim = 1024\n",
    "bitwidth = 8\n",
    "in_mode = \"bipolar\"\n",
    "out_mode = \"unipolar\"\n",
    "stype = torch.float\n",
    "btype = torch.float\n",
    "rtype = torch.float\n",
    "\n",
    "uBi2Uni = Bi2Uni(stype=stype).to(device)\n",
    "\n",
    "iVec = ((torch.rand(in_dim)*(2**bitwidth)).round()/(2**bitwidth)).to(device)\n",
    "start_time = time.time()\n",
    "oVec = iVec.type(torch.float)\n",
    "print(\"--- %s seconds ---\" % (((time.time() - start_time))*2**bitwidth))\n",
    "\n",
    "print(\"input\", iVec)\n",
    "print(\"real output\", oVec)\n",
    "        \n",
    "iVecSource = SourceGen(iVec, bitwidth=bitwidth, mode=in_mode, rtype=rtype)().to(device)\n",
    "\n",
    "iVecRNG = RNG(bitwidth, 1, rng, rtype)().to(device)\n",
    "iVecBS = BSGen(iVecSource, iVecRNG, stype).to(device)\n",
    "\n",
    "iVecPE = ProgressiveError(iVec, mode=in_mode).to(device)\n",
    "oVecPE = ProgressiveError(oVec, mode=out_mode).to(device)\n",
    "\n",
    "with torch.no_grad():\n",
    "    idx = torch.zeros(iVecSource.size()).type(torch.long).to(device)\n",
    "    start_time = time.time()\n",
    "    for i in range((2**bitwidth)):\n",
    "        iBS = iVecBS(idx + i)\n",
    "        iVecPE.Monitor(iBS)\n",
    "\n",
    "        oVecU = uBi2Uni(iBS)\n",
    "        oVecPE.Monitor(oVecU)\n",
    "    print(\"--- %s seconds ---\" % (time.time() - start_time))\n",
    "    print(\"final input error: \", min(iVecPE()[1]), max(iVecPE()[1]))\n",
    "    print(\"final output error:\", min(oVecPE()[1]), max(oVecPE()[1]))\n",
    "    print(\"final output pp:\", oVecPE()[0].data)\n",
    "    print(\"final output pe:\", oVecPE()[1].data)\n",
    "    print(\"final output mean error:\", oVecPE()[1].mean())\n",
    "    \n",
    "    result_pe = oVecPE()[1].cpu().numpy()"
   ]
  },
  {
   "cell_type": "code",
   "execution_count": 5,
   "metadata": {},
   "outputs": [
    {
     "data": {
      "image/png": "[encoded data removed]",
      "text/plain": [
       "<Figure size 432x288 with 1 Axes>"
      ]
     },
     "metadata": {
      "needs_background": "light"
     },
     "output_type": "display_data"
    }
   ],
   "source": [
    "fig = plt.hist(result_pe, bins='auto')  # arguments are passed to np.histogram\n",
    "plt.title(\"Histogram for final output error\")\n",
    "plt.show()"
   ]
  },
  {
   "cell_type": "code",
   "execution_count": 6,
   "metadata": {},
   "outputs": [
    {
     "name": "stdout",
     "output_type": "stream",
     "text": [
      "[ 0.          0.00390625  0.00390625 ...  0.          0.\n",
      " -0.00390625]\n",
      "3 1\n",
      "-0.00390625 0.00390625\n",
      "tensor(0.5352, device='cuda:0') tensor(0.4648, device='cuda:0')\n"
     ]
    }
   ],
   "source": [
    "print(result_pe)\n",
    "print(result_pe.argmin(), result_pe.argmax())\n",
    "print(result_pe[result_pe.argmin()], result_pe[result_pe.argmax()])\n",
    "print(iVec[result_pe.argmin()], iVec[result_pe.argmax()])"
   ]
  },
  {
   "cell_type": "code",
   "execution_count": null,
   "metadata": {},
   "outputs": [],
   "source": []
  }
 ],
 "metadata": {
  "kernelspec": {
   "display_name": "Python 3",
   "language": "python",
   "name": "python3"
  },
  "language_info": {
   "codemirror_mode": {
    "name": "ipython",
    "version": 3
   },
   "file_extension": ".py",
   "mimetype": "text/x-python",
   "name": "python",
   "nbconvert_exporter": "python",
   "pygments_lexer": "ipython3",
   "version": "3.7.3"
  }
 },
 "nbformat": 4,
 "nbformat_minor": 2
}
