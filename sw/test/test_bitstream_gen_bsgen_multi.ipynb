{
 "cells": [
  {
   "cell_type": "code",
   "execution_count": 1,
   "metadata": {},
   "outputs": [],
   "source": [
    "%load_ext autoreload\n",
    "%autoreload 2"
   ]
  },
  {
   "cell_type": "code",
   "execution_count": 2,
   "metadata": {},
   "outputs": [],
   "source": [
    "import torch\n",
    "from UnarySim.sw.bitstream.gen import RNGMulti, SourceGen, BSGenMulti\n",
    "from UnarySim.sw.metric.metric import ProgressiveError\n",
    "import matplotlib.pyplot as plt\n",
    "import time"
   ]
  },
  {
   "cell_type": "code",
   "execution_count": 3,
   "metadata": {},
   "outputs": [],
   "source": [
    "device = torch.device(\"cuda:0\" if torch.cuda.is_available() else \"cpu\")"
   ]
  },
  {
   "cell_type": "code",
   "execution_count": 4,
   "metadata": {},
   "outputs": [],
   "source": [
    "bitwidth = 8\n",
    "rng = \"Sobol\"\n",
    "mode = \"unipolar\"\n",
    "row = 200"
   ]
  },
  {
   "cell_type": "code",
   "execution_count": 5,
   "metadata": {},
   "outputs": [
    {
     "name": "stdout",
     "output_type": "stream",
     "text": [
      "--- 0.19999933242797852 seconds ---\n",
      "input error:  min: -0.00390625 max: 0.0\n",
      "error distribution=========>\n"
     ]
    },
    {
     "data": {
      "image/png": "[encoded data removed]",
      "text/plain": [
       "<Figure size 216x108 with 1 Axes>"
      ]
     },
     "metadata": {
      "needs_background": "light"
     },
     "output_type": "display_data"
    },
    {
     "name": "stdout",
     "output_type": "stream",
     "text": [
      "progressive accuracy=========>\n"
     ]
    },
    {
     "data": {
      "image/png": "[encoded data removed]",
      "text/plain": [
       "<Figure size 216x108 with 1 Axes>"
      ]
     },
     "metadata": {
      "needs_background": "light"
     },
     "output_type": "display_data"
    }
   ],
   "source": [
    "result_pe_cycle = []\n",
    "if mode is \"unipolar\":\n",
    "    iVec = torch.rand(1000, row).mul(2**bitwidth).round().div(2**bitwidth).to(device)\n",
    "elif mode is \"bipolar\":\n",
    "    iVec = torch.rand(1000, row).mul(2).sub(1).mul(2**bitwidth).round().div(2**bitwidth).to(device)\n",
    "\n",
    "iVecSource = SourceGen(iVec, bitwidth=bitwidth, mode=mode)().to(device)\n",
    "\n",
    "iVecRNG = RNGMulti(bitwidth, row, rng, False).to(device)()\n",
    "iVecBS = BSGenMulti(iVecSource, iVecRNG, dim=0).to(device)\n",
    "\n",
    "iVecPE = ProgressiveError(iVec, mode=mode).to(device)\n",
    "with torch.no_grad():\n",
    "    idx = torch.zeros(iVecSource.size()).type(torch.long).to(device)\n",
    "    start_time = time.time()\n",
    "    for i in range(2**bitwidth):\n",
    "        iBS = iVecBS(idx + i)\n",
    "        iVecPE.Monitor(iBS)\n",
    "        result_pe_cycle.append(1-torch.sqrt(torch.sum(torch.mul(iVecPE()[1][0], iVecPE()[1][0]))/row).item())\n",
    "    print(\"--- %s seconds ---\" % (time.time() - start_time))\n",
    "    print(\"input error: \", \"min:\", torch.min(iVecPE()[1]).item(), \"max:\", torch.max(iVecPE()[1]).item())\n",
    "    result_pe = iVecPE()[1][0].cpu().numpy()\n",
    "    print(\"error distribution=========>\")\n",
    "    plt.figure(figsize=(3,1.5))\n",
    "    fig = plt.hist(result_pe, bins='auto')  # arguments are passed to np.histogram\n",
    "    plt.title(\"data: \"+mode)\n",
    "    plt.show()\n",
    "    print(\"progressive accuracy=========>\")\n",
    "    plt.figure(figsize=(3,1.5))\n",
    "    fig = plt.plot(result_pe_cycle)  # arguments are passed to np.histogram\n",
    "    plt.title(\"data: \"+mode)\n",
    "    plt.show()"
   ]
  },
  {
   "cell_type": "code",
   "execution_count": null,
   "metadata": {},
   "outputs": [],
   "source": []
  }
 ],
 "metadata": {
  "kernelspec": {
   "display_name": "Python 3",
   "language": "python",
   "name": "python3"
  },
  "language_info": {
   "codemirror_mode": {
    "name": "ipython",
    "version": 3
   },
   "file_extension": ".py",
   "mimetype": "text/x-python",
   "name": "python",
   "nbconvert_exporter": "python",
   "pygments_lexer": "ipython3",
   "version": "3.7.3"
  }
 },
 "nbformat": 4,
 "nbformat_minor": 2
}
