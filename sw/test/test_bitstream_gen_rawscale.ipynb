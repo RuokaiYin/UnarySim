{
 "cells": [
  {
   "cell_type": "code",
   "execution_count": 5,
   "metadata": {},
   "outputs": [
    {
     "name": "stdout",
     "output_type": "stream",
     "text": [
      "The autoreload extension is already loaded. To reload it, use:\n",
      "  %reload_ext autoreload\n"
     ]
    }
   ],
   "source": [
    "%load_ext autoreload\n",
    "%autoreload 2"
   ]
  },
  {
   "cell_type": "code",
   "execution_count": 40,
   "metadata": {},
   "outputs": [],
   "source": [
    "import torch\n",
    "from UnarySim.sw.bitstream.gen import RawScale"
   ]
  },
  {
   "cell_type": "code",
   "execution_count": 49,
   "metadata": {},
   "outputs": [
    {
     "name": "stdout",
     "output_type": "stream",
     "text": [
      "tensor([[ 0.4986,  0.4862, -1.7096],\n",
      "        [ 0.4994,  1.5458,  1.7705]], device='cuda:0')\n",
      "RawScale()\n",
      "Parameter containing:\n",
      "tensor([[0.6297, 0.6261, 0.0000],\n",
      "        [0.6299, 0.9359, 1.0000]], device='cuda:0')\n"
     ]
    }
   ],
   "source": [
    "input = torch.randn([2, 3]).cuda()\n",
    "print(input)\n",
    "srcbin = RawScale(input, mode=\"unipolar\", percentile=99).cuda()\n",
    "print(srcbin)\n",
    "print(srcbin())\n"
   ]
  },
  {
   "cell_type": "code",
   "execution_count": 50,
   "metadata": {},
   "outputs": [
    {
     "name": "stdout",
     "output_type": "stream",
     "text": [
      "Parameter containing:\n",
      "tensor([[ 0.2690,  0.2620, -1.0000],\n",
      "        [ 0.2695,  0.8709,  1.0000]], device='cuda:0')\n"
     ]
    }
   ],
   "source": [
    "srcbin2 = RawScale(input, mode=\"bipolar\")\n",
    "print(srcbin2())"
   ]
  },
  {
   "cell_type": "code",
   "execution_count": null,
   "metadata": {},
   "outputs": [],
   "source": []
  }
 ],
 "metadata": {
  "kernelspec": {
   "display_name": "Python 3",
   "language": "python",
   "name": "python3"
  },
  "language_info": {
   "codemirror_mode": {
    "name": "ipython",
    "version": 3
   },
   "file_extension": ".py",
   "mimetype": "text/x-python",
   "name": "python",
   "nbconvert_exporter": "python",
   "pygments_lexer": "ipython3",
   "version": "3.7.3"
  }
 },
 "nbformat": 4,
 "nbformat_minor": 2
}
