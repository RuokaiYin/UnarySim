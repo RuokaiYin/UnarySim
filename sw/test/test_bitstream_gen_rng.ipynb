{
 "cells": [
  {
   "cell_type": "code",
   "execution_count": 1,
   "metadata": {},
   "outputs": [],
   "source": [
    "%load_ext autoreload\n",
    "%autoreload 2"
   ]
  },
  {
   "cell_type": "code",
   "execution_count": 2,
   "metadata": {},
   "outputs": [],
   "source": [
    "import torch\n",
    "import UnarySim\n",
    "from UnarySim.sw.bitstream.gen import RNG\n",
    "\n",
    "import logging\n",
    "log = logging.getLogger(__name__)\n",
    "# log.error(\"asdad{}\".format(\"asda\"))"
   ]
  },
  {
   "cell_type": "code",
   "execution_count": 3,
   "metadata": {},
   "outputs": [
    {
     "name": "stdout",
     "output_type": "stream",
     "text": [
      "Parameter containing:\n",
      "tensor([1., 0.], device='cuda:0')\n",
      "Parameter containing:\n",
      "tensor([1., 0.])\n"
     ]
    }
   ],
   "source": [
    "rng = RNG(1, 2, \"Sobol\")\n",
    "print(rng.cuda()())\n",
    "print(rng.cpu()())"
   ]
  },
  {
   "cell_type": "code",
   "execution_count": 4,
   "metadata": {},
   "outputs": [
    {
     "name": "stdout",
     "output_type": "stream",
     "text": [
      "Parameter containing:\n",
      "tensor([ 0.,  1.,  2.,  3.,  4.,  5.,  6.,  7.,  8.,  9., 10., 11., 12., 13.,\n",
      "        14., 15.], device='cuda:0')\n",
      "Parameter containing:\n",
      "tensor([ 0.,  1.,  2.,  3.,  4.,  5.,  6.,  7.,  8.,  9., 10., 11., 12., 13.,\n",
      "        14., 15.])\n"
     ]
    }
   ],
   "source": [
    "rng = RNG(4, 2, \"Race\")\n",
    "print(rng.cuda()())\n",
    "print(rng.cpu()())"
   ]
  },
  {
   "cell_type": "code",
   "execution_count": 5,
   "metadata": {},
   "outputs": [
    {
     "name": "stdout",
     "output_type": "stream",
     "text": [
      "Parameter containing:\n",
      "tensor([14., 15.,  7., 11.,  5., 10., 13.,  6.,  3.,  9.,  4.,  2.,  1.,  8.,\n",
      "        12., 14.], device='cuda:0')\n",
      "Parameter containing:\n",
      "tensor([14., 15.,  7., 11.,  5., 10., 13.,  6.,  3.,  9.,  4.,  2.,  1.,  8.,\n",
      "        12., 14.])\n"
     ]
    }
   ],
   "source": [
    "rng = RNG(4, 2, \"LFSR\")\n",
    "print(rng.cuda()())\n",
    "print(rng.cpu()())"
   ]
  },
  {
   "cell_type": "code",
   "execution_count": 6,
   "metadata": {},
   "outputs": [
    {
     "name": "stdout",
     "output_type": "stream",
     "text": [
      "Parameter containing:\n",
      "tensor([ 6.,  9.,  0.,  3., 10., 15., 12.,  1., 14.,  4.,  8., 11.,  5.,  2.,\n",
      "        13.,  7.], device='cuda:0')\n",
      "Parameter containing:\n",
      "tensor([ 6.,  9.,  0.,  3., 10., 15., 12.,  1., 14.,  4.,  8., 11.,  5.,  2.,\n",
      "        13.,  7.])\n"
     ]
    }
   ],
   "source": [
    "rng = RNG(4, 2, \"SYS\")\n",
    "print(rng.cuda()())\n",
    "print(rng.cpu()())"
   ]
  },
  {
   "cell_type": "code",
   "execution_count": null,
   "metadata": {},
   "outputs": [],
   "source": []
  }
 ],
 "metadata": {
  "kernelspec": {
   "display_name": "Python 3",
   "language": "python",
   "name": "python3"
  },
  "language_info": {
   "codemirror_mode": {
    "name": "ipython",
    "version": 3
   },
   "file_extension": ".py",
   "mimetype": "text/x-python",
   "name": "python",
   "nbconvert_exporter": "python",
   "pygments_lexer": "ipython3",
   "version": "3.7.3"
  }
 },
 "nbformat": 4,
 "nbformat_minor": 2
}
