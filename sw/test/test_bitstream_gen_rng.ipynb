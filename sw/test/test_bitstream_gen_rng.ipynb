{
 "cells": [
  {
   "cell_type": "code",
   "execution_count": 19,
   "metadata": {},
   "outputs": [
    {
     "name": "stdout",
     "output_type": "stream",
     "text": [
      "The autoreload extension is already loaded. To reload it, use:\n",
      "  %reload_ext autoreload\n"
     ]
    }
   ],
   "source": [
    "%load_ext autoreload\n",
    "%autoreload 2"
   ]
  },
  {
   "cell_type": "code",
   "execution_count": 20,
   "metadata": {},
   "outputs": [],
   "source": [
    "import torch\n",
    "import UnarySim\n",
    "from UnarySim.sw.bitstream.gen import RNG\n",
    "\n",
    "import logging\n",
    "log = logging.getLogger(__name__)\n",
    "# log.error(\"asdad{}\".format(\"asda\"))"
   ]
  },
  {
   "cell_type": "code",
   "execution_count": 21,
   "metadata": {},
   "outputs": [
    {
     "name": "stdout",
     "output_type": "stream",
     "text": [
      "Parameter containing:\n",
      "tensor([ 8,  4, 12,  6, 14,  2, 10,  5, 13,  1,  9,  3, 11,  7, 15,  7],\n",
      "       device='cuda:0')\n",
      "Parameter containing:\n",
      "tensor([ 8,  4, 12,  6, 14,  2, 10,  5, 13,  1,  9,  3, 11,  7, 15,  7])\n"
     ]
    }
   ],
   "source": [
    "rng = RNG(4, 2, \"Sobol\")\n",
    "print(rng.cuda()())\n",
    "print(rng.cpu()())"
   ]
  },
  {
   "cell_type": "code",
   "execution_count": 22,
   "metadata": {},
   "outputs": [
    {
     "name": "stdout",
     "output_type": "stream",
     "text": [
      "Parameter containing:\n",
      "tensor([ 0,  1,  2,  3,  4,  5,  6,  7,  8,  9, 10, 11, 12, 13, 14, 15],\n",
      "       device='cuda:0')\n",
      "Parameter containing:\n",
      "tensor([ 0,  1,  2,  3,  4,  5,  6,  7,  8,  9, 10, 11, 12, 13, 14, 15])\n"
     ]
    }
   ],
   "source": [
    "rng = RNG(4, 2, \"Race\")\n",
    "print(rng.cuda()())\n",
    "print(rng.cpu()())"
   ]
  },
  {
   "cell_type": "code",
   "execution_count": 23,
   "metadata": {},
   "outputs": [
    {
     "name": "stdout",
     "output_type": "stream",
     "text": [
      "Parameter containing:\n",
      "tensor([15,  7, 11,  5, 10, 13,  6,  3,  9,  4,  2,  1,  8, 12, 14, 15],\n",
      "       device='cuda:0')\n",
      "Parameter containing:\n",
      "tensor([15,  7, 11,  5, 10, 13,  6,  3,  9,  4,  2,  1,  8, 12, 14, 15])\n"
     ]
    }
   ],
   "source": [
    "rng = RNG(4, 2, \"LFSR\")\n",
    "print(rng.cuda()())\n",
    "print(rng.cpu()())"
   ]
  },
  {
   "cell_type": "code",
   "execution_count": 24,
   "metadata": {},
   "outputs": [
    {
     "name": "stdout",
     "output_type": "stream",
     "text": [
      "Parameter containing:\n",
      "tensor([ 9,  7,  5,  0, 14,  8, 10,  3, 12,  1,  6, 13,  4, 11, 15,  2],\n",
      "       device='cuda:0')\n",
      "Parameter containing:\n",
      "tensor([ 9,  7,  5,  0, 14,  8, 10,  3, 12,  1,  6, 13,  4, 11, 15,  2])\n"
     ]
    }
   ],
   "source": [
    "rng = RNG(4, 2, \"SYS\")\n",
    "print(rng.cuda()())\n",
    "print(rng.cpu()())"
   ]
  },
  {
   "cell_type": "code",
   "execution_count": null,
   "metadata": {},
   "outputs": [],
   "source": []
  }
 ],
 "metadata": {
  "kernelspec": {
   "display_name": "Python 3",
   "language": "python",
   "name": "python3"
  },
  "language_info": {
   "codemirror_mode": {
    "name": "ipython",
    "version": 3
   },
   "file_extension": ".py",
   "mimetype": "text/x-python",
   "name": "python",
   "nbconvert_exporter": "python",
   "pygments_lexer": "ipython3",
   "version": "3.7.3"
  }
 },
 "nbformat": 4,
 "nbformat_minor": 2
}
