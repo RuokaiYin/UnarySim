{
 "cells": [
  {
   "cell_type": "code",
   "execution_count": 1,
   "metadata": {},
   "outputs": [],
   "source": [
    "%load_ext autoreload\n",
    "%autoreload 2"
   ]
  },
  {
   "cell_type": "code",
   "execution_count": 2,
   "metadata": {},
   "outputs": [
    {
     "name": "stdout",
     "output_type": "stream",
     "text": [
      "Parameter containing:\n",
      "tensor([[4.1327e-39, 8.9082e-39, 9.8265e-39, 9.4592e-39, 1.0561e-38, 1.0653e-38,\n",
      "         1.0469e-38, 9.5510e-39, 8.7245e-39, 9.3674e-39, 1.0653e-38, 1.0469e-38,\n",
      "         8.7245e-39, 4.2246e-39, 1.1112e-38, 1.0286e-38]])\n",
      "Parameter containing:\n",
      "tensor([ 8,  4, 12,  6, 14,  2, 10,  5, 13,  1,  9,  3, 11,  7, 15,  7])\n",
      "RNG()\n",
      "Parameter containing:\n",
      "tensor([[1.8882e+12, 6.9224e-43, 2.8026e-45, 0.0000e+00, 8.6320e-43, 0.0000e+00,\n",
      "         0.0000e+00, 0.0000e+00, 0.0000e+00, 0.0000e+00, 1.8882e+12, 6.9224e-43,\n",
      "         0.0000e+00, 0.0000e+00, 0.0000e+00, 0.0000e+00]])\n",
      "Parameter containing:\n",
      "tensor([ 0,  1,  2,  3,  4,  5,  6,  7,  8,  9, 10, 11, 12, 13, 14, 15])\n",
      "RNG()\n"
     ]
    }
   ],
   "source": [
    "import torch\n",
    "import UnarySim\n",
    "from UnarySim.sw.bitstream.gen import RNG\n",
    "\n",
    "import logging\n",
    "log = logging.getLogger(__name__)\n",
    "# log.error(\"asdad{}\".format(\"asda\"))\n",
    "\n",
    "rng = RNG(4, 2, \"Sobol\").cuda()\n",
    "print(rng)\n",
    "\n",
    "rng1 = RNG(4, 2, \"Race\").cpu()\n",
    "print(rng1)"
   ]
  },
  {
   "cell_type": "code",
   "execution_count": 3,
   "metadata": {},
   "outputs": [
    {
     "data": {
      "text/plain": [
       "Parameter containing:\n",
       "tensor([ 8,  4, 12,  6, 14,  2, 10,  5, 13,  1,  9,  3, 11,  7, 15,  7],\n",
       "       device='cuda:0')"
      ]
     },
     "execution_count": 3,
     "metadata": {},
     "output_type": "execute_result"
    }
   ],
   "source": [
    "rng()"
   ]
  },
  {
   "cell_type": "code",
   "execution_count": 4,
   "metadata": {},
   "outputs": [
    {
     "data": {
      "text/plain": [
       "tensor([ 8,  4, 12,  6, 14,  2, 10,  5, 13,  1,  9,  3, 11,  7, 15,  7])"
      ]
     },
     "execution_count": 4,
     "metadata": {},
     "output_type": "execute_result"
    }
   ],
   "source": [
    "rng().cpu()"
   ]
  },
  {
   "cell_type": "code",
   "execution_count": 5,
   "metadata": {},
   "outputs": [
    {
     "data": {
      "text/plain": [
       "Parameter containing:\n",
       "tensor([ 0,  1,  2,  3,  4,  5,  6,  7,  8,  9, 10, 11, 12, 13, 14, 15])"
      ]
     },
     "execution_count": 5,
     "metadata": {},
     "output_type": "execute_result"
    }
   ],
   "source": [
    "rng1()"
   ]
  },
  {
   "cell_type": "code",
   "execution_count": 6,
   "metadata": {},
   "outputs": [
    {
     "data": {
      "text/plain": [
       "tensor([ 0,  1,  2,  3,  4,  5,  6,  7,  8,  9, 10, 11, 12, 13, 14, 15],\n",
       "       device='cuda:0')"
      ]
     },
     "execution_count": 6,
     "metadata": {},
     "output_type": "execute_result"
    }
   ],
   "source": [
    "rng1().cuda()"
   ]
  },
  {
   "cell_type": "code",
   "execution_count": null,
   "metadata": {},
   "outputs": [],
   "source": []
  },
  {
   "cell_type": "code",
   "execution_count": null,
   "metadata": {},
   "outputs": [],
   "source": []
  }
 ],
 "metadata": {
  "kernelspec": {
   "display_name": "Python 3",
   "language": "python",
   "name": "python3"
  },
  "language_info": {
   "codemirror_mode": {
    "name": "ipython",
    "version": 3
   },
   "file_extension": ".py",
   "mimetype": "text/x-python",
   "name": "python",
   "nbconvert_exporter": "python",
   "pygments_lexer": "ipython3",
   "version": "3.7.3"
  }
 },
 "nbformat": 4,
 "nbformat_minor": 2
}
