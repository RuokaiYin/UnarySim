{
 "cells": [
  {
   "cell_type": "code",
   "execution_count": 16,
   "metadata": {},
   "outputs": [
    {
     "name": "stdout",
     "output_type": "stream",
     "text": [
      "The autoreload extension is already loaded. To reload it, use:\n",
      "  %reload_ext autoreload\n"
     ]
    }
   ],
   "source": [
    "%load_ext autoreload\n",
    "%autoreload 2"
   ]
  },
  {
   "cell_type": "code",
   "execution_count": 17,
   "metadata": {},
   "outputs": [],
   "source": [
    "import torch\n",
    "import UnarySim\n",
    "from UnarySim.sw.bitstream.gen import RNGMulti\n",
    "\n",
    "import logging\n",
    "log = logging.getLogger(__name__)\n",
    "# log.error(\"asdad{}\".format(\"asda\"))"
   ]
  },
  {
   "cell_type": "code",
   "execution_count": 18,
   "metadata": {},
   "outputs": [
    {
     "name": "stdout",
     "output_type": "stream",
     "text": [
      "Parameter containing:\n",
      "tensor([[ 8, 12,  4,  6, 14, 10,  2,  3, 11, 15,  7,  5, 13,  9,  1,  1],\n",
      "        [ 8,  4, 12,  6, 14,  2, 10,  5, 13,  1,  9,  3, 11,  7, 15,  7]],\n",
      "       device='cuda:0')\n",
      "Parameter containing:\n",
      "tensor([[ 8, 12,  4,  6, 14, 10,  2,  3, 11, 15,  7,  5, 13,  9,  1,  1],\n",
      "        [ 8,  4, 12,  6, 14,  2, 10,  5, 13,  1,  9,  3, 11,  7, 15,  7]])\n"
     ]
    }
   ],
   "source": [
    "rng = RNGMulti(4, 2, \"Sobol\", True)\n",
    "print(rng.cuda()())\n",
    "print(rng.cpu()())"
   ]
  },
  {
   "cell_type": "code",
   "execution_count": 19,
   "metadata": {},
   "outputs": [
    {
     "name": "stdout",
     "output_type": "stream",
     "text": [
      "Parameter containing:\n",
      "tensor([[ 0,  0,  0,  0,  0,  0,  0,  0,  0,  0,  0,  0,  0,  0,  0,  0],\n",
      "        [ 6,  3,  9,  4,  2,  1,  8, 12, 14, 15,  7, 11,  5, 10, 13,  6]],\n",
      "       device='cuda:0')\n",
      "Parameter containing:\n",
      "tensor([[ 0,  0,  0,  0,  0,  0,  0,  0,  0,  0,  0,  0,  0,  0,  0,  0],\n",
      "        [ 6,  3,  9,  4,  2,  1,  8, 12, 14, 15,  7, 11,  5, 10, 13,  6]])\n"
     ]
    }
   ],
   "source": [
    "rng = RNGMulti(4, 2, \"LFSR\", True)\n",
    "print(rng.cuda()())\n",
    "print(rng.cpu()())"
   ]
  },
  {
   "cell_type": "code",
   "execution_count": 20,
   "metadata": {},
   "outputs": [
    {
     "name": "stdout",
     "output_type": "stream",
     "text": [
      "Parameter containing:\n",
      "tensor([[ 6,  7, 15,  5,  0,  1, 12, 10, 11,  8,  4, 14,  3,  9, 13,  2],\n",
      "        [ 0,  4,  5,  2,  1,  8, 11, 14, 15, 12,  9, 10, 13,  7,  6,  3]],\n",
      "       device='cuda:0')\n",
      "Parameter containing:\n",
      "tensor([[ 6,  7, 15,  5,  0,  1, 12, 10, 11,  8,  4, 14,  3,  9, 13,  2],\n",
      "        [ 0,  4,  5,  2,  1,  8, 11, 14, 15, 12,  9, 10, 13,  7,  6,  3]])\n"
     ]
    }
   ],
   "source": [
    "rng = RNGMulti(4, 2, \"SYS\", True)\n",
    "print(rng.cuda()())\n",
    "print(rng.cpu()())"
   ]
  },
  {
   "cell_type": "code",
   "execution_count": null,
   "metadata": {},
   "outputs": [],
   "source": []
  }
 ],
 "metadata": {
  "kernelspec": {
   "display_name": "Python 3",
   "language": "python",
   "name": "python3"
  },
  "language_info": {
   "codemirror_mode": {
    "name": "ipython",
    "version": 3
   },
   "file_extension": ".py",
   "mimetype": "text/x-python",
   "name": "python",
   "nbconvert_exporter": "python",
   "pygments_lexer": "ipython3",
   "version": "3.7.3"
  }
 },
 "nbformat": 4,
 "nbformat_minor": 2
}
