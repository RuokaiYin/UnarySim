{
 "cells": [
  {
   "cell_type": "code",
   "execution_count": 1,
   "metadata": {},
   "outputs": [],
   "source": [
    "%load_ext autoreload\n",
    "%autoreload 2"
   ]
  },
  {
   "cell_type": "code",
   "execution_count": 2,
   "metadata": {},
   "outputs": [
    {
     "name": "stdout",
     "output_type": "stream",
     "text": [
      "RNGMulti()\n"
     ]
    }
   ],
   "source": [
    "import torch\n",
    "import UnarySim\n",
    "from UnarySim.sw.bitstream.gen import RNGMulti\n",
    "\n",
    "import logging\n",
    "log = logging.getLogger(__name__)\n",
    "# log.error(\"asdad{}\".format(\"asda\"))\n",
    "\n",
    "rng = RNGMulti(4, 2, \"Sobol\", True).cuda()\n",
    "print(rng)\n"
   ]
  },
  {
   "cell_type": "code",
   "execution_count": 3,
   "metadata": {},
   "outputs": [
    {
     "name": "stdout",
     "output_type": "stream",
     "text": [
      "Parameter containing:\n",
      "tensor([[ 8,  8],\n",
      "        [12,  4],\n",
      "        [ 4, 12],\n",
      "        [ 6,  6],\n",
      "        [14, 14],\n",
      "        [10,  2],\n",
      "        [ 2, 10],\n",
      "        [ 3,  5],\n",
      "        [11, 13],\n",
      "        [15,  1],\n",
      "        [ 7,  9],\n",
      "        [ 5,  3],\n",
      "        [13, 11],\n",
      "        [ 9,  7],\n",
      "        [ 1, 15],\n",
      "        [ 1,  7]], device='cuda:0')\n"
     ]
    },
    {
     "data": {
      "text/plain": [
       "torch.Size([16, 2])"
      ]
     },
     "execution_count": 3,
     "metadata": {},
     "output_type": "execute_result"
    }
   ],
   "source": [
    "print(rng())\n",
    "rng().shape"
   ]
  },
  {
   "cell_type": "code",
   "execution_count": 5,
   "metadata": {},
   "outputs": [
    {
     "name": "stdout",
     "output_type": "stream",
     "text": [
      "torch.Size([3, 2])\n"
     ]
    },
    {
     "data": {
      "text/plain": [
       "tensor([[ 8,  4],\n",
       "        [ 4,  6],\n",
       "        [14,  2]], device='cuda:0')"
      ]
     },
     "execution_count": 5,
     "metadata": {},
     "output_type": "execute_result"
    }
   ],
   "source": [
    "# multi dim tensor indexing\n",
    "print(torch.tensor([[0, 1], [2, 3], [4, 5]]).shape)\n",
    "torch.gather(rng(), 0, torch.tensor([[0, 1], [2, 3], [4, 5]]).cuda())"
   ]
  },
  {
   "cell_type": "code",
   "execution_count": null,
   "metadata": {},
   "outputs": [],
   "source": []
  }
 ],
 "metadata": {
  "kernelspec": {
   "display_name": "Python 3",
   "language": "python",
   "name": "python3"
  },
  "language_info": {
   "codemirror_mode": {
    "name": "ipython",
    "version": 3
   },
   "file_extension": ".py",
   "mimetype": "text/x-python",
   "name": "python",
   "nbconvert_exporter": "python",
   "pygments_lexer": "ipython3",
   "version": "3.7.3"
  }
 },
 "nbformat": 4,
 "nbformat_minor": 2
}
