{
 "cells": [
  {
   "cell_type": "code",
   "execution_count": 1,
   "metadata": {},
   "outputs": [],
   "source": [
    "%load_ext autoreload\n",
    "%autoreload 2"
   ]
  },
  {
   "cell_type": "code",
   "execution_count": 136,
   "metadata": {},
   "outputs": [],
   "source": [
    "import torch\n",
    "import UnarySim\n",
    "from UnarySim.sw.bitstream.shuffle import SkewedSync\n"
   ]
  },
  {
   "cell_type": "code",
   "execution_count": 137,
   "metadata": {},
   "outputs": [],
   "source": [
    "ss = SkewedSync(depth=3)"
   ]
  },
  {
   "cell_type": "code",
   "execution_count": 175,
   "metadata": {},
   "outputs": [],
   "source": [
    "a = torch.tensor([[0, 0]]).type(torch.uint8)\n",
    "b = torch.tensor([[1, 1]]).type(torch.uint8)"
   ]
  },
  {
   "cell_type": "code",
   "execution_count": 173,
   "metadata": {},
   "outputs": [],
   "source": [
    "a = torch.tensor([[1, 1]]).type(torch.uint8)\n",
    "b = torch.tensor([[0, 0]]).type(torch.uint8)"
   ]
  },
  {
   "cell_type": "code",
   "execution_count": 171,
   "metadata": {},
   "outputs": [],
   "source": [
    "a = torch.tensor([[1, 1]]).type(torch.uint8)\n",
    "b = torch.tensor([[1, 1]]).type(torch.uint8)"
   ]
  },
  {
   "cell_type": "code",
   "execution_count": 169,
   "metadata": {},
   "outputs": [],
   "source": [
    "a = torch.tensor([[0, 0]]).type(torch.uint8)\n",
    "b = torch.tensor([[0, 0]]).type(torch.uint8)"
   ]
  },
  {
   "cell_type": "code",
   "execution_count": 180,
   "metadata": {},
   "outputs": [
    {
     "name": "stdout",
     "output_type": "stream",
     "text": [
      "(tensor([[0, 0]], dtype=torch.uint8), tensor([[1, 1]], dtype=torch.uint8))\n",
      "tensor([[0, 0]], dtype=torch.int8)\n"
     ]
    }
   ],
   "source": [
    "print(ss.Gen(a,b))\n",
    "print(ss.cnt)"
   ]
  },
  {
   "cell_type": "code",
   "execution_count": null,
   "metadata": {},
   "outputs": [],
   "source": []
  }
 ],
 "metadata": {
  "kernelspec": {
   "display_name": "Python 3",
   "language": "python",
   "name": "python3"
  },
  "language_info": {
   "codemirror_mode": {
    "name": "ipython",
    "version": 3
   },
   "file_extension": ".py",
   "mimetype": "text/x-python",
   "name": "python",
   "nbconvert_exporter": "python",
   "pygments_lexer": "ipython3",
   "version": "3.7.3"
  }
 },
 "nbformat": 4,
 "nbformat_minor": 2
}
