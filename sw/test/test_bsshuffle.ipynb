{
 "cells": [
  {
   "cell_type": "code",
   "execution_count": 1,
   "metadata": {},
   "outputs": [],
   "source": [
    "%load_ext autoreload\n",
    "%autoreload 2"
   ]
  },
  {
   "cell_type": "code",
   "execution_count": 115,
   "metadata": {},
   "outputs": [],
   "source": [
    "import torch\n",
    "import UnaryComputingSim\n",
    "from UnaryComputingSim.sw.components.rng import RNG\n",
    "from UnaryComputingSim.sw.components.bsgen import BSGen, BSRegen, SourceGen\n",
    "from UnaryComputingSim.sw.components.bsshuffle import SkewedSync\n"
   ]
  },
  {
   "cell_type": "code",
   "execution_count": 116,
   "metadata": {},
   "outputs": [],
   "source": [
    "ss = SkewedSync([1,2])"
   ]
  },
  {
   "cell_type": "code",
   "execution_count": 156,
   "metadata": {},
   "outputs": [
    {
     "name": "stdout",
     "output_type": "stream",
     "text": [
      "torch.Size([1, 2])\n"
     ]
    }
   ],
   "source": [
    "a = torch.tensor([[0, 0]]).type(torch.uint8)\n",
    "b = torch.tensor([[1, 1]]).type(torch.uint8)\n",
    "print(a.size())"
   ]
  },
  {
   "cell_type": "code",
   "execution_count": 157,
   "metadata": {},
   "outputs": [
    {
     "name": "stdout",
     "output_type": "stream",
     "text": [
      "(tensor([[0, 0]], dtype=torch.uint8), tensor([[1, 1]], dtype=torch.uint8))\n",
      "tensor([[0, 0]], dtype=torch.int8)\n"
     ]
    }
   ],
   "source": [
    "print(ss.Gen(a,b))\n",
    "print(ss.cnt)"
   ]
  },
  {
   "cell_type": "code",
   "execution_count": null,
   "metadata": {},
   "outputs": [],
   "source": []
  }
 ],
 "metadata": {
  "kernelspec": {
   "display_name": "Python 3",
   "language": "python",
   "name": "python3"
  },
  "language_info": {
   "codemirror_mode": {
    "name": "ipython",
    "version": 3
   },
   "file_extension": ".py",
   "mimetype": "text/x-python",
   "name": "python",
   "nbconvert_exporter": "python",
   "pygments_lexer": "ipython3",
   "version": "3.6.5"
  }
 },
 "nbformat": 4,
 "nbformat_minor": 2
}
