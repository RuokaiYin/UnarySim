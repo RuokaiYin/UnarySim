{
 "cells": [
  {
   "cell_type": "code",
   "execution_count": 1,
   "metadata": {},
   "outputs": [],
   "source": [
    "%load_ext autoreload\n",
    "%autoreload 2"
   ]
  },
  {
   "cell_type": "code",
   "execution_count": 1,
   "metadata": {},
   "outputs": [],
   "source": [
    "import torch\n",
    "from UnarySim.sw.kernel.add import UnaryAdd\n",
    "from UnarySim.sw.bitstream.gen import RNG, SourceGen, BSGen\n",
    "from UnarySim.sw.metric.metric import ProgressiveError\n",
    "import matplotlib.pyplot as plt\n",
    "import time\n"
   ]
  },
  {
   "cell_type": "code",
   "execution_count": 2,
   "metadata": {},
   "outputs": [],
   "source": [
    "device = torch.device(\"cuda:0\" if torch.cuda.is_available() else \"cpu\")"
   ]
  },
  {
   "cell_type": "code",
   "execution_count": 3,
   "metadata": {},
   "outputs": [],
   "source": [
    "device = \"cuda:0\"\n",
    "# device = \"cpu\""
   ]
  },
  {
   "cell_type": "code",
   "execution_count": 4,
   "metadata": {},
   "outputs": [
    {
     "name": "stdout",
     "output_type": "stream",
     "text": [
      "--- 0.2656126022338867 seconds ---\n",
      "tensor([0, 0, 1,  ..., 0, 1, 1], device='cuda:0', dtype=torch.int8)\n",
      "input error:  tensor(-0.0078, device='cuda:0') tensor(0.0039, device='cuda:0')\n",
      "output error:  tensor(-0.9570, device='cuda:0') tensor(0.2031, device='cuda:0')\n",
      "[ 0.046875   0.015625  -0.109375  ...  0.        -0.0390625 -0.0625   ]\n"
     ]
    }
   ],
   "source": [
    "rng = \"Sobol\"\n",
    "# rng = \"Race\"\n",
    "\n",
    "row = 128\n",
    "col = 10000\n",
    "\n",
    "mode = \"bipolar\"\n",
    "scaled = False\n",
    "acc_dim = 0\n",
    "\n",
    "uadd = UnaryAdd(bitwidth=8, mode=mode, scaled=scaled, acc_dim=acc_dim).to(device)\n",
    "\n",
    "if mode is \"unipolar\":\n",
    "    iVec = torch.rand(row, col).mul(256).round().div(256).to(device)\n",
    "elif mode is \"bipolar\":\n",
    "    iVec = torch.rand(row, col).mul(2).sub(1).mul(256).round().div(256).to(device)\n",
    "\n",
    "oVec = torch.sum(iVec, acc_dim).to(device)\n",
    "\n",
    "if scaled is False:\n",
    "    oVec = oVec.clamp(-1.,1.).mul(256).floor()/256\n",
    "else:\n",
    "    if acc_dim == 0:\n",
    "        oVec = oVec.div(row).mul(256).floor()/256\n",
    "    elif acc_dim == 1:\n",
    "        oVec = oVec.div(col).mul(256).floor()/256\n",
    "\n",
    "\n",
    "iVecSource = SourceGen(iVec, bitwidth=8, mode=mode)().to(device)\n",
    "\n",
    "iVecRNG = RNG(8, 1, rng)().to(device)\n",
    "iVecBS = BSGen(iVecSource, iVecRNG).to(device)\n",
    "\n",
    "iVecPE = ProgressiveError(iVec, mode=mode).to(device)\n",
    "oVecPE = ProgressiveError(oVec, mode=mode).to(device)\n",
    "\n",
    "with torch.no_grad():\n",
    "    idx = torch.zeros(iVecSource.size()).type(torch.long).to(device)\n",
    "    start_time = time.time()\n",
    "    for i in range(256):\n",
    "#         print(i)\n",
    "        iBS = iVecBS(idx + i)\n",
    "        iVecPE.Monitor(iBS)\n",
    "        \n",
    "        oVecU = uadd(iBS)\n",
    "        oVecPE.Monitor(oVecU)\n",
    "#         print(\"\\n\")\n",
    "    print(\"--- %s seconds ---\" % (time.time() - start_time))\n",
    "    print(\"input error: \", torch.min(iVecPE()[1]), torch.max(iVecPE()[1]))\n",
    "    print(\"output error: \", torch.min(oVecPE()[1]), torch.max(oVecPE()[1]))\n",
    "    result_pe = oVecPE()[1].cpu().numpy()\n",
    "    print(result_pe)"
   ]
  },
  {
   "cell_type": "code",
   "execution_count": 152,
   "metadata": {},
   "outputs": [
    {
     "data": {
      "image/png": "[encoded data removed]",
      "text/plain": [
       "<Figure size 432x288 with 1 Axes>"
      ]
     },
     "metadata": {
      "needs_background": "light"
     },
     "output_type": "display_data"
    }
   ],
   "source": [
    "fig = plt.hist(result_pe, bins='auto')  # arguments are passed to np.histogram\n",
    "plt.title(\"Histogram for final output error\")\n",
    "plt.show()"
   ]
  },
  {
   "cell_type": "code",
   "execution_count": null,
   "metadata": {},
   "outputs": [],
   "source": []
  }
 ],
 "metadata": {
  "kernelspec": {
   "display_name": "Python 3",
   "language": "python",
   "name": "python3"
  },
  "language_info": {
   "codemirror_mode": {
    "name": "ipython",
    "version": 3
   },
   "file_extension": ".py",
   "mimetype": "text/x-python",
   "name": "python",
   "nbconvert_exporter": "python",
   "pygments_lexer": "ipython3",
   "version": "3.7.3"
  }
 },
 "nbformat": 4,
 "nbformat_minor": 2
}
