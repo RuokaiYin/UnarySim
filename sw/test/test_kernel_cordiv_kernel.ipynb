{
 "cells": [
  {
   "cell_type": "code",
   "execution_count": 1,
   "metadata": {},
   "outputs": [],
   "source": [
    "%load_ext autoreload\n",
    "%autoreload 2"
   ]
  },
  {
   "cell_type": "code",
   "execution_count": 2,
   "metadata": {},
   "outputs": [],
   "source": [
    "import torch\n",
    "from UnarySim.sw.kernel.div import CORDIV_kernel\n",
    "from UnarySim.sw.bitstream.gen import RNG, SourceGen, BSGen\n",
    "from UnarySim.sw.metric.metric import ProgressiveError\n",
    "import matplotlib.pyplot as plt\n",
    "import time\n",
    "import math\n",
    "import numpy as np"
   ]
  },
  {
   "cell_type": "code",
   "execution_count": 3,
   "metadata": {},
   "outputs": [],
   "source": [
    "device = torch.device(\"cuda:0\" if torch.cuda.is_available() else \"cpu\")\n",
    "rng = \"Sobol\""
   ]
  },
  {
   "cell_type": "code",
   "execution_count": 4,
   "metadata": {},
   "outputs": [
    {
     "name": "stdout",
     "output_type": "stream",
     "text": [
      "--- 0.3900001049041748 seconds ---\n",
      "dividend error:  tensor(-0.0058, device='cuda:0') tensor(0.0020, device='cuda:0')\n",
      "divisor  error:  tensor(-0.0039, device='cuda:0') tensor(0., device='cuda:0')\n",
      "quotient error:  tensor(-0.5000, device='cuda:0') tensor(0.4961, device='cuda:0')\n",
      "RMSE 0.048069989358778986\n",
      "MAE 0.026657812\n",
      "bias -0.0072132815\n"
     ]
    },
    {
     "data": {
      "image/png": "[encoded data removed]",
      "text/plain": [
       "<Figure size 432x288 with 1 Axes>"
      ]
     },
     "metadata": {
      "needs_background": "light"
     },
     "output_type": "display_data"
    }
   ],
   "source": [
    "col = 10000\n",
    "modes = [\"unipolar\"]\n",
    "static = True\n",
    "bitwidth = 8\n",
    "bstype = torch.float\n",
    "randtype = torch.float\n",
    "\n",
    "for mode in modes:\n",
    "    if mode is \"unipolar\":\n",
    "        quotient = torch.rand(2, col).mul(2**bitwidth).round().div(2**bitwidth).to(device)\n",
    "        divisor = torch.rand(2, col).mul(2**bitwidth).round().div(2**bitwidth).to(device)\n",
    "    elif mode is \"bipolar\":\n",
    "        quotient = torch.rand(2, col).mul(2).sub(1).mul(2**bitwidth).round().div(2**bitwidth).to(device)\n",
    "        divisor = torch.rand(2, col).mul(2).sub(1).mul(2**bitwidth).round().div(2**bitwidth).to(device)\n",
    "\n",
    "    dut_div = CORDIV_kernel(buf_dep=4, rng=\"Sobol\", rng_dim=1, bstype=torch.float).to(device)\n",
    "\n",
    "    dividend = torch.mul(quotient, divisor).to(device)\n",
    "\n",
    "    quotientPE = ProgressiveError(quotient, mode=mode).to(device)\n",
    "\n",
    "    dividendPE = ProgressiveError(dividend, mode=mode).to(device)\n",
    "    dividendSRC = SourceGen(dividend, bitwidth, mode=mode, randtype=randtype)().to(device)\n",
    "    dividendRNG = RNG(bitwidth, 1, rng, randtype)().to(device)\n",
    "    dividendBS = BSGen(dividendSRC, dividendRNG, bstype).to(device)\n",
    "    \n",
    "    divisorPE  = ProgressiveError(divisor,  mode=mode).to(device)\n",
    "    divisorSRC = SourceGen(divisor, bitwidth, mode=mode, randtype=randtype)().to(device)\n",
    "    divisorRNG = RNG(bitwidth, 1, rng, randtype)().to(device)\n",
    "    divisorBS = BSGen(divisorSRC, divisorRNG, bstype).to(device)\n",
    "\n",
    "    with torch.no_grad():\n",
    "        start_time = time.time()\n",
    "        for i in range(2**bitwidth):\n",
    "            dividend_bs = dividendBS(torch.tensor([i]))\n",
    "            dividendPE.Monitor(dividend_bs)\n",
    "\n",
    "            divisor_bs = divisorBS(torch.tensor([i]))\n",
    "            divisorPE.Monitor(divisor_bs)\n",
    "            \n",
    "            quotient_bs = dut_div(dividend_bs, divisor_bs)   \n",
    "            quotientPE.Monitor(quotient_bs)\n",
    "        print(\"--- %s seconds ---\" % (time.time() - start_time))\n",
    "        print(\"dividend error: \", torch.min(dividendPE()[1]), torch.max(dividendPE()[1]))\n",
    "        print(\"divisor  error: \", torch.min(divisorPE()[1]), torch.max(divisorPE()[1]))\n",
    "        \n",
    "        print(\"quotient error: \", torch.min(quotientPE()[1]), torch.max(quotientPE()[1]))\n",
    "        \n",
    "        result_pe = quotientPE()[1].view(-1).cpu().numpy()\n",
    "        print(\"RMSE\", math.sqrt(sum(result_pe**2)/len(result_pe)))\n",
    "        print(\"MAE\", np.mean(np.abs(result_pe)))\n",
    "        print(\"bias\", np.mean(result_pe))\n",
    "        fig = plt.hist(result_pe, bins='auto')  # arguments are passed to np.histogram\n",
    "        plt.title(\"Histogram for final output error\")\n",
    "        plt.show()"
   ]
  },
  {
   "cell_type": "code",
   "execution_count": null,
   "metadata": {},
   "outputs": [],
   "source": []
  }
 ],
 "metadata": {
  "kernelspec": {
   "display_name": "Python 3",
   "language": "python",
   "name": "python3"
  },
  "language_info": {
   "codemirror_mode": {
    "name": "ipython",
    "version": 3
   },
   "file_extension": ".py",
   "mimetype": "text/x-python",
   "name": "python",
   "nbconvert_exporter": "python",
   "pygments_lexer": "ipython3",
   "version": "3.7.3"
  }
 },
 "nbformat": 4,
 "nbformat_minor": 2
}
