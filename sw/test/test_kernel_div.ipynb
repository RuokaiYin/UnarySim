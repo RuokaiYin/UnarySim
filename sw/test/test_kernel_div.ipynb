{
 "cells": [
  {
   "cell_type": "code",
   "execution_count": 1,
   "metadata": {},
   "outputs": [],
   "source": [
    "%load_ext autoreload\n",
    "%autoreload 2"
   ]
  },
  {
   "cell_type": "code",
   "execution_count": 2,
   "metadata": {},
   "outputs": [],
   "source": [
    "import torch\n",
    "from UnarySim.sw.kernel.div import UnaryDiv\n",
    "from UnarySim.sw.bitstream.gen import RNG, SourceGen, BSGen\n",
    "from UnarySim.sw.metric.metric import ProgressiveError\n",
    "import matplotlib.pyplot as plt\n",
    "import time\n",
    "import math\n",
    "import numpy as np"
   ]
  },
  {
   "cell_type": "code",
   "execution_count": 3,
   "metadata": {},
   "outputs": [],
   "source": [
    "device = torch.device(\"cuda:0\" if torch.cuda.is_available() else \"cpu\")\n",
    "rng = \"Sobol\""
   ]
  },
  {
   "cell_type": "code",
   "execution_count": 4,
   "metadata": {},
   "outputs": [
    {
     "name": "stdout",
     "output_type": "stream",
     "text": [
      "--- 0.6460006237030029 seconds ---\n",
      "dividend error:  tensor(-0.0058, device='cuda:0') tensor(0.0020, device='cuda:0')\n",
      "divisor  error:  tensor(-0.0039, device='cuda:0') tensor(0., device='cuda:0')\n",
      "quotient error:  tensor(-0.4922, device='cuda:0') tensor(0.4961, device='cuda:0')\n",
      "dividend: tensor([[0.6485, 0.3349, 0.3395,  ..., 0.5453, 0.4355, 0.0305]],\n",
      "       device='cuda:0')\n",
      "divisor: tensor([[0.9766, 0.5195, 0.4219,  ..., 0.6680, 0.7852, 0.3555]],\n",
      "       device='cuda:0')\n",
      "quotient: tensor([[0.6641, 0.6445, 0.8047,  ..., 0.8164, 0.5547, 0.0859]],\n",
      "       device='cuda:0')\n",
      "RMSE 0.04688419506168397\n",
      "MAE 0.022623828\n",
      "bias 0.00092226564\n"
     ]
    },
    {
     "data": {
      "image/png": "[encoded data removed]",
      "text/plain": [
       "<Figure size 432x288 with 1 Axes>"
      ]
     },
     "metadata": {
      "needs_background": "light"
     },
     "output_type": "display_data"
    },
    {
     "name": "stdout",
     "output_type": "stream",
     "text": [
      "[ 0.0078125  -0.0078125   0.01171875 ... -0.00390625  0.0625\n",
      " -0.0078125 ]\n",
      "7372 6072\n",
      "-0.4921875 0.49609375\n",
      "tensor(0.0078, device='cuda:0') tensor(1.5259e-05, device='cuda:0')\n",
      "tensor(0.0078, device='cuda:0') tensor(0.0039, device='cuda:0')\n",
      "--- 1.2740013599395752 seconds ---\n",
      "dividend error:  tensor(-0.0117, device='cuda:0') tensor(0.0039, device='cuda:0')\n",
      "divisor  error:  tensor(-0.0078, device='cuda:0') tensor(0.0039, device='cuda:0')\n",
      "quotient error:  tensor(-1.2227, device='cuda:0') tensor(1.9688, device='cuda:0')\n",
      "dividend: tensor([[-0.3475, -0.7257,  0.0741,  ..., -0.1950, -0.2000, -0.4139]],\n",
      "       device='cuda:0')\n",
      "divisor: tensor([[ 0.4062,  0.8008,  0.0898,  ..., -0.3008, -0.4062, -0.6836]],\n",
      "       device='cuda:0')\n",
      "quotient: tensor([[-0.8555, -0.9062,  0.8242,  ...,  0.6484,  0.4922,  0.6055]],\n",
      "       device='cuda:0')\n",
      "RMSE 0.18349399301119207\n",
      "MAE 0.09418711\n",
      "bias 0.051845703\n"
     ]
    },
    {
     "data": {
      "image/png": "[encoded data removed]",
      "text/plain": [
       "<Figure size 432x288 with 1 Axes>"
      ]
     },
     "metadata": {
      "needs_background": "light"
     },
     "output_type": "display_data"
    },
    {
     "name": "stdout",
     "output_type": "stream",
     "text": [
      "[ 0.05859375  0.0625     -0.04296875 ...  0.09375     0.078125\n",
      "  0.07421875]\n",
      "4459 6093\n",
      "-1.2226562 1.96875\n",
      "tensor(0.0038, device='cuda:0') tensor(0., device='cuda:0')\n",
      "tensor(0.0078, device='cuda:0') tensor(-0., device='cuda:0')\n"
     ]
    }
   ],
   "source": [
    "col = 10000\n",
    "modes = [\"unipolar\", \"bipolar\"]\n",
    "static = True\n",
    "depth_abs=4\n",
    "depth_kernel=4\n",
    "depth_sync=2\n",
    "shiftreg=False\n",
    "mode=\"bipolar\"\n",
    "rng=\"Sobol\"\n",
    "rng_dim=4\n",
    "bstype=torch.float\n",
    "buftype=torch.float\n",
    "bitwidth = 8\n",
    "bstype = torch.float\n",
    "randtype = torch.float\n",
    "\n",
    "for mode in modes:\n",
    "    if mode is \"unipolar\":\n",
    "        quotient = torch.rand(1, col).mul(2**bitwidth).round().div(2**bitwidth).to(device)\n",
    "        divisor = torch.rand(1, col).mul(2**bitwidth).round().div(2**bitwidth).to(device)\n",
    "    elif mode is \"bipolar\":\n",
    "        quotient = torch.rand(1, col).mul(2).sub(1).mul(2**bitwidth).round().div(2**bitwidth).to(device)\n",
    "        divisor = torch.rand(1, col).mul(2).sub(1).mul(2**bitwidth).round().div(2**bitwidth).to(device)\n",
    "\n",
    "    dut_div = UnaryDiv(depth_abs=depth_abs, \n",
    "                       depth_kernel=depth_kernel, \n",
    "                       depth_sync=depth_sync, \n",
    "                       shiftreg=shiftreg, \n",
    "                       mode=mode, \n",
    "                       rng=rng, \n",
    "                       rng_dim=rng_dim, \n",
    "                       bstype=bstype, \n",
    "                       buftype=buftype).to(device)\n",
    "\n",
    "    dividend = torch.mul(quotient, divisor).to(device)\n",
    "\n",
    "    quotientPE = ProgressiveError(quotient, mode=mode).to(device)\n",
    "\n",
    "    dividendPE = ProgressiveError(dividend, mode=mode).to(device)\n",
    "    dividendSRC = SourceGen(dividend, bitwidth, mode=mode, randtype=randtype)().to(device)\n",
    "    dividendRNG = RNG(bitwidth, 1, rng, randtype)().to(device)\n",
    "    dividendBS = BSGen(dividendSRC, dividendRNG, bstype).to(device)\n",
    "    \n",
    "    divisorPE  = ProgressiveError(divisor,  mode=mode).to(device)\n",
    "    divisorSRC = SourceGen(divisor, bitwidth, mode=mode, randtype=randtype)().to(device)\n",
    "    divisorRNG = RNG(bitwidth, 1, rng, randtype)().to(device)\n",
    "    divisorBS = BSGen(divisorSRC, divisorRNG, bstype).to(device)\n",
    "\n",
    "    with torch.no_grad():\n",
    "        start_time = time.time()\n",
    "        for i in range(2**bitwidth):\n",
    "            dividend_bs = dividendBS(torch.tensor([i]))\n",
    "            dividendPE.Monitor(dividend_bs)\n",
    "\n",
    "            divisor_bs = divisorBS(torch.tensor([i]))\n",
    "            divisorPE.Monitor(divisor_bs)\n",
    "            \n",
    "            quotient_bs = dut_div(dividend_bs, divisor_bs)   \n",
    "            quotientPE.Monitor(quotient_bs)\n",
    "        print(\"--- %s seconds ---\" % (time.time() - start_time))\n",
    "        print(\"dividend error: \", torch.min(dividendPE()[1]), torch.max(dividendPE()[1]))\n",
    "        print(\"divisor  error: \", torch.min(divisorPE()[1]), torch.max(divisorPE()[1]))\n",
    "        \n",
    "        print(\"quotient error: \", torch.min(quotientPE()[1]), torch.max(quotientPE()[1]))\n",
    "        \n",
    "        print(\"dividend:\", dividend)\n",
    "        print(\"divisor:\", divisor)\n",
    "        print(\"quotient:\", quotient)\n",
    "        \n",
    "        result_pe = quotientPE()[1].view(-1).cpu().numpy()\n",
    "        print(\"RMSE\", math.sqrt(sum(result_pe**2)/len(result_pe)))\n",
    "        print(\"MAE\", np.mean(np.abs(result_pe)))\n",
    "        print(\"bias\", np.mean(result_pe))\n",
    "        fig = plt.hist(result_pe, bins='auto')  # arguments are passed to np.histogram\n",
    "        plt.title(\"Histogram for final output error\")\n",
    "        plt.show()\n",
    "        print(result_pe)\n",
    "        print(result_pe.argmin(), result_pe.argmax())\n",
    "        print(result_pe[result_pe.argmin()], result_pe[result_pe.argmax()])\n",
    "        print(dividend[0, result_pe.argmin()], dividend[0, result_pe.argmax()])\n",
    "        print(divisor[0, result_pe.argmin()], divisor[0, result_pe.argmax()])"
   ]
  },
  {
   "cell_type": "code",
   "execution_count": null,
   "metadata": {},
   "outputs": [],
   "source": []
  }
 ],
 "metadata": {
  "kernelspec": {
   "display_name": "Python 3",
   "language": "python",
   "name": "python3"
  },
  "language_info": {
   "codemirror_mode": {
    "name": "ipython",
    "version": 3
   },
   "file_extension": ".py",
   "mimetype": "text/x-python",
   "name": "python",
   "nbconvert_exporter": "python",
   "pygments_lexer": "ipython3",
   "version": "3.7.3"
  }
 },
 "nbformat": 4,
 "nbformat_minor": 2
}
