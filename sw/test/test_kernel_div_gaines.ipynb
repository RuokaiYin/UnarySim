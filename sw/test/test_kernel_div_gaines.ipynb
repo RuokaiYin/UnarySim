{
 "cells": [
  {
   "cell_type": "code",
   "execution_count": 1,
   "metadata": {},
   "outputs": [],
   "source": [
    "%load_ext autoreload\n",
    "%autoreload 2"
   ]
  },
  {
   "cell_type": "code",
   "execution_count": 2,
   "metadata": {},
   "outputs": [],
   "source": [
    "import torch\n",
    "from UnarySim.sw.kernel.div import GainesDiv\n",
    "from UnarySim.sw.bitstream.gen import RNG, SourceGen, BSGen\n",
    "from UnarySim.sw.metric.metric import ProgressiveError\n",
    "import matplotlib.pyplot as plt\n",
    "import time\n",
    "import math\n",
    "import numpy as np"
   ]
  },
  {
   "cell_type": "code",
   "execution_count": 3,
   "metadata": {},
   "outputs": [],
   "source": [
    "device = torch.device(\"cuda:0\" if torch.cuda.is_available() else \"cpu\")\n",
    "rng = \"Sobol\""
   ]
  },
  {
   "cell_type": "code",
   "execution_count": 4,
   "metadata": {},
   "outputs": [
    {
     "name": "stdout",
     "output_type": "stream",
     "text": [
      "scnt: Parameter containing:\n",
      "tensor([16.], device='cuda:0')\n",
      "--- 0.4500002861022949 seconds ---\n",
      "dividend error:  tensor(-0.0058, device='cuda:0') tensor(0.0020, device='cuda:0')\n",
      "divisor  error:  tensor(-0.0039, device='cuda:0') tensor(0., device='cuda:0')\n",
      "quotient error:  tensor(-0.4844, device='cuda:0') tensor(0.5000, device='cuda:0')\n",
      "dividend: tensor([[0.2552, 0.0406, 0.4331,  ..., 0.1012, 0.1026, 0.3173]],\n",
      "       device='cuda:0')\n",
      "divisor: tensor([[0.7969, 0.4336, 0.6680,  ..., 0.1523, 0.6406, 0.3594]],\n",
      "       device='cuda:0')\n",
      "quotient: tensor([[0.3203, 0.0938, 0.6484,  ..., 0.6641, 0.1602, 0.8828]],\n",
      "       device='cuda:0')\n",
      "scnt: Parameter containing:\n",
      "tensor([[11.,  7., 19.,  ..., 18.,  7., 27.]], device='cuda:0')\n",
      "RMSE 0.12343572610473803\n",
      "MAE 0.08953555\n",
      "bias 0.0007347656\n"
     ]
    },
    {
     "data": {
      "image/png": "[encoded data removed]",
      "text/plain": [
       "<Figure size 432x288 with 1 Axes>"
      ]
     },
     "metadata": {
      "needs_background": "light"
     },
     "output_type": "display_data"
    },
    {
     "name": "stdout",
     "output_type": "stream",
     "text": [
      "scnt: Parameter containing:\n",
      "tensor([16.], device='cuda:0')\n",
      "--- 0.4530010223388672 seconds ---\n",
      "dividend error:  tensor(-0.0039, device='cuda:0') tensor(0.0039, device='cuda:0')\n",
      "divisor  error:  tensor(-0.0078, device='cuda:0') tensor(0.0039, device='cuda:0')\n",
      "quotient error:  tensor(-1.9492, device='cuda:0') tensor(1.8867, device='cuda:0')\n",
      "dividend: tensor([[-0.0228,  0.0827, -0.0850,  ...,  0.0020, -0.4140,  0.1797]],\n",
      "       device='cuda:0')\n",
      "divisor: tensor([[-0.8320, -0.1680, -0.0938,  ..., -0.0312, -0.5195,  0.2422]],\n",
      "       device='cuda:0')\n",
      "quotient: tensor([[ 0.0273, -0.4922,  0.9062,  ..., -0.0625,  0.7969,  0.7422]],\n",
      "       device='cuda:0')\n",
      "scnt: Parameter containing:\n",
      "tensor([[18., 31.,  7.,  ..., 16.,  2., 28.]], device='cuda:0')\n",
      "RMSE 0.912063519323764\n",
      "MAE 0.6787883\n",
      "bias 0.0048375\n"
     ]
    },
    {
     "data": {
      "image/png": "[encoded data removed]",
      "text/plain": [
       "<Figure size 432x288 with 1 Axes>"
      ]
     },
     "metadata": {
      "needs_background": "light"
     },
     "output_type": "display_data"
    }
   ],
   "source": [
    "col = 10000\n",
    "modes = [\"unipolar\", \"bipolar\"]\n",
    "static = True\n",
    "bitwidth = 8\n",
    "bstype = torch.float\n",
    "randtype = torch.float\n",
    "\n",
    "for mode in modes:\n",
    "    if mode is \"unipolar\":\n",
    "        quotient = torch.rand(1, col).mul(2**bitwidth).round().div(2**bitwidth).to(device)\n",
    "        divisor = torch.rand(1, col).mul(2**bitwidth).round().div(2**bitwidth).to(device)\n",
    "    elif mode is \"bipolar\":\n",
    "        quotient = torch.rand(1, col).mul(2).sub(1).mul(2**bitwidth).round().div(2**bitwidth).to(device)\n",
    "        divisor = torch.rand(1, col).mul(2).sub(1).mul(2**bitwidth).round().div(2**bitwidth).to(device)\n",
    "\n",
    "    dut_div = GainesDiv(buf_dep=5, mode=mode, rng=\"Sobol\", rng_dim=2, bstype=torch.float).to(device)\n",
    "\n",
    "    dividend = torch.mul(quotient, divisor).to(device)\n",
    "\n",
    "    quotientPE = ProgressiveError(quotient, mode=mode).to(device)\n",
    "\n",
    "    dividendPE = ProgressiveError(dividend, mode=mode).to(device)\n",
    "    dividendSRC = SourceGen(dividend, bitwidth, mode=mode, randtype=randtype)().to(device)\n",
    "    dividendRNG = RNG(bitwidth, 1, rng, randtype)().to(device)\n",
    "    dividendBS = BSGen(dividendSRC, dividendRNG, bstype).to(device)\n",
    "    \n",
    "    divisorPE  = ProgressiveError(divisor,  mode=mode).to(device)\n",
    "    divisorSRC = SourceGen(divisor, bitwidth, mode=mode, randtype=randtype)().to(device)\n",
    "    divisorRNG = RNG(bitwidth, 1, rng, randtype)().to(device)\n",
    "    divisorBS = BSGen(divisorSRC, divisorRNG, bstype).to(device)\n",
    "\n",
    "    with torch.no_grad():\n",
    "        start_time = time.time()\n",
    "        print(\"scnt:\", dut_div.scnt)\n",
    "        for i in range(2**bitwidth):\n",
    "            dividend_bs = dividendBS(torch.tensor([i]))\n",
    "            dividendPE.Monitor(dividend_bs)\n",
    "\n",
    "            divisor_bs = divisorBS(torch.tensor([i]))\n",
    "            divisorPE.Monitor(divisor_bs)\n",
    "            \n",
    "            quotient_bs = dut_div(dividend_bs, divisor_bs)   \n",
    "            quotientPE.Monitor(quotient_bs)\n",
    "        print(\"--- %s seconds ---\" % (time.time() - start_time))\n",
    "        print(\"dividend error: \", torch.min(dividendPE()[1]), torch.max(dividendPE()[1]))\n",
    "        print(\"divisor  error: \", torch.min(divisorPE()[1]), torch.max(divisorPE()[1]))\n",
    "        \n",
    "        print(\"quotient error: \", torch.min(quotientPE()[1]), torch.max(quotientPE()[1]))\n",
    "        \n",
    "        print(\"dividend:\", dividend)\n",
    "        print(\"divisor:\", divisor)\n",
    "        print(\"quotient:\", quotient)\n",
    "\n",
    "        print(\"scnt:\", dut_div.scnt)\n",
    "        \n",
    "        result_pe = quotientPE()[1].view(-1).cpu().numpy()\n",
    "        print(\"RMSE\", math.sqrt(sum(result_pe**2)/len(result_pe)))\n",
    "        print(\"MAE\", np.mean(np.abs(result_pe)))\n",
    "        print(\"bias\", np.mean(result_pe))\n",
    "        fig = plt.hist(result_pe, bins='auto')  # arguments are passed to np.histogram\n",
    "        plt.title(\"Histogram for final output error\")\n",
    "        plt.show()"
   ]
  },
  {
   "cell_type": "code",
   "execution_count": null,
   "metadata": {},
   "outputs": [],
   "source": []
  }
 ],
 "metadata": {
  "kernelspec": {
   "display_name": "Python 3",
   "language": "python",
   "name": "python3"
  },
  "language_info": {
   "codemirror_mode": {
    "name": "ipython",
    "version": 3
   },
   "file_extension": ".py",
   "mimetype": "text/x-python",
   "name": "python",
   "nbconvert_exporter": "python",
   "pygments_lexer": "ipython3",
   "version": "3.7.3"
  }
 },
 "nbformat": 4,
 "nbformat_minor": 2
}
