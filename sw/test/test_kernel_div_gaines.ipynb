{
 "cells": [
  {
   "cell_type": "code",
   "execution_count": 1,
   "metadata": {},
   "outputs": [],
   "source": [
    "%load_ext autoreload\n",
    "%autoreload 2"
   ]
  },
  {
   "cell_type": "code",
   "execution_count": 2,
   "metadata": {},
   "outputs": [],
   "source": [
    "import torch\n",
    "from UnarySim.sw.kernel.div import GainesDiv\n",
    "from UnarySim.sw.bitstream.gen import RNG, SourceGen, BSGen\n",
    "from UnarySim.sw.metric.metric import ProgressiveError\n",
    "import matplotlib.pyplot as plt\n",
    "import time\n",
    "import math\n",
    "import numpy as np"
   ]
  },
  {
   "cell_type": "code",
   "execution_count": 3,
   "metadata": {},
   "outputs": [],
   "source": [
    "device = torch.device(\"cuda:0\" if torch.cuda.is_available() else \"cpu\")\n",
    "rng = \"Sobol\""
   ]
  },
  {
   "cell_type": "code",
   "execution_count": 4,
   "metadata": {},
   "outputs": [
    {
     "name": "stdout",
     "output_type": "stream",
     "text": [
      "scnt: Parameter containing:\n",
      "tensor([16.], device='cuda:0')\n",
      "--- 0.4779994487762451 seconds ---\n",
      "dividend error:  tensor(-0.0058, device='cuda:0') tensor(0.0020, device='cuda:0')\n",
      "divisor  error:  tensor(-0.0039, device='cuda:0') tensor(0., device='cuda:0')\n",
      "quotient error:  tensor(-0.5000, device='cuda:0') tensor(0.4961, device='cuda:0')\n",
      "dividend: tensor([[0.2335, 0.1184, 0.5200,  ..., 0.4356, 0.0184, 0.1276]],\n",
      "       device='cuda:0')\n",
      "divisor: tensor([[0.7031, 0.7578, 0.7695,  ..., 0.4766, 0.9414, 0.4805]],\n",
      "       device='cuda:0')\n",
      "quotient: tensor([[0.3320, 0.1562, 0.6758,  ..., 0.9141, 0.0195, 0.2656]],\n",
      "       device='cuda:0')\n",
      "scnt: Parameter containing:\n",
      "tensor([[11.,  6., 22.,  ..., 30.,  3., 10.]], device='cuda:0')\n",
      "RMSE 0.12370628124131243\n",
      "MAE 0.08977969\n",
      "bias -0.0015257812\n"
     ]
    },
    {
     "data": {
      "image/png": "[encoded data removed]",
      "text/plain": [
       "<Figure size 432x288 with 1 Axes>"
      ]
     },
     "metadata": {
      "needs_background": "light"
     },
     "output_type": "display_data"
    },
    {
     "name": "stdout",
     "output_type": "stream",
     "text": [
      "scnt: Parameter containing:\n",
      "tensor([16.], device='cuda:0')\n",
      "--- 0.5789992809295654 seconds ---\n",
      "dividend error:  tensor(-0.0078, device='cuda:0') tensor(0.0039, device='cuda:0')\n",
      "divisor  error:  tensor(-0.0078, device='cuda:0') tensor(0.0039, device='cuda:0')\n",
      "quotient error:  tensor(-0.4766, device='cuda:0') tensor(1.6055, device='cuda:0')\n",
      "dividend: tensor([[-0.1212, -0.2953,  0.5978,  ..., -0.0674,  0.1088, -0.3809]],\n",
      "       device='cuda:0')\n",
      "divisor: tensor([[-0.5352, -0.9219, -0.6484,  ...,  0.1836, -0.2109,  0.9375]],\n",
      "       device='cuda:0')\n",
      "quotient: tensor([[ 0.2266,  0.3203, -0.9219,  ..., -0.3672, -0.5156, -0.4062]],\n",
      "       device='cuda:0')\n",
      "scnt: Parameter containing:\n",
      "tensor([[30., 24.,  9.,  ..., 18., 31., 11.]], device='cuda:0')\n",
      "RMSE 0.5317603419580073\n",
      "MAE 0.40767968\n",
      "bias 0.38718984\n"
     ]
    },
    {
     "data": {
      "image/png": "[encoded data removed]",
      "text/plain": [
       "<Figure size 432x288 with 1 Axes>"
      ]
     },
     "metadata": {
      "needs_background": "light"
     },
     "output_type": "display_data"
    }
   ],
   "source": [
    "col = 10000\n",
    "modes = [\"unipolar\", \"bipolar\"]\n",
    "static = True\n",
    "bitwidth = 8\n",
    "bstype = torch.float\n",
    "randtype = torch.float\n",
    "\n",
    "for mode in modes:\n",
    "    if mode is \"unipolar\":\n",
    "        quotient = torch.rand(1, col).mul(2**bitwidth).round().div(2**bitwidth).to(device)\n",
    "        divisor = torch.rand(1, col).mul(2**bitwidth).round().div(2**bitwidth).to(device)\n",
    "    elif mode is \"bipolar\":\n",
    "        quotient = torch.rand(1, col).mul(2).sub(1).mul(2**bitwidth).round().div(2**bitwidth).to(device)\n",
    "        divisor = torch.rand(1, col).mul(2).sub(1).mul(2**bitwidth).round().div(2**bitwidth).to(device)\n",
    "\n",
    "    dut_div = GainesDiv(buf_dep=5, mode=mode, rng=\"Sobol\", rng_dim=2, bstype=torch.float).to(device)\n",
    "\n",
    "    dividend = torch.mul(quotient, divisor).to(device)\n",
    "\n",
    "    quotientPE = ProgressiveError(quotient, mode=mode).to(device)\n",
    "\n",
    "    dividendPE = ProgressiveError(dividend, mode=mode).to(device)\n",
    "    dividendSRC = SourceGen(dividend, bitwidth, mode=mode, randtype=randtype)().to(device)\n",
    "    dividendRNG = RNG(bitwidth, 1, rng, randtype)().to(device)\n",
    "    dividendBS = BSGen(dividendSRC, dividendRNG, bstype).to(device)\n",
    "    \n",
    "    divisorPE  = ProgressiveError(divisor,  mode=mode).to(device)\n",
    "    divisorSRC = SourceGen(divisor, bitwidth, mode=mode, randtype=randtype)().to(device)\n",
    "    divisorRNG = RNG(bitwidth, 1, rng, randtype)().to(device)\n",
    "    divisorBS = BSGen(divisorSRC, divisorRNG, bstype).to(device)\n",
    "\n",
    "    with torch.no_grad():\n",
    "        start_time = time.time()\n",
    "        print(\"scnt:\", dut_div.scnt)\n",
    "        for i in range(2**bitwidth):\n",
    "            dividend_bs = dividendBS(torch.tensor([i]))\n",
    "            dividendPE.Monitor(dividend_bs)\n",
    "\n",
    "            divisor_bs = divisorBS(torch.tensor([i]))\n",
    "            divisorPE.Monitor(divisor_bs)\n",
    "            \n",
    "            quotient_bs = dut_div(dividend_bs, divisor_bs)   \n",
    "            quotientPE.Monitor(quotient_bs)\n",
    "        print(\"--- %s seconds ---\" % (time.time() - start_time))\n",
    "        print(\"dividend error: \", torch.min(dividendPE()[1]), torch.max(dividendPE()[1]))\n",
    "        print(\"divisor  error: \", torch.min(divisorPE()[1]), torch.max(divisorPE()[1]))\n",
    "        \n",
    "        print(\"quotient error: \", torch.min(quotientPE()[1]), torch.max(quotientPE()[1]))\n",
    "        \n",
    "        print(\"dividend:\", dividend)\n",
    "        print(\"divisor:\", divisor)\n",
    "        print(\"quotient:\", quotient)\n",
    "\n",
    "        print(\"scnt:\", dut_div.scnt)\n",
    "        \n",
    "        result_pe = quotientPE()[1].view(-1).cpu().numpy()\n",
    "        print(\"RMSE\", math.sqrt(sum(result_pe**2)/len(result_pe)))\n",
    "        print(\"MAE\", np.mean(np.abs(result_pe)))\n",
    "        print(\"bias\", np.mean(result_pe))\n",
    "        fig = plt.hist(result_pe, bins='auto')  # arguments are passed to np.histogram\n",
    "        plt.title(\"Histogram for final output error\")\n",
    "        plt.show()"
   ]
  },
  {
   "cell_type": "code",
   "execution_count": null,
   "metadata": {},
   "outputs": [],
   "source": []
  }
 ],
 "metadata": {
  "kernelspec": {
   "display_name": "Python 3",
   "language": "python",
   "name": "python3"
  },
  "language_info": {
   "codemirror_mode": {
    "name": "ipython",
    "version": 3
   },
   "file_extension": ".py",
   "mimetype": "text/x-python",
   "name": "python",
   "nbconvert_exporter": "python",
   "pygments_lexer": "ipython3",
   "version": "3.7.3"
  }
 },
 "nbformat": 4,
 "nbformat_minor": 2
}
