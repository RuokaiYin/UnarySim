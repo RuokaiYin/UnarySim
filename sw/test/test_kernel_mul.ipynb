{
 "cells": [
  {
   "cell_type": "code",
   "execution_count": 1,
   "metadata": {},
   "outputs": [],
   "source": [
    "import torch\n",
    "from UnarySim.sw.kernel.mul import UnaryMul\n",
    "from UnarySim.sw.bitstream.gen import RNG, SourceGen, BSGen\n",
    "from UnarySim.sw.metric.metric import ProgressiveError\n",
    "import matplotlib.pyplot as plt\n",
    "import time"
   ]
  },
  {
   "cell_type": "code",
   "execution_count": 2,
   "metadata": {},
   "outputs": [],
   "source": [
    "device = torch.device(\"cuda:0\" if torch.cuda.is_available() else \"cpu\")\n",
    "# device = \"cpu\"\n",
    "rng = \"Sobol\""
   ]
  },
  {
   "cell_type": "code",
   "execution_count": 9,
   "metadata": {},
   "outputs": [
    {
     "name": "stdout",
     "output_type": "stream",
     "text": [
      "--- 0.23599934577941895 seconds ---\n",
      "input error:  tensor(-0.0039, device='cuda:0') tensor(0.0039, device='cuda:0')\n",
      "output error:  tensor(-0.0273, device='cuda:0') tensor(0.0273, device='cuda:0')\n",
      "[ 0.         -0.0078125   0.01171875 ... -0.0078125  -0.01171875\n",
      " -0.0078125 ]\n"
     ]
    }
   ],
   "source": [
    "col = 10000\n",
    "mode = \"bipolar\"\n",
    "static = True\n",
    "bitwidth = 8\n",
    "\n",
    "if mode is \"unipolar\":\n",
    "    input_prob = torch.rand(col).mul(2**bitwidth).round().div(2**bitwidth).to(device)\n",
    "elif mode is \"bipolar\":\n",
    "    input_prob = torch.rand(col).mul(2).sub(1).mul(2**bitwidth).round().div(2**bitwidth).to(device)\n",
    "\n",
    "# print(input_prob)\n",
    "# print(iVec)\n",
    "# print(oVec)\n",
    "\n",
    "\n",
    "dut_mul = UnaryMul(bitwidth,mode,static,input_prob).to(device)\n",
    "\n",
    "# if mode is \"unipolar\":\n",
    "iVec = torch.rand(col).mul(2**bitwidth).round().div(2**bitwidth).to(device)\n",
    "# elif mode is \"bipolar\":\n",
    "#     iVec = torch.rand(col).mul(2).sub(1).mul(2**bitwidth).round().div(2**bitwidth).to(device)\n",
    "\n",
    "# oVec = torch.mul(iVec, input_prob).mul(2).sub(1).mul(2**bitwidth).round().div(2**bitwidth).to(device)\n",
    "oVec = torch.mul(iVec, input_prob).mul(2**bitwidth).round().div(2**bitwidth).to(device)\n",
    "\n",
    "\n",
    "\n",
    "iVecPE = ProgressiveError(iVec, mode=mode).to(device)\n",
    "oVecPE = ProgressiveError(oVec, mode=mode).to(device)\n",
    "\n",
    "iVecSource = SourceGen(iVec, bitwidth, mode=mode)().to(device)\n",
    "iVecRNG = RNG(bitwidth, 1, rng)().to(device)\n",
    "iVecBS = BSGen(iVecSource, iVecRNG).to(device)\n",
    "\n",
    "with torch.no_grad():\n",
    "    start_time = time.time()\n",
    "    for i in range(2**bitwidth):\n",
    "        #print(i)\n",
    "        iBS = iVecBS(i)\n",
    "        iVecPE.Monitor(iBS)\n",
    "        oVecU = dut_mul(iBS)   \n",
    "        oVecPE.Monitor(oVecU)\n",
    "#         print(iBS)\n",
    "#         print(oVecU)\n",
    "    print(\"--- %s seconds ---\" % (time.time() - start_time))\n",
    "    print(\"input error: \", torch.min(iVecPE()[1]), torch.max(iVecPE()[1]))\n",
    "    print(\"output error: \", torch.min(oVecPE()[1]), torch.max(oVecPE()[1]))\n",
    "    result_pe = oVecPE()[1].cpu().numpy()\n",
    "    print(result_pe)"
   ]
  },
  {
   "cell_type": "code",
   "execution_count": 10,
   "metadata": {},
   "outputs": [
    {
     "data": {
      "image/png": "[encoded data removed]",
      "text/plain": [
       "<Figure size 432x288 with 1 Axes>"
      ]
     },
     "metadata": {
      "needs_background": "light"
     },
     "output_type": "display_data"
    }
   ],
   "source": [
    "fig = plt.hist(result_pe, bins='auto')  # arguments are passed to np.histogram\n",
    "plt.title(\"Histogram for final output error\")\n",
    "plt.show()\n",
    "\n"
   ]
  },
  {
   "cell_type": "code",
   "execution_count": null,
   "metadata": {},
   "outputs": [],
   "source": []
  }
 ],
 "metadata": {
  "kernelspec": {
   "display_name": "Python 3",
   "language": "python",
   "name": "python3"
  },
  "language_info": {
   "codemirror_mode": {
    "name": "ipython",
    "version": 3
   },
   "file_extension": ".py",
   "mimetype": "text/x-python",
   "name": "python",
   "nbconvert_exporter": "python",
   "pygments_lexer": "ipython3",
   "version": "3.7.3"
  }
 },
 "nbformat": 4,
 "nbformat_minor": 2
}
