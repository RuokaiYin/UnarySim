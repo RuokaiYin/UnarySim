{
 "cells": [
  {
   "cell_type": "code",
   "execution_count": 1,
   "metadata": {},
   "outputs": [],
   "source": [
    "%load_ext autoreload\n",
    "%autoreload 2"
   ]
  },
  {
   "cell_type": "code",
   "execution_count": 2,
   "metadata": {},
   "outputs": [],
   "source": [
    "import torch\n",
    "from UnarySim.sw.kernel.relu import UnaryReLU\n",
    "from UnarySim.sw.bitstream.gen import RNG, SourceGen, BSGen\n",
    "from UnarySim.sw.metric.metric import ProgressiveError\n",
    "import matplotlib.pyplot as plt\n",
    "import time\n"
   ]
  },
  {
   "cell_type": "code",
   "execution_count": 3,
   "metadata": {},
   "outputs": [],
   "source": [
    "device = torch.device(\"cuda:0\" if torch.cuda.is_available() else \"cpu\")"
   ]
  },
  {
   "cell_type": "code",
   "execution_count": 4,
   "metadata": {},
   "outputs": [
    {
     "name": "stdout",
     "output_type": "stream",
     "text": [
      "--- 0.2559814453125 seconds ---\n",
      "input tensor([-0.3242,  0.2773, -0.0820,  ..., -0.3398,  0.4141, -0.1797],\n",
      "       device='cuda:0')\n",
      "real output tensor([0.0000, 0.2773, 0.0000,  ..., 0.0000, 0.4141, 0.0000], device='cuda:0')\n",
      "--- 0.19699978828430176 seconds ---\n",
      "final input error:  tensor(-0.0039, device='cuda:0') tensor(0.0039, device='cuda:0')\n",
      "final output error: tensor(-0.0078, device='cuda:0') tensor(0.1328, device='cuda:0')\n",
      "final output pp: tensor([0.0156, 0.2812, 0.0625,  ..., 0.0156, 0.4141, 0.1016], device='cuda:0')\n",
      "final output pe: tensor([0.0156, 0.0039, 0.0625,  ..., 0.0156, 0.0000, 0.1016], device='cuda:0')\n"
     ]
    }
   ],
   "source": [
    "rng = \"Sobol\"\n",
    "encode = \"RC\"\n",
    "\n",
    "# rng = \"Race\"\n",
    "# encode = \"TC\"\n",
    "\n",
    "in_dim = 1024\n",
    "\n",
    "mode = \"bipolar\"\n",
    "bitwidth = 8\n",
    "buf_dep = 8\n",
    "sr = True\n",
    "bstype = torch.float\n",
    "buftype = torch.float\n",
    "randtype = torch.float\n",
    "\n",
    "uReLU = UnaryReLU(buf_dep=buf_dep, bitwidth=bitwidth, encode=encode, shiftreg=sr, bstype=bstype, buftype=buftype).to(device)\n",
    "\n",
    "iVec = ((torch.rand(in_dim)*(2**bitwidth)).round()/(2**bitwidth) - 0.5).to(device)\n",
    "start_time = time.time()\n",
    "oVec = torch.nn.ReLU()(iVec)\n",
    "print(\"--- %s seconds ---\" % (((time.time() - start_time))*2**bitwidth))\n",
    "\n",
    "print(\"input\", iVec)\n",
    "print(\"real output\", oVec)\n",
    "        \n",
    "iVecSource = SourceGen(iVec, bitwidth=bitwidth, mode=mode, randtype=randtype)().to(device)\n",
    "\n",
    "iVecRNG = RNG(bitwidth, 1, rng, randtype)().to(device)\n",
    "iVecBS = BSGen(iVecSource, iVecRNG, bstype).to(device)\n",
    "\n",
    "iVecPE = ProgressiveError(iVec, mode=mode).to(device)\n",
    "oVecPE = ProgressiveError(oVec, mode=mode).to(device)\n",
    "\n",
    "with torch.no_grad():\n",
    "    idx = torch.zeros(iVecSource.size()).type(torch.long).to(device)\n",
    "    start_time = time.time()\n",
    "    for i in range((2**bitwidth)):\n",
    "        iBS = iVecBS(idx + i)\n",
    "        iVecPE.Monitor(iBS)\n",
    "\n",
    "        oVecU = uReLU(iBS)\n",
    "        oVecPE.Monitor(oVecU)\n",
    "#         print(i)\n",
    "#         print(\"in bs       \", iBS)\n",
    "#         print(\"internal acc\", uReLU.acc.data)\n",
    "#         print(\"out bs      \", oVecU)\n",
    "\n",
    "    print(\"--- %s seconds ---\" % (time.time() - start_time))\n",
    "    print(\"final input error: \", min(iVecPE()[1]), max(iVecPE()[1]))\n",
    "    print(\"final output error:\", min(oVecPE()[1]), max(oVecPE()[1]))\n",
    "    print(\"final output pp:\", oVecPE()[0].data)\n",
    "    print(\"final output pe:\", oVecPE()[1].data)\n",
    "    \n",
    "    result_pe = oVecPE()[1].cpu().numpy()"
   ]
  },
  {
   "cell_type": "code",
   "execution_count": 5,
   "metadata": {},
   "outputs": [
    {
     "data": {
      "image/png": "[encoded data removed]",
      "text/plain": [
       "<Figure size 432x288 with 1 Axes>"
      ]
     },
     "metadata": {
      "needs_background": "light"
     },
     "output_type": "display_data"
    }
   ],
   "source": [
    "fig = plt.hist(result_pe, bins='auto')  # arguments are passed to np.histogram\n",
    "plt.title(\"Histogram for final output error\")\n",
    "plt.show()"
   ]
  },
  {
   "cell_type": "code",
   "execution_count": null,
   "metadata": {},
   "outputs": [],
   "source": []
  },
  {
   "cell_type": "code",
   "execution_count": null,
   "metadata": {},
   "outputs": [],
   "source": []
  }
 ],
 "metadata": {
  "kernelspec": {
   "display_name": "Python 3",
   "language": "python",
   "name": "python3"
  },
  "language_info": {
   "codemirror_mode": {
    "name": "ipython",
    "version": 3
   },
   "file_extension": ".py",
   "mimetype": "text/x-python",
   "name": "python",
   "nbconvert_exporter": "python",
   "pygments_lexer": "ipython3",
   "version": "3.7.3"
  }
 },
 "nbformat": 4,
 "nbformat_minor": 2
}
