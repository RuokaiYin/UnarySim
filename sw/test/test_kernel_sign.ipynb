{
 "cells": [
  {
   "cell_type": "code",
   "execution_count": 1,
   "metadata": {},
   "outputs": [],
   "source": [
    "%load_ext autoreload\n",
    "%autoreload 2"
   ]
  },
  {
   "cell_type": "code",
   "execution_count": 2,
   "metadata": {},
   "outputs": [],
   "source": [
    "import torch\n",
    "from UnarySim.sw.kernel.sign import UnarySign\n",
    "from UnarySim.sw.bitstream.gen import RNG, SourceGen, BSGen\n",
    "from UnarySim.sw.metric.metric import ProgressiveError\n",
    "import matplotlib.pyplot as plt\n",
    "import time\n"
   ]
  },
  {
   "cell_type": "code",
   "execution_count": 3,
   "metadata": {},
   "outputs": [],
   "source": [
    "device = torch.device(\"cuda:0\" if torch.cuda.is_available() else \"cpu\")"
   ]
  },
  {
   "cell_type": "code",
   "execution_count": 4,
   "metadata": {
    "scrolled": true
   },
   "outputs": [
    {
     "name": "stdout",
     "output_type": "stream",
     "text": [
      "--- 0.0 seconds ---\n",
      "input tensor([ 0.3789,  0.3789,  0.8516,  ..., -0.4648, -0.7383, -0.0938],\n",
      "       device='cuda:0')\n",
      "real output tensor([0., 0., 0.,  ..., 1., 1., 1.], device='cuda:0')\n",
      "--- 0.1719989776611328 seconds ---\n",
      "final input error:  tensor(-0.0078, device='cuda:0') tensor(0.0039, device='cuda:0')\n",
      "final output error: tensor(-0.2500, device='cuda:0') tensor(0.7500, device='cuda:0')\n",
      "final output pp: tensor([0.0000, 0.0000, 0.0000,  ..., 0.9961, 0.9961, 0.9805], device='cuda:0')\n",
      "final output pe: tensor([ 0.0000,  0.0000,  0.0000,  ..., -0.0039, -0.0039, -0.0195],\n",
      "       device='cuda:0')\n",
      "final output mean error: tensor(-0.0011, device='cuda:0')\n"
     ]
    }
   ],
   "source": [
    "rng = \"Sobol\"\n",
    "\n",
    "in_dim = 1024\n",
    "\n",
    "mode = \"bipolar\"\n",
    "bitwidth = 8\n",
    "buf_dep = 4\n",
    "sr = False\n",
    "bstype = torch.float\n",
    "buftype = torch.float\n",
    "randtype = torch.float\n",
    "\n",
    "uSign = UnarySign(depth=buf_dep, shiftreg=sr, bstype=bstype, buftype=buftype).to(device)\n",
    "\n",
    "iVec = (((torch.rand(in_dim)*2-1)*(2**bitwidth)).round()/(2**bitwidth)).to(device)\n",
    "start_time = time.time()\n",
    "oVec = torch.lt(iVec, 0).type(bstype)\n",
    "print(\"--- %s seconds ---\" % (((time.time() - start_time))*2**bitwidth))\n",
    "\n",
    "print(\"input\", iVec)\n",
    "print(\"real output\", oVec)\n",
    "        \n",
    "iVecSource = SourceGen(iVec, bitwidth=bitwidth, mode=mode, randtype=randtype)().to(device)\n",
    "\n",
    "iVecRNG = RNG(bitwidth, 1, rng, randtype)().to(device)\n",
    "iVecBS = BSGen(iVecSource, iVecRNG, bstype).to(device)\n",
    "\n",
    "iVecPE = ProgressiveError(iVec, mode=mode).to(device)\n",
    "oVecPE = ProgressiveError(oVec, mode=\"unipolar\").to(device)\n",
    "\n",
    "with torch.no_grad():\n",
    "    idx = torch.zeros(iVecSource.size()).type(torch.long).to(device)\n",
    "    start_time = time.time()\n",
    "    for i in range((2**bitwidth)):\n",
    "        iBS = iVecBS(idx + i)\n",
    "        iVecPE.Monitor(iBS)\n",
    "\n",
    "        oVecU = uSign(iBS)\n",
    "        oVecPE.Monitor(oVecU)\n",
    "#         print(iBS, oVecU, uSign.acc.data)\n",
    "    print(\"--- %s seconds ---\" % (time.time() - start_time))\n",
    "    print(\"final input error: \", min(iVecPE()[1]), max(iVecPE()[1]))\n",
    "    print(\"final output error:\", min(oVecPE()[1]), max(oVecPE()[1]))\n",
    "    print(\"final output pp:\", oVecPE()[0].data)\n",
    "    print(\"final output pe:\", oVecPE()[1].data)\n",
    "    print(\"final output mean error:\", oVecPE()[1].mean())\n",
    "    \n",
    "    result_pe = oVecPE()[1].cpu().numpy()"
   ]
  },
  {
   "cell_type": "code",
   "execution_count": 5,
   "metadata": {},
   "outputs": [
    {
     "data": {
      "image/png": "[encoded data removed]",
      "text/plain": [
       "<Figure size 432x288 with 1 Axes>"
      ]
     },
     "metadata": {
      "needs_background": "light"
     },
     "output_type": "display_data"
    }
   ],
   "source": [
    "fig = plt.hist(result_pe, bins='auto')  # arguments are passed to np.histogram\n",
    "plt.title(\"Histogram for final output error\")\n",
    "plt.show()"
   ]
  },
  {
   "cell_type": "code",
   "execution_count": 6,
   "metadata": {},
   "outputs": [
    {
     "name": "stdout",
     "output_type": "stream",
     "text": [
      "[ 0.          0.          0.         ... -0.00390625 -0.00390625\n",
      " -0.01953125]\n",
      "655 421\n",
      "-0.25 0.75\n",
      "tensor(-0.0039, device='cuda:0') tensor(-0., device='cuda:0')\n"
     ]
    }
   ],
   "source": [
    "print(result_pe)\n",
    "print(result_pe.argmin(), result_pe.argmax())\n",
    "print(result_pe[result_pe.argmin()], result_pe[result_pe.argmax()])\n",
    "print(iVec[result_pe.argmin()], iVec[result_pe.argmax()])"
   ]
  },
  {
   "cell_type": "code",
   "execution_count": 7,
   "metadata": {},
   "outputs": [
    {
     "name": "stdout",
     "output_type": "stream",
     "text": [
      "tensor(8., device='cuda:0') tensor(8., device='cuda:0')\n"
     ]
    }
   ],
   "source": [
    "print(uSign.acc[result_pe.argmin()], uSign.acc[result_pe.argmax()])"
   ]
  },
  {
   "cell_type": "code",
   "execution_count": null,
   "metadata": {},
   "outputs": [],
   "source": []
  }
 ],
 "metadata": {
  "kernelspec": {
   "display_name": "Python 3",
   "language": "python",
   "name": "python3"
  },
  "language_info": {
   "codemirror_mode": {
    "name": "ipython",
    "version": 3
   },
   "file_extension": ".py",
   "mimetype": "text/x-python",
   "name": "python",
   "nbconvert_exporter": "python",
   "pygments_lexer": "ipython3",
   "version": "3.7.3"
  }
 },
 "nbformat": 4,
 "nbformat_minor": 2
}
