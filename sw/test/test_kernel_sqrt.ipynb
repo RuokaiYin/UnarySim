{
 "cells": [
  {
   "cell_type": "code",
   "execution_count": 1,
   "metadata": {},
   "outputs": [],
   "source": [
    "%load_ext autoreload\n",
    "%autoreload 2"
   ]
  },
  {
   "cell_type": "code",
   "execution_count": 2,
   "metadata": {},
   "outputs": [],
   "source": [
    "import os\n",
    "os.environ['CUDA_LAUNCH_BLOCKING'] = \"1\"\n",
    "\n",
    "import torch\n",
    "from UnarySim.sw.kernel.sqrt import UnarySqrt\n",
    "from UnarySim.sw.bitstream.gen import RNG, SourceGen, BSGen\n",
    "from UnarySim.sw.metric.metric import ProgressiveError\n",
    "import matplotlib.pyplot as plt\n",
    "import time\n",
    "import math\n",
    "import numpy as np"
   ]
  },
  {
   "cell_type": "code",
   "execution_count": 3,
   "metadata": {},
   "outputs": [],
   "source": [
    "device = torch.device(\"cuda:0\" if torch.cuda.is_available() else \"cpu\")\n",
    "rng = \"Sobol\""
   ]
  },
  {
   "cell_type": "code",
   "execution_count": 4,
   "metadata": {
    "scrolled": false
   },
   "outputs": [
    {
     "name": "stdout",
     "output_type": "stream",
     "text": [
      "tensor([[0.4902, 0.6719, 0.5137,  ..., 0.7803, 0.7451, 0.8740]],\n",
      "       device='cuda:0')\n",
      "7\n",
      "--- 1.1580116748809814 seconds ---\n",
      "input error:  tensor(-0.0020, device='cuda:0') tensor(0.0020, device='cuda:0')\n",
      "output error:  tensor(-0.0024, device='cuda:0') tensor(0.1875, device='cuda:0')\n",
      "input: tensor([[0.4902, 0.6719, 0.5137,  ..., 0.7803, 0.7451, 0.8740]],\n",
      "       device='cuda:0')\n",
      "output: tensor([[0.7002, 0.8197, 0.7167,  ..., 0.8833, 0.8632, 0.9349]],\n",
      "       device='cuda:0')\n",
      "output pp:  Parameter containing:\n",
      "tensor([[0.7500, 0.8438, 0.7578,  ..., 0.8906, 0.8711, 0.9375]],\n",
      "       device='cuda:0')\n",
      "RMSE 0.07245598619916264\n",
      "MAE 0.048359703\n",
      "bias 0.048165277\n"
     ]
    },
    {
     "data": {
      "image/png": "[encoded data removed]",
      "text/plain": [
       "<Figure size 432x288 with 1 Axes>"
      ]
     },
     "metadata": {
      "needs_background": "light"
     },
     "output_type": "display_data"
    },
    {
     "name": "stdout",
     "output_type": "stream",
     "text": [
      "tensor([[0.3086, 0.8477, 0.9326,  ..., 0.3965, 0.3760, 0.3057]],\n",
      "       device='cuda:0')\n",
      "7\n",
      "--- 1.4870119094848633 seconds ---\n",
      "input error:  tensor(-0.0039, device='cuda:0') tensor(0.0039, device='cuda:0')\n",
      "output error:  tensor(-0.0634, device='cuda:0') tensor(0.1008, device='cuda:0')\n",
      "input: tensor([[0.3086, 0.8477, 0.9326,  ..., 0.3965, 0.3760, 0.3057]],\n",
      "       device='cuda:0')\n",
      "output: tensor([[0.5555, 0.9207, 0.9657,  ..., 0.6297, 0.6132, 0.5529]],\n",
      "       device='cuda:0')\n",
      "output pp:  Parameter containing:\n",
      "tensor([[0.6016, 0.9219, 0.9609,  ..., 0.7266, 0.7109, 0.5859]],\n",
      "       device='cuda:0')\n",
      "RMSE 0.04038102942080855\n",
      "MAE 0.028468305\n",
      "bias 0.023459785\n"
     ]
    },
    {
     "data": {
      "image/png": "[encoded data removed]",
      "text/plain": [
       "<Figure size 432x288 with 1 Axes>"
      ]
     },
     "metadata": {
      "needs_background": "light"
     },
     "output_type": "display_data"
    }
   ],
   "source": [
    "col = 10000\n",
    "modes = [\"unipolar\", \"bipolar\"]\n",
    "static = True\n",
    "bitwidth = 8\n",
    "bstype = torch.float\n",
    "randtype = torch.float\n",
    "jk_trace = False\n",
    "emit = True\n",
    "depth_emit = 3\n",
    "for mode in modes:\n",
    "    input = torch.rand(1, col).mul(2**bitwidth).round().div(2**bitwidth).to(device)\n",
    "    if emit is True:\n",
    "        input = (torch.rand(1, col).mul(2**bitwidth).round().div(2**bitwidth)*0.75+0.25).to(device)\n",
    "    print(input)\n",
    "    \n",
    "    dut_sqrt = UnarySqrt(mode=mode, jk_trace=jk_trace, depth=4, rng=\"Sobol\", rng_dim=4, emit=emit, depth_emit=depth_emit, bstype=torch.float).to(device)\n",
    "\n",
    "    output = torch.sqrt(input).to(device)\n",
    "\n",
    "    outPE = ProgressiveError(output, mode=mode).to(device)\n",
    "\n",
    "    inputPE = ProgressiveError(input, mode=mode).to(device)\n",
    "    inputSRC = SourceGen(input, bitwidth, mode=mode, randtype=randtype)().to(device)\n",
    "    inputRNG = RNG(bitwidth, 1, rng, randtype)().to(device)\n",
    "    inputBS = BSGen(inputSRC, inputRNG, bstype).to(device)\n",
    "    \n",
    "    with torch.no_grad():\n",
    "        start_time = time.time()\n",
    "        for i in range(2**bitwidth):\n",
    "            input_bs = inputBS(torch.tensor([i]))\n",
    "            inputPE.Monitor(input_bs)\n",
    "\n",
    "            out_bs = dut_sqrt(input_bs)\n",
    "            outPE.Monitor(out_bs)\n",
    "        print(\"--- %s seconds ---\" % (time.time() - start_time))\n",
    "        print(\"input error: \", torch.min(inputPE()[1]), torch.max(inputPE()[1]))\n",
    "        \n",
    "        print(\"output error: \", torch.min(outPE()[1]), torch.max(outPE()[1]))\n",
    "        \n",
    "        \n",
    "        print(\"input:\", input)\n",
    "        print(\"output:\", output)\n",
    "        print(\"output pp: \", outPE()[0])\n",
    "\n",
    "        result_pe = outPE()[1].view(-1).cpu().numpy()\n",
    "        print(\"RMSE\", math.sqrt(sum(result_pe**2)/len(result_pe)))\n",
    "        print(\"MAE\", np.mean(np.abs(result_pe)))\n",
    "        print(\"bias\", np.mean(result_pe))\n",
    "        fig = plt.hist(result_pe, bins='auto')  # arguments are passed to np.histogram\n",
    "        plt.title(\"Histogram for final output error\")\n",
    "        plt.show()"
   ]
  },
  {
   "cell_type": "code",
   "execution_count": null,
   "metadata": {},
   "outputs": [],
   "source": []
  }
 ],
 "metadata": {
  "kernelspec": {
   "display_name": "Python 3",
   "language": "python",
   "name": "python3"
  },
  "language_info": {
   "codemirror_mode": {
    "name": "ipython",
    "version": 3
   },
   "file_extension": ".py",
   "mimetype": "text/x-python",
   "name": "python",
   "nbconvert_exporter": "python",
   "pygments_lexer": "ipython3",
   "version": "3.7.3"
  }
 },
 "nbformat": 4,
 "nbformat_minor": 2
}
