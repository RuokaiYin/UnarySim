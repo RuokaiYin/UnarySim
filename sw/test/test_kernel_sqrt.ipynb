{
 "cells": [
  {
   "cell_type": "code",
   "execution_count": 1,
   "metadata": {},
   "outputs": [],
   "source": [
    "%load_ext autoreload\n",
    "%autoreload 2"
   ]
  },
  {
   "cell_type": "code",
   "execution_count": 2,
   "metadata": {},
   "outputs": [],
   "source": [
    "import torch\n",
    "from UnarySim.sw.kernel.sqrt import UnarySqrt\n",
    "from UnarySim.sw.bitstream.gen import RNG, SourceGen, BSGen\n",
    "from UnarySim.sw.metric.metric import ProgressiveError\n",
    "import matplotlib.pyplot as plt\n",
    "import time\n",
    "import math\n",
    "import numpy as np"
   ]
  },
  {
   "cell_type": "code",
   "execution_count": 3,
   "metadata": {},
   "outputs": [],
   "source": [
    "device = torch.device(\"cuda:0\" if torch.cuda.is_available() else \"cpu\")\n",
    "rng = \"Sobol\""
   ]
  },
  {
   "cell_type": "code",
   "execution_count": 4,
   "metadata": {
    "scrolled": false
   },
   "outputs": [],
   "source": [
    "def test(mode = \"unipolar\", bitwidth = 8, jk_trace = False, emit = True):\n",
    "    bstype = torch.float\n",
    "    randtype = torch.float\n",
    "    # input = torch.tensor([x for x in range(2**bitwidth)]).type(torch.float).div(2**bitwidth).to(device)\n",
    "    input = torch.tensor([x for x in range(2**(bitwidth-2), 2**bitwidth)]).type(torch.float).div(2**bitwidth).to(device)\n",
    "    print(\"min: \", input.min().item(), \"max: \", input.max().item())\n",
    "    \n",
    "    dut_sqrt = UnarySqrt(mode=mode, jk_trace=jk_trace, depth=4, rng=\"Sobol\", rng_dim=4, emit=emit, depth_emit=3, bstype=torch.float).to(device)\n",
    "\n",
    "    output = torch.sqrt(input).to(device)\n",
    "    outPE = ProgressiveError(output, mode=mode).to(device)\n",
    "\n",
    "    inputPE = ProgressiveError(input, mode=mode).to(device)\n",
    "    inputSRC = SourceGen(input, bitwidth, mode=mode, randtype=randtype)().to(device)\n",
    "    inputRNG = RNG(bitwidth, 1, rng, randtype)().to(device)\n",
    "    inputBS = BSGen(inputSRC, inputRNG, bstype).to(device)\n",
    "    \n",
    "    pp_rmse = []\n",
    "    \n",
    "    with torch.no_grad():\n",
    "        start_time = time.time()\n",
    "        for i in range(2**bitwidth):\n",
    "            input_bs = inputBS(torch.tensor([i]))\n",
    "            inputPE.Monitor(input_bs)\n",
    "\n",
    "            out_bs = dut_sqrt(input_bs)\n",
    "            outPE.Monitor(out_bs)\n",
    "            pp_rmse.append(1 - torch.sqrt(torch.mean(torch.mul(outPE()[1], outPE()[1]))).item())\n",
    "        print(\"--- %s seconds ---\" % (time.time() - start_time))\n",
    "        print(\"input error: \", torch.min(inputPE()[1]), torch.max(inputPE()[1]))\n",
    "        print(\"output error: \", torch.min(outPE()[1]), torch.max(outPE()[1]))\n",
    "        \n",
    "        \n",
    "        final_rmse = outPE()[1].view(-1).cpu().numpy()\n",
    "        print(\"RMSE\", math.sqrt(np.mean(final_rmse**2)))\n",
    "        print(\"MAE\", np.mean(np.abs(final_rmse)))\n",
    "        print(\"bias\", np.mean(final_rmse))\n",
    "        print(\"error distribution=========>\")\n",
    "        plt.figure(figsize=(3,1.5))\n",
    "        fig = plt.plot(input.cpu().numpy(), final_rmse)  # arguments are passed to np.histogram\n",
    "        plt.title(\"data: \"+mode)\n",
    "        plt.show()\n",
    "        \n",
    "        print(\"progressive accuracy=========>\")\n",
    "        plt.figure(figsize=(3,1.5))\n",
    "        fig = plt.plot(pp_rmse)  # arguments are passed to np.histogram\n",
    "        plt.title(\"data: \"+mode)\n",
    "        plt.show()"
   ]
  },
  {
   "cell_type": "code",
   "execution_count": 5,
   "metadata": {
    "scrolled": true
   },
   "outputs": [
    {
     "name": "stdout",
     "output_type": "stream",
     "text": [
      "min:  0.25 max:  0.99609375\n",
      "--- 1.0529978275299072 seconds ---\n",
      "input error:  tensor(-0.0039, device='cuda:0') tensor(0.0039, device='cuda:0')\n",
      "output error:  tensor(-0.0624, device='cuda:0') tensor(0.1018, device='cuda:0')\n",
      "RMSE 0.04126559870867847\n",
      "MAE 0.029366083\n",
      "bias 0.024102954\n",
      "error distribution=========>\n"
     ]
    },
    {
     "data": {
      "image/png": "[encoded data removed]",
      "text/plain": [
       "<Figure size 216x108 with 1 Axes>"
      ]
     },
     "metadata": {
      "needs_background": "light"
     },
     "output_type": "display_data"
    },
    {
     "name": "stdout",
     "output_type": "stream",
     "text": [
      "progressive accuracy=========>\n"
     ]
    },
    {
     "data": {
      "image/png": "[encoded data removed]",
      "text/plain": [
       "<Figure size 216x108 with 1 Axes>"
      ]
     },
     "metadata": {
      "needs_background": "light"
     },
     "output_type": "display_data"
    }
   ],
   "source": [
    "test(mode = \"bipolar\", bitwidth = 8, emit = True, jk_trace = False)"
   ]
  },
  {
   "cell_type": "code",
   "execution_count": 6,
   "metadata": {
    "scrolled": true
   },
   "outputs": [
    {
     "name": "stdout",
     "output_type": "stream",
     "text": [
      "min:  0.25 max:  0.99609375\n",
      "--- 0.5919992923736572 seconds ---\n",
      "input error:  tensor(-0.0039, device='cuda:0') tensor(0.0039, device='cuda:0')\n",
      "output error:  tensor(-0.1289, device='cuda:0') tensor(0.0457, device='cuda:0')\n",
      "RMSE 0.042497961509514015\n",
      "MAE 0.028194478\n",
      "bias -0.007269118\n",
      "error distribution=========>\n"
     ]
    },
    {
     "data": {
      "image/png": "[encoded data removed]",
      "text/plain": [
       "<Figure size 216x108 with 1 Axes>"
      ]
     },
     "metadata": {
      "needs_background": "light"
     },
     "output_type": "display_data"
    },
    {
     "name": "stdout",
     "output_type": "stream",
     "text": [
      "progressive accuracy=========>\n"
     ]
    },
    {
     "data": {
      "image/png": "[encoded data removed]",
      "text/plain": [
       "<Figure size 216x108 with 1 Axes>"
      ]
     },
     "metadata": {
      "needs_background": "light"
     },
     "output_type": "display_data"
    }
   ],
   "source": [
    "test(mode = \"bipolar\", bitwidth = 8, emit = False, jk_trace = True)"
   ]
  },
  {
   "cell_type": "code",
   "execution_count": 7,
   "metadata": {
    "scrolled": true
   },
   "outputs": [
    {
     "name": "stdout",
     "output_type": "stream",
     "text": [
      "min:  0.25 max:  0.99609375\n",
      "--- 0.6929976940155029 seconds ---\n",
      "input error:  tensor(-0.0039, device='cuda:0') tensor(0.0039, device='cuda:0')\n",
      "output error:  tensor(-0.0038, device='cuda:0') tensor(0.1250, device='cuda:0')\n",
      "RMSE 0.049758443213131186\n",
      "MAE 0.035299394\n",
      "bias 0.035048593\n",
      "error distribution=========>\n"
     ]
    },
    {
     "data": {
      "image/png": "[encoded data removed]",
      "text/plain": [
       "<Figure size 216x108 with 1 Axes>"
      ]
     },
     "metadata": {
      "needs_background": "light"
     },
     "output_type": "display_data"
    },
    {
     "name": "stdout",
     "output_type": "stream",
     "text": [
      "progressive accuracy=========>\n"
     ]
    },
    {
     "data": {
      "image/png": "[encoded data removed]",
      "text/plain": [
       "<Figure size 216x108 with 1 Axes>"
      ]
     },
     "metadata": {
      "needs_background": "light"
     },
     "output_type": "display_data"
    }
   ],
   "source": [
    "test(mode = \"bipolar\", bitwidth = 8, emit = False, jk_trace = False)"
   ]
  },
  {
   "cell_type": "code",
   "execution_count": null,
   "metadata": {},
   "outputs": [],
   "source": []
  }
 ],
 "metadata": {
  "kernelspec": {
   "display_name": "Python 3",
   "language": "python",
   "name": "python3"
  },
  "language_info": {
   "codemirror_mode": {
    "name": "ipython",
    "version": 3
   },
   "file_extension": ".py",
   "mimetype": "text/x-python",
   "name": "python",
   "nbconvert_exporter": "python",
   "pygments_lexer": "ipython3",
   "version": "3.7.3"
  }
 },
 "nbformat": 4,
 "nbformat_minor": 2
}
