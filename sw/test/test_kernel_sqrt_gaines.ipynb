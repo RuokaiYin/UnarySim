{
 "cells": [
  {
   "cell_type": "code",
   "execution_count": 1,
   "metadata": {},
   "outputs": [],
   "source": [
    "%load_ext autoreload\n",
    "%autoreload 2"
   ]
  },
  {
   "cell_type": "code",
   "execution_count": 2,
   "metadata": {},
   "outputs": [],
   "source": [
    "import torch\n",
    "from UnarySim.sw.kernel.sqrt import GainesSqrt\n",
    "from UnarySim.sw.bitstream.gen import RNG, SourceGen, BSGen\n",
    "from UnarySim.sw.metric.metric import ProgressiveError\n",
    "import matplotlib.pyplot as plt\n",
    "import time\n",
    "import math\n",
    "import numpy as np"
   ]
  },
  {
   "cell_type": "code",
   "execution_count": 3,
   "metadata": {},
   "outputs": [],
   "source": [
    "device = torch.device(\"cuda:0\" if torch.cuda.is_available() else \"cpu\")\n",
    "rng = \"Sobol\""
   ]
  },
  {
   "cell_type": "code",
   "execution_count": 4,
   "metadata": {},
   "outputs": [
    {
     "name": "stdout",
     "output_type": "stream",
     "text": [
      "scnt: Parameter containing:\n",
      "tensor([16.], device='cuda:0')\n",
      "--- 0.34999990463256836 seconds ---\n",
      "input error:  tensor(-0.0039, device='cuda:0') tensor(0., device='cuda:0')\n",
      "output error:  tensor(-0.0644, device='cuda:0') tensor(0.5000, device='cuda:0')\n",
      "input: tensor([[0.9961, 0.3438, 0.8438,  ..., 0.4492, 0.8008, 0.1836]],\n",
      "       device='cuda:0')\n",
      "output: tensor([[0.9980, 0.5863, 0.9186,  ..., 0.6702, 0.8949, 0.4285]],\n",
      "       device='cuda:0')\n",
      "scnt: Parameter containing:\n",
      "tensor([[31., 22., 31.,  ..., 25., 29., 19.]], device='cuda:0')\n",
      "RMSE 0.12564296191444332\n",
      "MAE 0.0847248\n",
      "bias 0.061905675\n"
     ]
    },
    {
     "data": {
      "image/png": "[encoded data removed]",
      "text/plain": [
       "<Figure size 432x288 with 1 Axes>"
      ]
     },
     "metadata": {
      "needs_background": "light"
     },
     "output_type": "display_data"
    },
    {
     "name": "stdout",
     "output_type": "stream",
     "text": [
      "scnt: Parameter containing:\n",
      "tensor([16.], device='cuda:0')\n",
      "--- 0.38199758529663086 seconds ---\n",
      "input error:  tensor(-0.0039, device='cuda:0') tensor(0.0039, device='cuda:0')\n",
      "output error:  tensor(-0.1347, device='cuda:0') tensor(0.4609, device='cuda:0')\n",
      "input: tensor([[0.0898, 0.0391, 0.2852,  ..., 0.1992, 0.5508, 0.1367]],\n",
      "       device='cuda:0')\n",
      "output: tensor([[0.2997, 0.1976, 0.5340,  ..., 0.4463, 0.7421, 0.3698]],\n",
      "       device='cuda:0')\n",
      "scnt: Parameter containing:\n",
      "tensor([[25., 26., 27.,  ..., 27., 29., 25.]], device='cuda:0')\n",
      "RMSE 0.122535854683223\n",
      "MAE 0.09453848\n",
      "bias 0.013688406\n"
     ]
    },
    {
     "data": {
      "image/png": "[encoded data removed]",
      "text/plain": [
       "<Figure size 432x288 with 1 Axes>"
      ]
     },
     "metadata": {
      "needs_background": "light"
     },
     "output_type": "display_data"
    }
   ],
   "source": [
    "col = 10000\n",
    "modes = [\"unipolar\", \"bipolar\"]\n",
    "static = True\n",
    "bitwidth = 8\n",
    "bstype = torch.float\n",
    "randtype = torch.float\n",
    "\n",
    "for mode in modes:\n",
    "    input = torch.rand(1, col).mul(2**bitwidth).round().div(2**bitwidth).to(device)\n",
    "\n",
    "    dut_sqrt = GainesSqrt(depth=5, mode=mode, rng=\"Sobol\", rng_dim=2, bstype=torch.float).to(device)\n",
    "\n",
    "    output = torch.sqrt(input).to(device)\n",
    "\n",
    "    outPE = ProgressiveError(output, mode=mode).to(device)\n",
    "\n",
    "    inputPE = ProgressiveError(input, mode=mode).to(device)\n",
    "    inputSRC = SourceGen(input, bitwidth, mode=mode, randtype=randtype)().to(device)\n",
    "    inputRNG = RNG(bitwidth, 1, rng, randtype)().to(device)\n",
    "    inputBS = BSGen(inputSRC, inputRNG, bstype).to(device)\n",
    "    \n",
    "    with torch.no_grad():\n",
    "        start_time = time.time()\n",
    "        print(\"scnt:\", dut_sqrt.scnt)\n",
    "        for i in range(2**bitwidth):\n",
    "            input_bs = inputBS(torch.tensor([i]))\n",
    "            inputPE.Monitor(input_bs)\n",
    "\n",
    "            out_bs = dut_sqrt(input_bs)\n",
    "            outPE.Monitor(out_bs)\n",
    "        print(\"--- %s seconds ---\" % (time.time() - start_time))\n",
    "        print(\"input error: \", torch.min(inputPE()[1]), torch.max(inputPE()[1]))\n",
    "        \n",
    "        print(\"output error: \", torch.min(outPE()[1]), torch.max(outPE()[1]))\n",
    "        \n",
    "        print(\"input:\", input)\n",
    "        print(\"output:\", output)\n",
    "\n",
    "        print(\"scnt:\", dut_sqrt.scnt)\n",
    "        \n",
    "        result_pe = outPE()[1].view(-1).cpu().numpy()\n",
    "        print(\"RMSE\", math.sqrt(sum(result_pe**2)/len(result_pe)))\n",
    "        print(\"MAE\", np.mean(np.abs(result_pe)))\n",
    "        print(\"bias\", np.mean(result_pe))\n",
    "        fig = plt.hist(result_pe, bins='auto')  # arguments are passed to np.histogram\n",
    "        plt.title(\"Histogram for final output error\")\n",
    "        plt.show()"
   ]
  },
  {
   "cell_type": "code",
   "execution_count": null,
   "metadata": {},
   "outputs": [],
   "source": []
  }
 ],
 "metadata": {
  "kernelspec": {
   "display_name": "Python 3",
   "language": "python",
   "name": "python3"
  },
  "language_info": {
   "codemirror_mode": {
    "name": "ipython",
    "version": 3
   },
   "file_extension": ".py",
   "mimetype": "text/x-python",
   "name": "python",
   "nbconvert_exporter": "python",
   "pygments_lexer": "ipython3",
   "version": "3.7.3"
  }
 },
 "nbformat": 4,
 "nbformat_minor": 2
}
