{
 "cells": [
  {
   "cell_type": "code",
   "execution_count": 1,
   "metadata": {},
   "outputs": [],
   "source": [
    "%load_ext autoreload\n",
    "%autoreload 2"
   ]
  },
  {
   "cell_type": "code",
   "execution_count": 2,
   "metadata": {},
   "outputs": [],
   "source": [
    "import torch\n",
    "from UnarySim.sw.kernel.sqrt import GainesSqrt\n",
    "from UnarySim.sw.bitstream.gen import RNG, SourceGen, BSGen\n",
    "from UnarySim.sw.metric.metric import ProgressiveError\n",
    "import matplotlib.pyplot as plt\n",
    "import time\n",
    "import math\n",
    "import numpy as np"
   ]
  },
  {
   "cell_type": "code",
   "execution_count": 3,
   "metadata": {},
   "outputs": [],
   "source": [
    "device = torch.device(\"cuda:0\" if torch.cuda.is_available() else \"cpu\")\n",
    "rng = \"Sobol\""
   ]
  },
  {
   "cell_type": "code",
   "execution_count": 4,
   "metadata": {},
   "outputs": [
    {
     "name": "stdout",
     "output_type": "stream",
     "text": [
      "scnt: Parameter containing:\n",
      "tensor([16.], device='cuda:0')\n",
      "--- 0.34799909591674805 seconds ---\n",
      "input error:  tensor(-0.0039, device='cuda:0') tensor(0., device='cuda:0')\n",
      "output error:  tensor(-0.0644, device='cuda:0') tensor(0.5000, device='cuda:0')\n",
      "input: tensor([[0.7227, 0.4883, 0.0078,  ..., 0.6953, 0.9922, 0.0781]],\n",
      "       device='cuda:0')\n",
      "output: tensor([[0.8501, 0.6988, 0.0884,  ..., 0.8339, 0.9961, 0.2795]],\n",
      "       device='cuda:0')\n",
      "scnt: Parameter containing:\n",
      "tensor([[29., 25., 18.,  ..., 28., 31., 18.]], device='cuda:0')\n",
      "RMSE 0.12367928783215502\n",
      "MAE 0.08354915\n",
      "bias 0.060430504\n"
     ]
    },
    {
     "data": {
      "image/png": "[encoded data removed]",
      "text/plain": [
       "<Figure size 432x288 with 1 Axes>"
      ]
     },
     "metadata": {
      "needs_background": "light"
     },
     "output_type": "display_data"
    },
    {
     "name": "stdout",
     "output_type": "stream",
     "text": [
      "scnt: Parameter containing:\n",
      "tensor([16.], device='cuda:0')\n",
      "--- 0.3879997730255127 seconds ---\n",
      "input error:  tensor(-0.0039, device='cuda:0') tensor(0.0039, device='cuda:0')\n",
      "output error:  tensor(-0.1347, device='cuda:0') tensor(0.4609, device='cuda:0')\n",
      "input: tensor([[0.3242, 0.7852, 0.5352,  ..., 0.9688, 0.1250, 0.4102]],\n",
      "       device='cuda:0')\n",
      "output: tensor([[0.5694, 0.8861, 0.7315,  ..., 0.9843, 0.3536, 0.6404]],\n",
      "       device='cuda:0')\n",
      "scnt: Parameter containing:\n",
      "tensor([[27., 30., 29.,  ..., 31., 25., 29.]], device='cuda:0')\n",
      "RMSE 0.1235310688447642\n",
      "MAE 0.095764644\n",
      "bias 0.015715739\n"
     ]
    },
    {
     "data": {
      "image/png": "[encoded data removed]",
      "text/plain": [
       "<Figure size 432x288 with 1 Axes>"
      ]
     },
     "metadata": {
      "needs_background": "light"
     },
     "output_type": "display_data"
    }
   ],
   "source": [
    "col = 10000\n",
    "modes = [\"unipolar\", \"bipolar\"]\n",
    "static = True\n",
    "bitwidth = 8\n",
    "bstype = torch.float\n",
    "randtype = torch.float\n",
    "\n",
    "for mode in modes:\n",
    "    input = torch.rand(1, col).mul(2**bitwidth).round().div(2**bitwidth).to(device)\n",
    "\n",
    "    dut_sqrt = GainesSqrt(buf_dep=5, mode=mode, rng=\"Sobol\", rng_dim=2, bstype=torch.float).to(device)\n",
    "\n",
    "    output = torch.sqrt(input).to(device)\n",
    "\n",
    "    outPE = ProgressiveError(output, mode=mode).to(device)\n",
    "\n",
    "    inputPE = ProgressiveError(input, mode=mode).to(device)\n",
    "    inputSRC = SourceGen(input, bitwidth, mode=mode, randtype=randtype)().to(device)\n",
    "    inputRNG = RNG(bitwidth, 1, rng, randtype)().to(device)\n",
    "    inputBS = BSGen(inputSRC, inputRNG, bstype).to(device)\n",
    "    \n",
    "    with torch.no_grad():\n",
    "        start_time = time.time()\n",
    "        print(\"scnt:\", dut_sqrt.scnt)\n",
    "        for i in range(2**bitwidth):\n",
    "            input_bs = inputBS(torch.tensor([i]))\n",
    "            inputPE.Monitor(input_bs)\n",
    "\n",
    "            out_bs = dut_sqrt(input_bs)\n",
    "            outPE.Monitor(out_bs)\n",
    "        print(\"--- %s seconds ---\" % (time.time() - start_time))\n",
    "        print(\"input error: \", torch.min(inputPE()[1]), torch.max(inputPE()[1]))\n",
    "        \n",
    "        print(\"output error: \", torch.min(outPE()[1]), torch.max(outPE()[1]))\n",
    "        \n",
    "        print(\"input:\", input)\n",
    "        print(\"output:\", output)\n",
    "\n",
    "        print(\"scnt:\", dut_sqrt.scnt)\n",
    "        \n",
    "        result_pe = outPE()[1].view(-1).cpu().numpy()\n",
    "        print(\"RMSE\", math.sqrt(sum(result_pe**2)/len(result_pe)))\n",
    "        print(\"MAE\", np.mean(np.abs(result_pe)))\n",
    "        print(\"bias\", np.mean(result_pe))\n",
    "        fig = plt.hist(result_pe, bins='auto')  # arguments are passed to np.histogram\n",
    "        plt.title(\"Histogram for final output error\")\n",
    "        plt.show()"
   ]
  },
  {
   "cell_type": "code",
   "execution_count": null,
   "metadata": {},
   "outputs": [],
   "source": []
  }
 ],
 "metadata": {
  "kernelspec": {
   "display_name": "Python 3",
   "language": "python",
   "name": "python3"
  },
  "language_info": {
   "codemirror_mode": {
    "name": "ipython",
    "version": 3
   },
   "file_extension": ".py",
   "mimetype": "text/x-python",
   "name": "python",
   "nbconvert_exporter": "python",
   "pygments_lexer": "ipython3",
   "version": "3.7.3"
  }
 },
 "nbformat": 4,
 "nbformat_minor": 2
}
