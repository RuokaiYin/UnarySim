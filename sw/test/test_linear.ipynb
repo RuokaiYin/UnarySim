{
 "cells": [
  {
   "cell_type": "code",
   "execution_count": 1,
   "metadata": {},
   "outputs": [],
   "source": [
    "%load_ext autoreload\n",
    "%autoreload 2"
   ]
  },
  {
   "cell_type": "code",
   "execution_count": 2,
   "metadata": {},
   "outputs": [],
   "source": [
    "import torch\n",
    "import torch.nn as nn\n",
    "import torch.nn.functional as F\n",
    "import torch.optim as optim\n",
    "import torchvision\n",
    "import torchvision.transforms as transforms\n",
    "from torchsummaryX import summary\n",
    "from UnarySim.sw.kernel.linear import UnaryLinear\n",
    "from UnarySim.sw.component.bsgen import SourceGen, BSGen\n",
    "from UnarySim.sw.component.rng import RNG\n",
    "from UnarySim.sw.metric.metric import ProgressivePrecision\n",
    "\n"
   ]
  },
  {
   "cell_type": "code",
   "execution_count": 3,
   "metadata": {},
   "outputs": [
    {
     "name": "stdout",
     "output_type": "stream",
     "text": [
      "/Users/wudidaizi/Project/stochasticSim/pytorchSim\n",
      "/Users/wudidaizi/Project/stochasticSim/pytorchSim/saved_model_state_dict_8\n"
     ]
    }
   ],
   "source": [
    "import os\n",
    "cwd = \"/Users/wudidaizi/Project/stochasticSim/pytorchSim\"\n",
    "print(cwd)\n",
    "model_path = cwd+\"/saved_model_state_dict_8\"\n",
    "print(model_path)"
   ]
  },
  {
   "cell_type": "code",
   "execution_count": 4,
   "metadata": {},
   "outputs": [],
   "source": [
    "device = torch.device(\"cuda:0\" if torch.cuda.is_available() else \"cpu\")"
   ]
  },
  {
   "cell_type": "code",
   "execution_count": 5,
   "metadata": {},
   "outputs": [],
   "source": [
    "# MNIST data loader\n",
    "transform=transforms.Compose([transforms.Resize((32, 32)), transforms.ToTensor()])\n",
    "\n",
    "trainset = torchvision.datasets.MNIST(root=cwd+'/data/mnist', train=True, download=True, transform=transform)\n",
    "trainloader = torch.utils.data.DataLoader(trainset, batch_size=32, shuffle=True, num_workers=4)\n",
    "\n",
    "testset = torchvision.datasets.MNIST(root=cwd+'/data/mnist', train=False, download=True, transform=transform)\n",
    "testloader = torch.utils.data.DataLoader(testset, batch_size=1, num_workers=4)"
   ]
  },
  {
   "cell_type": "code",
   "execution_count": 6,
   "metadata": {},
   "outputs": [
    {
     "data": {
      "text/plain": [
       "Net(\n",
       "  (fc1): Linear(in_features=1024, out_features=512, bias=True)\n",
       "  (fc1_drop): Dropout(p=0.6, inplace=False)\n",
       "  (fc2): Linear(in_features=512, out_features=256, bias=True)\n",
       "  (fc2_drop): Dropout(p=0.6, inplace=False)\n",
       "  (fc3): Linear(in_features=256, out_features=10, bias=True)\n",
       ")"
      ]
     },
     "execution_count": 6,
     "metadata": {},
     "output_type": "execute_result"
    }
   ],
   "source": [
    " class LeNet(nn.Module):\n",
    "\n",
    "    def __init__(self):\n",
    "        super(LeNet, self).__init__()\n",
    "        # 1 input image channel, 6 output channels, 5x5 square convolution\n",
    "        # kernel\n",
    "        self.conv1 = nn.Conv2d(1, 6, 5)\n",
    "        self.conv2 = nn.Conv2d(6, 16, 5)\n",
    "        # an affine operation: y = Wx + b\n",
    "        self.fc1 = nn.Linear(16 * 5 * 5, 120)  # 6*6 from image dimension\n",
    "        self.fc2 = nn.Linear(120, 84)\n",
    "        self.fc3 = nn.Linear(84, 10)\n",
    "\n",
    "    def forward(self, x):\n",
    "        # Max pooling over a (2, 2) window\n",
    "        x = self.conv1(x)\n",
    "        x = torch.clamp(x, -1, 1)\n",
    "        x = F.avg_pool2d(x, (2, 2))\n",
    "        x = F.relu(x)\n",
    "        # If the size is a square you can only specify a single number\n",
    "        x = self.conv2(x)\n",
    "        x = torch.clamp(x, -1, 1)\n",
    "        x = F.avg_pool2d(x, (2, 2))\n",
    "        x = F.relu(x)\n",
    "        \n",
    "        x = x.view(-1, self.num_flat_features(x))\n",
    "        x = F.relu(self.fc1(x))\n",
    "        x = torch.clamp(x, -1, 1)\n",
    "        x = F.relu(self.fc2(x))\n",
    "        x = torch.clamp(x, -1, 1)\n",
    "        x = self.fc3(x)\n",
    "        return x\n",
    "\n",
    "    def num_flat_features(self, x):\n",
    "        size = x.size()[1:]  # all dimensions except the batch dimension\n",
    "        num_features = 1\n",
    "        for s in size:\n",
    "            num_features *= s\n",
    "        return num_features\n",
    "\n",
    "class Net(nn.Module):\n",
    "    def __init__(self):\n",
    "        super(Net, self).__init__()\n",
    "        self.fc1 = nn.Linear(32*32, 512)\n",
    "        self.fc1_drop = nn.Dropout(0.6)\n",
    "        self.fc2 = nn.Linear(512, 256)\n",
    "        self.fc2_drop = nn.Dropout(0.6)\n",
    "        self.fc3 = nn.Linear(256, 10)\n",
    "\n",
    "    def forward(self, x):\n",
    "        x = x.view(-1, 32*32)\n",
    "        x = F.relu(self.fc1(x))\n",
    "        x = self.fc1_drop(x)        \n",
    "        x = torch.clamp(x, -1, 1)\n",
    "        x = F.relu(self.fc2(x))\n",
    "        x = self.fc2_drop(x)\n",
    "        x = torch.clamp(x, -1, 1)\n",
    "        return F.log_softmax(self.fc3(x), dim=1)\n",
    "    \n",
    "model = Net()\n",
    "model.to(device)\n"
   ]
  },
  {
   "cell_type": "code",
   "execution_count": 7,
   "metadata": {},
   "outputs": [
    {
     "data": {
      "text/plain": [
       "Net(\n",
       "  (fc1): Linear(in_features=1024, out_features=512, bias=True)\n",
       "  (fc1_drop): Dropout(p=0.6, inplace=False)\n",
       "  (fc2): Linear(in_features=512, out_features=256, bias=True)\n",
       "  (fc2_drop): Dropout(p=0.6, inplace=False)\n",
       "  (fc3): Linear(in_features=256, out_features=10, bias=True)\n",
       ")"
      ]
     },
     "execution_count": 7,
     "metadata": {},
     "output_type": "execute_result"
    }
   ],
   "source": [
    "model.load_state_dict(torch.load(model_path, map_location=device))\n",
    "model.eval()"
   ]
  },
  {
   "cell_type": "code",
   "execution_count": 9,
   "metadata": {},
   "outputs": [
    {
     "name": "stdout",
     "output_type": "stream",
     "text": [
      "torch.Size([1, 1, 32, 32])\n",
      "Accuracy of the network on the 10000 test images: 94.550000 %\n"
     ]
    }
   ],
   "source": [
    "correct = 0\n",
    "total = 0\n",
    "with torch.no_grad():\n",
    "    for data in testloader:\n",
    "        images, labels = data[0].to(device), data[1].to(device)\n",
    "        outputs = model(images)\n",
    "        _, predicted = torch.max(outputs.data, 1)\n",
    "        total += labels.size(0)\n",
    "        correct += (predicted == labels).sum().item()\n",
    "    print(images.size())\n",
    "print('Accuracy of the network on the 10000 test images: %f %%' % (\n",
    "    100 * correct / total))"
   ]
  },
  {
   "cell_type": "code",
   "execution_count": 8,
   "metadata": {},
   "outputs": [
    {
     "name": "stdout",
     "output_type": "stream",
     "text": [
      "torch.Size([512, 1024])\n"
     ]
    }
   ],
   "source": [
    "fc = nn.Linear(1024, 512)\n",
    "fc.weight = model.fc1.weight\n",
    "fc.bias = model.fc1.bias\n",
    "ufc = UnaryLinear(1024, 512, 256, model.fc1.weight, model.fc1.bias)\n",
    "print(fc.weight.size())"
   ]
  },
  {
   "cell_type": "code",
   "execution_count": 9,
   "metadata": {},
   "outputs": [],
   "source": [
    "iVec = (((torch.rand(1, 1024) * 2 - 1)/4)*256).floor()/256\n",
    "# print(inVec)\n",
    "oVec = fc(iVec)\n",
    "oVec = oVec.clamp_(-1.,1.).mul_(256).floor()/256\n",
    "# print(inVec)\n",
    "# print(oVec)"
   ]
  },
  {
   "cell_type": "code",
   "execution_count": 11,
   "metadata": {},
   "outputs": [
    {
     "ename": "NameError",
     "evalue": "name 'RNG' is not defined",
     "output_type": "error",
     "traceback": [
      "\u001b[0;31m---------------------------------------------------------------------------\u001b[0m",
      "\u001b[0;31mNameError\u001b[0m                                 Traceback (most recent call last)",
      "\u001b[0;32m<ipython-input-11-f431499d163c>\u001b[0m in \u001b[0;36m<module>\u001b[0;34m()\u001b[0m\n\u001b[1;32m      1\u001b[0m \u001b[0miVecSource\u001b[0m \u001b[0;34m=\u001b[0m \u001b[0mSourceGen\u001b[0m\u001b[0;34m(\u001b[0m\u001b[0miVec\u001b[0m\u001b[0;34m,\u001b[0m \u001b[0mbitwidth\u001b[0m\u001b[0;34m=\u001b[0m\u001b[0;36m8\u001b[0m\u001b[0;34m,\u001b[0m \u001b[0mmode\u001b[0m\u001b[0;34m=\u001b[0m\u001b[0;34m\"bipolar\"\u001b[0m\u001b[0;34m)\u001b[0m\u001b[0;34m.\u001b[0m\u001b[0mGen\u001b[0m\u001b[0;34m(\u001b[0m\u001b[0;34m)\u001b[0m\u001b[0;34m\u001b[0m\u001b[0m\n\u001b[0;32m----> 2\u001b[0;31m \u001b[0miVecRNG\u001b[0m \u001b[0;34m=\u001b[0m \u001b[0mRNG\u001b[0m\u001b[0;34m(\u001b[0m\u001b[0;36m8\u001b[0m\u001b[0;34m,\u001b[0m \u001b[0;36m1\u001b[0m\u001b[0;34m,\u001b[0m \u001b[0;34m\"Sobol\"\u001b[0m\u001b[0;34m)\u001b[0m\u001b[0;34m.\u001b[0m\u001b[0mOut\u001b[0m\u001b[0;34m(\u001b[0m\u001b[0;34m)\u001b[0m\u001b[0;34m\u001b[0m\u001b[0m\n\u001b[0m\u001b[1;32m      3\u001b[0m \u001b[0miVecBS\u001b[0m \u001b[0;34m=\u001b[0m \u001b[0mBSGen\u001b[0m\u001b[0;34m(\u001b[0m\u001b[0miVecSource\u001b[0m\u001b[0;34m,\u001b[0m \u001b[0miVecRNG\u001b[0m\u001b[0;34m)\u001b[0m\u001b[0;34m\u001b[0m\u001b[0m\n\u001b[1;32m      4\u001b[0m \u001b[0;34m\u001b[0m\u001b[0m\n\u001b[1;32m      5\u001b[0m \u001b[0miVecPP\u001b[0m \u001b[0;34m=\u001b[0m \u001b[0mProgressivePrecision\u001b[0m\u001b[0;34m(\u001b[0m\u001b[0miVec\u001b[0m\u001b[0;34m,\u001b[0m \u001b[0mmode\u001b[0m\u001b[0;34m=\u001b[0m\u001b[0;34m\"bipolar\"\u001b[0m\u001b[0;34m)\u001b[0m\u001b[0;34m\u001b[0m\u001b[0m\n",
      "\u001b[0;31mNameError\u001b[0m: name 'RNG' is not defined"
     ]
    }
   ],
   "source": [
    "iVecSource = SourceGen(iVec, bitwidth=8, mode=\"bipolar\").Gen()\n",
    "iVecRNG = RNG(8, 1, \"Sobol\").Out()\n",
    "iVecBS = BSGen(iVecSource, iVecRNG)\n",
    "\n",
    "iVecPP = ProgressivePrecision(iVec, mode=\"bipolar\")\n",
    "oVecPP = ProgressivePrecision(oVec, mode=\"bipolar\")\n",
    "\n",
    "with torch.no_grad():\n",
    "    for i in range(256):\n",
    "        iBS = iVecBS.Gen(i)\n",
    "        iVecPP.Monitor(iBS)\n",
    "#         oVec = ufc400(iBS)\n",
    "#         oVecPP.Monitor(oVec)\n",
    "    iVecPP.Report()"
   ]
  },
  {
   "cell_type": "code",
   "execution_count": null,
   "metadata": {},
   "outputs": [],
   "source": []
  }
 ],
 "metadata": {
  "kernelspec": {
   "display_name": "Python 3",
   "language": "python",
   "name": "python3"
  },
  "language_info": {
   "codemirror_mode": {
    "name": "ipython",
    "version": 3
   },
   "file_extension": ".py",
   "mimetype": "text/x-python",
   "name": "python",
   "nbconvert_exporter": "python",
   "pygments_lexer": "ipython3",
   "version": "3.6.5"
  }
 },
 "nbformat": 4,
 "nbformat_minor": 2
}
