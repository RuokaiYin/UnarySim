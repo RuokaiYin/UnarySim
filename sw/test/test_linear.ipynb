{
 "cells": [
  {
   "cell_type": "code",
   "execution_count": 1,
   "metadata": {},
   "outputs": [],
   "source": [
    "%load_ext autoreload\n",
    "%autoreload 2"
   ]
  },
  {
   "cell_type": "code",
   "execution_count": 2,
   "metadata": {},
   "outputs": [],
   "source": [
    "import torch\n",
    "from UnarySim.sw.kernel.linear import UnaryLinear\n",
    "from UnarySim.sw.bitstream.gen import RNG, SourceGen, BSGen\n",
    "from UnarySim.sw.metric.metric import ProgressiveError\n"
   ]
  },
  {
   "cell_type": "code",
   "execution_count": 17,
   "metadata": {},
   "outputs": [
    {
     "name": "stdout",
     "output_type": "stream",
     "text": [
      "Linear(in_features=1, out_features=2, bias=True)\n",
      "self.buf_wght Parameter containing:\n",
      "tensor([[239],\n",
      "        [149]])\n",
      "self.buf_wght_bs BSGen()\n",
      "rng_wght_idx: tensor([[0],\n",
      "        [0]])\n",
      "weight:\n",
      "tensor([[0.9336],\n",
      "        [0.5820]])\n",
      "tensor([[0.9336, 0.5820]])\n",
      "torch.Size([2, 1])\n",
      "torch.Size([1, 2])\n",
      "\n",
      "bias:\n",
      "Parameter containing:\n",
      "tensor([[0.9688, 0.5938]], requires_grad=True)\n",
      "torch.Size([1, 2])\n",
      "\n",
      "input:\n",
      "tensor([[0.1328]])\n",
      "\n",
      "output:\n",
      "tensor([[1.0927, 0.6711]], grad_fn=<AddmmBackward>)\n",
      "\n",
      "quantized output:\n",
      "tensor([[1.0000, 0.6680]], grad_fn=<DivBackward0>)\n"
     ]
    }
   ],
   "source": [
    "in_feature = 1\n",
    "out_feature = 2\n",
    "mode = \"unipolar\"\n",
    "scaled = False\n",
    "rng = \"Sobol\"\n",
    "bias=True\n",
    "\n",
    "fc = torch.nn.Linear(in_feature, out_feature, bias=bias)\n",
    "if mode is \"unipolar\":\n",
    "    fc.weight.data = torch.rand(out_feature, in_feature).mul(256).round().div(256)\n",
    "    if bias is True:\n",
    "        fc.bias.data = torch.rand(1, out_feature).mul(256).round().div(256)\n",
    "elif mode is \"bipolar\":\n",
    "    fc.weight.data = torch.rand(out_feature, in_feature).mul(2).sub(1).mul(256).round().div(256)\n",
    "    if bias is True:\n",
    "        fc.bias.data = torch.rand(1, out_feature).mul(2).sub(1).mul(256).round().div(256)\n",
    "ufc = UnaryLinear(in_feature, out_feature, 256, fc.weight, fc.bias, mode=mode, scaled=scaled, bias=bias)\n",
    "\n",
    "print(\"weight:\")\n",
    "print(fc.weight.data)\n",
    "print(fc.weight.data.t())\n",
    "print(fc.weight.size())\n",
    "print(fc.weight.data.t().size())\n",
    "\n",
    "if bias is True:\n",
    "    print(\"\\nbias:\")\n",
    "    print(fc.bias)\n",
    "    print(fc.bias.size())\n",
    "\n",
    "iVec = (torch.rand(1, in_feature)*256).round()/256\n",
    "oVec = fc(iVec)\n",
    "\n",
    "print(\"\\ninput:\")\n",
    "print(iVec)\n",
    "print(\"\\noutput:\")\n",
    "print(oVec)\n",
    "\n",
    "if scaled is False:\n",
    "    oVec = oVec.clamp(-1.,1.).mul(256).floor()/256\n",
    "else:\n",
    "    if bias is True:\n",
    "        oVec = oVec.div(in_feature+1).mul(256).floor()/256\n",
    "    else:\n",
    "        oVec = oVec.div(in_feature).mul(256).floor()/256\n",
    "\n",
    "print(\"\\nquantized output:\")\n",
    "print(oVec)"
   ]
  },
  {
   "cell_type": "code",
   "execution_count": 16,
   "metadata": {},
   "outputs": [
    {
     "name": "stdout",
     "output_type": "stream",
     "text": [
      "input error:  tensor(0.) tensor(0.)\n",
      "output error: tensor(0.1055) tensor(0.1055)\n",
      "tensor([[0.1055]])\n",
      "tensor([[55.]])\n",
      "tensor([[0.2148]])\n"
     ]
    }
   ],
   "source": [
    "iVecSource = SourceGen(iVec, bitwidth=8, mode=mode).Gen()\n",
    "\n",
    "iVecRNG = RNG(8, 1, rng).Out()\n",
    "iVecBS = BSGen(iVecSource, iVecRNG)\n",
    "\n",
    "iVecPP = ProgressiveError(iVec, mode=mode)\n",
    "oVecPP = ProgressiveError(oVec, mode=mode)\n",
    "\n",
    "with torch.no_grad():\n",
    "    idx = torch.zeros(iVecSource.size()).type(torch.long)\n",
    "    for i in range(256):\n",
    "        iBS = iVecBS.Gen(idx + i)\n",
    "        iVecPP.Monitor(iBS)\n",
    "        oVecU = ufc(iBS)\n",
    "\n",
    "        oVecPP.Monitor(oVecU)\n",
    "    print(\"input error: \", min(min(iVecPP.Report())), max(max(iVecPP.Report())))\n",
    "    print(\"output error:\", min(min(oVecPP.Report())), max(max(oVecPP.Report())))\n",
    "    print(oVecPP.Report())\n",
    "    print(oVecPP.one_cnt)\n",
    "    print(oVecPP.out_pp)\n",
    "\n"
   ]
  },
  {
   "cell_type": "code",
   "execution_count": null,
   "metadata": {},
   "outputs": [],
   "source": []
  }
 ],
 "metadata": {
  "kernelspec": {
   "display_name": "Python 3",
   "language": "python",
   "name": "python3"
  },
  "language_info": {
   "codemirror_mode": {
    "name": "ipython",
    "version": 3
   },
   "file_extension": ".py",
   "mimetype": "text/x-python",
   "name": "python",
   "nbconvert_exporter": "python",
   "pygments_lexer": "ipython3",
   "version": "3.7.3"
  }
 },
 "nbformat": 4,
 "nbformat_minor": 2
}
