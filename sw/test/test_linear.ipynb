{
 "cells": [
  {
   "cell_type": "code",
   "execution_count": null,
   "metadata": {},
   "outputs": [],
   "source": [
    "import torch\n",
    "import torch.nn as nn\n",
    "import torch.nn.functional as F\n",
    "import torch.optim as optim\n",
    "import torchvision\n",
    "import torchvision.transforms as transforms\n",
    "from torchsummaryX import summary\n",
    "from UnaryComputingSim.sw.kernel.linear import UnaryLinear\n"
   ]
  },
  {
   "cell_type": "code",
   "execution_count": null,
   "metadata": {},
   "outputs": [],
   "source": [
    "import os\n",
    "cwd = \"/Users/wudidaizi/Project/stochasticSim/pytorchSim\"\n",
    "print(cwd)\n",
    "model_path = cwd+\"/saved_model_state_dict_8\"\n",
    "print(model_path)"
   ]
  },
  {
   "cell_type": "code",
   "execution_count": null,
   "metadata": {},
   "outputs": [],
   "source": [
    "device = torch.device(\"cuda:0\" if torch.cuda.is_available() else \"cpu\")"
   ]
  },
  {
   "cell_type": "code",
   "execution_count": null,
   "metadata": {},
   "outputs": [],
   "source": [
    "# MNIST data loader\n",
    "transform=transforms.Compose([transforms.Resize((32, 32)), transforms.ToTensor()])\n",
    "\n",
    "trainset = torchvision.datasets.MNIST(root='./data/mnist', train=True, download=True, transform=transform)\n",
    "trainloader = torch.utils.data.DataLoader(trainset, batch_size=32, shuffle=True, num_workers=4)\n",
    "\n",
    "testset = torchvision.datasets.MNIST(root='./data/mnist', train=False, download=True, transform=transform)\n",
    "testloader = torch.utils.data.DataLoader(testset, batch_size=1, num_workers=4)"
   ]
  },
  {
   "cell_type": "code",
   "execution_count": null,
   "metadata": {},
   "outputs": [],
   "source": [
    " class LeNet(nn.Module):\n",
    "\n",
    "    def __init__(self):\n",
    "        super(LeNet, self).__init__()\n",
    "        # 1 input image channel, 6 output channels, 5x5 square convolution\n",
    "        # kernel\n",
    "        self.conv1 = nn.Conv2d(1, 6, 5)\n",
    "        self.conv2 = nn.Conv2d(6, 16, 5)\n",
    "        # an affine operation: y = Wx + b\n",
    "        self.fc1 = nn.Linear(16 * 5 * 5, 120)  # 6*6 from image dimension\n",
    "        self.fc2 = nn.Linear(120, 84)\n",
    "        self.fc3 = nn.Linear(84, 10)\n",
    "\n",
    "    def forward(self, x):\n",
    "        # Max pooling over a (2, 2) window\n",
    "        x = self.conv1(x)\n",
    "        x = torch.clamp(x, -1, 1)\n",
    "        x = F.avg_pool2d(x, (2, 2))\n",
    "        x = F.relu(x)\n",
    "        # If the size is a square you can only specify a single number\n",
    "        x = self.conv2(x)\n",
    "        x = torch.clamp(x, -1, 1)\n",
    "        x = F.avg_pool2d(x, (2, 2))\n",
    "        x = F.relu(x)\n",
    "        \n",
    "        x = x.view(-1, self.num_flat_features(x))\n",
    "        x = F.relu(self.fc1(x))\n",
    "        x = torch.clamp(x, -1, 1)\n",
    "        x = F.relu(self.fc2(x))\n",
    "        x = torch.clamp(x, -1, 1)\n",
    "        x = self.fc3(x)\n",
    "        return x\n",
    "\n",
    "    def num_flat_features(self, x):\n",
    "        size = x.size()[1:]  # all dimensions except the batch dimension\n",
    "        num_features = 1\n",
    "        for s in size:\n",
    "            num_features *= s\n",
    "        return num_features\n",
    "\n",
    "class Net(nn.Module):\n",
    "    def __init__(self):\n",
    "        super(Net, self).__init__()\n",
    "        self.fc1 = nn.Linear(32*32, 512)\n",
    "        self.fc1_drop = nn.Dropout(0.6)\n",
    "        self.fc2 = nn.Linear(512, 256)\n",
    "        self.fc2_drop = nn.Dropout(0.6)\n",
    "        self.fc3 = nn.Linear(256, 10)\n",
    "\n",
    "    def forward(self, x):\n",
    "        x = x.view(-1, 32*32)\n",
    "        x = F.relu(self.fc1(x))\n",
    "        x = self.fc1_drop(x)        \n",
    "        x = torch.clamp(x, -1, 1)\n",
    "        x = F.relu(self.fc2(x))\n",
    "        x = self.fc2_drop(x)\n",
    "        x = torch.clamp(x, -1, 1)\n",
    "        return F.log_softmax(self.fc3(x), dim=1)\n",
    "    \n",
    "model = Net()\n",
    "model.to(device)\n"
   ]
  },
  {
   "cell_type": "code",
   "execution_count": null,
   "metadata": {},
   "outputs": [],
   "source": [
    "model.load_state_dict(torch.load(model_path, map_location=device))\n",
    "model.eval()"
   ]
  },
  {
   "cell_type": "code",
   "execution_count": null,
   "metadata": {},
   "outputs": [],
   "source": [
    "correct = 0\n",
    "total = 0\n",
    "with torch.no_grad():\n",
    "    for data in testloader:\n",
    "        images, labels = data[0].to(device), data[1].to(device)\n",
    "        outputs = model(images)\n",
    "        _, predicted = torch.max(outputs.data, 1)\n",
    "        total += labels.size(0)\n",
    "        correct += (predicted == labels).sum().item()\n",
    "    print(images.size())\n",
    "print('Accuracy of the network on the 10000 test images: %f %%' % (\n",
    "    100 * correct / total))"
   ]
  },
  {
   "cell_type": "code",
   "execution_count": null,
   "metadata": {},
   "outputs": [],
   "source": [
    "fc400 = nn.Linear(400, 120)\n",
    "fc400.weight = lenet.fc1.weight\n",
    "fc400.bias = lenet.fc1.bias\n",
    "ufc400 = UnaryLinear(400, 120, 256, lenet.fc1.weight, lenet.fc1.bias)\n",
    "# fc400 = nn.Linear(1024, 512, bias=True)\n",
    "# print(fc400.weight.size())\n",
    "# fc400.weight.data = model.fc1.weight\n",
    "# fc400.bias.data = model.fc1.bias\n",
    "# fc400.weight.data = torch.rand(512,1024) * 2 -1\n",
    "# fc400.bias.data = torch.rand(512) * 2 -1\n",
    "print(fc400.weight.size())\n",
    "# print(fc400.weight)\n",
    "\n",
    "\n",
    "# ufc400 = UnaryLinear(400, 120, 256, fc400.weight, fc400.weight, bias=True)\n",
    "ufc400 = UnaryLinear(1024, 512, 512, model.fc1.weight, model.fc1.bias, bias=True)\n",
    "\n",
    "\n",
    "inVec = (((torch.rand(1024) * 2 - 1))*256).floor()/256\n",
    "# print(inVec)\n",
    "outVec = fc400(inVec)\n",
    "outVec.clamp_(-1.,1.)\n",
    "\n",
    "bsGen = BitStreamGen(inVec, mode=\"Sobol\", bipolar=True)\n",
    "# bsGen = BitStreamGen(inVec,mode=\"Race\")\n",
    "pp = ProgressivePrecision(outVec, auto_print=False,bipolar=True)\n",
    "ipp = ProgressivePrecision(inVec, auto_print=False,bipolar=True)\n",
    "\n",
    "with torch.no_grad():\n",
    "    for i in range(256):\n",
    "        input = bsGen.Gen()\n",
    "#         print(ipp.Monitor(input))\n",
    "        output = ufc400(input)\n",
    "        pp.Monitor(output)\n",
    "\n",
    "\n"
   ]
  }
 ],
 "metadata": {
  "kernelspec": {
   "display_name": "Python 3",
   "language": "python",
   "name": "python3"
  },
  "language_info": {
   "codemirror_mode": {
    "name": "ipython",
    "version": 3
   },
   "file_extension": ".py",
   "mimetype": "text/x-python",
   "name": "python",
   "nbconvert_exporter": "python",
   "pygments_lexer": "ipython3",
   "version": "3.6.5"
  }
 },
 "nbformat": 4,
 "nbformat_minor": 2
}
