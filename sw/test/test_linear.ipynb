{
 "cells": [
  {
   "cell_type": "code",
   "execution_count": 1,
   "metadata": {},
   "outputs": [],
   "source": [
    "%load_ext autoreload\n",
    "%autoreload 2"
   ]
  },
  {
   "cell_type": "code",
   "execution_count": 19,
   "metadata": {},
   "outputs": [],
   "source": [
    "import torch\n",
    "import torch.nn as nn\n",
    "import torch.nn.functional as F\n",
    "import torch.optim as optim\n",
    "import torchvision\n",
    "import torchvision.transforms as transforms\n",
    "from torchsummaryX import summary\n",
    "from UnarySim.sw.kernel.linear import UnaryLinear\n",
    "from UnarySim.sw.bitstream.gen import RNG, SourceGen, BSGen\n",
    "from UnarySim.sw.metric.metric import ProgressiveError\n"
   ]
  },
  {
   "cell_type": "code",
   "execution_count": 20,
   "metadata": {},
   "outputs": [
    {
     "name": "stdout",
     "output_type": "stream",
     "text": [
      "Linear(in_features=2, out_features=1, bias=True)\n",
      "self.buf_wght Parameter containing:\n",
      "tensor([[138, 154]])\n",
      "self.buf_wght_bs BSGen()\n",
      "rng_wght_idx: tensor([[0, 0]])\n",
      "weight:\n",
      "tensor([[0.0742, 0.2031]])\n",
      "torch.Size([1, 2])\n",
      "\n",
      "bias:\n",
      "Parameter containing:\n",
      "tensor([[-0.4883]], requires_grad=True)\n",
      "torch.Size([1, 1])\n",
      "\n",
      "input:\n",
      "tensor([[0.2227, 0.5977]])\n",
      "\n",
      "output:\n",
      "tensor([[-0.3504]], grad_fn=<AddmmBackward>)\n",
      "tensor([[0.0165, 0.1214]])\n"
     ]
    },
    {
     "ename": "RuntimeError",
     "evalue": "size mismatch, m1: [1 x 2], m2: [1 x 2] at /Users/distiller/project/conda/conda-bld/pytorch_1565272679438/work/aten/src/TH/generic/THTensorMath.cpp:752",
     "output_type": "error",
     "traceback": [
      "\u001b[0;31m---------------------------------------------------------------------------\u001b[0m",
      "\u001b[0;31mRuntimeError\u001b[0m                              Traceback (most recent call last)",
      "\u001b[0;32m<ipython-input-20-26a0db331f28>\u001b[0m in \u001b[0;36m<module>\u001b[0;34m()\u001b[0m\n\u001b[1;32m     34\u001b[0m \u001b[0;34m\u001b[0m\u001b[0m\n\u001b[1;32m     35\u001b[0m \u001b[0mprint\u001b[0m\u001b[0;34m(\u001b[0m\u001b[0miVec\u001b[0m\u001b[0;34m*\u001b[0m\u001b[0mfc\u001b[0m\u001b[0;34m.\u001b[0m\u001b[0mweight\u001b[0m\u001b[0;34m.\u001b[0m\u001b[0mdata\u001b[0m\u001b[0;34m)\u001b[0m\u001b[0;34m\u001b[0m\u001b[0m\n\u001b[0;32m---> 36\u001b[0;31m \u001b[0mprint\u001b[0m\u001b[0;34m(\u001b[0m\u001b[0miVec\u001b[0m\u001b[0;34m.\u001b[0m\u001b[0mmatmul\u001b[0m\u001b[0;34m(\u001b[0m\u001b[0mfc\u001b[0m\u001b[0;34m.\u001b[0m\u001b[0mweight\u001b[0m\u001b[0;34m.\u001b[0m\u001b[0mdata\u001b[0m\u001b[0;34m)\u001b[0m\u001b[0;34m)\u001b[0m\u001b[0;34m\u001b[0m\u001b[0m\n\u001b[0m\u001b[1;32m     37\u001b[0m \u001b[0;34m\u001b[0m\u001b[0m\n\u001b[1;32m     38\u001b[0m \u001b[0;32mif\u001b[0m \u001b[0mscaled\u001b[0m \u001b[0;32mis\u001b[0m \u001b[0;32mFalse\u001b[0m\u001b[0;34m:\u001b[0m\u001b[0;34m\u001b[0m\u001b[0m\n",
      "\u001b[0;31mRuntimeError\u001b[0m: size mismatch, m1: [1 x 2], m2: [1 x 2] at /Users/distiller/project/conda/conda-bld/pytorch_1565272679438/work/aten/src/TH/generic/THTensorMath.cpp:752"
     ]
    }
   ],
   "source": [
    "in_feature = 2\n",
    "out_feature = 1\n",
    "mode = \"bipolar\"\n",
    "scaled = True\n",
    "rng = \"Sobol\"\n",
    "bias=True\n",
    "\n",
    "fc = nn.Linear(in_feature, out_feature, bias=bias)\n",
    "if mode is \"unipolar\":\n",
    "    fc.weight.data = torch.rand(out_feature, in_feature).mul(256).round().div(256)\n",
    "    if bias is True:\n",
    "        fc.bias.data = torch.rand(1, out_feature).mul(256).round().div(256)\n",
    "elif mode is \"bipolar\":\n",
    "    fc.weight.data = torch.rand(out_feature, in_feature).mul(2).sub(1).mul(256).round().div(256)\n",
    "    if bias is True:\n",
    "        fc.bias.data = torch.rand(1, out_feature).mul(2).sub(1).mul(256).round().div(256)\n",
    "ufc = UnaryLinear(in_feature, out_feature, 256, fc.weight, fc.bias, mode=mode, scaled=scaled, bias=bias)\n",
    "\n",
    "print(\"weight:\")\n",
    "print(fc.weight.data)\n",
    "print(fc.weight.size())\n",
    "if bias is True:\n",
    "    print(\"\\nbias:\")\n",
    "    print(fc.bias)\n",
    "    print(fc.bias.size())\n",
    "\n",
    "iVec = (torch.rand(1, in_feature)*256).round()/256\n",
    "oVec = fc(iVec)\n",
    "\n",
    "print(\"\\ninput:\")\n",
    "print(iVec)\n",
    "print(\"\\noutput:\")\n",
    "print(oVec)\n",
    "\n",
    "print(iVec*fc.weight.data)\n",
    "print(iVec.matmul(fc.weight.data))\n",
    "\n",
    "if scaled is False:\n",
    "    oVec = oVec.clamp(-1.,1.).mul(256).floor()/256\n",
    "else:\n",
    "    if bias is True:\n",
    "        oVec = oVec.div(in_feature).mul(256).floor()/256\n",
    "    else:\n",
    "        oVec = oVec.div(in_feature).mul(256).floor()/256\n",
    "\n",
    "print(\"\\nquantized output:\")\n",
    "print(oVec)"
   ]
  },
  {
   "cell_type": "code",
   "execution_count": 16,
   "metadata": {},
   "outputs": [
    {
     "name": "stdout",
     "output_type": "stream",
     "text": [
      "input error:  tensor(0.) tensor(0.)\n",
      "output error: tensor(0.1055) tensor(0.1055)\n",
      "tensor([[0.1055]])\n",
      "tensor([[55.]])\n",
      "tensor([[0.2148]])\n"
     ]
    }
   ],
   "source": [
    "iVecSource = SourceGen(iVec, bitwidth=8, mode=mode).Gen()\n",
    "\n",
    "iVecRNG = RNG(8, 1, rng).Out()\n",
    "iVecBS = BSGen(iVecSource, iVecRNG)\n",
    "\n",
    "iVecPP = ProgressiveError(iVec, mode=mode)\n",
    "oVecPP = ProgressiveError(oVec, mode=mode)\n",
    "\n",
    "with torch.no_grad():\n",
    "    idx = torch.zeros(iVecSource.size()).type(torch.long)\n",
    "    for i in range(256):\n",
    "        iBS = iVecBS.Gen(idx + i)\n",
    "        iVecPP.Monitor(iBS)\n",
    "        oVecU = ufc(iBS)\n",
    "\n",
    "        oVecPP.Monitor(oVecU)\n",
    "    print(\"input error: \", min(min(iVecPP.Report())), max(max(iVecPP.Report())))\n",
    "    print(\"output error:\", min(min(oVecPP.Report())), max(max(oVecPP.Report())))\n",
    "    print(oVecPP.Report())\n",
    "    print(oVecPP.one_cnt)\n",
    "    print(oVecPP.out_pp)\n",
    "\n"
   ]
  },
  {
   "cell_type": "code",
   "execution_count": null,
   "metadata": {},
   "outputs": [],
   "source": []
  }
 ],
 "metadata": {
  "kernelspec": {
   "display_name": "Python 3",
   "language": "python",
   "name": "python3"
  },
  "language_info": {
   "codemirror_mode": {
    "name": "ipython",
    "version": 3
   },
   "file_extension": ".py",
   "mimetype": "text/x-python",
   "name": "python",
   "nbconvert_exporter": "python",
   "pygments_lexer": "ipython3",
   "version": "3.6.5"
  }
 },
 "nbformat": 4,
 "nbformat_minor": 2
}
