{
 "cells": [
  {
   "cell_type": "code",
   "execution_count": 1,
   "metadata": {},
   "outputs": [],
   "source": [
    "%load_ext autoreload\n",
    "%autoreload 2"
   ]
  },
  {
   "cell_type": "code",
   "execution_count": 2,
   "metadata": {},
   "outputs": [],
   "source": [
    "import torch\n",
    "from UnarySim.sw.kernel.linear import UnaryLinear\n",
    "from UnarySim.sw.bitstream.gen import RNG, SourceGen, BSGen\n",
    "from UnarySim.sw.metric.metric import ProgressiveError\n"
   ]
  },
  {
   "cell_type": "code",
   "execution_count": 5,
   "metadata": {},
   "outputs": [
    {
     "name": "stdout",
     "output_type": "stream",
     "text": [
      "Linear(in_features=1, out_features=1, bias=False)\n",
      "weight:\n",
      "Parameter containing:\n",
      "tensor([[0.7539]], requires_grad=True) torch.Size([1, 1])\n",
      "\n",
      "input:\n",
      "tensor([[0.7109]])\n",
      "\n",
      "expected output:\n",
      "tensor([[0.5360]], grad_fn=<MmBackward>)\n",
      "\n",
      "expected quantized output:\n",
      "tensor([[0.5352]], grad_fn=<DivBackward0>)\n"
     ]
    }
   ],
   "source": [
    "rng = \"Sobol\"\n",
    "\n",
    "in_feature = 1\n",
    "out_feature = 1\n",
    "\n",
    "mode = \"unipolar\"\n",
    "scaled = True\n",
    "bias=False\n",
    "\n",
    "fc = torch.nn.Linear(in_feature, out_feature, bias=bias).cuda()\n",
    "print(fc)\n",
    "if mode is \"unipolar\":\n",
    "    fc.weight.data = torch.rand(out_feature, in_feature).mul(256).round().div(256)\n",
    "    if bias is True:\n",
    "        fc.bias.data = torch.rand(1, out_feature).mul(256).round().div(256)\n",
    "elif mode is \"bipolar\":\n",
    "    fc.weight.data = torch.rand(out_feature, in_feature).mul(2).sub(1).mul(256).round().div(256)\n",
    "    if bias is True:\n",
    "        fc.bias.data = torch.rand(1, out_feature).mul(2).sub(1).mul(256).round().div(256)\n",
    "ufc = UnaryLinear(in_feature, out_feature, 256, fc.weight, fc.bias, mode=mode, scaled=scaled, bias=bias).cuda()\n",
    "\n",
    "print(\"weight:\")\n",
    "print(fc.weight, fc.weight.size())\n",
    "\n",
    "if bias is True:\n",
    "    print(\"\\nbias:\")\n",
    "    print(fc.bias, fc.bias.size())\n",
    "\n",
    "iVec = (torch.rand(1, in_feature)*256).round()/256\n",
    "oVec = fc(iVec)\n",
    "\n",
    "print(\"\\ninput:\")\n",
    "print(iVec)\n",
    "print(\"\\nexpected output:\")\n",
    "print(oVec)\n",
    "\n",
    "if scaled is False:\n",
    "    oVec = oVec.clamp(-1.,1.).mul(256).floor()/256\n",
    "else:\n",
    "    if bias is True:\n",
    "        oVec = oVec.div(in_feature+1).mul(256).floor()/256\n",
    "    else:\n",
    "        oVec = oVec.div(in_feature).mul(256).floor()/256\n",
    "\n",
    "print(\"\\nexpected quantized output:\")\n",
    "print(oVec)"
   ]
  },
  {
   "cell_type": "code",
   "execution_count": 16,
   "metadata": {},
   "outputs": [
    {
     "name": "stdout",
     "output_type": "stream",
     "text": [
      "input error:  tensor(0.) tensor(0.)\n",
      "output error: tensor(0.1055) tensor(0.1055)\n",
      "tensor([[0.1055]])\n",
      "tensor([[55.]])\n",
      "tensor([[0.2148]])\n"
     ]
    }
   ],
   "source": [
    "iVecSource = SourceGen(iVec, bitwidth=8, mode=mode).Gen()\n",
    "\n",
    "iVecRNG = RNG(8, 1, rng).Out()\n",
    "iVecBS = BSGen(iVecSource, iVecRNG)\n",
    "\n",
    "iVecPP = ProgressiveError(iVec, mode=mode)\n",
    "oVecPP = ProgressiveError(oVec, mode=mode)\n",
    "\n",
    "with torch.no_grad():\n",
    "    idx = torch.zeros(iVecSource.size()).type(torch.long)\n",
    "    for i in range(256):\n",
    "        iBS = iVecBS.Gen(idx + i)\n",
    "        iVecPP.Monitor(iBS)\n",
    "        oVecU = ufc(iBS)\n",
    "\n",
    "        oVecPP.Monitor(oVecU)\n",
    "    print(\"input error: \", min(min(iVecPP.Report())), max(max(iVecPP.Report())))\n",
    "    print(\"output error:\", min(min(oVecPP.Report())), max(max(oVecPP.Report())))\n",
    "    print(oVecPP.Report())\n",
    "    print(oVecPP.one_cnt)\n",
    "    print(oVecPP.out_pp)\n",
    "\n"
   ]
  },
  {
   "cell_type": "code",
   "execution_count": null,
   "metadata": {},
   "outputs": [],
   "source": []
  }
 ],
 "metadata": {
  "kernelspec": {
   "display_name": "Python 3",
   "language": "python",
   "name": "python3"
  },
  "language_info": {
   "codemirror_mode": {
    "name": "ipython",
    "version": 3
   },
   "file_extension": ".py",
   "mimetype": "text/x-python",
   "name": "python",
   "nbconvert_exporter": "python",
   "pygments_lexer": "ipython3",
   "version": "3.7.3"
  }
 },
 "nbformat": 4,
 "nbformat_minor": 2
}
