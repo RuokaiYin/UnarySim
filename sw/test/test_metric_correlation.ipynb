{
 "cells": [
  {
   "cell_type": "code",
   "execution_count": 1,
   "metadata": {},
   "outputs": [],
   "source": [
    "%load_ext autoreload\n",
    "%autoreload 2"
   ]
  },
  {
   "cell_type": "code",
   "execution_count": 2,
   "metadata": {},
   "outputs": [],
   "source": [
    "import torch\n",
    "from UnarySim.sw.metric.metric import Correlation"
   ]
  },
  {
   "cell_type": "code",
   "execution_count": 3,
   "metadata": {},
   "outputs": [],
   "source": [
    "corr = Correlation().cuda()"
   ]
  },
  {
   "cell_type": "code",
   "execution_count": 12,
   "metadata": {},
   "outputs": [],
   "source": [
    "a = torch.tensor([0]).type(torch.int8).cuda()\n",
    "b = torch.tensor([0]).type(torch.int8).cuda()"
   ]
  },
  {
   "cell_type": "code",
   "execution_count": 10,
   "metadata": {},
   "outputs": [],
   "source": [
    "a = torch.tensor([0]).type(torch.int8).cuda()\n",
    "b = torch.tensor([1]).type(torch.int8).cuda()"
   ]
  },
  {
   "cell_type": "code",
   "execution_count": 8,
   "metadata": {},
   "outputs": [],
   "source": [
    "a = torch.tensor([1]).type(torch.int8).cuda()\n",
    "b = torch.tensor([0]).type(torch.int8).cuda()"
   ]
  },
  {
   "cell_type": "code",
   "execution_count": 6,
   "metadata": {},
   "outputs": [],
   "source": [
    "a = torch.tensor([1]).type(torch.int8).cuda()\n",
    "b = torch.tensor([1]).type(torch.int8).cuda()"
   ]
  },
  {
   "cell_type": "code",
   "execution_count": 13,
   "metadata": {
    "scrolled": true
   },
   "outputs": [
    {
     "name": "stdout",
     "output_type": "stream",
     "text": [
      "d Parameter containing:\n",
      "tensor([1.], device='cuda:0')\n",
      "c Parameter containing:\n",
      "tensor([1.], device='cuda:0')\n",
      "b Parameter containing:\n",
      "tensor([1.], device='cuda:0')\n",
      "a Parameter containing:\n",
      "tensor([1.], device='cuda:0')\n",
      "tensor([0.], device='cuda:0')\n"
     ]
    }
   ],
   "source": [
    "corr.Monitor(a,b)\n",
    "print(\"d\", corr.paired_00_d)\n",
    "print(\"c\", corr.paired_01_c)\n",
    "print(\"b\", corr.paired_10_b)\n",
    "print(\"a\", corr.paired_11_a)\n",
    "\n",
    "cor = corr()\n",
    "print(cor)"
   ]
  },
  {
   "cell_type": "code",
   "execution_count": 4,
   "metadata": {},
   "outputs": [],
   "source": [
    "a = torch.tensor([0]).type(torch.int8).cuda()"
   ]
  },
  {
   "cell_type": "code",
   "execution_count": 4,
   "metadata": {},
   "outputs": [],
   "source": [
    "a = torch.tensor([1]).type(torch.int8).cuda()"
   ]
  },
  {
   "cell_type": "code",
   "execution_count": 11,
   "metadata": {},
   "outputs": [
    {
     "name": "stdout",
     "output_type": "stream",
     "text": [
      "d Parameter containing:\n",
      "tensor([0.], device='cuda:0')\n",
      "c Parameter containing:\n",
      "tensor([0.], device='cuda:0')\n",
      "b Parameter containing:\n",
      "tensor([1.], device='cuda:0')\n",
      "a Parameter containing:\n",
      "tensor([6.], device='cuda:0')\n",
      "correlation tensor([0.], device='cuda:0')\n"
     ]
    }
   ],
   "source": [
    "corr.Monitor(a)\n",
    "print(\"d\", corr.paired_00_d)\n",
    "print(\"c\", corr.paired_01_c)\n",
    "print(\"b\", corr.paired_10_b)\n",
    "print(\"a\", corr.paired_11_a)\n",
    "\n",
    "cor = corr()\n",
    "print(\"correlation\", cor)"
   ]
  },
  {
   "cell_type": "code",
   "execution_count": null,
   "metadata": {},
   "outputs": [],
   "source": []
  }
 ],
 "metadata": {
  "kernelspec": {
   "display_name": "Python 3",
   "language": "python",
   "name": "python3"
  },
  "language_info": {
   "codemirror_mode": {
    "name": "ipython",
    "version": 3
   },
   "file_extension": ".py",
   "mimetype": "text/x-python",
   "name": "python",
   "nbconvert_exporter": "python",
   "pygments_lexer": "ipython3",
   "version": "3.7.3"
  }
 },
 "nbformat": 4,
 "nbformat_minor": 2
}
