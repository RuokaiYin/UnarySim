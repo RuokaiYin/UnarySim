{
 "cells": [
  {
   "cell_type": "code",
   "execution_count": 1,
   "metadata": {},
   "outputs": [],
   "source": [
    "%load_ext autoreload\n",
    "%autoreload 2"
   ]
  },
  {
   "cell_type": "code",
   "execution_count": 57,
   "metadata": {},
   "outputs": [],
   "source": [
    "import torch\n",
    "from UnarySim.sw.metric.metric import NormStability\n"
   ]
  },
  {
   "cell_type": "code",
   "execution_count": 58,
   "metadata": {},
   "outputs": [],
   "source": [
    "normstb = NormStability(torch.tensor([[-0.5]]).cuda(), mode=\"bipolar\", threshold=0.05).cuda()"
   ]
  },
  {
   "cell_type": "code",
   "execution_count": 59,
   "metadata": {},
   "outputs": [],
   "source": [
    "a = torch.tensor([[1]]).type(torch.uint8).cuda()"
   ]
  },
  {
   "cell_type": "code",
   "execution_count": 60,
   "metadata": {},
   "outputs": [],
   "source": [
    "a = torch.tensor([[0]]).type(torch.uint8).cuda()"
   ]
  },
  {
   "cell_type": "code",
   "execution_count": 61,
   "metadata": {},
   "outputs": [
    {
     "name": "stdout",
     "output_type": "stream",
     "text": [
      "torch.Size([1, 1])\n"
     ]
    }
   ],
   "source": [
    "print(a.size())"
   ]
  },
  {
   "cell_type": "code",
   "execution_count": 83,
   "metadata": {},
   "outputs": [
    {
     "name": "stdout",
     "output_type": "stream",
     "text": [
      "tensor([[0.]], device='cuda:0')\n",
      "Parameter containing:\n",
      "tensor([0.0500], device='cuda:0')\n",
      "tensor([[0.]], device='cuda:0')\n",
      "Parameter containing:\n",
      "tensor([22.], device='cuda:0')\n",
      "normstb.max_stab: tensor([[0.8750]], device='cuda:0')\n",
      "Parameter containing:\n",
      "tensor([[0.2250]], device='cuda:0')\n",
      "torch.Size([1, 1])\n"
     ]
    }
   ],
   "source": [
    "normstb.Monitor(a)\n",
    "print(normstb())\n",
    "print(normstb.threshold)\n",
    "print(normstb.stability())\n",
    "print(normstb.stability.len)\n",
    "print(\"normstb.max_stab:\", normstb.max_stab)\n",
    "print(normstb.min_prob)\n",
    "print(normstb.in_shape)"
   ]
  },
  {
   "cell_type": "code",
   "execution_count": null,
   "metadata": {},
   "outputs": [],
   "source": []
  }
 ],
 "metadata": {
  "kernelspec": {
   "display_name": "Python 3",
   "language": "python",
   "name": "python3"
  },
  "language_info": {
   "codemirror_mode": {
    "name": "ipython",
    "version": 3
   },
   "file_extension": ".py",
   "mimetype": "text/x-python",
   "name": "python",
   "nbconvert_exporter": "python",
   "pygments_lexer": "ipython3",
   "version": "3.7.3"
  }
 },
 "nbformat": 4,
 "nbformat_minor": 2
}
