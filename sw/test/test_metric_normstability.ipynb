{
 "cells": [
  {
   "cell_type": "code",
   "execution_count": 1,
   "metadata": {},
   "outputs": [],
   "source": [
    "%load_ext autoreload\n",
    "%autoreload 2"
   ]
  },
  {
   "cell_type": "code",
   "execution_count": 64,
   "metadata": {},
   "outputs": [],
   "source": [
    "import torch\n",
    "from UnarySim.sw.metric.metric import NormStability, Stability"
   ]
  },
  {
   "cell_type": "code",
   "execution_count": 73,
   "metadata": {},
   "outputs": [],
   "source": [
    "normstb = NormStability(torch.tensor([[[[0.5]]]]).cuda(), mode=\"unipolar\", threshold=0.05).cuda()\n",
    "stb = Stability(torch.tensor([[[[0.5]]]]).cuda(), mode=\"unipolar\", threshold=0.05).cuda()"
   ]
  },
  {
   "cell_type": "code",
   "execution_count": 74,
   "metadata": {},
   "outputs": [
    {
     "name": "stdout",
     "output_type": "stream",
     "text": [
      "0\n",
      "stab tensor([[[[0.]]]], device='cuda:0')\n",
      "norm stab tensor([[[[0.]]]], device='cuda:0')\n",
      "1\n",
      "stab tensor([[[[0.]]]], device='cuda:0')\n",
      "norm stab tensor([[[[0.]]]], device='cuda:0')\n",
      "2\n",
      "stab tensor([[[[0.]]]], device='cuda:0')\n",
      "norm stab tensor([[[[0.]]]], device='cuda:0')\n",
      "3\n",
      "stab tensor([[[[0.]]]], device='cuda:0')\n",
      "norm stab tensor([[[[0.]]]], device='cuda:0')\n",
      "4\n",
      "stab tensor([[[[0.]]]], device='cuda:0')\n",
      "norm stab tensor([[[[0.]]]], device='cuda:0')\n",
      "5\n",
      "stab tensor([[[[0.]]]], device='cuda:0')\n",
      "norm stab tensor([[[[0.]]]], device='cuda:0')\n",
      "6\n",
      "stab tensor([[[[0.]]]], device='cuda:0')\n",
      "norm stab tensor([[[[0.]]]], device='cuda:0')\n",
      "7\n",
      "stab tensor([[[[0.]]]], device='cuda:0')\n",
      "norm stab tensor([[[[0.]]]], device='cuda:0')\n",
      "8\n",
      "stab tensor([[[[0.]]]], device='cuda:0')\n",
      "norm stab tensor([[[[0.]]]], device='cuda:0')\n",
      "9\n",
      "stab tensor([[[[0.]]]], device='cuda:0')\n",
      "norm stab tensor([[[[0.]]]], device='cuda:0')\n",
      "10\n",
      "stab tensor([[[[0.0909]]]], device='cuda:0')\n",
      "norm stab tensor([[[[1.]]]], device='cuda:0')\n",
      "11\n",
      "stab tensor([[[[0.1667]]]], device='cuda:0')\n",
      "norm stab tensor([[[[1.0000]]]], device='cuda:0')\n",
      "12\n",
      "stab tensor([[[[0.2308]]]], device='cuda:0')\n",
      "norm stab tensor([[[[1.]]]], device='cuda:0')\n",
      "13\n",
      "stab tensor([[[[0.2857]]]], device='cuda:0')\n",
      "norm stab tensor([[[[1.]]]], device='cuda:0')\n",
      "14\n",
      "stab tensor([[[[0.3333]]]], device='cuda:0')\n",
      "norm stab tensor([[[[1.]]]], device='cuda:0')\n",
      "15\n",
      "stab tensor([[[[0.3750]]]], device='cuda:0')\n",
      "norm stab tensor([[[[1.]]]], device='cuda:0')\n",
      "16\n",
      "stab tensor([[[[0.4118]]]], device='cuda:0')\n",
      "norm stab tensor([[[[1.]]]], device='cuda:0')\n",
      "17\n",
      "stab tensor([[[[0.4444]]]], device='cuda:0')\n",
      "norm stab tensor([[[[1.]]]], device='cuda:0')\n",
      "18\n",
      "stab tensor([[[[0.4737]]]], device='cuda:0')\n",
      "norm stab tensor([[[[1.]]]], device='cuda:0')\n",
      "19\n",
      "stab tensor([[[[0.5000]]]], device='cuda:0')\n",
      "norm stab tensor([[[[1.]]]], device='cuda:0')\n"
     ]
    }
   ],
   "source": [
    "for _ in range(20):\n",
    "    a = torch.tensor([[[[_%2]]]]).type(torch.int8).cuda()\n",
    "    normstb.Monitor(a)\n",
    "    stb.Monitor(a)\n",
    "    print(_)\n",
    "    print(\"stab\", stb())\n",
    "    print(\"norm stab\", normstb())"
   ]
  },
  {
   "cell_type": "code",
   "execution_count": null,
   "metadata": {},
   "outputs": [],
   "source": []
  }
 ],
 "metadata": {
  "kernelspec": {
   "display_name": "Python 3",
   "language": "python",
   "name": "python3"
  },
  "language_info": {
   "codemirror_mode": {
    "name": "ipython",
    "version": 3
   },
   "file_extension": ".py",
   "mimetype": "text/x-python",
   "name": "python",
   "nbconvert_exporter": "python",
   "pygments_lexer": "ipython3",
   "version": "3.7.3"
  }
 },
 "nbformat": 4,
 "nbformat_minor": 2
}
