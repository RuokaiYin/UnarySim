{
 "cells": [
  {
   "cell_type": "code",
   "execution_count": 1,
   "metadata": {},
   "outputs": [],
   "source": [
    "%load_ext autoreload\n",
    "%autoreload 2"
   ]
  },
  {
   "cell_type": "code",
   "execution_count": 2,
   "metadata": {},
   "outputs": [
    {
     "ename": "ImportError",
     "evalue": "cannot import name 'NSbuilder' from 'UnarySim.sw.metric.metric' (/Users/Yin/anaconda3/lib/python3.7/UnarySim/sw/metric/metric.py)",
     "output_type": "error",
     "traceback": [
      "\u001b[0;31m---------------------------------------------------------------------------\u001b[0m",
      "\u001b[0;31mImportError\u001b[0m                               Traceback (most recent call last)",
      "\u001b[0;32m<ipython-input-2-8d93c85d3ef2>\u001b[0m in \u001b[0;36m<module>\u001b[0;34m\u001b[0m\n\u001b[1;32m      2\u001b[0m \u001b[0;32mimport\u001b[0m \u001b[0mmath\u001b[0m\u001b[0;34m\u001b[0m\u001b[0;34m\u001b[0m\u001b[0m\n\u001b[1;32m      3\u001b[0m \u001b[0;32mfrom\u001b[0m \u001b[0mUnarySim\u001b[0m\u001b[0;34m.\u001b[0m\u001b[0msw\u001b[0m\u001b[0;34m.\u001b[0m\u001b[0mbitstream\u001b[0m\u001b[0;34m.\u001b[0m\u001b[0mgen\u001b[0m \u001b[0;32mimport\u001b[0m \u001b[0mRNG\u001b[0m\u001b[0;34m,\u001b[0m \u001b[0mSourceGen\u001b[0m\u001b[0;34m,\u001b[0m \u001b[0mBSGen\u001b[0m\u001b[0;34m\u001b[0m\u001b[0;34m\u001b[0m\u001b[0m\n\u001b[0;32m----> 4\u001b[0;31m \u001b[0;32mfrom\u001b[0m \u001b[0mUnarySim\u001b[0m\u001b[0;34m.\u001b[0m\u001b[0msw\u001b[0m\u001b[0;34m.\u001b[0m\u001b[0mmetric\u001b[0m\u001b[0;34m.\u001b[0m\u001b[0mmetric\u001b[0m \u001b[0;32mimport\u001b[0m \u001b[0mNormStability\u001b[0m\u001b[0;34m,\u001b[0m \u001b[0mNSbuilder\u001b[0m\u001b[0;34m\u001b[0m\u001b[0;34m\u001b[0m\u001b[0m\n\u001b[0m\u001b[1;32m      5\u001b[0m \u001b[0;32mimport\u001b[0m \u001b[0mmatplotlib\u001b[0m\u001b[0;34m.\u001b[0m\u001b[0mpyplot\u001b[0m \u001b[0;32mas\u001b[0m \u001b[0mplt\u001b[0m\u001b[0;34m\u001b[0m\u001b[0;34m\u001b[0m\u001b[0m\n\u001b[1;32m      6\u001b[0m \u001b[0;32mimport\u001b[0m \u001b[0mtime\u001b[0m\u001b[0;34m\u001b[0m\u001b[0;34m\u001b[0m\u001b[0m\n",
      "\u001b[0;31mImportError\u001b[0m: cannot import name 'NSbuilder' from 'UnarySim.sw.metric.metric' (/Users/Yin/anaconda3/lib/python3.7/UnarySim/sw/metric/metric.py)"
     ]
    }
   ],
   "source": [
    "import torch\n",
    "import math\n",
    "from UnarySim.sw.bitstream.gen import RNG, SourceGen, BSGen\n",
    "from UnarySim.sw.metric.metric import NormStability, NSbuilder\n",
    "import matplotlib.pyplot as plt\n",
    "import time\n",
    "import math"
   ]
  },
  {
   "cell_type": "code",
   "execution_count": 4,
   "metadata": {
    "scrolled": false
   },
   "outputs": [],
   "source": [
    "def NS_builder_test(dep_it=[8],normstab=[],T=0.05,val=[]):\n",
    "    \n",
    "    plt.figure()\n",
    "    err = []\n",
    "    val_shape = val.size()\n",
    "    val_dim = len(val_shape)\n",
    "    for dep in dep_it:\n",
    "        length = 2**dep\n",
    "        target_ite = normstab\n",
    "        for target in target_ite:        \n",
    "            normstb = NormStability(val, mode=\"unipolar\", threshold=T).cpu()\n",
    "            dis = NSbuilder(depth=dep,mode=\"unipolar\",normstability=target,threshold = T,value=val,rng_dim=1,rng=\"Sobol\").to(\"cpu\")            \n",
    "            for j in range(2**dep):\n",
    "                out = dis()\n",
    "                normstb.Monitor(out)\n",
    "\n",
    "            error = ((normstb() - target))\n",
    "            err.append(error)\n",
    "        \n",
    "        if val_dim == 1:\n",
    "            err = [item for err_1 in err for item in err_1]\n",
    "        if val_dim == 2:\n",
    "            err = [item for err_2 in err for err_1 in err_2 for item in err_1]\n",
    "        if val_dim == 3:\n",
    "            err = [item for err_3 in err for err_2 in err_3 for err_1 in err_2 for item in err_1]\n",
    "        if val_dim == 4:\n",
    "            err = [item for err_4 in err for err_3 in err_4 for err_2 in err_3 for err_1 in err_2 for item in err_1]\n",
    "        \n",
    "        plt.hist(err, bins='auto')\n",
    "        print(\"Histogram for final output error,dep:\",dep)\n",
    "        plt.title(\"Histogram for final output error\")\n",
    "        plt.show()"
   ]
  },
  {
   "cell_type": "code",
   "execution_count": 17,
   "metadata": {},
   "outputs": [
    {
     "name": "stdout",
     "output_type": "stream",
     "text": [
      "Histogram for final output error,dep: 8\n"
     ]
    },
    {
     "data": {
      "image/png": "[encoded data removed]",
      "text/plain": [
       "<Figure size 432x288 with 1 Axes>"
      ]
     },
     "metadata": {
      "needs_background": "light"
     },
     "output_type": "display_data"
    }
   ],
   "source": [
    "dep_it=[8]\n",
    "normstab=[0.2,0.25,0.3,0.35,0.4,0.45,0.5,0.55,0.6,0.65,0.7,0.75,0.8,0.85,0.9,0.95]\n",
    "T = 0.05\n",
    "temp = []\n",
    "for ite in range(2**8 + 1):\n",
    "    temp.append(1.0*ite/2**8)\n",
    "val = torch.tensor(temp)\n",
    "NS_builder_test(dep_it,normstab,T,val)"
   ]
  },
  {
   "cell_type": "code",
   "execution_count": 18,
   "metadata": {},
   "outputs": [
    {
     "name": "stdout",
     "output_type": "stream",
     "text": [
      "Histogram for final output error,dep: 7\n"
     ]
    },
    {
     "data": {
      "image/png": "[encoded data removed]",
      "text/plain": [
       "<Figure size 432x288 with 1 Axes>"
      ]
     },
     "metadata": {
      "needs_background": "light"
     },
     "output_type": "display_data"
    }
   ],
   "source": [
    "dep_it=[7]\n",
    "normstab=[0.2,0.25,0.3,0.35,0.4,0.45,0.5,0.55,0.6,0.65,0.7,0.75,0.8,0.85,0.9,0.95]\n",
    "T = 0.05\n",
    "temp = []\n",
    "for ite in range(2**7 + 1):\n",
    "    temp.append(1.0*ite/2**7)\n",
    "val = torch.tensor(temp)\n",
    "NS_builder_test(dep_it,normstab,T,val)"
   ]
  },
  {
   "cell_type": "code",
   "execution_count": 3,
   "metadata": {},
   "outputs": [
    {
     "ename": "NameError",
     "evalue": "name 'NS_builder_test' is not defined",
     "output_type": "error",
     "traceback": [
      "\u001b[0;31m---------------------------------------------------------------------------\u001b[0m",
      "\u001b[0;31mNameError\u001b[0m                                 Traceback (most recent call last)",
      "\u001b[0;32m<ipython-input-3-eb2559cf6b5c>\u001b[0m in \u001b[0;36m<module>\u001b[0;34m\u001b[0m\n\u001b[1;32m      6\u001b[0m     \u001b[0mtemp\u001b[0m\u001b[0;34m.\u001b[0m\u001b[0mappend\u001b[0m\u001b[0;34m(\u001b[0m\u001b[0;36m1.0\u001b[0m\u001b[0;34m*\u001b[0m\u001b[0mite\u001b[0m\u001b[0;34m/\u001b[0m\u001b[0;36m2\u001b[0m\u001b[0;34m**\u001b[0m\u001b[0;36m6\u001b[0m\u001b[0;34m)\u001b[0m\u001b[0;34m\u001b[0m\u001b[0;34m\u001b[0m\u001b[0m\n\u001b[1;32m      7\u001b[0m \u001b[0mval\u001b[0m \u001b[0;34m=\u001b[0m \u001b[0mtorch\u001b[0m\u001b[0;34m.\u001b[0m\u001b[0mtensor\u001b[0m\u001b[0;34m(\u001b[0m\u001b[0mtemp\u001b[0m\u001b[0;34m)\u001b[0m\u001b[0;34m\u001b[0m\u001b[0;34m\u001b[0m\u001b[0m\n\u001b[0;32m----> 8\u001b[0;31m \u001b[0mNS_builder_test\u001b[0m\u001b[0;34m(\u001b[0m\u001b[0mdep_it\u001b[0m\u001b[0;34m,\u001b[0m\u001b[0mnormstab\u001b[0m\u001b[0;34m,\u001b[0m\u001b[0mT\u001b[0m\u001b[0;34m,\u001b[0m\u001b[0mval\u001b[0m\u001b[0;34m)\u001b[0m\u001b[0;34m\u001b[0m\u001b[0;34m\u001b[0m\u001b[0m\n\u001b[0m",
      "\u001b[0;31mNameError\u001b[0m: name 'NS_builder_test' is not defined"
     ]
    }
   ],
   "source": [
    "dep_it=[6]\n",
    "normstab=[0.2,0.25,0.3,0.35,0.4,0.45,0.5,0.55,0.6,0.65,0.7,0.75,0.8,0.85,0.9,0.95]\n",
    "T = 0.05\n",
    "temp = []\n",
    "for ite in range(2**6 + 1):\n",
    "    temp.append(1.0*ite/2**6)\n",
    "val = torch.tensor(temp)\n",
    "NS_builder_test(dep_it,normstab,T,val)"
   ]
  },
  {
   "cell_type": "code",
   "execution_count": null,
   "metadata": {},
   "outputs": [],
   "source": []
  }
 ],
 "metadata": {
  "file_extension": ".py",
  "kernelspec": {
   "display_name": "Python 3.7.4 64-bit ('base': conda)",
   "language": "python",
   "name": "python37464bitbaseconda38f1aac72af24bf5bd27eae11b180e94"
  },
  "language_info": {
   "codemirror_mode": {
    "name": "ipython",
    "version": 3
   },
   "file_extension": ".py",
   "mimetype": "text/x-python",
   "name": "python",
   "nbconvert_exporter": "python",
   "pygments_lexer": "ipython3",
   "version": "3.7.4"
  },
  "mimetype": "text/x-python",
  "name": "python",
  "npconvert_exporter": "python",
  "pygments_lexer": "ipython3",
  "version": 3
 },
 "nbformat": 4,
 "nbformat_minor": 2
}
