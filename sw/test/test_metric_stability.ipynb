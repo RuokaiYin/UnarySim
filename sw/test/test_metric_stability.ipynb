{
 "cells": [
  {
   "cell_type": "code",
   "execution_count": 1,
   "metadata": {},
   "outputs": [],
   "source": [
    "%load_ext autoreload\n",
    "%autoreload 2"
   ]
  },
  {
   "cell_type": "code",
   "execution_count": 2,
   "metadata": {},
   "outputs": [],
   "source": [
    "import torch\n",
    "from UnarySim.sw.metric.metric import Stability\n"
   ]
  },
  {
   "cell_type": "code",
   "execution_count": 3,
   "metadata": {},
   "outputs": [],
   "source": [
    "input = torch.tensor([-0.5,1.]).cuda()"
   ]
  },
  {
   "cell_type": "code",
   "execution_count": 4,
   "metadata": {},
   "outputs": [],
   "source": [
    "stb = Stability(input, mode=\"bipolar\", threshold=0.1).cuda()"
   ]
  },
  {
   "cell_type": "code",
   "execution_count": 5,
   "metadata": {},
   "outputs": [],
   "source": [
    "a = torch.tensor([1,0]).type(torch.uint8).cuda()"
   ]
  },
  {
   "cell_type": "code",
   "execution_count": 7,
   "metadata": {},
   "outputs": [],
   "source": [
    "a = torch.tensor([0,1]).type(torch.uint8).cuda()"
   ]
  },
  {
   "cell_type": "code",
   "execution_count": 8,
   "metadata": {},
   "outputs": [
    {
     "name": "stdout",
     "output_type": "stream",
     "text": [
      "stab lne: tensor([2., 2.], device='cuda:0')\n",
      "Parameter containing:\n",
      "tensor([ 0.5000, -1.0000], device='cuda:0')\n",
      "tensor([2., 2.], device='cuda:0')\n",
      "Parameter containing:\n",
      "tensor([2.], device='cuda:0')\n",
      "Parameter containing:\n",
      "tensor([0.1000], device='cuda:0')\n",
      "tensor([0., 0.], device='cuda:0')\n"
     ]
    }
   ],
   "source": [
    "stb.Monitor(a)\n",
    "print(stb.err)\n",
    "print(stb.stable_len)\n",
    "print(stb.len)\n",
    "print(stb.threshold)\n",
    "print(stb())"
   ]
  },
  {
   "cell_type": "code",
   "execution_count": null,
   "metadata": {},
   "outputs": [],
   "source": []
  }
 ],
 "metadata": {
  "kernelspec": {
   "display_name": "Python 3",
   "language": "python",
   "name": "python3"
  },
  "language_info": {
   "codemirror_mode": {
    "name": "ipython",
    "version": 3
   },
   "file_extension": ".py",
   "mimetype": "text/x-python",
   "name": "python",
   "nbconvert_exporter": "python",
   "pygments_lexer": "ipython3",
   "version": "3.7.3"
  }
 },
 "nbformat": 4,
 "nbformat_minor": 2
}
