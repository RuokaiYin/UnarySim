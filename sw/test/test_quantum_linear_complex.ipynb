{
 "cells": [
  {
   "cell_type": "code",
   "execution_count": 1,
   "metadata": {},
   "outputs": [],
   "source": [
    "%load_ext autoreload\n",
    "%autoreload 2"
   ]
  },
  {
   "cell_type": "code",
   "execution_count": 2,
   "metadata": {},
   "outputs": [],
   "source": [
    "import torch\n",
    "from UnarySim.sw.quantum.linear_complex import UnaryLinearComplex, LinearComplex\n",
    "from UnarySim.sw.bitstream.gen import RNG, SourceGen, BSGen\n",
    "from UnarySim.sw.metric.metric import ProgressiveError\n",
    "import matplotlib.pyplot as plt\n",
    "import time"
   ]
  },
  {
   "cell_type": "code",
   "execution_count": 3,
   "metadata": {},
   "outputs": [],
   "source": [
    "device = torch.device(\"cuda:0\" if torch.cuda.is_available() else \"cpu\")"
   ]
  },
  {
   "cell_type": "code",
   "execution_count": 29,
   "metadata": {},
   "outputs": [],
   "source": [
    "def linear_complex_test(rng=\"Sobol\", in_feature=16, out_feature=16, bitwidth=8):\n",
    "    mode = \"bipolar\"\n",
    "    bstype = torch.float\n",
    "    buftype = torch.float\n",
    "    randtype = torch.float\n",
    "    scaled = [True]\n",
    "    result_pe_r = []\n",
    "    result_pe_i = []\n",
    "    \n",
    "    for scale in scaled:\n",
    "        length = 2**bitwidth\n",
    "        result_pe_cycle_r = []\n",
    "        result_pe_cycle_i = []\n",
    "\n",
    "#         wr = torch.rand(out_feature, in_feature).mul(2).sub(1).mul(length).round().div(length).to(device)\n",
    "#         wi = torch.rand(out_feature, in_feature).mul(2).sub(1).mul(length).round().div(length).to(device)\n",
    "        wr = torch.tensor([[0., .5], [0., .5]]).to(device)\n",
    "        wi = torch.tensor([[0., -.5], [0., -.5]]).to(device)\n",
    "        print(\"wr:\", wr)\n",
    "        print(\"wi:\", wi)\n",
    "        fc = LinearComplex(in_feature, out_feature, wr, wi).to(device)\n",
    "        \n",
    "        ufc = UnaryLinearComplex(in_feature, out_feature, wr, wi, \n",
    "                                 bitwidth=bitwidth, scaled=scale, \n",
    "                                 bstype=bstype, buftype=buftype, randtype=randtype).to(device)\n",
    "\n",
    "        iVec_r = ((torch.rand(1, in_feature).mul(2).sub(1)*length).round()/length).to(device)\n",
    "        iVec_i = ((torch.rand(1, in_feature).mul(2).sub(1)*length).round()/length).to(device)\n",
    "        print(\"iVec_r:\", iVec_r)\n",
    "        print(\"iVec_i:\", iVec_i)\n",
    "        \n",
    "        oVec_r, oVec_i = fc(iVec_r, iVec_i)\n",
    "        \n",
    "        if scale is True:\n",
    "            oVec_r = oVec_r.mul(length).floor()/length\n",
    "            oVec_i = oVec_i.mul(length).floor()/length\n",
    "        else:\n",
    "            oVec_r = oVec_r.clamp(-1.,1.).mul(length).floor()/length\n",
    "            oVec_i = oVec_i.clamp(-1.,1.).mul(length).floor()/length\n",
    "        \n",
    "        print(\"oVec_r:\", oVec_r)\n",
    "        print(\"oVec_i:\", oVec_i)\n",
    "        \n",
    "        iVecSRC_r = SourceGen(iVec_r, bitwidth=bitwidth, mode=mode, randtype=randtype)().to(device)\n",
    "        iVecSRC_i = SourceGen(iVec_i, bitwidth=bitwidth, mode=mode, randtype=randtype)().to(device)\n",
    "\n",
    "        iVecRNG = RNG(bitwidth, 1, rng, randtype=randtype)().to(device)\n",
    "\n",
    "        iVecBS_r = BSGen(iVecSRC_r, iVecRNG, bstype=bstype).to(device)\n",
    "        iVecBS_i = BSGen(iVecSRC_i, iVecRNG, bstype=bstype).to(device)\n",
    "\n",
    "        iVecPE_r = ProgressiveError(iVec_r, mode=mode).to(device)\n",
    "        iVecPE_i = ProgressiveError(iVec_i, mode=mode).to(device)\n",
    "        \n",
    "        oVecPE_r = ProgressiveError(oVec_r, mode=mode).to(device)\n",
    "        oVecPE_i = ProgressiveError(oVec_i, mode=mode).to(device)\n",
    "        \n",
    "        with torch.no_grad():\n",
    "            idx = torch.zeros(iVecSRC_r.size()).type(torch.long).to(device)\n",
    "            start_time = time.time()\n",
    "            for i in range(length):\n",
    "                iBS_r = iVecBS_r(idx + i)\n",
    "                iVecPE_r.Monitor(iBS_r)\n",
    "                iBS_i = iVecBS_i(idx + i)\n",
    "                iVecPE_i.Monitor(iBS_i)\n",
    "\n",
    "                oVecU_r, oVecU_i = ufc(iBS_r, iBS_i)\n",
    "                oVecPE_r.Monitor(oVecU_r)\n",
    "                oVecPE_i.Monitor(oVecU_i)\n",
    "                if scale is True:\n",
    "                    err_r = oVecPE_r()[0]*(in_feature*2)-oVec_r\n",
    "                    rmse_r = 1-torch.sqrt(torch.mean(err_r**2)).item()/out_feature/2\n",
    "                    err_i = oVecPE_i()[0]*(in_feature*2)-oVec_i\n",
    "                    rmse_i = 1-torch.sqrt(torch.mean(err_i**2)).item()/out_feature/2\n",
    "                else:\n",
    "                    err_r = oVecPE_r()[1]\n",
    "                    rmse_r = 1-torch.sqrt(torch.mean(err_r**2)).item()\n",
    "                    err_i = oVecPE_i()[1]\n",
    "                    rmse_i = 1-torch.sqrt(torch.mean(err_i**2)).item()\n",
    "                result_pe_cycle_r.append(rmse_r)\n",
    "                result_pe_cycle_i.append(rmse_i)\n",
    "            print(\"--- %s seconds ---\" % (time.time() - start_time))\n",
    "            print(\"input r error: \", \"min:\", torch.min(iVecPE_r()[1]).item(), \"max:\", torch.max(iVecPE_r()[1]).item())\n",
    "            print(err_r)\n",
    "            print(err_i)\n",
    "            if scale is True:\n",
    "                print(\"output r error: \", \n",
    "                      \"min:\", torch.min(err_r).item()/out_feature/2, \n",
    "                      \"max:\", torch.max(err_i).item()/out_feature/2)\n",
    "                result_pe_r = (err_r[0]).cpu().numpy()/out_feature/2\n",
    "            else:\n",
    "                print(\"output r error: \", \"min:\", torch.min(oVecPE_r()[1]).item(), \"max:\", torch.max(oVecPE_r()[1]).item())\n",
    "                result_pe_r = oVecPE_r()[1][0].cpu().numpy()\n",
    "            print(\"input i error: \", \"min:\", torch.min(iVecPE_i()[1]).item(), \"max:\", torch.max(iVecPE_i()[1]).item())\n",
    "            if scale is True:\n",
    "                print(\"output i error: \", \n",
    "                      \"min:\", torch.min(oVecPE_i()[0]*(in_feature*2)-oVec_i).item()/out_feature/2, \n",
    "                      \"max:\", torch.max(oVecPE_i()[0]*(in_feature*2)-oVec_i).item()/out_feature/2)\n",
    "                result_pe_i = ((oVecPE_i()[0]*(in_feature*2)-oVec_i)[0]).cpu().numpy()/out_feature/2\n",
    "            else:\n",
    "                print(\"output i error: \", \"min:\", torch.min(oVecPE_i()[1]).item(), \"max:\", torch.max(oVecPE_i()[1]).item())\n",
    "                result_pe_i = oVecPE_i()[1][0].cpu().numpy()\n",
    "            print(\"r error distribution=========>\")\n",
    "            plt.figure(figsize=(3,1.5))\n",
    "            fig = plt.hist(result_pe_r, bins='auto')  # arguments are passed to np.histogram\n",
    "            plt.title(\"data: \"+mode+\", scaled: \"+str(scale))\n",
    "            plt.show()\n",
    "            print(\"r progressive accuracy=========>\")\n",
    "            plt.figure(figsize=(3,1.5))\n",
    "            fig = plt.plot(result_pe_cycle_r)  # arguments are passed to np.histogram\n",
    "            plt.title(\"data: \"+mode+\", scaled: \"+str(scale))\n",
    "            plt.show()\n",
    "            \n",
    "            print(\"i error distribution=========>\")\n",
    "            plt.figure(figsize=(3,1.5))\n",
    "            fig = plt.hist(result_pe_i, bins='auto')  # arguments are passed to np.histogram\n",
    "            plt.title(\"data: \"+mode+\", scaled: \"+str(scale))\n",
    "            plt.show()\n",
    "            print(\"i progressive accuracy=========>\")\n",
    "            plt.figure(figsize=(3,1.5))\n",
    "            fig = plt.plot(result_pe_cycle_i)  # arguments are passed to np.histogram\n",
    "            plt.title(\"data: \"+mode+\", scaled: \"+str(scale))\n",
    "            plt.show()\n"
   ]
  },
  {
   "cell_type": "code",
   "execution_count": 30,
   "metadata": {
    "scrolled": false
   },
   "outputs": [
    {
     "name": "stdout",
     "output_type": "stream",
     "text": [
      "wr: tensor([[0.0000, 0.5000],\n",
      "        [0.0000, 0.5000]], device='cuda:0')\n",
      "wi: tensor([[ 0.0000, -0.5000],\n",
      "        [ 0.0000, -0.5000]], device='cuda:0')\n",
      "iVec_r: tensor([[ 0.3975, -0.8018]], device='cuda:0')\n",
      "iVec_i: tensor([[0.3760, 0.9180]], device='cuda:0')\n",
      "oVec_r: tensor([[-0.5059, -0.5820]], device='cuda:0', grad_fn=<DivBackward0>)\n",
      "oVec_i: tensor([[0.0264, 0.6270]], device='cuda:0', grad_fn=<DivBackward0>)\n",
      "--- 4.886001110076904 seconds ---\n",
      "input r error:  min: 0.0009765625 max: 0.0009765625\n",
      "tensor([[0.5605, 0.6367]], device='cuda:0')\n",
      "tensor([[0.8252, 0.2246]], device='cuda:0')\n",
      "output r error:  min: 0.14013671875 max: 0.206298828125\n",
      "input i error:  min: -0.0009765625 max: 0.0\n",
      "output i error:  min: 0.05615234375 max: 0.206298828125\n",
      "r error distribution=========>\n"
     ]
    },
    {
     "data": {
      "image/png": "[encoded data removed]",
      "text/plain": [
       "<Figure size 216x108 with 1 Axes>"
      ]
     },
     "metadata": {
      "needs_background": "light"
     },
     "output_type": "display_data"
    },
    {
     "name": "stdout",
     "output_type": "stream",
     "text": [
      "r progressive accuracy=========>\n"
     ]
    },
    {
     "data": {
      "image/png": "[encoded data removed]",
      "text/plain": [
       "<Figure size 216x108 with 1 Axes>"
      ]
     },
     "metadata": {
      "needs_background": "light"
     },
     "output_type": "display_data"
    },
    {
     "name": "stdout",
     "output_type": "stream",
     "text": [
      "i error distribution=========>\n"
     ]
    },
    {
     "data": {
      "image/png": "[encoded data removed]",
      "text/plain": [
       "<Figure size 216x108 with 1 Axes>"
      ]
     },
     "metadata": {
      "needs_background": "light"
     },
     "output_type": "display_data"
    },
    {
     "name": "stdout",
     "output_type": "stream",
     "text": [
      "i progressive accuracy=========>\n"
     ]
    },
    {
     "data": {
      "image/png": "[encoded data removed]",
      "text/plain": [
       "<Figure size 216x108 with 1 Axes>"
      ]
     },
     "metadata": {
      "needs_background": "light"
     },
     "output_type": "display_data"
    }
   ],
   "source": [
    "rng = \"Sobol\"\n",
    "in_feature = 2\n",
    "out_feature = in_feature\n",
    "bitwidth = 10\n",
    "linear_complex_test(rng, in_feature, out_feature, bitwidth)"
   ]
  },
  {
   "cell_type": "code",
   "execution_count": null,
   "metadata": {},
   "outputs": [],
   "source": []
  }
 ],
 "metadata": {
  "kernelspec": {
   "display_name": "Python 3",
   "language": "python",
   "name": "python3"
  },
  "language_info": {
   "codemirror_mode": {
    "name": "ipython",
    "version": 3
   },
   "file_extension": ".py",
   "mimetype": "text/x-python",
   "name": "python",
   "nbconvert_exporter": "python",
   "pygments_lexer": "ipython3",
   "version": "3.7.3"
  }
 },
 "nbformat": 4,
 "nbformat_minor": 2
}
