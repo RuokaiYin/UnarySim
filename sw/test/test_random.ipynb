{
 "cells": [
  {
   "cell_type": "code",
   "execution_count": 1,
   "metadata": {},
   "outputs": [],
   "source": [
    "%load_ext autoreload\n",
    "%autoreload 2"
   ]
  },
  {
   "cell_type": "code",
   "execution_count": 2,
   "metadata": {},
   "outputs": [],
   "source": [
    "# Import PyTorch\n",
    "import torch # import main library\n",
    "import torch.nn as nn # import modules like nn.ReLU()\n",
    "import torch.nn.functional as F # import torch functions like F.relu() and F.relu_()"
   ]
  },
  {
   "cell_type": "code",
   "execution_count": 3,
   "metadata": {},
   "outputs": [],
   "source": [
    "def get_memory_allocated(device, inplace = False):\n",
    "    '''\n",
    "    Function measures allocated memory before and after the ReLU function call.\n",
    "    INPUT:\n",
    "      - device: gpu device to run the operation\n",
    "      - inplace: True - to run ReLU in-place, False - for normal ReLU call\n",
    "    '''\n",
    "    \n",
    "    # Create a large tensor\n",
    "    t = torch.randn(10000, 10000, device=device)\n",
    "    \n",
    "    # Measure allocated memory\n",
    "    torch.cuda.synchronize()\n",
    "    start_max_memory = torch.cuda.max_memory_allocated() / 1024**2\n",
    "    start_memory = torch.cuda.memory_allocated() / 1024**2\n",
    "    \n",
    "    # Call in-place or normal ReLU\n",
    "    if inplace:\n",
    "        # F.relu_(t)\n",
    "        t.mul_(2).div_(5).mul_(7).div_(11)\n",
    "    else:\n",
    "        # output = F.relu(t)\n",
    "        output = t.mul(2).div(5).mul(7).div(11)\n",
    "    \n",
    "    # Measure allocated memory after the call\n",
    "    torch.cuda.synchronize()\n",
    "    end_max_memory = torch.cuda.max_memory_allocated() / 1024**2\n",
    "    end_memory = torch.cuda.memory_allocated() / 1024**2\n",
    "    \n",
    "    # Return amount of memory allocated for ReLU call\n",
    "    return end_memory - start_memory, end_max_memory - start_max_memory"
   ]
  },
  {
   "cell_type": "code",
   "execution_count": 4,
   "metadata": {},
   "outputs": [],
   "source": [
    "# setup the device\n",
    "device = torch.device('cuda:0' if torch.cuda.is_available() else \"cpu\")"
   ]
  },
  {
   "cell_type": "code",
   "execution_count": 5,
   "metadata": {},
   "outputs": [
    {
     "name": "stdout",
     "output_type": "stream",
     "text": [
      "Allocated memory: 382.0\n",
      "Allocated max memory: 764.0\n"
     ]
    }
   ],
   "source": [
    "# call the function to measure allocated memory\n",
    "memory_allocated, max_memory_allocated = get_memory_allocated(device, inplace = False)\n",
    "print('Allocated memory: {}'.format(memory_allocated))\n",
    "print('Allocated max memory: {}'.format(max_memory_allocated))"
   ]
  },
  {
   "cell_type": "code",
   "execution_count": 6,
   "metadata": {},
   "outputs": [
    {
     "name": "stdout",
     "output_type": "stream",
     "text": [
      "Allocated memory: 0.0\n",
      "Allocated max memory: 0.0\n"
     ]
    }
   ],
   "source": [
    "memory_allocated_inplace, max_memory_allocated_inplace = get_memory_allocated(device, inplace = True)\n",
    "print('Allocated memory: {}'.format(memory_allocated_inplace))\n",
    "print('Allocated max memory: {}'.format(max_memory_allocated_inplace))"
   ]
  },
  {
   "cell_type": "code",
   "execution_count": 7,
   "metadata": {},
   "outputs": [],
   "source": [
    "a = torch.Tensor([1])"
   ]
  },
  {
   "cell_type": "code",
   "execution_count": 8,
   "metadata": {},
   "outputs": [
    {
     "name": "stdout",
     "output_type": "stream",
     "text": [
      "None\n"
     ]
    }
   ],
   "source": [
    "print(a.grad)"
   ]
  },
  {
   "cell_type": "code",
   "execution_count": 9,
   "metadata": {},
   "outputs": [
    {
     "name": "stdout",
     "output_type": "stream",
     "text": [
      "False\n"
     ]
    }
   ],
   "source": [
    "print(a.requires_grad)"
   ]
  },
  {
   "cell_type": "code",
   "execution_count": 10,
   "metadata": {},
   "outputs": [],
   "source": [
    "a = torch.nn.Parameter(torch.Tensor([1]))"
   ]
  },
  {
   "cell_type": "code",
   "execution_count": 11,
   "metadata": {},
   "outputs": [],
   "source": [
    "class REFF(torch.nn.Module):\n",
    "    def __init__(self, input):\n",
    "        super(REFF, self).__init__()\n",
    "        self.input = input\n",
    "        \n",
    "    def forward(self):\n",
    "        return self.input"
   ]
  },
  {
   "cell_type": "code",
   "execution_count": 12,
   "metadata": {},
   "outputs": [],
   "source": [
    "asad = REFF(torch.Tensor([1]))"
   ]
  },
  {
   "cell_type": "code",
   "execution_count": 13,
   "metadata": {},
   "outputs": [
    {
     "data": {
      "text/plain": [
       "REFF()"
      ]
     },
     "execution_count": 13,
     "metadata": {},
     "output_type": "execute_result"
    }
   ],
   "source": [
    "asad"
   ]
  },
  {
   "cell_type": "code",
   "execution_count": 14,
   "metadata": {},
   "outputs": [
    {
     "data": {
      "text/plain": [
       "tensor([1.])"
      ]
     },
     "execution_count": 14,
     "metadata": {},
     "output_type": "execute_result"
    }
   ],
   "source": [
    "asad()"
   ]
  },
  {
   "cell_type": "code",
   "execution_count": 15,
   "metadata": {},
   "outputs": [
    {
     "data": {
      "text/plain": [
       "tensor([2.])"
      ]
     },
     "execution_count": 15,
     "metadata": {},
     "output_type": "execute_result"
    }
   ],
   "source": [
    "asad().mul(2)"
   ]
  },
  {
   "cell_type": "code",
   "execution_count": 16,
   "metadata": {},
   "outputs": [
    {
     "data": {
      "text/plain": [
       "tensor([1.])"
      ]
     },
     "execution_count": 16,
     "metadata": {},
     "output_type": "execute_result"
    }
   ],
   "source": [
    "asad()"
   ]
  },
  {
   "cell_type": "code",
   "execution_count": 17,
   "metadata": {},
   "outputs": [
    {
     "data": {
      "text/plain": [
       "tensor([2.])"
      ]
     },
     "execution_count": 17,
     "metadata": {},
     "output_type": "execute_result"
    }
   ],
   "source": [
    "asad().mul_(2)"
   ]
  },
  {
   "cell_type": "code",
   "execution_count": 18,
   "metadata": {},
   "outputs": [
    {
     "data": {
      "text/plain": [
       "tensor([2.])"
      ]
     },
     "execution_count": 18,
     "metadata": {},
     "output_type": "execute_result"
    }
   ],
   "source": [
    "asad()"
   ]
  },
  {
   "cell_type": "code",
   "execution_count": 19,
   "metadata": {},
   "outputs": [
    {
     "ename": "RuntimeError",
     "evalue": "Expected tensor [1, 1, 3], src [1, 3, 3] and index [1, 1, 3] to have the same size apart from dimension 0",
     "output_type": "error",
     "traceback": [
      "\u001b[1;31m---------------------------------------------------------------------------\u001b[0m",
      "\u001b[1;31mRuntimeError\u001b[0m                              Traceback (most recent call last)",
      "\u001b[1;32m<ipython-input-19-734ba75be2c1>\u001b[0m in \u001b[0;36m<module>\u001b[1;34m\u001b[0m\n\u001b[0;32m      4\u001b[0m \u001b[0midx_u\u001b[0m \u001b[1;33m=\u001b[0m \u001b[0mtorch\u001b[0m\u001b[1;33m.\u001b[0m\u001b[0munsqueeze\u001b[0m\u001b[1;33m(\u001b[0m\u001b[0midx\u001b[0m\u001b[1;33m,\u001b[0m \u001b[0mdim\u001b[0m\u001b[1;33m)\u001b[0m\u001b[1;33m\u001b[0m\u001b[1;33m\u001b[0m\u001b[0m\n\u001b[0;32m      5\u001b[0m \u001b[0midx_u\u001b[0m \u001b[1;33m=\u001b[0m \u001b[0mtorch\u001b[0m\u001b[1;33m.\u001b[0m\u001b[0munsqueeze\u001b[0m\u001b[1;33m(\u001b[0m\u001b[0midx_u\u001b[0m\u001b[1;33m,\u001b[0m \u001b[0mdim\u001b[0m\u001b[1;33m)\u001b[0m\u001b[1;33m\u001b[0m\u001b[1;33m\u001b[0m\u001b[0m\n\u001b[1;32m----> 6\u001b[1;33m \u001b[0mtorch\u001b[0m\u001b[1;33m.\u001b[0m\u001b[0mgather\u001b[0m\u001b[1;33m(\u001b[0m\u001b[0mt\u001b[0m\u001b[1;33m,\u001b[0m \u001b[0mdim\u001b[0m\u001b[1;33m,\u001b[0m \u001b[0midx_u\u001b[0m\u001b[1;33m)\u001b[0m\u001b[1;33m\u001b[0m\u001b[1;33m\u001b[0m\u001b[0m\n\u001b[0m",
      "\u001b[1;31mRuntimeError\u001b[0m: Expected tensor [1, 1, 3], src [1, 3, 3] and index [1, 1, 3] to have the same size apart from dimension 0"
     ]
    }
   ],
   "source": [
    "t = torch.tensor([[[1,2,3],[4,5,6],[7,8,9]]])\n",
    "dim = 0\n",
    "idx = torch.tensor([1, 2, 0])\n",
    "idx_u = torch.unsqueeze(idx, dim)\n",
    "idx_u = torch.unsqueeze(idx_u, dim)\n",
    "torch.gather(t, dim, idx_u)\n"
   ]
  },
  {
   "cell_type": "code",
   "execution_count": null,
   "metadata": {},
   "outputs": [],
   "source": [
    "t = torch.tensor([[1,2,3],[4,5,6],[7,8,9]])\n",
    "idx = torch.tensor([1, 2, 0])\n",
    "torch.index_select(t, 1, idx)"
   ]
  },
  {
   "cell_type": "code",
   "execution_count": null,
   "metadata": {},
   "outputs": [],
   "source": [
    "t = torch.tensor([[1,2,3],[4,5,6],[7,8,9]])\n",
    "# torch.full_like(t, t)\n",
    "\n",
    "if torch.is_tensor(t):\n",
    "    print(\"is tensor\")"
   ]
  },
  {
   "cell_type": "code",
   "execution_count": null,
   "metadata": {},
   "outputs": [],
   "source": [
    "m=torch.tensor([20,30],dtype=torch.int8).cuda()\n",
    "print(m)\n",
    "a=torch.tensor([20,30],dtype=torch.int8).cuda()\n",
    "print(a)\n",
    "out=torch.matmul(m,a)\n",
    "print(out)\n",
    "print((30*30)%128)\n",
    "input = torch.randint(128,(128,20))\n",
    "print(input)\n",
    "output = m(input)\n",
    "print(output)"
   ]
  },
  {
   "cell_type": "code",
   "execution_count": null,
   "metadata": {},
   "outputs": [],
   "source": [
    "import numpy as np"
   ]
  },
  {
   "cell_type": "code",
   "execution_count": null,
   "metadata": {},
   "outputs": [],
   "source": [
    "z = np.arange(3, dtype=np.uint8)"
   ]
  },
  {
   "cell_type": "code",
   "execution_count": null,
   "metadata": {},
   "outputs": [],
   "source": [
    "z"
   ]
  },
  {
   "cell_type": "code",
   "execution_count": null,
   "metadata": {},
   "outputs": [],
   "source": [
    "z.astype(float)"
   ]
  },
  {
   "cell_type": "code",
   "execution_count": null,
   "metadata": {},
   "outputs": [],
   "source": [
    "np.int8(z)"
   ]
  },
  {
   "cell_type": "code",
   "execution_count": null,
   "metadata": {},
   "outputs": [],
   "source": [
    "z*z"
   ]
  },
  {
   "cell_type": "code",
   "execution_count": null,
   "metadata": {},
   "outputs": [],
   "source": [
    "z*z'"
   ]
  },
  {
   "cell_type": "code",
   "execution_count": null,
   "metadata": {},
   "outputs": [],
   "source": [
    "z = np.arange(3, dtype=np.int8)\n",
    "z"
   ]
  },
  {
   "cell_type": "code",
   "execution_count": null,
   "metadata": {},
   "outputs": [],
   "source": [
    "zz = np.arange(3, dtype=np.int8).transpose()\n",
    "zz = zz.transpose()\n",
    "zz"
   ]
  },
  {
   "cell_type": "code",
   "execution_count": null,
   "metadata": {},
   "outputs": [],
   "source": [
    "out = np.matmul(z, zz)\n",
    "out"
   ]
  },
  {
   "cell_type": "code",
   "execution_count": null,
   "metadata": {},
   "outputs": [],
   "source": [
    "z_tensor = torch.tensor([0, 1, 70], dtype=torch.int8)\n",
    "z_tensor"
   ]
  },
  {
   "cell_type": "code",
   "execution_count": null,
   "metadata": {},
   "outputs": [],
   "source": [
    "out = np.matmul(z_tensor, zz, dtype=np.long)\n",
    "out"
   ]
  },
  {
   "cell_type": "code",
   "execution_count": null,
   "metadata": {},
   "outputs": [],
   "source": [
    "import numpy as np\n",
    "import cupy as cp\n",
    "a = np.ones(5, dtype=np.int8)\n",
    "b = torch.from_numpy(a).cuda()\n",
    "np.add(a, 200, out=a)\n",
    "c = cp.add(b, 200, dtype=np.long)\n",
    "d = cp.asnumpy(c)\n",
    "print(a, a.dtype)\n",
    "print(b, b.dtype)\n",
    "print(c, c.dtype)\n",
    "print(d, d.dtype)"
   ]
  },
  {
   "cell_type": "code",
   "execution_count": null,
   "metadata": {},
   "outputs": [],
   "source": [
    "import torch\n",
    "import cupy\n",
    "\n",
    "from torch.utils.dlpack import to_dlpack\n",
    "from torch.utils.dlpack import from_dlpack\n",
    "\n",
    "# Create a PyTorch tensor.\n",
    "tx1 = torch.randn(1, 2, 3, 4).cuda()\n",
    "print(tx1)\n",
    "\n",
    "# Convert it into a DLPack tensor.\n",
    "dx = to_dlpack(tx1)\n",
    "print(dx)\n",
    "\n",
    "# Convert it into a CuPy array.\n",
    "cx = cupy.fromDlpack(dx)\n",
    "print(cx)\n",
    "\n",
    "# Convert it back to a PyTorch tensor.\n",
    "tx2 = from_dlpack(cx.toDlpack())\n",
    "print(tx2)"
   ]
  },
  {
   "cell_type": "code",
   "execution_count": null,
   "metadata": {},
   "outputs": [],
   "source": [
    "input = torch.tensor([[1, 2], [3, 4], [5, 6]])\n",
    "torch.gt(torch.sum(input, 1), 0)"
   ]
  },
  {
   "cell_type": "code",
   "execution_count": null,
   "metadata": {},
   "outputs": [],
   "source": [
    "a = torch.nn.Parameter(torch.tensor([1.]).type(torch.int8), requires_grad=False)\n",
    "a<<2"
   ]
  },
  {
   "cell_type": "code",
   "execution_count": null,
   "metadata": {},
   "outputs": [],
   "source": [
    "input << 1"
   ]
  },
  {
   "cell_type": "code",
   "execution_count": null,
   "metadata": {},
   "outputs": [],
   "source": [
    "input"
   ]
  },
  {
   "cell_type": "code",
   "execution_count": null,
   "metadata": {},
   "outputs": [],
   "source": [
    "import torch\n",
    "import time\n",
    "a_fp = torch.rand(20000, 10000).cuda()\n",
    "b_fp = torch.rand(10000, 40000).cuda()\n",
    "start_time = time.time()\n",
    "c_fp = torch.matmul(a_fp, b_fp)\n",
    "print(\"--- %s seconds ---\" % (time.time() - start_time))"
   ]
  },
  {
   "cell_type": "code",
   "execution_count": null,
   "metadata": {},
   "outputs": [],
   "source": [
    "import torch\n",
    "import time\n",
    "a_fp = torch.rand(20000, 10000).cuda()\n",
    "b_fp = torch.rand(10000, 40000).cuda()\n",
    "start_time = time.time()\n",
    "c_fp = torch.matmul(a_fp, b_fp)\n",
    "print(\"--- %s seconds ---\" % (time.time() - start_time))\n",
    "\n",
    "import torch\n",
    "import time\n",
    "import cupy as cp\n",
    "import numpy as np\n",
    "from torch.utils.dlpack import to_dlpack\n",
    "from torch.utils.dlpack import from_dlpack\n",
    "a_fx = torch.randint_like(a_fp, high=15, dtype=torch.int8).cuda()\n",
    "b_fx = torch.randint_like(b_fp, high=15, dtype=torch.int8).cuda()\n",
    "\n",
    "start_time = time.time()\n",
    "\n",
    "# # Convert it into a DLPack tensor.\n",
    "a_fx_dl = to_dlpack(a_fx)\n",
    "b_fx_dl = to_dlpack(b_fx)\n",
    "print(a_fx_dl, b_fx_dl)\n",
    "\n",
    "# # Convert it into a CuPy array.\n",
    "a_fx_cp = cp.fromDlpack(to_dlpack(a_fx))\n",
    "b_fx_cp = cp.fromDlpack(to_dlpack(b_fx))\n",
    "print(a_fx_cp.shape, b_fx_cp.shape)\n",
    "\n",
    "c_fx_cp = cp.matmul(a_fx_cp, b_fx_cp, dtype=cp.int32)\n",
    "\n",
    "c_fx_dl = c_fx_cp.toDlpack()\n",
    "\n",
    "c_fx = from_dlpack(c_fx_cp.toDlpack())\n",
    "print(\"--- %s seconds ---\" % (time.time() - start_time))"
   ]
  },
  {
   "cell_type": "code",
   "execution_count": null,
   "metadata": {},
   "outputs": [],
   "source": [
    "import torch\n",
    "import time\n",
    "a_fp = torch.rand(20000, 10000).cuda()\n",
    "b_fp = torch.rand(20000, 10000).cuda()\n",
    "start_time = time.time()\n",
    "c_fp = torch.add(a_fp, b_fp)\n",
    "print(\"--- %s seconds ---\" % (time.time() - start_time))\n",
    "\n",
    "import torch\n",
    "import time\n",
    "import cupy as cp\n",
    "import numpy as np\n",
    "from torch.utils.dlpack import to_dlpack\n",
    "from torch.utils.dlpack import from_dlpack\n",
    "# a_fx = torch.randint_like(a_fp, high=15, dtype=torch.int8).cuda()\n",
    "# b_fx = torch.randint_like(b_fp, high=15, dtype=torch.int8).cuda()\n",
    "a_fx = torch.rand(20000, 10000).cuda()\n",
    "b_fx = torch.rand(20000, 10000).cuda()\n",
    "\n",
    "\n",
    "# # Convert it into a DLPack tensor.\n",
    "a_fx_dl = to_dlpack(a_fx)\n",
    "b_fx_dl = to_dlpack(b_fx)\n",
    "print(a_fx_dl, b_fx_dl)\n",
    "\n",
    "# # Convert it into a CuPy array.\n",
    "a_fx_cp = cp.fromDlpack(to_dlpack(a_fx))\n",
    "b_fx_cp = cp.fromDlpack(to_dlpack(b_fx))\n",
    "print(a_fx_cp.dtype, b_fx_cp.dtype)\n",
    "\n",
    "start_time_2 = time.time()\n",
    "# c_fx_cp = cp.add(a_fx_cp, b_fx_cp, dtype=cp.int8)\n",
    "c_fx_cp = cp.add(a_fx_cp, b_fx_cp)\n",
    "print(\"--- %s seconds ---\" % (time.time() - start_time_2))\n",
    "\n",
    "c_fx_dl = c_fx_cp.toDlpack()\n",
    "\n",
    "c_fx = from_dlpack(c_fx_cp.toDlpack())\n",
    "print(\"--- %s seconds ---\" % (time.time() - start_time_2))"
   ]
  },
  {
   "cell_type": "code",
   "execution_count": null,
   "metadata": {},
   "outputs": [],
   "source": [
    "import torch\n",
    "import time\n",
    "a_fp = torch.rand(20000, 1000).cuda()\n",
    "b_fp = torch.rand(20000, 1000).cuda()\n",
    "start_time = time.time()\n",
    "c_fp = torch.mul(a_fp, b_fp)\n",
    "print(\"--- %s seconds ---\" % (time.time() - start_time))\n",
    "\n",
    "a_int8 = torch.randint_like(a_fp, high=15, dtype=torch.int8).cuda()\n",
    "b_int8 = torch.randint_like(b_fp, high=15, dtype=torch.int8).cuda()\n",
    "start_time = time.time()\n",
    "c_int8 = torch.mul(a_int8, b_int8)\n",
    "print(\"--- %s seconds ---\" % (time.time() - start_time))\n",
    "\n",
    "start_time = time.time()\n",
    "c_int8_or = a_int8 | b_int8\n",
    "print(\"--- %s seconds ---\" % (time.time() - start_time))\n",
    "print(\"int8 or\")\n",
    "\n",
    "a_int16 = torch.randint_like(a_fp, high=15, dtype=torch.int16).cuda()\n",
    "b_int16 = torch.randint_like(b_fp, high=15, dtype=torch.int16).cuda()\n",
    "start_time = time.time()\n",
    "c_int16 = torch.mul(a_int16, b_int16)\n",
    "print(\"--- %s seconds ---\" % (time.time() - start_time))\n",
    "\n",
    "a_int32 = torch.randint_like(a_fp, high=15, dtype=torch.int32).cuda()\n",
    "b_int32 = torch.randint_like(b_fp, high=15, dtype=torch.int32).cuda()\n",
    "start_time = time.time()\n",
    "c_int32 = torch.mul(a_int32, b_int32)\n",
    "print(\"--- %s seconds ---\" % (time.time() - start_time))\n",
    "\n",
    "a_int64 = torch.randint_like(a_fp, high=15, dtype=torch.long).cuda()\n",
    "b_int64 = torch.randint_like(b_fp, high=15, dtype=torch.long).cuda()\n",
    "start_time = time.time()\n",
    "c_int64 = torch.mul(a_int64, b_int64)\n",
    "print(\"--- %s seconds ---\" % (time.time() - start_time))\n"
   ]
  },
  {
   "cell_type": "code",
   "execution_count": null,
   "metadata": {},
   "outputs": [],
   "source": [
    "import torch\n",
    "import time\n",
    "a_fp = torch.rand(20000, 1000).cuda()\n",
    "b_fp = torch.rand(20000, 1000).cuda()\n",
    "start_time = time.time()\n",
    "c_fp = torch.add(a_fp, b_fp)\n",
    "end_time = time.time()\n",
    "print(\"fp add\")\n",
    "print(\"--- %s seconds ---\" % (end_time - start_time))\n",
    "\n",
    "a_int8 = torch.randint_like(a_fp, high=15, dtype=torch.int8).cuda()\n",
    "b_int8 = torch.randint_like(b_fp, high=15, dtype=torch.int8).cuda()\n",
    "start_time = time.time()\n",
    "c_int8 = torch.add(a_int8, b_int8)\n",
    "end_time = time.time()\n",
    "print(\"int8 add\")\n",
    "print(\"--- %s seconds ---\" % (end_time - start_time))\n",
    "\n",
    "start_time = time.time()\n",
    "c_int8_or = a_int8 | b_int8\n",
    "end_time = time.time()\n",
    "print(\"int8 or\")\n",
    "print(\"--- %s seconds ---\" % (end_time - start_time))\n",
    "\n",
    "start_time = time.time()\n",
    "c_int8_or = a_int8 & b_int8\n",
    "end_time = time.time()\n",
    "print(\"int8 &\")\n",
    "print(\"--- %s seconds ---\" % (end_time - start_time))\n",
    "\n",
    "a_int16 = torch.randint_like(a_fp, high=15, dtype=torch.int16).cuda()\n",
    "b_int16 = torch.randint_like(b_fp, high=15, dtype=torch.int16).cuda()\n",
    "start_time = time.time()\n",
    "c_int16 = torch.add(a_int16, b_int16)\n",
    "end_time = time.time()\n",
    "print(\"int16 add\")\n",
    "print(\"--- %s seconds ---\" % (end_time - start_time))\n",
    "\n",
    "start_time = time.time()\n",
    "c_int16_or = a_int16 | b_int16\n",
    "end_time = time.time()\n",
    "print(\"int16 or\")\n",
    "print(\"--- %s seconds ---\" % (end_time - start_time))\n",
    "\n",
    "start_time = time.time()\n",
    "c_int16_or = a_int16 & b_int16\n",
    "end_time = time.time()\n",
    "print(\"int16 &\")\n",
    "print(\"--- %s seconds ---\" % (end_time - start_time))\n",
    "\n",
    "a_int32 = torch.randint_like(a_fp, high=15, dtype=torch.int32).cuda()\n",
    "b_int32 = torch.randint_like(b_fp, high=15, dtype=torch.int32).cuda()\n",
    "start_time = time.time()\n",
    "c_int32 = torch.add(a_int32, b_int32)\n",
    "end_time = time.time()\n",
    "print(\"int32 add\")\n",
    "print(\"--- %s seconds ---\" % (end_time - start_time))\n",
    "\n",
    "start_time = time.time()\n",
    "c_int32_or = a_int32 | b_int32\n",
    "end_time = time.time()\n",
    "print(\"int32 or\")\n",
    "print(\"--- %s seconds ---\" % (end_time - start_time))\n",
    "\n",
    "start_time = time.time()\n",
    "c_int32_or = a_int32 & b_int32\n",
    "end_time = time.time()\n",
    "print(\"int32 &\")\n",
    "print(\"--- %s seconds ---\" % (end_time - start_time))\n",
    "\n",
    "a_int64 = torch.randint_like(a_fp, high=15, dtype=torch.long).cuda()\n",
    "b_int64 = torch.randint_like(b_fp, high=15, dtype=torch.long).cuda()\n",
    "start_time = time.time()\n",
    "c_int64 = torch.add(a_int64, b_int64)\n",
    "end_time = time.time()\n",
    "print(\"int64 add\")\n",
    "print(\"--- %s seconds ---\" % (end_time - start_time))\n",
    "\n",
    "start_time = time.time()\n",
    "c_int64_or = a_int64 | b_int64\n",
    "end_time = time.time()\n",
    "print(\"int64 or\")\n",
    "print(\"--- %s seconds ---\" % (end_time - start_time))\n",
    "\n",
    "start_time = time.time()\n",
    "c_int64_or = a_int64 & b_int64\n",
    "end_time = time.time()\n",
    "print(\"int64 &\")\n",
    "print(\"--- %s seconds ---\" % (end_time - start_time))"
   ]
  },
  {
   "cell_type": "code",
   "execution_count": null,
   "metadata": {},
   "outputs": [],
   "source": [
    "import torch\n",
    "import time\n",
    "a_fp = torch.rand(20000, 1000).cuda()\n",
    "b_fp = torch.rand(20000, 1000).cuda()\n",
    "start_time = time.time()\n",
    "a_fp = a_fp.type(torch.float)\n",
    "b_fp = b_fp.type(torch.float)\n",
    "c_fp = torch.add(a_fp, b_fp)\n",
    "c_fp = c_fp.type(torch.float)\n",
    "print(\"--- %s seconds ---\" % (time.time() - start_time))\n",
    "\n",
    "a_int8 = torch.randint_like(a_fp, high=15, dtype=torch.int8).cuda()\n",
    "b_int8 = torch.randint_like(b_fp, high=15, dtype=torch.int8).cuda()\n",
    "start_time = time.time()\n",
    "c_int8 = torch.add(a_int8.to(torch.float), b_int8.to(torch.float)).to(torch.int8)\n",
    "print(\"--- %s seconds ---\" % (time.time() - start_time))\n",
    "\n",
    "a_int16 = torch.randint_like(a_fp, high=15, dtype=torch.int16).cuda()\n",
    "b_int16 = torch.randint_like(b_fp, high=15, dtype=torch.int16).cuda()\n",
    "start_time = time.time()\n",
    "c_int16 = torch.add(a_int16.to(torch.float), b_int16.to(torch.float)).to(torch.int16)\n",
    "print(\"--- %s seconds ---\" % (time.time() - start_time))\n",
    "\n",
    "a_int32 = torch.randint_like(a_fp, high=15, dtype=torch.int32).cuda()\n",
    "b_int32 = torch.randint_like(b_fp, high=15, dtype=torch.int32).cuda()\n",
    "start_time = time.time()\n",
    "c_int32 = torch.add(a_int32.to(torch.float), b_int32.to(torch.float)).to(torch.int32)\n",
    "print(\"--- %s seconds ---\" % (time.time() - start_time))\n",
    "\n",
    "a_int64 = torch.randint_like(a_fp, high=15, dtype=torch.long).cuda()\n",
    "b_int64 = torch.randint_like(b_fp, high=15, dtype=torch.long).cuda()\n",
    "start_time = time.time()\n",
    "c_int64 = torch.add(a_int64.to(torch.float), b_int64.to(torch.float)).to(torch.long)\n",
    "print(\"--- %s seconds ---\" % (time.time() - start_time))\n"
   ]
  },
  {
   "cell_type": "code",
   "execution_count": null,
   "metadata": {},
   "outputs": [],
   "source": [
    "dtype = torch.float\n",
    "dtype"
   ]
  },
  {
   "cell_type": "code",
   "execution_count": null,
   "metadata": {},
   "outputs": [],
   "source": [
    "a = torch.tensor(1.).type(torch.float)\n",
    "b = torch.tensor(3.).type(torch.float)\n",
    "a & b"
   ]
  },
  {
   "cell_type": "code",
   "execution_count": null,
   "metadata": {},
   "outputs": [],
   "source": [
    "input = torch.tensor([[1,2],[3,4],[5,6]])\n",
    "output = torch.index_select(input, 1, torch.tensor([0]))\n",
    "output"
   ]
  },
  {
   "cell_type": "code",
   "execution_count": null,
   "metadata": {},
   "outputs": [],
   "source": [
    "input = torch.tensor([1, 2, 3, 4])\n",
    "input[1].view(1).size()\n"
   ]
  },
  {
   "cell_type": "code",
   "execution_count": null,
   "metadata": {},
   "outputs": [],
   "source": [
    "import torch\n",
    "kernel_fr_wr = torch.nn.Linear(8, 8, bias=False)\n",
    "rand = torch.rand(8, 8)\n",
    "print(rand)"
   ]
  },
  {
   "cell_type": "code",
   "execution_count": null,
   "metadata": {},
   "outputs": [],
   "source": [
    "kernel_fr_wr.data"
   ]
  },
  {
   "cell_type": "code",
   "execution_count": null,
   "metadata": {},
   "outputs": [],
   "source": [
    "kernel_fr_wr.data = rand.clone()"
   ]
  },
  {
   "cell_type": "code",
   "execution_count": null,
   "metadata": {},
   "outputs": [],
   "source": [
    "print(kernel_fr_wr.data)"
   ]
  },
  {
   "cell_type": "code",
   "execution_count": null,
   "metadata": {},
   "outputs": [],
   "source": [
    "rand[0, 0] = 1"
   ]
  },
  {
   "cell_type": "code",
   "execution_count": null,
   "metadata": {},
   "outputs": [],
   "source": [
    "rand"
   ]
  },
  {
   "cell_type": "code",
   "execution_count": null,
   "metadata": {},
   "outputs": [],
   "source": [
    "print(kernel_fr_wr.data)"
   ]
  },
  {
   "cell_type": "code",
   "execution_count": null,
   "metadata": {},
   "outputs": [],
   "source": [
    "import numpy as np\n",
    "a = [[1+1j, 2+2j]]\n",
    "b = [[3+3j, 4+4j],\n",
    "     [5+5j, 6+6j]]\n",
    "np.matmul(a, b)"
   ]
  },
  {
   "cell_type": "code",
   "execution_count": null,
   "metadata": {},
   "outputs": [],
   "source": [
    "import numpy as np\n",
    "a = 1.\n",
    "b = 1.\n",
    "c = a + b * 1.j\n",
    "c"
   ]
  },
  {
   "cell_type": "code",
   "execution_count": null,
   "metadata": {},
   "outputs": [],
   "source": [
    "import time\n",
    "import torch\n",
    "a = torch.randn(10000000)\n",
    "b = torch.randn(10000000)\n",
    "\n",
    "start_time = time.time()\n",
    "c = a + b\n",
    "print(\"add\")\n",
    "print(\"--- %s seconds ---\" % (time.time() - start_time))\n",
    "\n",
    "start_time = time.time()\n",
    "c = a * b\n",
    "print(\"mul\")\n",
    "print(\"--- %s seconds ---\" % (time.time() - start_time))\n",
    "\n",
    "start_time = time.time()\n",
    "c = a / b\n",
    "print(\"div\")\n",
    "print(\"--- %s seconds ---\" % (time.time() - start_time))\n",
    "\n",
    "start_time = time.time()\n",
    "c = torch.log(a)\n",
    "print(\"log\")\n",
    "print(\"--- %s seconds ---\" % (time.time() - start_time))\n",
    "\n",
    "start_time = time.time()\n",
    "c = torch.exp(a)\n",
    "print(\"exp\")\n",
    "print(\"--- %s seconds ---\" % (time.time() - start_time))\n",
    "\n",
    "start_time = time.time()\n",
    "c = torch.softmax(a,dim=0)\n",
    "print(\"softmax\")\n",
    "print(\"--- %s seconds ---\" % (time.time() - start_time))\n",
    "\n",
    "start_time = time.time()\n",
    "c = torch.log_softmax(a,dim=0)\n",
    "print(\"log_softmax\")\n",
    "print(\"--- %s seconds ---\" % (time.time() - start_time))\n",
    "\n",
    "start_time = time.time()\n",
    "c = torch.tanh(a)\n",
    "print(\"tanh\")\n",
    "print(\"--- %s seconds ---\" % (time.time() - start_time))\n"
   ]
  },
  {
   "cell_type": "code",
   "execution_count": null,
   "metadata": {},
   "outputs": [],
   "source": [
    "import time\n",
    "import torch\n",
    "a = torch.randn(10000000).cuda()\n",
    "b = torch.randn(10000000).cuda()\n",
    "\n",
    "start_time = time.time()\n",
    "c = a + b\n",
    "print(\"add\")\n",
    "print(\"--- %s seconds ---\" % (time.time() - start_time))\n",
    "\n",
    "start_time = time.time()\n",
    "c = a * b\n",
    "print(\"mul\")\n",
    "print(\"--- %s seconds ---\" % (time.time() - start_time))\n",
    "\n",
    "start_time = time.time()\n",
    "c = a / b\n",
    "print(\"div\")\n",
    "print(\"--- %s seconds ---\" % (time.time() - start_time))\n",
    "\n",
    "start_time = time.time()\n",
    "c = torch.log(a)\n",
    "print(\"log\")\n",
    "print(\"--- %s seconds ---\" % (time.time() - start_time))\n",
    "\n",
    "start_time = time.time()\n",
    "c = torch.exp(a)\n",
    "print(\"exp\")\n",
    "print(\"--- %s seconds ---\" % (time.time() - start_time))\n",
    "\n",
    "start_time = time.time()\n",
    "c = torch.softmax(a,dim=0)\n",
    "print(\"softmax\")\n",
    "print(\"--- %s seconds ---\" % (time.time() - start_time))\n",
    "\n",
    "start_time = time.time()\n",
    "c = torch.log_softmax(a,dim=0)\n",
    "print(\"log_softmax\")\n",
    "print(\"--- %s seconds ---\" % (time.time() - start_time))\n",
    "\n",
    "start_time = time.time()\n",
    "c = torch.tanh(a)\n",
    "print(\"tanh\")\n",
    "print(\"--- %s seconds ---\" % (time.time() - start_time))\n"
   ]
  },
  {
   "cell_type": "code",
   "execution_count": null,
   "metadata": {},
   "outputs": [],
   "source": [
    "import torch\n",
    "rand = torch.rand(8, 8)\n",
    "print(rand.size())"
   ]
  },
  {
   "cell_type": "code",
   "execution_count": null,
   "metadata": {},
   "outputs": [],
   "source": [
    "import torch\n",
    "idx = torch.rand(8, 4).mul(8).type(torch.long)\n",
    "print(idx.size())\n",
    "print(idx)\n",
    "\n",
    "rng = torch.rand(8).mul(8).type(torch.long)\n",
    "print(rng.size())\n",
    "print(rng)\n",
    "\n",
    "rand_sel = rng[idx]\n",
    "print(rand_sel.size())\n",
    "print(rand_sel)\n",
    "\n",
    "rand = torch.rand(8, 4).mul(8).type(torch.long)\n",
    "print(rand.size())\n",
    "print(rand[rand_sel].size())\n",
    "print(rand[rand_sel])"
   ]
  },
  {
   "cell_type": "code",
   "execution_count": null,
   "metadata": {},
   "outputs": [],
   "source": [
    "idx = torch.nn.Parameter(torch.rand(8, 4).mul(8))\n",
    "print(idx.size())\n",
    "print(idx)\n",
    "idx_floor = idx.floor()\n",
    "print(idx_floor)"
   ]
  },
  {
   "cell_type": "code",
   "execution_count": null,
   "metadata": {},
   "outputs": [],
   "source": [
    "from UnarySim.sw.bitstream.gen import RNG\n",
    "rng = RNG()"
   ]
  },
  {
   "cell_type": "code",
   "execution_count": null,
   "metadata": {},
   "outputs": [],
   "source": [
    "print(rng())"
   ]
  },
  {
   "cell_type": "code",
   "execution_count": null,
   "metadata": {},
   "outputs": [],
   "source": [
    "import torch\n",
    "input = torch.tensor([x for x in range(64, 2**8)]).type(torch.float)/2**8\n",
    "print(input)\n",
    "print(input.size())"
   ]
  },
  {
   "cell_type": "code",
   "execution_count": null,
   "metadata": {},
   "outputs": [],
   "source": [
    "import numpy as NP\n",
    "from matplotlib import pyplot as PLT\n",
    "from matplotlib import cm as CM\n",
    "\n",
    "A = NP.random.randint(10, 100, 100).reshape(10, 10)\n",
    "mask =  NP.tri(A.shape[0], k=-1)\n",
    "A = NP.ma.array(A, mask=mask) # mask out the lower triangle\n",
    "fig = PLT.figure()\n",
    "ax1 = fig.add_subplot(111)\n",
    "cmap = CM.get_cmap('jet', 10) # jet doesn't have white color\n",
    "cmap.set_bad('w') # default value is 'k'\n",
    "ax1.imshow(A, interpolation=\"nearest\", cmap=cmap)\n",
    "ax1.grid(True)\n",
    "PLT.show()"
   ]
  },
  {
   "cell_type": "code",
   "execution_count": null,
   "metadata": {},
   "outputs": [],
   "source": [
    "a =NP.random((10,10))\n",
    "imshow(a, interpolation='nearest')\n",
    "\n",
    "b = ones(a.shape+(4,)) # «white» matrix with alpha=1\n",
    "for i in range(a.shape[0]):\n",
    "    for j in range(i, a.shape[1]):\n",
    "        b[i,j,3] = 0   # upper triangle, alpha = 0\n",
    "imshow(b, interpolation='nearest')"
   ]
  },
  {
   "cell_type": "code",
   "execution_count": 1,
   "metadata": {},
   "outputs": [],
   "source": [
    "import torch\n",
    "from UnarySim.sw.kernel.div import UnaryDiv\n",
    "from UnarySim.sw.stream.gen import RNG, SourceGen, BSGen\n",
    "from UnarySim.sw.metric.metric import ProgressiveError\n",
    "import matplotlib.pyplot as plt\n",
    "from mpl_toolkits.mplot3d import Axes3D\n",
    "from matplotlib import ticker, cm\n",
    "from matplotlib.ticker import LinearLocator, FormatStrFormatter\n",
    "import time\n",
    "import math\n",
    "import numpy as np\n",
    "import seaborn as sns\n",
    "device = torch.device(\"cuda:0\" if torch.cuda.is_available() else \"cpu\")\n",
    "def test(mode=\"unipolar\", \n",
    "         depth_abs=4, \n",
    "         depth_kernel=4, \n",
    "         depth_sync=2, \n",
    "         shiftreg=False, \n",
    "         rng=\"Sobol\", \n",
    "         rng_dim=4, \n",
    "         bitwidth=8, \n",
    "         total_cnt=100, \n",
    "         savepdf=False):\n",
    "    \n",
    "    stype = torch.float\n",
    "    btype = torch.float\n",
    "    rtype = torch.float\n",
    "\n",
    "    print(\"========================================================\")\n",
    "    print(mode)\n",
    "    print(\"========================================================\")\n",
    "    if mode is \"unipolar\":\n",
    "        # all values in unipolar are non-negative\n",
    "        # dividend is always non greater than divisor\n",
    "        # divisor is non-zero\n",
    "        low_bound = 0\n",
    "        up_bound = 2**bitwidth\n",
    "    elif mode is \"bipolar\":\n",
    "        # values in bipolar are arbitrarily positive or negative\n",
    "        # abs of dividend is always non greater than abs of divisor\n",
    "        # abs of divisor is non-zero\n",
    "        low_bound = -2**(bitwidth-1)\n",
    "        up_bound = 2**(bitwidth-1)\n",
    "\n",
    "    divisor_list = []\n",
    "    dividend_list = []\n",
    "    for divisor_val in range(up_bound, low_bound-1, -1):\n",
    "        divisor_list.append([])\n",
    "        dividend_list.append([])\n",
    "        for dividend_val in range(low_bound, up_bound+1, 1):\n",
    "            divisor_list[up_bound-divisor_val].append(divisor_val)\n",
    "            dividend_list[up_bound-divisor_val].append(dividend_val)\n",
    "    \n",
    "    dividend = torch.tensor(dividend_list).type(torch.float).div(up_bound).to(device)\n",
    "    divisor = torch.tensor(divisor_list).type(torch.float).div(up_bound).to(device)\n",
    "    quotient = dividend.div(divisor)\n",
    "    \n",
    "    # find the invalid postions in quotient\n",
    "    quotient_nan = torch.isnan(quotient)\n",
    "    quotient_inf = torch.isinf(quotient)\n",
    "    quotient_mask = quotient_nan + quotient_inf\n",
    "    quotient[quotient_mask] = 0\n",
    "    quotient = quotient.clamp(-1, 1)\n",
    "    \n",
    "    quotientPE = ProgressiveError(quotient, mode=mode).to(device)\n",
    "    \n",
    "    dividendPE = ProgressiveError(dividend, mode=mode).to(device)\n",
    "    dividendSRC = SourceGen(dividend, bitwidth, mode=mode, rtype=rtype)().to(device)\n",
    "    \n",
    "    divisorPE  = ProgressiveError(divisor,  mode=mode).to(device)\n",
    "    divisorSRC = SourceGen(divisor, bitwidth, mode=mode, rtype=rtype)().to(device)\n",
    "    \n",
    "    result_pe_total = []\n",
    "    for rand_idx in range(1, total_cnt+1):\n",
    "        dut_div = UnaryDiv(depth_abs=depth_abs, \n",
    "                       depth_kernel=depth_kernel, \n",
    "                       depth_sync=depth_sync, \n",
    "                       shiftreg_abs=shiftreg, \n",
    "                       mode=mode, \n",
    "                       rng=rng, \n",
    "                       rng_dim=rng_dim, \n",
    "                       stype=stype, \n",
    "                       btype=btype).to(device)\n",
    "        # define the bit stream regen for dividend and divisor\n",
    "        regenRNG = RNG(bitwidth, rand_idx+2, rng, rtype)().to(device)\n",
    "\n",
    "        maxCNT = 2**bitwidth - 1\n",
    "\n",
    "        dividendCNT = torch.zeros_like(dividend) + 2**(bitwidth - 1)\n",
    "        dividendBS_regen = BSGen(dividendCNT, regenRNG, stype).to(device)\n",
    "\n",
    "        divisorCNT = torch.zeros_like(dividend) + 2**(bitwidth - 1)\n",
    "        divisorBS_regen = BSGen(divisorCNT, regenRNG, stype).to(device)\n",
    "    \n",
    "        dividendRNG = RNG(bitwidth, rand_idx, rng, rtype)().to(device)\n",
    "        dividendBS = BSGen(dividendSRC, dividendRNG, stype).to(device)\n",
    "        divisorRNG = RNG(bitwidth, rand_idx+1, rng, rtype)().to(device)\n",
    "        divisorBS = BSGen(divisorSRC, divisorRNG, stype).to(device)\n",
    "        with torch.no_grad():\n",
    "            start_time = time.time()\n",
    "            for i in range(2**bitwidth):\n",
    "                dividend_bs = dividendBS(torch.tensor([i]))\n",
    "                dividendPE.Monitor(dividend_bs)\n",
    "\n",
    "                divisor_bs = divisorBS(torch.tensor([i]))\n",
    "                divisorPE.Monitor(divisor_bs)\n",
    "\n",
    "                dividendCNT = (dividendCNT + dividend_bs*2 - 1).clamp(0, maxCNT)\n",
    "                dividendBS_regen.source = dividendCNT.clone().detach()\n",
    "                dividend_bs_regen = dividendBS_regen(torch.tensor([i]))\n",
    "\n",
    "                divisorCNT  = ( divisorCNT +  divisor_bs*2 - 1).clamp(0, maxCNT)\n",
    "                divisorBS_regen.source = divisorCNT.clone().detach()\n",
    "                divisor_bs_regen  =  divisorBS_regen(torch.tensor([i]))\n",
    "\n",
    "                quotient_bs = dut_div(dividend_bs_regen, divisor_bs_regen)\n",
    "                quotientPE.Monitor(quotient_bs)\n",
    "        \n",
    "        # get the result for different rng\n",
    "        result_pe = quotientPE()[1].cpu().numpy()\n",
    "        result_pe[quotient_mask.cpu().numpy()] = np.nan\n",
    "        result_pe_total.append(result_pe)\n",
    "    \n",
    "    # get the result for different rng\n",
    "    result_pe_total = np.array(result_pe_total)\n",
    "    \n",
    "    #######################################################################\n",
    "    # check the error of all simulation\n",
    "    #######################################################################\n",
    "    result_pe_total_no_nan = result_pe_total[~np.isnan(result_pe_total)]\n",
    "    print(\"RMSE:{:1.4}\".format(math.sqrt(np.mean(result_pe_total_no_nan**2))))\n",
    "    print(\"MAE: {:1.4}\".format(np.mean(np.abs(result_pe_total_no_nan))))\n",
    "    print(\"bias:{:1.4}\".format(np.mean(result_pe_total_no_nan)))\n",
    "    print(\"max: {:1.4}\".format(np.max(result_pe_total_no_nan)))\n",
    "    print(\"min: {:1.4}\".format(np.min(result_pe_total_no_nan)))\n",
    "\n",
    "    #######################################################################\n",
    "    # check the error according to input value\n",
    "    #######################################################################\n",
    "    avg_total = np.mean(result_pe_total, axis=0)\n",
    "    avg_total[quotient_mask.cpu().numpy()] = 0\n",
    "    fig, ax = plt.subplots()\n",
    "    fig.set_size_inches(4, 4)\n",
    "    axis_len = quotientPE()[1].size()[0]\n",
    "    divisor_y_axis = []\n",
    "    dividend_x_axis = []\n",
    "    for axis_index in range(axis_len):\n",
    "        divisor_y_axis.append((up_bound-axis_index/(axis_len-1)*(up_bound-low_bound))/up_bound)\n",
    "        dividend_x_axis.append((axis_index/(axis_len-1)*(up_bound-low_bound)+low_bound)/up_bound)\n",
    "    X, Y = np.meshgrid(dividend_x_axis, divisor_y_axis)\n",
    "    Z = avg_total\n",
    "    levels = [-0.06, -0.04, -0.02, 0.00, 0.02, 0.04, 0.06]\n",
    "    levels = [-0.09, -0.06, -0.03, 0.00, 0.03, 0.06, 0.09]\n",
    "    cs = plt.contourf(X, Y, Z, levels, cmap=cm.RdBu, extend=\"both\")\n",
    "    cbar = fig.colorbar(cs)\n",
    "    \n",
    "    # plt.tight_layout()\n",
    "    plt.xticks(np.arange(low_bound/up_bound, up_bound/up_bound+0.1, step=0.5))\n",
    "    ax.xaxis.set_ticklabels([])\n",
    "    plt.yticks(np.arange(low_bound/up_bound, up_bound/up_bound+0.1, step=0.5))\n",
    "    ax.yaxis.set_ticklabels([])\n",
    "    \n",
    "    if savepdf is True:\n",
    "        plt.savefig(\"div-\"+mode+\"-bw\"+str(bitwidth)+\"-cordivkernel-in-stream\"+\".pdf\", \n",
    "                    dpi=300, \n",
    "                    bbox_inches='tight')\n",
    "                \n",
    "    plt.show()\n",
    "    plt.close()"
   ]
  },
  {
   "cell_type": "code",
   "execution_count": 2,
   "metadata": {},
   "outputs": [
    {
     "name": "stdout",
     "output_type": "stream",
     "text": [
      "========================================================\n",
      "unipolar\n",
      "========================================================\n",
      "RMSE:0.06789\n",
      "MAE: 0.03596\n",
      "bias:0.02409\n",
      "max: 0.9961\n",
      "min: -0.2185\n"
     ]
    },
    {
     "data": {
      "image/png": "[encoded data removed]",
      "text/plain": [
       "<Figure size 288x288 with 2 Axes>"
      ]
     },
     "metadata": {
      "needs_background": "light"
     },
     "output_type": "display_data"
    }
   ],
   "source": [
    "test(mode=\"unipolar\", depth_abs=4, depth_kernel=4, depth_sync=2, shiftreg=False, rng=\"Sobol\", rng_dim=4, bitwidth=8, total_cnt=1)"
   ]
  },
  {
   "cell_type": "code",
   "execution_count": 28,
   "metadata": {},
   "outputs": [
    {
     "data": {
      "image/png": "[encoded data removed]",
      "text/plain": [
       "<Figure size 576x216 with 3 Axes>"
      ]
     },
     "metadata": {
      "needs_background": "light"
     },
     "output_type": "display_data"
    }
   ],
   "source": [
    "import matplotlib.pyplot as plt\n",
    "import matplotlib as mpl\n",
    "\n",
    "# Make a figure and axes with dimensions as desired.\n",
    "fig = plt.figure(figsize=(8, 3))\n",
    "ax1 = fig.add_axes([0.05, 0.80, 0.9, 0.15])\n",
    "ax2 = fig.add_axes([0.05, 0.475, 0.9, 0.15])\n",
    "ax3 = fig.add_axes([0.05, 0.15, 0.9, 0.15])\n",
    "\n",
    "# Set the colormap and norm to correspond to the data for which\n",
    "# the colorbar will be used.\n",
    "cmap = mpl.cm.cool\n",
    "norm = mpl.colors.Normalize(vmin=5, vmax=10)\n",
    "\n",
    "# ColorbarBase derives from ScalarMappable and puts a colorbar\n",
    "# in a specified axes, so it has everything needed for a\n",
    "# standalone colorbar.  There are many more kwargs, but the\n",
    "# following gives a basic continuous colorbar with ticks\n",
    "# and labels.\n",
    "cb1 = mpl.colorbar.ColorbarBase(ax1, cmap=cmap,\n",
    "                                norm=norm,\n",
    "                                orientation='horizontal')\n",
    "cb1.set_label('Some Units')\n",
    "\n",
    "# The second example illustrates the use of a ListedColormap, a\n",
    "# BoundaryNorm, and extended ends to show the \"over\" and \"under\"\n",
    "# value colors.\n",
    "cmap = mpl.colors.ListedColormap(['r', 'g', 'b', 'c'])\n",
    "cmap.set_over('0.25')\n",
    "cmap.set_under('0.75')\n",
    "\n",
    "# If a ListedColormap is used, the length of the bounds array must be\n",
    "# one greater than the length of the color list.  The bounds must be\n",
    "# monotonically increasing.\n",
    "bounds = [1, 2, 4, 7, 8]\n",
    "norm = mpl.colors.BoundaryNorm(bounds, cmap.N)\n",
    "cb2 = mpl.colorbar.ColorbarBase(ax2, cmap=cmap,\n",
    "                                norm=norm,\n",
    "                                # to use 'extend', you must\n",
    "                                # specify two extra boundaries:\n",
    "                                boundaries=[0] + bounds + [13],\n",
    "                                extend='both',\n",
    "                                ticks=bounds,  # optional\n",
    "                                spacing='proportional',\n",
    "                                orientation='horizontal')\n",
    "cb2.set_label('Discrete intervals, some other units')\n",
    "\n",
    "# The third example illustrates the use of custom length colorbar\n",
    "# extensions, used on a colorbar with discrete intervals.\n",
    "cmap = mpl.colors.ListedColormap([[0., .4, 1.], [0., .8, 1.],\n",
    "                                  [1., .8, 0.], [1., .4, 0.]])\n",
    "cmap.set_over((1., 0., 0.))\n",
    "cmap.set_under((0., 0., 1.))\n",
    "\n",
    "bounds = [-1., -.5, 0., .5, 1.]\n",
    "norm = mpl.colors.BoundaryNorm(bounds, cmap.N)\n",
    "cb3 = mpl.colorbar.ColorbarBase(ax3, cmap=cmap,\n",
    "                                norm=norm,\n",
    "                                boundaries=[-10] + bounds + [10],\n",
    "                                extend='both',\n",
    "                                # Make the length of each extension\n",
    "                                # the same as the length of the\n",
    "                                # interior colors:\n",
    "                                extendfrac='auto',\n",
    "                                ticks=bounds,\n",
    "                                spacing='uniform',\n",
    "                                orientation='horizontal')\n",
    "cb3.set_label('Custom extension lengths, some other units')\n",
    "\n",
    "plt.show()"
   ]
  },
  {
   "cell_type": "code",
   "execution_count": 13,
   "metadata": {},
   "outputs": [
    {
     "data": {
      "image/png": "[encoded data removed]",
      "text/plain": [
       "<Figure size 230.4x72 with 1 Axes>"
      ]
     },
     "metadata": {
      "needs_background": "light"
     },
     "output_type": "display_data"
    }
   ],
   "source": [
    "# If a ListedColormap is used, the length of the bounds array must be\n",
    "# one greater than the length of the color list.  The bounds must be\n",
    "# monotonically increasing.\n",
    "import matplotlib.pyplot as plt\n",
    "import matplotlib as mpl\n",
    "from matplotlib import ticker, cm\n",
    "\n",
    "fig = plt.figure(figsize=(3.2, 1))\n",
    "ax = fig.add_axes([0, 0, 0.9, 0.15])\n",
    "cmap = cm.RdBu\n",
    "bounds = [-0.12, -0.09, -0.06, -0.03, 0.00, 0.03, 0.06, 0.09, 0.12]\n",
    "# bounds = [-0.09, -0.06, -0.03, 0.00, 0.03, 0.06, 0.09]\n",
    "norm = mpl.colors.BoundaryNorm(bounds, cmap.N)\n",
    "cb2 = mpl.colorbar.ColorbarBase(ax, cmap=cmap,\n",
    "                                norm=norm,\n",
    "                                # to use 'extend', you must\n",
    "                                # specify two extra boundaries:\n",
    "                                boundaries=bounds,\n",
    "                                extend='both',\n",
    "#                                 ticks=bounds,  # optional\n",
    "                                spacing='uniform',\n",
    "                                orientation='horizontal')\n",
    "cb2.set_label('Error intervals')\n",
    "\n",
    "plt.show()"
   ]
  },
  {
   "cell_type": "code",
   "execution_count": 3,
   "metadata": {},
   "outputs": [
    {
     "name": "stdout",
     "output_type": "stream",
     "text": [
      "========================================================\n",
      "unipolar\n",
      "========================================================\n",
      "RMSE:0.06789\n",
      "MAE: 0.03596\n",
      "bias:0.02409\n",
      "max: 0.9961\n",
      "min: -0.2185\n"
     ]
    },
    {
     "data": {
      "image/png": "[encoded data removed]",
      "text/plain": [
       "<Figure size 288x288 with 2 Axes>"
      ]
     },
     "metadata": {
      "needs_background": "light"
     },
     "output_type": "display_data"
    }
   ],
   "source": [
    "test(mode=\"unipolar\", depth_abs=4, depth_kernel=4, depth_sync=2, shiftreg=False, rng=\"Sobol\", rng_dim=4, bitwidth=8, total_cnt=1)"
   ]
  },
  {
   "cell_type": "code",
   "execution_count": null,
   "metadata": {},
   "outputs": [],
   "source": []
  }
 ],
 "metadata": {
  "kernelspec": {
   "display_name": "Python 3",
   "language": "python",
   "name": "python3"
  },
  "language_info": {
   "codemirror_mode": {
    "name": "ipython",
    "version": 3
   },
   "file_extension": ".py",
   "mimetype": "text/x-python",
   "name": "python",
   "nbconvert_exporter": "python",
   "pygments_lexer": "ipython3",
   "version": "3.7.3"
  }
 },
 "nbformat": 4,
 "nbformat_minor": 2
}
