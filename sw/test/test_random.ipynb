{
 "cells": [
  {
   "cell_type": "code",
   "execution_count": 1,
   "metadata": {},
   "outputs": [],
   "source": [
    "%load_ext autoreload\n",
    "%autoreload 2"
   ]
  },
  {
   "cell_type": "code",
   "execution_count": 1,
   "metadata": {},
   "outputs": [],
   "source": [
    "# Import PyTorch\n",
    "import torch # import main library\n",
    "import torch.nn as nn # import modules like nn.ReLU()\n",
    "import torch.nn.functional as F # import torch functions like F.relu() and F.relu_()"
   ]
  },
  {
   "cell_type": "code",
   "execution_count": 2,
   "metadata": {},
   "outputs": [],
   "source": [
    "def get_memory_allocated(device, inplace = False):\n",
    "    '''\n",
    "    Function measures allocated memory before and after the ReLU function call.\n",
    "    INPUT:\n",
    "      - device: gpu device to run the operation\n",
    "      - inplace: True - to run ReLU in-place, False - for normal ReLU call\n",
    "    '''\n",
    "    \n",
    "    # Create a large tensor\n",
    "    t = torch.randn(10000, 10000, device=device)\n",
    "    \n",
    "    # Measure allocated memory\n",
    "    torch.cuda.synchronize()\n",
    "    start_max_memory = torch.cuda.max_memory_allocated() / 1024**2\n",
    "    start_memory = torch.cuda.memory_allocated() / 1024**2\n",
    "    \n",
    "    # Call in-place or normal ReLU\n",
    "    if inplace:\n",
    "        # F.relu_(t)\n",
    "        t.mul_(2).div_(5).mul_(7).div_(11)\n",
    "    else:\n",
    "        # output = F.relu(t)\n",
    "        output = t.mul(2).div(5).mul(7).div(11)\n",
    "    \n",
    "    # Measure allocated memory after the call\n",
    "    torch.cuda.synchronize()\n",
    "    end_max_memory = torch.cuda.max_memory_allocated() / 1024**2\n",
    "    end_memory = torch.cuda.memory_allocated() / 1024**2\n",
    "    \n",
    "    # Return amount of memory allocated for ReLU call\n",
    "    return end_memory - start_memory, end_max_memory - start_max_memory"
   ]
  },
  {
   "cell_type": "code",
   "execution_count": 3,
   "metadata": {},
   "outputs": [],
   "source": [
    "# setup the device\n",
    "device = torch.device('cuda:0' if torch.cuda.is_available() else \"cpu\")"
   ]
  },
  {
   "cell_type": "code",
   "execution_count": 4,
   "metadata": {},
   "outputs": [
    {
     "name": "stdout",
     "output_type": "stream",
     "text": [
      "Allocated memory: 382.0\n",
      "Allocated max memory: 764.0\n"
     ]
    }
   ],
   "source": [
    "# call the function to measure allocated memory\n",
    "memory_allocated, max_memory_allocated = get_memory_allocated(device, inplace = False)\n",
    "print('Allocated memory: {}'.format(memory_allocated))\n",
    "print('Allocated max memory: {}'.format(max_memory_allocated))"
   ]
  },
  {
   "cell_type": "code",
   "execution_count": 5,
   "metadata": {},
   "outputs": [
    {
     "name": "stdout",
     "output_type": "stream",
     "text": [
      "Allocated memory: 0.0\n",
      "Allocated max memory: 0.0\n"
     ]
    }
   ],
   "source": [
    "memory_allocated_inplace, max_memory_allocated_inplace = get_memory_allocated(device, inplace = True)\n",
    "print('Allocated memory: {}'.format(memory_allocated_inplace))\n",
    "print('Allocated max memory: {}'.format(max_memory_allocated_inplace))"
   ]
  },
  {
   "cell_type": "code",
   "execution_count": 6,
   "metadata": {},
   "outputs": [],
   "source": [
    "a = torch.Tensor([1])"
   ]
  },
  {
   "cell_type": "code",
   "execution_count": 8,
   "metadata": {},
   "outputs": [
    {
     "name": "stdout",
     "output_type": "stream",
     "text": [
      "None\n"
     ]
    }
   ],
   "source": [
    "print(a.grad)"
   ]
  },
  {
   "cell_type": "code",
   "execution_count": 12,
   "metadata": {},
   "outputs": [
    {
     "name": "stdout",
     "output_type": "stream",
     "text": [
      "True\n"
     ]
    }
   ],
   "source": [
    "print(a.requires_grad)"
   ]
  },
  {
   "cell_type": "code",
   "execution_count": 11,
   "metadata": {},
   "outputs": [],
   "source": [
    "a = torch.nn.Parameter(torch.Tensor([1]))"
   ]
  },
  {
   "cell_type": "code",
   "execution_count": null,
   "metadata": {},
   "outputs": [],
   "source": []
  }
 ],
 "metadata": {
  "kernelspec": {
   "display_name": "Python 3",
   "language": "python",
   "name": "python3"
  },
  "language_info": {
   "codemirror_mode": {
    "name": "ipython",
    "version": 3
   },
   "file_extension": ".py",
   "mimetype": "text/x-python",
   "name": "python",
   "nbconvert_exporter": "python",
   "pygments_lexer": "ipython3",
   "version": "3.7.3"
  }
 },
 "nbformat": 4,
 "nbformat_minor": 2
}
